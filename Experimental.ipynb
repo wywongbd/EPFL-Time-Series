{
 "cells": [
  {
   "cell_type": "code",
   "execution_count": 16,
   "metadata": {},
   "outputs": [
    {
     "name": "stderr",
     "output_type": "stream",
     "text": [
      "Installing package into 'C:/Users/emara/Documents/R/win-library/3.4'\n",
      "(as 'lib' is unspecified)\n",
      "Warning message:\n",
      "\"package 'Quandl' is in use and will not be installed\"Installing package into 'C:/Users/emara/Documents/R/win-library/3.4'\n",
      "(as 'lib' is unspecified)\n"
     ]
    },
    {
     "name": "stdout",
     "output_type": "stream",
     "text": [
      "package 'tseries' successfully unpacked and MD5 sums checked\n",
      "\n",
      "The downloaded binary packages are in\n",
      "\tC:\\Users\\emara\\AppData\\Local\\Temp\\RtmpMJgOV8\\downloaded_packages\n"
     ]
    }
   ],
   "source": [
    "install.packages(\"Quandl\", repos = \"http://cran.us.r-project.org\")\n",
    "install.packages(\"tseries\", repos = \"http://cran.us.r-project.org\")"
   ]
  },
  {
   "cell_type": "code",
   "execution_count": 1,
   "metadata": {},
   "outputs": [
    {
     "name": "stderr",
     "output_type": "stream",
     "text": [
      "Warning message:\n",
      "\"package 'Quandl' was built under R version 3.4.4\"Loading required package: xts\n",
      "Loading required package: zoo\n",
      "\n",
      "Attaching package: 'zoo'\n",
      "\n",
      "The following objects are masked from 'package:base':\n",
      "\n",
      "    as.Date, as.Date.numeric\n",
      "\n"
     ]
    }
   ],
   "source": [
    "# Quandl package must be installed\n",
    "library(Quandl)\n",
    " \n",
    "# Get your API key from quandl.com\n",
    "quandl_api = \"2ypzeYdSyDLTr3wxjG5H\"\n",
    " \n",
    "# Add the key to the Quandl keychain\n",
    "Quandl.api_key(quandl_api)\n",
    " \n",
    "quandl_get <-\n",
    "function(sym, start_date = \"2016-01-01\") {\n",
    "    require(devtools)\n",
    "    require(Quandl)\n",
    "    # create a vector with all lines\n",
    "    tryCatch(Quandl(c(\n",
    "        paste0(\"WIKI/\", sym, \".8\"),  #  Adj. Open\n",
    "        paste0(\"WIKI/\", sym, \".9\"),  # Adj. High\n",
    "        paste0(\"WIKI/\", sym, \".10\"), # Adj. Low\n",
    "        paste0(\"WIKI/\", sym, \".11\"), # Adj. Close\n",
    "        paste0(\"WIKI/\", sym, \".12\")), # Adj. Volume\n",
    "        start_date = start_date,\n",
    "        type = \"zoo\"\n",
    "        ))\n",
    "}"
   ]
  },
  {
   "cell_type": "code",
   "execution_count": 62,
   "metadata": {},
   "outputs": [],
   "source": [
    "data = new.env()\n",
    "data.google = quandl_get('GOOGL', '2017-01-01')[, 4]\n",
    "data.microsoft = quandl_get('MSFT', '2017-01-01')[, 4]\n",
    "data.amazon = quandl_get('AMZN', '2017-01-01')[, 4]\n",
    "data.facebook = quandl_get('FB', '2017-01-01')[, 4]\n",
    "data.mcdonalds = quandl_get('MCD', '2017-01-01')[, 4]\n",
    "data.apple = quandl_get('AAPL', '2017-01-01')[, 4]\n",
    "data.walmart = quandl_get('WMT', '2017-01-01')[, 4]\n",
    "data.jpm = quandl_get('JPM', '2017-01-01')[, 4]\n",
    "data.ibm = quandl_get('IBM', '2017-01-01')[, 4]\n",
    "data.csco = quandl_get('CSCO', '2017-01-01')[, 4]\n",
    "data.intel = quandl_get('INTC', '2017-01-01')[, 4]\n",
    "data.nvidia = quandl_get('NVDA', '2017-01-01')[, 4]\n",
    "data.hp = quandl_get('HPE', '2017-01-01')[, 4]\n",
    "data.tesla = quandl_get('TSLA', '2017-01-01')[, 4]"
   ]
  },
  {
   "cell_type": "code",
   "execution_count": 63,
   "metadata": {},
   "outputs": [
    {
     "data": {
      "text/html": [
       "309"
      ],
      "text/latex": [
       "309"
      ],
      "text/markdown": [
       "309"
      ],
      "text/plain": [
       "[1] 309"
      ]
     },
     "metadata": {},
     "output_type": "display_data"
    },
    {
     "data": {
      "text/html": [
       "309"
      ],
      "text/latex": [
       "309"
      ],
      "text/markdown": [
       "309"
      ],
      "text/plain": [
       "[1] 309"
      ]
     },
     "metadata": {},
     "output_type": "display_data"
    },
    {
     "data": {
      "text/html": [
       "309"
      ],
      "text/latex": [
       "309"
      ],
      "text/markdown": [
       "309"
      ],
      "text/plain": [
       "[1] 309"
      ]
     },
     "metadata": {},
     "output_type": "display_data"
    },
    {
     "data": {
      "text/html": [
       "309"
      ],
      "text/latex": [
       "309"
      ],
      "text/markdown": [
       "309"
      ],
      "text/plain": [
       "[1] 309"
      ]
     },
     "metadata": {},
     "output_type": "display_data"
    },
    {
     "data": {
      "text/html": [
       "309"
      ],
      "text/latex": [
       "309"
      ],
      "text/markdown": [
       "309"
      ],
      "text/plain": [
       "[1] 309"
      ]
     },
     "metadata": {},
     "output_type": "display_data"
    },
    {
     "data": {
      "text/html": [
       "309"
      ],
      "text/latex": [
       "309"
      ],
      "text/markdown": [
       "309"
      ],
      "text/plain": [
       "[1] 309"
      ]
     },
     "metadata": {},
     "output_type": "display_data"
    },
    {
     "data": {
      "text/html": [
       "309"
      ],
      "text/latex": [
       "309"
      ],
      "text/markdown": [
       "309"
      ],
      "text/plain": [
       "[1] 309"
      ]
     },
     "metadata": {},
     "output_type": "display_data"
    },
    {
     "data": {
      "text/html": [
       "308"
      ],
      "text/latex": [
       "308"
      ],
      "text/markdown": [
       "308"
      ],
      "text/plain": [
       "[1] 308"
      ]
     },
     "metadata": {},
     "output_type": "display_data"
    },
    {
     "data": {
      "text/html": [
       "309"
      ],
      "text/latex": [
       "309"
      ],
      "text/markdown": [
       "309"
      ],
      "text/plain": [
       "[1] 309"
      ]
     },
     "metadata": {},
     "output_type": "display_data"
    },
    {
     "data": {
      "text/html": [
       "308"
      ],
      "text/latex": [
       "308"
      ],
      "text/markdown": [
       "308"
      ],
      "text/plain": [
       "[1] 308"
      ]
     },
     "metadata": {},
     "output_type": "display_data"
    },
    {
     "data": {
      "text/html": [
       "308"
      ],
      "text/latex": [
       "308"
      ],
      "text/markdown": [
       "308"
      ],
      "text/plain": [
       "[1] 308"
      ]
     },
     "metadata": {},
     "output_type": "display_data"
    },
    {
     "data": {
      "text/html": [
       "309"
      ],
      "text/latex": [
       "309"
      ],
      "text/markdown": [
       "309"
      ],
      "text/plain": [
       "[1] 309"
      ]
     },
     "metadata": {},
     "output_type": "display_data"
    },
    {
     "data": {
      "text/html": [
       "309"
      ],
      "text/latex": [
       "309"
      ],
      "text/markdown": [
       "309"
      ],
      "text/plain": [
       "[1] 309"
      ]
     },
     "metadata": {},
     "output_type": "display_data"
    },
    {
     "data": {
      "text/html": [
       "309"
      ],
      "text/latex": [
       "309"
      ],
      "text/markdown": [
       "309"
      ],
      "text/plain": [
       "[1] 309"
      ]
     },
     "metadata": {},
     "output_type": "display_data"
    }
   ],
   "source": [
    "length(data.google)\n",
    "length(data.microsoft)\n",
    "length(data.mcdonalds)\n",
    "length(data.walmart)\n",
    "length(data.jpm)\n",
    "length(data.ibm)\n",
    "length(data.csco)\n",
    "length(data.intel)\n",
    "length(data.facebook)\n",
    "length(data.amazon)\n",
    "length(data.apple)\n",
    "length(data.nvidia)\n",
    "length(data.hp)\n",
    "length(data.tesla)"
   ]
  },
  {
   "cell_type": "code",
   "execution_count": 64,
   "metadata": {},
   "outputs": [],
   "source": [
    "price = data.frame(matrix(nrow = 309))\n",
    "price['google'] = data.google\n",
    "price['microsoft'] = data.microsoft\n",
    "price['mcdonalds'] = data.mcdonalds\n",
    "price['walmart'] = data.walmart\n",
    "price['jpm'] = data.jpm\n",
    "price['ibm'] = data.ibm\n",
    "price['csco'] = data.csco\n",
    "price['facebook'] = data.facebook\n",
    "price['nvidia'] = data.nvidia\n",
    "price['hp'] = data.hp\n",
    "price['tesla'] = data.tesla"
   ]
  },
  {
   "cell_type": "code",
   "execution_count": 65,
   "metadata": {},
   "outputs": [
    {
     "data": {
      "text/html": [
       "<ol class=list-inline>\n",
       "\t<li>'google'</li>\n",
       "\t<li>'microsoft'</li>\n",
       "\t<li>'mcdonalds'</li>\n",
       "\t<li>'walmart'</li>\n",
       "\t<li>'jpm'</li>\n",
       "\t<li>'ibm'</li>\n",
       "\t<li>'csco'</li>\n",
       "\t<li>'facebook'</li>\n",
       "\t<li>'nvidia'</li>\n",
       "\t<li>'hp'</li>\n",
       "\t<li>'tesla'</li>\n",
       "</ol>\n"
      ],
      "text/latex": [
       "\\begin{enumerate*}\n",
       "\\item 'google'\n",
       "\\item 'microsoft'\n",
       "\\item 'mcdonalds'\n",
       "\\item 'walmart'\n",
       "\\item 'jpm'\n",
       "\\item 'ibm'\n",
       "\\item 'csco'\n",
       "\\item 'facebook'\n",
       "\\item 'nvidia'\n",
       "\\item 'hp'\n",
       "\\item 'tesla'\n",
       "\\end{enumerate*}\n"
      ],
      "text/markdown": [
       "1. 'google'\n",
       "2. 'microsoft'\n",
       "3. 'mcdonalds'\n",
       "4. 'walmart'\n",
       "5. 'jpm'\n",
       "6. 'ibm'\n",
       "7. 'csco'\n",
       "8. 'facebook'\n",
       "9. 'nvidia'\n",
       "10. 'hp'\n",
       "11. 'tesla'\n",
       "\n",
       "\n"
      ],
      "text/plain": [
       " [1] \"google\"    \"microsoft\" \"mcdonalds\" \"walmart\"   \"jpm\"       \"ibm\"      \n",
       " [7] \"csco\"      \"facebook\"  \"nvidia\"    \"hp\"        \"tesla\"    "
      ]
     },
     "metadata": {},
     "output_type": "display_data"
    }
   ],
   "source": [
    "price = price[ -c(1) ]\n",
    "names(price)"
   ]
  },
  {
   "cell_type": "code",
   "execution_count": 66,
   "metadata": {},
   "outputs": [
    {
     "data": {
      "text/html": [
       "<table>\n",
       "<thead><tr><th></th><th scope=col>google</th><th scope=col>microsoft</th><th scope=col>mcdonalds</th><th scope=col>walmart</th><th scope=col>jpm</th><th scope=col>ibm</th><th scope=col>csco</th><th scope=col>facebook</th><th scope=col>nvidia</th><th scope=col>hp</th><th scope=col>tesla</th></tr></thead>\n",
       "<tbody>\n",
       "\t<tr><th scope=row>google</th><td> 1.0000000 </td><td> 0.9491894 </td><td> 0.8740779 </td><td> 0.9091312 </td><td> 0.86664396</td><td>-0.28816247</td><td> 0.8097746 </td><td> 0.8929992 </td><td> 0.9272735 </td><td>-0.6321287 </td><td> 0.5837716 </td></tr>\n",
       "\t<tr><th scope=row>microsoft</th><td> 0.9491894 </td><td> 1.0000000 </td><td> 0.8225168 </td><td> 0.9147665 </td><td> 0.95206549</td><td>-0.21841978</td><td> 0.8965906 </td><td> 0.8901251 </td><td> 0.9646807 </td><td>-0.5870747 </td><td> 0.4778503 </td></tr>\n",
       "\t<tr><th scope=row>mcdonalds</th><td> 0.8740779 </td><td> 0.8225168 </td><td> 1.0000000 </td><td> 0.8831978 </td><td> 0.70642427</td><td>-0.54771675</td><td> 0.5480948 </td><td> 0.9444649 </td><td> 0.8583111 </td><td>-0.8692034 </td><td> 0.7315974 </td></tr>\n",
       "\t<tr><th scope=row>walmart</th><td> 0.9091312 </td><td> 0.9147665 </td><td> 0.8831978 </td><td> 1.0000000 </td><td> 0.86428195</td><td>-0.22914244</td><td> 0.7703155 </td><td> 0.8852665 </td><td> 0.8779419 </td><td>-0.6881391 </td><td> 0.4882386 </td></tr>\n",
       "\t<tr><th scope=row>jpm</th><td> 0.8666440 </td><td> 0.9520655 </td><td> 0.7064243 </td><td> 0.8642820 </td><td> 1.00000000</td><td>-0.02011917</td><td> 0.9361100 </td><td> 0.7942768 </td><td> 0.8977657 </td><td>-0.4265114 </td><td> 0.3170930 </td></tr>\n",
       "\t<tr><th scope=row>ibm</th><td>-0.2881625 </td><td>-0.2184198 </td><td>-0.5477167 </td><td>-0.2291424 </td><td>-0.02011917</td><td> 1.00000000</td><td> 0.1181497 </td><td>-0.4841171 </td><td>-0.3500876 </td><td> 0.6662439 </td><td>-0.6961876 </td></tr>\n",
       "\t<tr><th scope=row>csco</th><td> 0.8097746 </td><td> 0.8965906 </td><td> 0.5480948 </td><td> 0.7703155 </td><td> 0.93611000</td><td> 0.11814969</td><td> 1.0000000 </td><td> 0.6599752 </td><td> 0.7924949 </td><td>-0.2664204 </td><td> 0.2167179 </td></tr>\n",
       "\t<tr><th scope=row>facebook</th><td> 0.8929992 </td><td> 0.8901251 </td><td> 0.9444649 </td><td> 0.8852665 </td><td> 0.79427677</td><td>-0.48411708</td><td> 0.6599752 </td><td> 1.0000000 </td><td> 0.9106611 </td><td>-0.7948340 </td><td> 0.6931236 </td></tr>\n",
       "\t<tr><th scope=row>nvidia</th><td> 0.9272735 </td><td> 0.9646807 </td><td> 0.8583111 </td><td> 0.8779419 </td><td> 0.89776567</td><td>-0.35008758</td><td> 0.7924949 </td><td> 0.9106611 </td><td> 1.0000000 </td><td>-0.6503433 </td><td> 0.5666054 </td></tr>\n",
       "\t<tr><th scope=row>hp</th><td>-0.6321287 </td><td>-0.5870747 </td><td>-0.8692034 </td><td>-0.6881391 </td><td>-0.42651139</td><td> 0.66624392</td><td>-0.2664204 </td><td>-0.7948340 </td><td>-0.6503433 </td><td> 1.0000000 </td><td>-0.7367489 </td></tr>\n",
       "\t<tr><th scope=row>tesla</th><td> 0.5837716 </td><td> 0.4778503 </td><td> 0.7315974 </td><td> 0.4882386 </td><td> 0.31709305</td><td>-0.69618761</td><td> 0.2167179 </td><td> 0.6931236 </td><td> 0.5666054 </td><td>-0.7367489 </td><td> 1.0000000 </td></tr>\n",
       "</tbody>\n",
       "</table>\n"
      ],
      "text/latex": [
       "\\begin{tabular}{r|lllllllllll}\n",
       "  & google & microsoft & mcdonalds & walmart & jpm & ibm & csco & facebook & nvidia & hp & tesla\\\\\n",
       "\\hline\n",
       "\tgoogle &  1.0000000  &  0.9491894  &  0.8740779  &  0.9091312  &  0.86664396 & -0.28816247 &  0.8097746  &  0.8929992  &  0.9272735  & -0.6321287  &  0.5837716 \\\\\n",
       "\tmicrosoft &  0.9491894  &  1.0000000  &  0.8225168  &  0.9147665  &  0.95206549 & -0.21841978 &  0.8965906  &  0.8901251  &  0.9646807  & -0.5870747  &  0.4778503 \\\\\n",
       "\tmcdonalds &  0.8740779  &  0.8225168  &  1.0000000  &  0.8831978  &  0.70642427 & -0.54771675 &  0.5480948  &  0.9444649  &  0.8583111  & -0.8692034  &  0.7315974 \\\\\n",
       "\twalmart &  0.9091312  &  0.9147665  &  0.8831978  &  1.0000000  &  0.86428195 & -0.22914244 &  0.7703155  &  0.8852665  &  0.8779419  & -0.6881391  &  0.4882386 \\\\\n",
       "\tjpm &  0.8666440  &  0.9520655  &  0.7064243  &  0.8642820  &  1.00000000 & -0.02011917 &  0.9361100  &  0.7942768  &  0.8977657  & -0.4265114  &  0.3170930 \\\\\n",
       "\tibm & -0.2881625  & -0.2184198  & -0.5477167  & -0.2291424  & -0.02011917 &  1.00000000 &  0.1181497  & -0.4841171  & -0.3500876  &  0.6662439  & -0.6961876 \\\\\n",
       "\tcsco &  0.8097746  &  0.8965906  &  0.5480948  &  0.7703155  &  0.93611000 &  0.11814969 &  1.0000000  &  0.6599752  &  0.7924949  & -0.2664204  &  0.2167179 \\\\\n",
       "\tfacebook &  0.8929992  &  0.8901251  &  0.9444649  &  0.8852665  &  0.79427677 & -0.48411708 &  0.6599752  &  1.0000000  &  0.9106611  & -0.7948340  &  0.6931236 \\\\\n",
       "\tnvidia &  0.9272735  &  0.9646807  &  0.8583111  &  0.8779419  &  0.89776567 & -0.35008758 &  0.7924949  &  0.9106611  &  1.0000000  & -0.6503433  &  0.5666054 \\\\\n",
       "\thp & -0.6321287  & -0.5870747  & -0.8692034  & -0.6881391  & -0.42651139 &  0.66624392 & -0.2664204  & -0.7948340  & -0.6503433  &  1.0000000  & -0.7367489 \\\\\n",
       "\ttesla &  0.5837716  &  0.4778503  &  0.7315974  &  0.4882386  &  0.31709305 & -0.69618761 &  0.2167179  &  0.6931236  &  0.5666054  & -0.7367489  &  1.0000000 \\\\\n",
       "\\end{tabular}\n"
      ],
      "text/markdown": [
       "\n",
       "| <!--/--> | google | microsoft | mcdonalds | walmart | jpm | ibm | csco | facebook | nvidia | hp | tesla | \n",
       "|---|---|---|---|---|---|---|---|---|---|---|\n",
       "| google |  1.0000000  |  0.9491894  |  0.8740779  |  0.9091312  |  0.86664396 | -0.28816247 |  0.8097746  |  0.8929992  |  0.9272735  | -0.6321287  |  0.5837716  | \n",
       "| microsoft |  0.9491894  |  1.0000000  |  0.8225168  |  0.9147665  |  0.95206549 | -0.21841978 |  0.8965906  |  0.8901251  |  0.9646807  | -0.5870747  |  0.4778503  | \n",
       "| mcdonalds |  0.8740779  |  0.8225168  |  1.0000000  |  0.8831978  |  0.70642427 | -0.54771675 |  0.5480948  |  0.9444649  |  0.8583111  | -0.8692034  |  0.7315974  | \n",
       "| walmart |  0.9091312  |  0.9147665  |  0.8831978  |  1.0000000  |  0.86428195 | -0.22914244 |  0.7703155  |  0.8852665  |  0.8779419  | -0.6881391  |  0.4882386  | \n",
       "| jpm |  0.8666440  |  0.9520655  |  0.7064243  |  0.8642820  |  1.00000000 | -0.02011917 |  0.9361100  |  0.7942768  |  0.8977657  | -0.4265114  |  0.3170930  | \n",
       "| ibm | -0.2881625  | -0.2184198  | -0.5477167  | -0.2291424  | -0.02011917 |  1.00000000 |  0.1181497  | -0.4841171  | -0.3500876  |  0.6662439  | -0.6961876  | \n",
       "| csco |  0.8097746  |  0.8965906  |  0.5480948  |  0.7703155  |  0.93611000 |  0.11814969 |  1.0000000  |  0.6599752  |  0.7924949  | -0.2664204  |  0.2167179  | \n",
       "| facebook |  0.8929992  |  0.8901251  |  0.9444649  |  0.8852665  |  0.79427677 | -0.48411708 |  0.6599752  |  1.0000000  |  0.9106611  | -0.7948340  |  0.6931236  | \n",
       "| nvidia |  0.9272735  |  0.9646807  |  0.8583111  |  0.8779419  |  0.89776567 | -0.35008758 |  0.7924949  |  0.9106611  |  1.0000000  | -0.6503433  |  0.5666054  | \n",
       "| hp | -0.6321287  | -0.5870747  | -0.8692034  | -0.6881391  | -0.42651139 |  0.66624392 | -0.2664204  | -0.7948340  | -0.6503433  |  1.0000000  | -0.7367489  | \n",
       "| tesla |  0.5837716  |  0.4778503  |  0.7315974  |  0.4882386  |  0.31709305 | -0.69618761 |  0.2167179  |  0.6931236  |  0.5666054  | -0.7367489  |  1.0000000  | \n",
       "\n",
       "\n"
      ],
      "text/plain": [
       "          google     microsoft  mcdonalds  walmart    jpm         ibm        \n",
       "google     1.0000000  0.9491894  0.8740779  0.9091312  0.86664396 -0.28816247\n",
       "microsoft  0.9491894  1.0000000  0.8225168  0.9147665  0.95206549 -0.21841978\n",
       "mcdonalds  0.8740779  0.8225168  1.0000000  0.8831978  0.70642427 -0.54771675\n",
       "walmart    0.9091312  0.9147665  0.8831978  1.0000000  0.86428195 -0.22914244\n",
       "jpm        0.8666440  0.9520655  0.7064243  0.8642820  1.00000000 -0.02011917\n",
       "ibm       -0.2881625 -0.2184198 -0.5477167 -0.2291424 -0.02011917  1.00000000\n",
       "csco       0.8097746  0.8965906  0.5480948  0.7703155  0.93611000  0.11814969\n",
       "facebook   0.8929992  0.8901251  0.9444649  0.8852665  0.79427677 -0.48411708\n",
       "nvidia     0.9272735  0.9646807  0.8583111  0.8779419  0.89776567 -0.35008758\n",
       "hp        -0.6321287 -0.5870747 -0.8692034 -0.6881391 -0.42651139  0.66624392\n",
       "tesla      0.5837716  0.4778503  0.7315974  0.4882386  0.31709305 -0.69618761\n",
       "          csco       facebook   nvidia     hp         tesla     \n",
       "google     0.8097746  0.8929992  0.9272735 -0.6321287  0.5837716\n",
       "microsoft  0.8965906  0.8901251  0.9646807 -0.5870747  0.4778503\n",
       "mcdonalds  0.5480948  0.9444649  0.8583111 -0.8692034  0.7315974\n",
       "walmart    0.7703155  0.8852665  0.8779419 -0.6881391  0.4882386\n",
       "jpm        0.9361100  0.7942768  0.8977657 -0.4265114  0.3170930\n",
       "ibm        0.1181497 -0.4841171 -0.3500876  0.6662439 -0.6961876\n",
       "csco       1.0000000  0.6599752  0.7924949 -0.2664204  0.2167179\n",
       "facebook   0.6599752  1.0000000  0.9106611 -0.7948340  0.6931236\n",
       "nvidia     0.7924949  0.9106611  1.0000000 -0.6503433  0.5666054\n",
       "hp        -0.2664204 -0.7948340 -0.6503433  1.0000000 -0.7367489\n",
       "tesla      0.2167179  0.6931236  0.5666054 -0.7367489  1.0000000"
      ]
     },
     "metadata": {},
     "output_type": "display_data"
    }
   ],
   "source": [
    "cor(price)"
   ]
  },
  {
   "cell_type": "code",
   "execution_count": 67,
   "metadata": {},
   "outputs": [
    {
     "data": {
      "text/html": [
       "<table>\n",
       "<thead><tr><th></th><th scope=col>google</th><th scope=col>microsoft</th><th scope=col>mcdonalds</th><th scope=col>walmart</th><th scope=col>jpm</th><th scope=col>ibm</th><th scope=col>csco</th><th scope=col>facebook</th><th scope=col>nvidia</th><th scope=col>hp</th><th scope=col>tesla</th></tr></thead>\n",
       "<tbody>\n",
       "\t<tr><th scope=row>google</th><td> 1.0000000 </td><td> 0.9504720 </td><td> 0.8874278 </td><td> 0.9180377 </td><td> 0.85162668</td><td>-0.31252438</td><td> 0.7957302 </td><td> 0.8975590 </td><td> 0.9209743 </td><td>-0.6360774 </td><td> 0.6292898 </td></tr>\n",
       "\t<tr><th scope=row>microsoft</th><td> 0.9504720 </td><td> 1.0000000 </td><td> 0.8435127 </td><td> 0.9300088 </td><td> 0.94180550</td><td>-0.24742197</td><td> 0.8799109 </td><td> 0.9003050 </td><td> 0.9482152 </td><td>-0.6129976 </td><td> 0.5331772 </td></tr>\n",
       "\t<tr><th scope=row>mcdonalds</th><td> 0.8874278 </td><td> 0.8435127 </td><td> 1.0000000 </td><td> 0.8923615 </td><td> 0.70700483</td><td>-0.56567819</td><td> 0.5554709 </td><td> 0.9499458 </td><td> 0.8923596 </td><td>-0.8609612 </td><td> 0.7729347 </td></tr>\n",
       "\t<tr><th scope=row>walmart</th><td> 0.9180377 </td><td> 0.9300088 </td><td> 0.8923615 </td><td> 1.0000000 </td><td> 0.86396682</td><td>-0.26435284</td><td> 0.7787820 </td><td> 0.8958229 </td><td> 0.8824326 </td><td>-0.7098585 </td><td> 0.5485191 </td></tr>\n",
       "\t<tr><th scope=row>jpm</th><td> 0.8516267 </td><td> 0.9418055 </td><td> 0.7070048 </td><td> 0.8639668 </td><td> 1.00000000</td><td>-0.02482607</td><td> 0.9284533 </td><td> 0.7891632 </td><td> 0.8586315 </td><td>-0.4395793 </td><td> 0.3442771 </td></tr>\n",
       "\t<tr><th scope=row>ibm</th><td>-0.3125244 </td><td>-0.2474220 </td><td>-0.5656782 </td><td>-0.2643528 </td><td>-0.02482607</td><td> 1.00000000</td><td> 0.1294585 </td><td>-0.5012195 </td><td>-0.4245791 </td><td> 0.6307144 </td><td>-0.6916916 </td></tr>\n",
       "\t<tr><th scope=row>csco</th><td> 0.7957302 </td><td> 0.8799109 </td><td> 0.5554709 </td><td> 0.7787820 </td><td> 0.92845334</td><td> 0.12945853</td><td> 1.0000000 </td><td> 0.6592584 </td><td> 0.7249948 </td><td>-0.2761871 </td><td> 0.2476367 </td></tr>\n",
       "\t<tr><th scope=row>facebook</th><td> 0.8975590 </td><td> 0.9003050 </td><td> 0.9499458 </td><td> 0.8958229 </td><td> 0.78916322</td><td>-0.50121948</td><td> 0.6592584 </td><td> 1.0000000 </td><td> 0.9199158 </td><td>-0.7948138 </td><td> 0.7363791 </td></tr>\n",
       "\t<tr><th scope=row>nvidia</th><td> 0.9209743 </td><td> 0.9482152 </td><td> 0.8923596 </td><td> 0.8824326 </td><td> 0.85863152</td><td>-0.42457907</td><td> 0.7249948 </td><td> 0.9199158 </td><td> 1.0000000 </td><td>-0.6934169 </td><td> 0.6401884 </td></tr>\n",
       "\t<tr><th scope=row>hp</th><td>-0.6360774 </td><td>-0.6129976 </td><td>-0.8609612 </td><td>-0.7098585 </td><td>-0.43957929</td><td> 0.63071443</td><td>-0.2761871 </td><td>-0.7948138 </td><td>-0.6934169 </td><td> 1.0000000 </td><td>-0.7156250 </td></tr>\n",
       "\t<tr><th scope=row>tesla</th><td> 0.6292898 </td><td> 0.5331772 </td><td> 0.7729347 </td><td> 0.5485191 </td><td> 0.34427706</td><td>-0.69169158</td><td> 0.2476367 </td><td> 0.7363791 </td><td> 0.6401884 </td><td>-0.7156250 </td><td> 1.0000000 </td></tr>\n",
       "</tbody>\n",
       "</table>\n"
      ],
      "text/latex": [
       "\\begin{tabular}{r|lllllllllll}\n",
       "  & google & microsoft & mcdonalds & walmart & jpm & ibm & csco & facebook & nvidia & hp & tesla\\\\\n",
       "\\hline\n",
       "\tgoogle &  1.0000000  &  0.9504720  &  0.8874278  &  0.9180377  &  0.85162668 & -0.31252438 &  0.7957302  &  0.8975590  &  0.9209743  & -0.6360774  &  0.6292898 \\\\\n",
       "\tmicrosoft &  0.9504720  &  1.0000000  &  0.8435127  &  0.9300088  &  0.94180550 & -0.24742197 &  0.8799109  &  0.9003050  &  0.9482152  & -0.6129976  &  0.5331772 \\\\\n",
       "\tmcdonalds &  0.8874278  &  0.8435127  &  1.0000000  &  0.8923615  &  0.70700483 & -0.56567819 &  0.5554709  &  0.9499458  &  0.8923596  & -0.8609612  &  0.7729347 \\\\\n",
       "\twalmart &  0.9180377  &  0.9300088  &  0.8923615  &  1.0000000  &  0.86396682 & -0.26435284 &  0.7787820  &  0.8958229  &  0.8824326  & -0.7098585  &  0.5485191 \\\\\n",
       "\tjpm &  0.8516267  &  0.9418055  &  0.7070048  &  0.8639668  &  1.00000000 & -0.02482607 &  0.9284533  &  0.7891632  &  0.8586315  & -0.4395793  &  0.3442771 \\\\\n",
       "\tibm & -0.3125244  & -0.2474220  & -0.5656782  & -0.2643528  & -0.02482607 &  1.00000000 &  0.1294585  & -0.5012195  & -0.4245791  &  0.6307144  & -0.6916916 \\\\\n",
       "\tcsco &  0.7957302  &  0.8799109  &  0.5554709  &  0.7787820  &  0.92845334 &  0.12945853 &  1.0000000  &  0.6592584  &  0.7249948  & -0.2761871  &  0.2476367 \\\\\n",
       "\tfacebook &  0.8975590  &  0.9003050  &  0.9499458  &  0.8958229  &  0.78916322 & -0.50121948 &  0.6592584  &  1.0000000  &  0.9199158  & -0.7948138  &  0.7363791 \\\\\n",
       "\tnvidia &  0.9209743  &  0.9482152  &  0.8923596  &  0.8824326  &  0.85863152 & -0.42457907 &  0.7249948  &  0.9199158  &  1.0000000  & -0.6934169  &  0.6401884 \\\\\n",
       "\thp & -0.6360774  & -0.6129976  & -0.8609612  & -0.7098585  & -0.43957929 &  0.63071443 & -0.2761871  & -0.7948138  & -0.6934169  &  1.0000000  & -0.7156250 \\\\\n",
       "\ttesla &  0.6292898  &  0.5331772  &  0.7729347  &  0.5485191  &  0.34427706 & -0.69169158 &  0.2476367  &  0.7363791  &  0.6401884  & -0.7156250  &  1.0000000 \\\\\n",
       "\\end{tabular}\n"
      ],
      "text/markdown": [
       "\n",
       "| <!--/--> | google | microsoft | mcdonalds | walmart | jpm | ibm | csco | facebook | nvidia | hp | tesla | \n",
       "|---|---|---|---|---|---|---|---|---|---|---|\n",
       "| google |  1.0000000  |  0.9504720  |  0.8874278  |  0.9180377  |  0.85162668 | -0.31252438 |  0.7957302  |  0.8975590  |  0.9209743  | -0.6360774  |  0.6292898  | \n",
       "| microsoft |  0.9504720  |  1.0000000  |  0.8435127  |  0.9300088  |  0.94180550 | -0.24742197 |  0.8799109  |  0.9003050  |  0.9482152  | -0.6129976  |  0.5331772  | \n",
       "| mcdonalds |  0.8874278  |  0.8435127  |  1.0000000  |  0.8923615  |  0.70700483 | -0.56567819 |  0.5554709  |  0.9499458  |  0.8923596  | -0.8609612  |  0.7729347  | \n",
       "| walmart |  0.9180377  |  0.9300088  |  0.8923615  |  1.0000000  |  0.86396682 | -0.26435284 |  0.7787820  |  0.8958229  |  0.8824326  | -0.7098585  |  0.5485191  | \n",
       "| jpm |  0.8516267  |  0.9418055  |  0.7070048  |  0.8639668  |  1.00000000 | -0.02482607 |  0.9284533  |  0.7891632  |  0.8586315  | -0.4395793  |  0.3442771  | \n",
       "| ibm | -0.3125244  | -0.2474220  | -0.5656782  | -0.2643528  | -0.02482607 |  1.00000000 |  0.1294585  | -0.5012195  | -0.4245791  |  0.6307144  | -0.6916916  | \n",
       "| csco |  0.7957302  |  0.8799109  |  0.5554709  |  0.7787820  |  0.92845334 |  0.12945853 |  1.0000000  |  0.6592584  |  0.7249948  | -0.2761871  |  0.2476367  | \n",
       "| facebook |  0.8975590  |  0.9003050  |  0.9499458  |  0.8958229  |  0.78916322 | -0.50121948 |  0.6592584  |  1.0000000  |  0.9199158  | -0.7948138  |  0.7363791  | \n",
       "| nvidia |  0.9209743  |  0.9482152  |  0.8923596  |  0.8824326  |  0.85863152 | -0.42457907 |  0.7249948  |  0.9199158  |  1.0000000  | -0.6934169  |  0.6401884  | \n",
       "| hp | -0.6360774  | -0.6129976  | -0.8609612  | -0.7098585  | -0.43957929 |  0.63071443 | -0.2761871  | -0.7948138  | -0.6934169  |  1.0000000  | -0.7156250  | \n",
       "| tesla |  0.6292898  |  0.5331772  |  0.7729347  |  0.5485191  |  0.34427706 | -0.69169158 |  0.2476367  |  0.7363791  |  0.6401884  | -0.7156250  |  1.0000000  | \n",
       "\n",
       "\n"
      ],
      "text/plain": [
       "          google     microsoft  mcdonalds  walmart    jpm         ibm        \n",
       "google     1.0000000  0.9504720  0.8874278  0.9180377  0.85162668 -0.31252438\n",
       "microsoft  0.9504720  1.0000000  0.8435127  0.9300088  0.94180550 -0.24742197\n",
       "mcdonalds  0.8874278  0.8435127  1.0000000  0.8923615  0.70700483 -0.56567819\n",
       "walmart    0.9180377  0.9300088  0.8923615  1.0000000  0.86396682 -0.26435284\n",
       "jpm        0.8516267  0.9418055  0.7070048  0.8639668  1.00000000 -0.02482607\n",
       "ibm       -0.3125244 -0.2474220 -0.5656782 -0.2643528 -0.02482607  1.00000000\n",
       "csco       0.7957302  0.8799109  0.5554709  0.7787820  0.92845334  0.12945853\n",
       "facebook   0.8975590  0.9003050  0.9499458  0.8958229  0.78916322 -0.50121948\n",
       "nvidia     0.9209743  0.9482152  0.8923596  0.8824326  0.85863152 -0.42457907\n",
       "hp        -0.6360774 -0.6129976 -0.8609612 -0.7098585 -0.43957929  0.63071443\n",
       "tesla      0.6292898  0.5331772  0.7729347  0.5485191  0.34427706 -0.69169158\n",
       "          csco       facebook   nvidia     hp         tesla     \n",
       "google     0.7957302  0.8975590  0.9209743 -0.6360774  0.6292898\n",
       "microsoft  0.8799109  0.9003050  0.9482152 -0.6129976  0.5331772\n",
       "mcdonalds  0.5554709  0.9499458  0.8923596 -0.8609612  0.7729347\n",
       "walmart    0.7787820  0.8958229  0.8824326 -0.7098585  0.5485191\n",
       "jpm        0.9284533  0.7891632  0.8586315 -0.4395793  0.3442771\n",
       "ibm        0.1294585 -0.5012195 -0.4245791  0.6307144 -0.6916916\n",
       "csco       1.0000000  0.6592584  0.7249948 -0.2761871  0.2476367\n",
       "facebook   0.6592584  1.0000000  0.9199158 -0.7948138  0.7363791\n",
       "nvidia     0.7249948  0.9199158  1.0000000 -0.6934169  0.6401884\n",
       "hp        -0.2761871 -0.7948138 -0.6934169  1.0000000 -0.7156250\n",
       "tesla      0.2476367  0.7363791  0.6401884 -0.7156250  1.0000000"
      ]
     },
     "metadata": {},
     "output_type": "display_data"
    }
   ],
   "source": [
    "log_price = log(price)\n",
    "cor(log_price)"
   ]
  },
  {
   "cell_type": "code",
   "execution_count": 68,
   "metadata": {},
   "outputs": [
    {
     "data": {
      "text/html": [
       "<table>\n",
       "<thead><tr><th></th><th scope=col>mindex</th><th scope=col>n</th><th scope=col>predictors</th><th scope=col>rsquare</th><th scope=col>adjr</th><th scope=col>predrsq</th><th scope=col>cp</th><th scope=col>aic</th><th scope=col>sbic</th><th scope=col>sbc</th><th scope=col>msep</th><th scope=col>fpe</th><th scope=col>apc</th><th scope=col>hsp</th></tr></thead>\n",
       "<tbody>\n",
       "\t<tr><th scope=row>5</th><td> 1                 </td><td>1                  </td><td>microsoft          </td><td>0.90339711         </td><td>0.90308244         </td><td>0.9021650          </td><td> 358.1120          </td><td>-1260.2730         </td><td>-2139.883          </td><td>-1249.0730         </td><td>0.0009850079       </td><td>0.0009849665       </td><td>0.09786156         </td><td>3.198145e-06       </td></tr>\n",
       "\t<tr><th scope=row>2</th><td> 2                 </td><td>1                  </td><td>nvidia             </td><td>0.84819367         </td><td>0.84769918         </td><td>0.8461348          </td><td> 737.0455          </td><td>-1120.6060         </td><td>-2001.314          </td><td>-1109.4060         </td><td>0.0015478878       </td><td>0.0015478228       </td><td>0.15378427         </td><td>5.025715e-06       </td></tr>\n",
       "\t<tr><th scope=row>7</th><td> 3                 </td><td>1                  </td><td>walmart            </td><td>0.84279328         </td><td>0.84228120         </td><td>0.8409246          </td><td> 774.1154          </td><td>-1109.8046         </td><td>-1990.582          </td><td>-1098.6046         </td><td>0.0016029527       </td><td>0.0016028853       </td><td>0.15925502         </td><td>5.204501e-06       </td></tr>\n",
       "\t<tr><th scope=row>4</th><td> 4                 </td><td>1                  </td><td>facebook           </td><td>0.80561209         </td><td>0.80497890         </td><td>0.8034244          </td><td>1029.3386          </td><td>-1044.2057         </td><td>-1925.364          </td><td>-1033.0057         </td><td>0.0019820694       </td><td>0.0019819861       </td><td>0.19692065         </td><td>6.435425e-06       </td></tr>\n",
       "\t<tr><th scope=row>6</th><td> 5                 </td><td>1                  </td><td>mcdonalds          </td><td>0.78752809         </td><td>0.78683600         </td><td>0.7854616          </td><td>1153.4727          </td><td>-1016.7189         </td><td>-1898.018          </td><td>-1005.5189         </td><td>0.0021664622       </td><td>0.0021663711       </td><td>0.21524027         </td><td>7.034116e-06       </td></tr>\n",
       "\t<tr><th scope=row>8</th><td> 6                 </td><td>1                  </td><td>jpm                </td><td>0.72526801         </td><td>0.72437311         </td><td>0.7216599          </td><td>1580.8451          </td><td> -937.3101         </td><td>-1818.957          </td><td> -926.1101         </td><td>0.0028012949       </td><td>0.0028011772       </td><td>0.27831156         </td><td>9.095305e-06       </td></tr>\n",
       "\t<tr><th scope=row>10</th><td> 7                 </td><td>1                  </td><td>csco               </td><td>0.63318659         </td><td>0.63199176         </td><td>0.6291628          </td><td>2212.9203          </td><td> -847.9915         </td><td>-1729.944          </td><td> -836.7914         </td><td>0.0037401998       </td><td>0.0037400426       </td><td>0.37159273         </td><td>1.214376e-05       </td></tr>\n",
       "\t<tr><th scope=row>3</th><td> 8                 </td><td>1                  </td><td>hp                 </td><td>0.40459443         </td><td>0.40265499         </td><td>0.3984413          </td><td>3782.0475          </td><td> -698.3151         </td><td>-1580.626          </td><td> -687.1151         </td><td>0.0060710316       </td><td>0.0060707764       </td><td>0.60316330         </td><td>1.971156e-05       </td></tr>\n",
       "\t<tr><th scope=row>1</th><td> 9                 </td><td>1                  </td><td>tesla              </td><td>0.39600561         </td><td>0.39403820         </td><td>0.3897807          </td><td>3841.0038          </td><td> -693.8896         </td><td>-1576.208          </td><td> -682.6895         </td><td>0.0061586072       </td><td>0.0061583483       </td><td>0.61186403         </td><td>1.999590e-05       </td></tr>\n",
       "\t<tr><th scope=row>9</th><td>10                 </td><td>1                  </td><td>ibm                </td><td>0.09767149         </td><td>0.09473231         </td><td>0.0863938          </td><td>5888.8612          </td><td> -569.8527         </td><td>-1452.363          </td><td> -558.6527         </td><td>0.0092005603       </td><td>0.0092001736       </td><td>0.91408524         </td><td>2.987258e-05       </td></tr>\n",
       "\t<tr><th scope=row>41</th><td>11                 </td><td>2                  </td><td>microsoft mcdonalds</td><td>0.92885138         </td><td>0.92838636         </td><td>0.9276328          </td><td> 185.3861          </td><td>-1352.7769         </td><td>-2232.155          </td><td>-1337.8435         </td><td>0.0007302215       </td><td>0.0007301448       </td><td>0.07254369         </td><td>2.370899e-06       </td></tr>\n",
       "\t<tr><th scope=row>14</th><td>12                 </td><td>2                  </td><td>tesla microsoft    </td><td>0.92437047         </td><td>0.92387615         </td><td>0.9230007          </td><td> 216.1444          </td><td>-1333.9044         </td><td>-2213.565          </td><td>-1318.9711         </td><td>0.0007762106       </td><td>0.0007761290       </td><td>0.07711247         </td><td>2.520217e-06       </td></tr>\n",
       "\t<tr><th scope=row>43</th><td>13                 </td><td>2                  </td><td>microsoft jpm      </td><td>0.92016784         </td><td>0.91964606         </td><td>0.9185365          </td><td> 244.9926          </td><td>-1317.1938         </td><td>-2197.095          </td><td>-1302.2605         </td><td>0.0008193436       </td><td>0.0008192575       </td><td>0.08139750         </td><td>2.660262e-06       </td></tr>\n",
       "\t<tr><th scope=row>49</th><td>14                 </td><td>2                  </td><td>mcdonalds csco     </td><td>0.92012114         </td><td>0.91959905         </td><td>0.9185556          </td><td> 245.3132          </td><td>-1317.0131         </td><td>-2196.917          </td><td>-1302.0798         </td><td>0.0008198228       </td><td>0.0008197367       </td><td>0.08144512         </td><td>2.661818e-06       </td></tr>\n",
       "\t<tr><th scope=row>35</th><td>15                 </td><td>2                  </td><td>facebook microsoft </td><td>0.91263929         </td><td>0.91206830         </td><td>0.9112080          </td><td> 296.6709          </td><td>-1289.3470         </td><td>-2169.629          </td><td>-1274.4136         </td><td>0.0008966115       </td><td>0.0008965173       </td><td>0.08907367         </td><td>2.911138e-06       </td></tr>\n",
       "\t<tr><th scope=row>42</th><td>16                 </td><td>2                  </td><td>microsoft walmart  </td><td>0.91200031         </td><td>0.91142515         </td><td>0.9103994          </td><td> 301.0570          </td><td>-1287.0951         </td><td>-2167.407          </td><td>-1272.1618         </td><td>0.0009031695       </td><td>0.0009030746       </td><td>0.08972517         </td><td>2.932430e-06       </td></tr>\n",
       "\t<tr><th scope=row>45</th><td>17                 </td><td>2                  </td><td>microsoft csco     </td><td>0.91069875         </td><td>0.91011508         </td><td>0.9091066          </td><td> 309.9913          </td><td>-1282.5583         </td><td>-2162.930          </td><td>-1267.6250         </td><td>0.0009165279       </td><td>0.0009164316       </td><td>0.09105226         </td><td>2.975802e-06       </td></tr>\n",
       "\t<tr><th scope=row>44</th><td>18                 </td><td>2                  </td><td>microsoft ibm      </td><td>0.90977139         </td><td>0.90918166         </td><td>0.9080551          </td><td> 316.3570          </td><td>-1279.3660         </td><td>-2159.779          </td><td>-1264.4327         </td><td>0.0009260457       </td><td>0.0009259484       </td><td>0.09199780         </td><td>3.006705e-06       </td></tr>\n",
       "\t<tr><th scope=row>29</th><td>19                 </td><td>2                  </td><td>hp microsoft       </td><td>0.90797210         </td><td>0.90737061         </td><td>0.9063926          </td><td> 328.7079          </td><td>-1273.2648         </td><td>-2153.756          </td><td>-1258.3314         </td><td>0.0009445123       </td><td>0.0009444131       </td><td>0.09383236         </td><td>3.066663e-06       </td></tr>\n",
       "\t<tr><th scope=row>22</th><td>20                 </td><td>2                  </td><td>nvidia microsoft   </td><td>0.90725256         </td><td>0.90664637         </td><td>0.9054112          </td><td> 333.6470          </td><td>-1270.8582         </td><td>-2151.380          </td><td>-1255.9248         </td><td>0.0009518972       </td><td>0.0009517972       </td><td>0.09456602         </td><td>3.090640e-06       </td></tr>\n",
       "\t<tr><th scope=row>24</th><td>21                 </td><td>2                  </td><td>nvidia walmart     </td><td>0.89833320         </td><td>0.89766871         </td><td>0.8961525          </td><td> 394.8723          </td><td>-1242.4856         </td><td>-2123.354          </td><td>-1227.5522         </td><td>0.0010434395       </td><td>0.0010433299       </td><td>0.10366027         </td><td>3.387862e-06       </td></tr>\n",
       "\t<tr><th scope=row>47</th><td>22                 </td><td>2                  </td><td>mcdonalds jpm      </td><td>0.88804020         </td><td>0.88730844         </td><td>0.8855980          </td><td> 465.5266          </td><td>-1212.6859         </td><td>-2093.893          </td><td>-1197.7525         </td><td>0.0011490799       </td><td>0.0011489592       </td><td>0.11415509         </td><td>3.730857e-06       </td></tr>\n",
       "\t<tr><th scope=row>27</th><td>23                 </td><td>2                  </td><td>nvidia csco        </td><td>0.88274665         </td><td>0.88198029         </td><td>0.8803842          </td><td> 501.8631          </td><td>-1198.4110         </td><td>-2079.771          </td><td>-1183.4776         </td><td>0.0012034094       </td><td>0.0012032829       </td><td>0.11955243         </td><td>3.907255e-06       </td></tr>\n",
       "\t<tr><th scope=row>40</th><td>24                 </td><td>2                  </td><td>facebook csco      </td><td>0.87922443         </td><td>0.87843505         </td><td>0.8772584          </td><td> 526.0407          </td><td>-1189.2655         </td><td>-2070.720          </td><td>-1174.3322         </td><td>0.0012395590       </td><td>0.0012394288       </td><td>0.12314371         </td><td>4.024627e-06       </td></tr>\n",
       "\t<tr><th scope=row>37</th><td>25                 </td><td>2                  </td><td>facebook walmart   </td><td>0.87139554         </td><td>0.87055498         </td><td>0.8691101          </td><td> 579.7807          </td><td>-1169.8580         </td><td>-2051.507          </td><td>-1154.9246         </td><td>0.0013199096       </td><td>0.0013197709       </td><td>0.13112612         </td><td>4.285511e-06       </td></tr>\n",
       "\t<tr><th scope=row>23</th><td>26                 </td><td>2                  </td><td>nvidia mcdonalds   </td><td>0.86931218         </td><td>0.86845801         </td><td>0.8665863          </td><td> 594.0815          </td><td>-1164.8924         </td><td>-2046.589          </td><td>-1149.9590         </td><td>0.0013412917       </td><td>0.0013411508       </td><td>0.13325033         </td><td>4.354935e-06       </td></tr>\n",
       "\t<tr><th scope=row>46</th><td>27                 </td><td>2                  </td><td>mcdonalds walmart  </td><td>0.86563227         </td><td>0.86475405         </td><td>0.8634751          </td><td> 619.3415          </td><td>-1156.3118         </td><td>-2038.090          </td><td>-1141.3785         </td><td>0.0013790598       </td><td>0.0013789149       </td><td>0.13700239         </td><td>4.477561e-06       </td></tr>\n",
       "\t<tr><th scope=row>16</th><td>28                 </td><td>2                  </td><td>tesla walmart      </td><td>0.86540386         </td><td>0.86452415         </td><td>0.8633997          </td><td> 620.9094          </td><td>-1155.7870         </td><td>-2037.570          </td><td>-1140.8536         </td><td>0.0013814041       </td><td>0.0013812589       </td><td>0.13723528         </td><td>4.485172e-06       </td></tr>\n",
       "\t<tr><th scope=row>21</th><td>29                 </td><td>2                  </td><td>nvidia facebook    </td><td>0.86467528         </td><td>0.86379081         </td><td>0.8621520          </td><td> 625.9106          </td><td>-1154.1189         </td><td>-2035.918          </td><td>-1139.1855         </td><td>0.0013888817       </td><td>0.0013887358       </td><td>0.13797814         </td><td>4.509451e-06       </td></tr>\n",
       "\t<tr><th scope=row>25</th><td>30                 </td><td>2                  </td><td>nvidia jpm         </td><td>0.86228534         </td><td>0.86138525         </td><td>0.8593647          </td><td> 642.3159          </td><td>-1148.7093         </td><td>-2030.558          </td><td>-1133.7760         </td><td>0.0014134104       </td><td>0.0014132619       </td><td>0.14041494         </td><td>4.589091e-06       </td></tr>\n",
       "\t<tr><th scope=row>...</th><td>...</td><td>...</td><td>...</td><td>...</td><td>...</td><td>...</td><td>...</td><td>...</td><td>...</td><td>...</td><td>...</td><td>...</td><td>...</td><td>...</td></tr>\n",
       "\t<tr><th scope=row>1011</th><td> 994                                                             </td><td> 8                                                               </td><td>nvidia facebook microsoft mcdonalds walmart jpm ibm csco         </td><td>0.9444647                                                        </td><td>0.9429838                                                        </td><td>0.9401264                                                        </td><td> 90.211247                                                       </td><td>-1417.332                                                        </td><td>-2297.718                                                        </td><td>-1379.999                                                        </td><td>0.0005930426                                                     </td><td>0.0005924942                                                     </td><td>0.05886739                                                       </td><td>1.925503e-06                                                     </td></tr>\n",
       "\t<tr><th scope=row>989</th><td> 995                                                             </td><td> 8                                                               </td><td>tesla nvidia facebook microsoft mcdonalds walmart jpm ibm        </td><td>0.9439371                                                        </td><td>0.9424421                                                        </td><td>0.9401008                                                        </td><td> 93.833249                                                       </td><td>-1414.410                                                        </td><td>-2294.939                                                        </td><td>-1377.077                                                        </td><td>0.0005986773                                                     </td><td>0.0005981237                                                     </td><td>0.05942671                                                       </td><td>1.943798e-06                                                     </td></tr>\n",
       "\t<tr><th scope=row>995</th><td> 996                                                             </td><td> 8                                                               </td><td>tesla nvidia microsoft mcdonalds walmart jpm ibm csco            </td><td>0.9438764                                                        </td><td>0.9423798                                                        </td><td>0.9403332                                                        </td><td> 94.249828                                                       </td><td>-1414.076                                                        </td><td>-2294.621                                                        </td><td>-1376.743                                                        </td><td>0.0005993253                                                     </td><td>0.0005987711                                                     </td><td>0.05949104                                                       </td><td>1.945902e-06                                                     </td></tr>\n",
       "\t<tr><th scope=row>990</th><td> 997                                                             </td><td> 8                                                               </td><td>tesla nvidia facebook microsoft mcdonalds walmart jpm csco       </td><td>0.9429093                                                        </td><td>0.9413868                                                        </td><td>0.9384732                                                        </td><td>100.888402                                                       </td><td>-1408.797                                                        </td><td>-2289.597                                                        </td><td>-1371.463                                                        </td><td>0.0006096528                                                     </td><td>0.0006090891                                                     </td><td>0.06051618                                                       </td><td>1.979434e-06                                                     </td></tr>\n",
       "\t<tr><th scope=row>1006</th><td> 998                                                             </td><td> 8                                                               </td><td>nvidia hp facebook microsoft mcdonalds walmart ibm csco          </td><td>0.9425556                                                        </td><td>0.9410238                                                        </td><td>0.9384160                                                        </td><td>103.315827                                                       </td><td>-1406.889                                                        </td><td>-2287.781                                                        </td><td>-1369.555                                                        </td><td>0.0006134291                                                     </td><td>0.0006128619                                                     </td><td>0.06089103                                                       </td><td>1.991695e-06                                                     </td></tr>\n",
       "\t<tr><th scope=row>974</th><td> 999                                                             </td><td> 8                                                               </td><td>tesla nvidia hp facebook microsoft walmart jpm ibm               </td><td>0.9414184                                                        </td><td>0.9398562                                                        </td><td>0.9378192                                                        </td><td>111.122077                                                       </td><td>-1400.831                                                        </td><td>-2282.011                                                        </td><td>-1363.498                                                        </td><td>0.0006255731                                                     </td><td>0.0006249947                                                     </td><td>0.06209648                                                       </td><td>2.031124e-06                                                     </td></tr>\n",
       "\t<tr><th scope=row>987</th><td>1000                                                             </td><td> 8                                                               </td><td>tesla nvidia hp microsoft walmart jpm ibm csco                   </td><td>0.9413133                                                        </td><td>0.9397483                                                        </td><td>0.9376622                                                        </td><td>111.843841                                                       </td><td>-1400.277                                                        </td><td>-2281.483                                                        </td><td>-1362.944                                                        </td><td>0.0006266960                                                     </td><td>0.0006261165                                                     </td><td>0.06220794                                                       </td><td>2.034770e-06                                                     </td></tr>\n",
       "\t<tr><th scope=row>1000</th><td>1001                                                             </td><td> 8                                                               </td><td>tesla hp facebook microsoft walmart jpm ibm csco                 </td><td>0.9409000                                                        </td><td>0.9393240                                                        </td><td>0.9373354                                                        </td><td>114.680310                                                       </td><td>-1398.109                                                        </td><td>-2279.416                                                        </td><td>-1360.776                                                        </td><td>0.0006311086                                                     </td><td>0.0006305250                                                     </td><td>0.06264595                                                       </td><td>2.049097e-06                                                     </td></tr>\n",
       "\t<tr><th scope=row>975</th><td>1002                                                             </td><td> 8                                                               </td><td>tesla nvidia hp facebook microsoft walmart jpm csco              </td><td>0.9401643                                                        </td><td>0.9385687                                                        </td><td>0.9364649                                                        </td><td>119.730400                                                       </td><td>-1394.286                                                        </td><td>-2275.771                                                        </td><td>-1356.953                                                        </td><td>0.0006389649                                                     </td><td>0.0006383741                                                     </td><td>0.06342580                                                       </td><td>2.074605e-06                                                     </td></tr>\n",
       "\t<tr><th scope=row>991</th><td>1003                                                             </td><td> 8                                                               </td><td>tesla nvidia facebook microsoft mcdonalds walmart ibm csco       </td><td>0.9395360                                                        </td><td>0.9379236                                                        </td><td>0.9353055                                                        </td><td>124.043579                                                       </td><td>-1391.058                                                        </td><td>-2272.692                                                        </td><td>-1353.725                                                        </td><td>0.0006456748                                                     </td><td>0.0006450778                                                     </td><td>0.06409185                                                       </td><td>2.096391e-06                                                     </td></tr>\n",
       "\t<tr><th scope=row>980</th><td>1004                                                             </td><td> 8                                                               </td><td>tesla nvidia hp facebook mcdonalds walmart ibm csco              </td><td>0.9381333                                                        </td><td>0.9364835                                                        </td><td>0.9339475                                                        </td><td>133.672095                                                       </td><td>-1383.972                                                        </td><td>-2265.927                                                        </td><td>-1346.638                                                        </td><td>0.0006606537                                                     </td><td>0.0006600429                                                     </td><td>0.06557870                                                       </td><td>2.145025e-06                                                     </td></tr>\n",
       "\t<tr><th scope=row>994</th><td>1005                                                             </td><td> 8                                                               </td><td>tesla nvidia facebook mcdonalds walmart jpm ibm csco             </td><td>0.9377149                                                        </td><td>0.9360540                                                        </td><td>0.9330946                                                        </td><td>136.543883                                                       </td><td>-1381.889                                                        </td><td>-2263.938                                                        </td><td>-1344.556                                                        </td><td>0.0006651213                                                     </td><td>0.0006645063                                                     </td><td>0.06602217                                                       </td><td>2.159530e-06                                                     </td></tr>\n",
       "\t<tr><th scope=row>993</th><td>1006                                                             </td><td> 8                                                               </td><td>tesla nvidia facebook microsoft walmart jpm ibm csco             </td><td>0.9364967                                                        </td><td>0.9348033                                                        </td><td>0.9325494                                                        </td><td>144.905955                                                       </td><td>-1375.904                                                        </td><td>-2258.218                                                        </td><td>-1338.571                                                        </td><td>0.0006781300                                                     </td><td>0.0006775030                                                     </td><td>0.06731346                                                       </td><td>2.201767e-06                                                     </td></tr>\n",
       "\t<tr><th scope=row>976</th><td>1007                                                             </td><td> 8                                                               </td><td>tesla nvidia hp facebook microsoft walmart ibm csco              </td><td>0.9346779                                                        </td><td>0.9329360                                                        </td><td>0.9306608                                                        </td><td>157.390713                                                       </td><td>-1367.178                                                        </td><td>-2249.871                                                        </td><td>-1329.845                                                        </td><td>0.0006975523                                                     </td><td>0.0006969073                                                     </td><td>0.06924138                                                       </td><td>2.264828e-06                                                     </td></tr>\n",
       "\t<tr><th scope=row>1008</th><td>1008                                                             </td><td> 8                                                               </td><td>nvidia hp facebook microsoft walmart jpm ibm csco                </td><td>0.9343385                                                        </td><td>0.9325875                                                        </td><td>0.9301422                                                        </td><td>159.720659                                                       </td><td>-1365.577                                                        </td><td>-2248.338                                                        </td><td>-1328.243                                                        </td><td>0.0007011770                                                     </td><td>0.0007005286                                                     </td><td>0.06960117                                                       </td><td>2.276596e-06                                                     </td></tr>\n",
       "\t<tr><th scope=row>977</th><td>1009                                                             </td><td> 8                                                               </td><td>tesla nvidia hp facebook microsoft jpm ibm csco                  </td><td>0.9327109                                                        </td><td>0.9309165                                                        </td><td>0.9285098                                                        </td><td>170.893243                                                       </td><td>-1358.011                                                        </td><td>-2241.092                                                        </td><td>-1320.677                                                        </td><td>0.0007185579                                                     </td><td>0.0007178935                                                     </td><td>0.07132646                                                       </td><td>2.333029e-06                                                     </td></tr>\n",
       "\t<tr><th scope=row>1001</th><td>1010                                                             </td><td> 8                                                               </td><td>tesla hp facebook mcdonalds walmart jpm ibm csco                 </td><td>0.9323442                                                        </td><td>0.9305400                                                        </td><td>0.9279999                                                        </td><td>173.410359                                                       </td><td>-1356.331                                                        </td><td>-2239.483                                                        </td><td>-1318.998                                                        </td><td>0.0007224737                                                     </td><td>0.0007218057                                                     </td><td>0.07171516                                                       </td><td>2.345743e-06                                                     </td></tr>\n",
       "\t<tr><th scope=row>982</th><td>1011                                                             </td><td> 8                                                               </td><td>tesla nvidia hp facebook walmart jpm ibm csco                    </td><td>0.9312106                                                        </td><td>0.9293763                                                        </td><td>0.9268222                                                        </td><td>181.191395                                                       </td><td>-1351.197                                                        </td><td>-2234.561                                                        </td><td>-1313.864                                                        </td><td>0.0007345785                                                     </td><td>0.0007338993                                                     </td><td>0.07291672                                                       </td><td>2.385045e-06                                                     </td></tr>\n",
       "\t<tr><th scope=row>978</th><td>1012                                                             </td><td> 8                                                               </td><td>tesla nvidia hp facebook mcdonalds walmart jpm ibm               </td><td>0.9272882                                                        </td><td>0.9253492                                                        </td><td>0.9228676                                                        </td><td>208.116208                                                       </td><td>-1334.061                                                        </td><td>-2218.112                                                        </td><td>-1296.728                                                        </td><td>0.0007764649                                                     </td><td>0.0007757470                                                     </td><td>0.07707451                                                       </td><td>2.521043e-06                                                     </td></tr>\n",
       "\t<tr><th scope=row>1021</th><td>1013                                                             </td><td> 9                                                               </td><td>tesla hp facebook microsoft mcdonalds walmart jpm ibm csco       </td><td>0.9564952                                                        </td><td>0.9551857                                                        </td><td>0.9529139                                                        </td><td>  9.630143                                                       </td><td>-1490.774                                                        </td><td>-2366.986                                                        </td><td>-1449.707                                                        </td><td>0.0004676908                                                     </td><td>0.0004671600                                                     </td><td>0.04641479                                                       </td><td>1.518508e-06                                                     </td></tr>\n",
       "\t<tr><th scope=row>1016</th><td>1014                                                             </td><td> 9                                                               </td><td>tesla nvidia hp facebook microsoft mcdonalds jpm ibm csco        </td><td>0.9563821                                                        </td><td>0.9550692                                                        </td><td>0.9527757                                                        </td><td> 10.406376                                                       </td><td>-1489.972                                                        </td><td>-2366.237                                                        </td><td>-1448.905                                                        </td><td>0.0004689064                                                     </td><td>0.0004683743                                                     </td><td>0.04653543                                                       </td><td>1.522456e-06                                                     </td></tr>\n",
       "\t<tr><th scope=row>1013</th><td>1015                                                             </td><td> 9                                                               </td><td>tesla nvidia hp facebook microsoft mcdonalds walmart jpm ibm     </td><td>0.9559808                                                        </td><td>0.9546558                                                        </td><td>0.9525973                                                        </td><td> 13.161307                                                       </td><td>-1487.142                                                        </td><td>-2363.594                                                        </td><td>-1446.075                                                        </td><td>0.0004732210                                                     </td><td>0.0004726840                                                     </td><td>0.04696362                                                       </td><td>1.536464e-06                                                     </td></tr>\n",
       "\t<tr><th scope=row>1019</th><td>1016                                                             </td><td> 9                                                               </td><td>tesla nvidia hp microsoft mcdonalds walmart jpm ibm csco         </td><td>0.9555670                                                        </td><td>0.9542295                                                        </td><td>0.9524498                                                        </td><td> 16.001830                                                       </td><td>-1484.251                                                        </td><td>-2360.893                                                        </td><td>-1443.184                                                        </td><td>0.0004776696                                                     </td><td>0.0004771275                                                     </td><td>0.04740511                                                       </td><td>1.550908e-06                                                     </td></tr>\n",
       "\t<tr><th scope=row>1022</th><td>1017                                                             </td><td> 9                                                               </td><td>nvidia hp facebook microsoft mcdonalds walmart jpm ibm csco      </td><td>0.9552300                                                        </td><td>0.9538824                                                        </td><td>0.9513829                                                        </td><td> 18.315033                                                       </td><td>-1481.916                                                        </td><td>-2358.710                                                        </td><td>-1440.849                                                        </td><td>0.0004812924                                                     </td><td>0.0004807462                                                     </td><td>0.04776464                                                       </td><td>1.562670e-06                                                     </td></tr>\n",
       "\t<tr><th scope=row>1014</th><td>1018                                                             </td><td> 9                                                               </td><td>tesla nvidia hp facebook microsoft mcdonalds walmart jpm csco    </td><td>0.9539994                                                        </td><td>0.9526148                                                        </td><td>0.9501005                                                        </td><td> 26.762145                                                       </td><td>-1473.537                                                        </td><td>-2350.870                                                        </td><td>-1432.470                                                        </td><td>0.0004945216                                                     </td><td>0.0004939604                                                     </td><td>0.04907754                                                       </td><td>1.605623e-06                                                     </td></tr>\n",
       "\t<tr><th scope=row>1015</th><td>1019                                                             </td><td> 9                                                               </td><td>tesla nvidia hp facebook microsoft mcdonalds walmart ibm csco    </td><td>0.9480672                                                        </td><td>0.9465040                                                        </td><td>0.9440833                                                        </td><td> 67.482582                                                       </td><td>-1436.057                                                        </td><td>-2315.660                                                        </td><td>-1394.990                                                        </td><td>0.0005582947                                                     </td><td>0.0005576611                                                     </td><td>0.05540654                                                       </td><td>1.812683e-06                                                     </td></tr>\n",
       "\t<tr><th scope=row>1018</th><td>1020                                                             </td><td> 9                                                               </td><td>tesla nvidia hp facebook mcdonalds walmart jpm ibm csco          </td><td>0.9466029                                                        </td><td>0.9449956                                                        </td><td>0.9423079                                                        </td><td> 77.534127                                                       </td><td>-1427.464                                                        </td><td>-2307.557                                                        </td><td>-1386.398                                                        </td><td>0.0005740366                                                     </td><td>0.0005733852                                                     </td><td>0.05696881                                                       </td><td>1.863794e-06                                                     </td></tr>\n",
       "\t<tr><th scope=row>1020</th><td>1021                                                             </td><td> 9                                                               </td><td>tesla nvidia facebook microsoft mcdonalds walmart jpm ibm csco   </td><td>0.9459940                                                        </td><td>0.9443684                                                        </td><td>0.9415284                                                        </td><td> 81.713860                                                       </td><td>-1423.961                                                        </td><td>-2304.250                                                        </td><td>-1382.894                                                        </td><td>0.0005805826                                                     </td><td>0.0005799237                                                     </td><td>0.05761845                                                       </td><td>1.885048e-06                                                     </td></tr>\n",
       "\t<tr><th scope=row>1017</th><td>1022                                                             </td><td> 9                                                               </td><td>tesla nvidia hp facebook microsoft walmart jpm ibm csco          </td><td>0.9414185                                                        </td><td>0.9396552                                                        </td><td>0.9373768                                                        </td><td>113.121575                                                       </td><td>-1398.832                                                        </td><td>-2280.474                                                        </td><td>-1357.765                                                        </td><td>0.0006297708                                                     </td><td>0.0006290562                                                     </td><td>0.06250001                                                       </td><td>2.044753e-06                                                     </td></tr>\n",
       "\t<tr><th scope=row>1023</th><td>1023                                                             </td><td>10                                                               </td><td>tesla nvidia hp facebook microsoft mcdonalds walmart jpm ibm csco</td><td>0.9565870                                                        </td><td>0.9551302                                                        </td><td>0.9526733                                                        </td><td> 11.000000                                                       </td><td>-1489.427                                                        </td><td>-2365.521                                                        </td><td>-1444.627                                                        </td><td>0.0004698467                                                     </td><td>0.0004692049                                                     </td><td>0.04661795                                                       </td><td>1.525508e-06                                                     </td></tr>\n",
       "</tbody>\n",
       "</table>\n"
      ],
      "text/latex": [
       "\\begin{tabular}{r|llllllllllllll}\n",
       "  & mindex & n & predictors & rsquare & adjr & predrsq & cp & aic & sbic & sbc & msep & fpe & apc & hsp\\\\\n",
       "\\hline\n",
       "\t5 &  1                  & 1                   & microsoft           & 0.90339711          & 0.90308244          & 0.9021650           &  358.1120           & -1260.2730          & -2139.883           & -1249.0730          & 0.0009850079        & 0.0009849665        & 0.09786156          & 3.198145e-06       \\\\\n",
       "\t2 &  2                  & 1                   & nvidia              & 0.84819367          & 0.84769918          & 0.8461348           &  737.0455           & -1120.6060          & -2001.314           & -1109.4060          & 0.0015478878        & 0.0015478228        & 0.15378427          & 5.025715e-06       \\\\\n",
       "\t7 &  3                  & 1                   & walmart             & 0.84279328          & 0.84228120          & 0.8409246           &  774.1154           & -1109.8046          & -1990.582           & -1098.6046          & 0.0016029527        & 0.0016028853        & 0.15925502          & 5.204501e-06       \\\\\n",
       "\t4 &  4                  & 1                   & facebook            & 0.80561209          & 0.80497890          & 0.8034244           & 1029.3386           & -1044.2057          & -1925.364           & -1033.0057          & 0.0019820694        & 0.0019819861        & 0.19692065          & 6.435425e-06       \\\\\n",
       "\t6 &  5                  & 1                   & mcdonalds           & 0.78752809          & 0.78683600          & 0.7854616           & 1153.4727           & -1016.7189          & -1898.018           & -1005.5189          & 0.0021664622        & 0.0021663711        & 0.21524027          & 7.034116e-06       \\\\\n",
       "\t8 &  6                  & 1                   & jpm                 & 0.72526801          & 0.72437311          & 0.7216599           & 1580.8451           &  -937.3101          & -1818.957           &  -926.1101          & 0.0028012949        & 0.0028011772        & 0.27831156          & 9.095305e-06       \\\\\n",
       "\t10 &  7                  & 1                   & csco                & 0.63318659          & 0.63199176          & 0.6291628           & 2212.9203           &  -847.9915          & -1729.944           &  -836.7914          & 0.0037401998        & 0.0037400426        & 0.37159273          & 1.214376e-05       \\\\\n",
       "\t3 &  8                  & 1                   & hp                  & 0.40459443          & 0.40265499          & 0.3984413           & 3782.0475           &  -698.3151          & -1580.626           &  -687.1151          & 0.0060710316        & 0.0060707764        & 0.60316330          & 1.971156e-05       \\\\\n",
       "\t1 &  9                  & 1                   & tesla               & 0.39600561          & 0.39403820          & 0.3897807           & 3841.0038           &  -693.8896          & -1576.208           &  -682.6895          & 0.0061586072        & 0.0061583483        & 0.61186403          & 1.999590e-05       \\\\\n",
       "\t9 & 10                  & 1                   & ibm                 & 0.09767149          & 0.09473231          & 0.0863938           & 5888.8612           &  -569.8527          & -1452.363           &  -558.6527          & 0.0092005603        & 0.0092001736        & 0.91408524          & 2.987258e-05       \\\\\n",
       "\t41 & 11                  & 2                   & microsoft mcdonalds & 0.92885138          & 0.92838636          & 0.9276328           &  185.3861           & -1352.7769          & -2232.155           & -1337.8435          & 0.0007302215        & 0.0007301448        & 0.07254369          & 2.370899e-06       \\\\\n",
       "\t14 & 12                  & 2                   & tesla microsoft     & 0.92437047          & 0.92387615          & 0.9230007           &  216.1444           & -1333.9044          & -2213.565           & -1318.9711          & 0.0007762106        & 0.0007761290        & 0.07711247          & 2.520217e-06       \\\\\n",
       "\t43 & 13                  & 2                   & microsoft jpm       & 0.92016784          & 0.91964606          & 0.9185365           &  244.9926           & -1317.1938          & -2197.095           & -1302.2605          & 0.0008193436        & 0.0008192575        & 0.08139750          & 2.660262e-06       \\\\\n",
       "\t49 & 14                  & 2                   & mcdonalds csco      & 0.92012114          & 0.91959905          & 0.9185556           &  245.3132           & -1317.0131          & -2196.917           & -1302.0798          & 0.0008198228        & 0.0008197367        & 0.08144512          & 2.661818e-06       \\\\\n",
       "\t35 & 15                  & 2                   & facebook microsoft  & 0.91263929          & 0.91206830          & 0.9112080           &  296.6709           & -1289.3470          & -2169.629           & -1274.4136          & 0.0008966115        & 0.0008965173        & 0.08907367          & 2.911138e-06       \\\\\n",
       "\t42 & 16                  & 2                   & microsoft walmart   & 0.91200031          & 0.91142515          & 0.9103994           &  301.0570           & -1287.0951          & -2167.407           & -1272.1618          & 0.0009031695        & 0.0009030746        & 0.08972517          & 2.932430e-06       \\\\\n",
       "\t45 & 17                  & 2                   & microsoft csco      & 0.91069875          & 0.91011508          & 0.9091066           &  309.9913           & -1282.5583          & -2162.930           & -1267.6250          & 0.0009165279        & 0.0009164316        & 0.09105226          & 2.975802e-06       \\\\\n",
       "\t44 & 18                  & 2                   & microsoft ibm       & 0.90977139          & 0.90918166          & 0.9080551           &  316.3570           & -1279.3660          & -2159.779           & -1264.4327          & 0.0009260457        & 0.0009259484        & 0.09199780          & 3.006705e-06       \\\\\n",
       "\t29 & 19                  & 2                   & hp microsoft        & 0.90797210          & 0.90737061          & 0.9063926           &  328.7079           & -1273.2648          & -2153.756           & -1258.3314          & 0.0009445123        & 0.0009444131        & 0.09383236          & 3.066663e-06       \\\\\n",
       "\t22 & 20                  & 2                   & nvidia microsoft    & 0.90725256          & 0.90664637          & 0.9054112           &  333.6470           & -1270.8582          & -2151.380           & -1255.9248          & 0.0009518972        & 0.0009517972        & 0.09456602          & 3.090640e-06       \\\\\n",
       "\t24 & 21                  & 2                   & nvidia walmart      & 0.89833320          & 0.89766871          & 0.8961525           &  394.8723           & -1242.4856          & -2123.354           & -1227.5522          & 0.0010434395        & 0.0010433299        & 0.10366027          & 3.387862e-06       \\\\\n",
       "\t47 & 22                  & 2                   & mcdonalds jpm       & 0.88804020          & 0.88730844          & 0.8855980           &  465.5266           & -1212.6859          & -2093.893           & -1197.7525          & 0.0011490799        & 0.0011489592        & 0.11415509          & 3.730857e-06       \\\\\n",
       "\t27 & 23                  & 2                   & nvidia csco         & 0.88274665          & 0.88198029          & 0.8803842           &  501.8631           & -1198.4110          & -2079.771           & -1183.4776          & 0.0012034094        & 0.0012032829        & 0.11955243          & 3.907255e-06       \\\\\n",
       "\t40 & 24                  & 2                   & facebook csco       & 0.87922443          & 0.87843505          & 0.8772584           &  526.0407           & -1189.2655          & -2070.720           & -1174.3322          & 0.0012395590        & 0.0012394288        & 0.12314371          & 4.024627e-06       \\\\\n",
       "\t37 & 25                  & 2                   & facebook walmart    & 0.87139554          & 0.87055498          & 0.8691101           &  579.7807           & -1169.8580          & -2051.507           & -1154.9246          & 0.0013199096        & 0.0013197709        & 0.13112612          & 4.285511e-06       \\\\\n",
       "\t23 & 26                  & 2                   & nvidia mcdonalds    & 0.86931218          & 0.86845801          & 0.8665863           &  594.0815           & -1164.8924          & -2046.589           & -1149.9590          & 0.0013412917        & 0.0013411508        & 0.13325033          & 4.354935e-06       \\\\\n",
       "\t46 & 27                  & 2                   & mcdonalds walmart   & 0.86563227          & 0.86475405          & 0.8634751           &  619.3415           & -1156.3118          & -2038.090           & -1141.3785          & 0.0013790598        & 0.0013789149        & 0.13700239          & 4.477561e-06       \\\\\n",
       "\t16 & 28                  & 2                   & tesla walmart       & 0.86540386          & 0.86452415          & 0.8633997           &  620.9094           & -1155.7870          & -2037.570           & -1140.8536          & 0.0013814041        & 0.0013812589        & 0.13723528          & 4.485172e-06       \\\\\n",
       "\t21 & 29                  & 2                   & nvidia facebook     & 0.86467528          & 0.86379081          & 0.8621520           &  625.9106           & -1154.1189          & -2035.918           & -1139.1855          & 0.0013888817        & 0.0013887358        & 0.13797814          & 4.509451e-06       \\\\\n",
       "\t25 & 30                  & 2                   & nvidia jpm          & 0.86228534          & 0.86138525          & 0.8593647           &  642.3159           & -1148.7093          & -2030.558           & -1133.7760          & 0.0014134104        & 0.0014132619        & 0.14041494          & 4.589091e-06       \\\\\n",
       "\t... & ... & ... & ... & ... & ... & ... & ... & ... & ... & ... & ... & ... & ... & ...\\\\\n",
       "\t1011 &  994                                                              &  8                                                                & nvidia facebook microsoft mcdonalds walmart jpm ibm csco          & 0.9444647                                                         & 0.9429838                                                         & 0.9401264                                                         &  90.211247                                                        & -1417.332                                                         & -2297.718                                                         & -1379.999                                                         & 0.0005930426                                                      & 0.0005924942                                                      & 0.05886739                                                        & 1.925503e-06                                                     \\\\\n",
       "\t989 &  995                                                              &  8                                                                & tesla nvidia facebook microsoft mcdonalds walmart jpm ibm         & 0.9439371                                                         & 0.9424421                                                         & 0.9401008                                                         &  93.833249                                                        & -1414.410                                                         & -2294.939                                                         & -1377.077                                                         & 0.0005986773                                                      & 0.0005981237                                                      & 0.05942671                                                        & 1.943798e-06                                                     \\\\\n",
       "\t995 &  996                                                              &  8                                                                & tesla nvidia microsoft mcdonalds walmart jpm ibm csco             & 0.9438764                                                         & 0.9423798                                                         & 0.9403332                                                         &  94.249828                                                        & -1414.076                                                         & -2294.621                                                         & -1376.743                                                         & 0.0005993253                                                      & 0.0005987711                                                      & 0.05949104                                                        & 1.945902e-06                                                     \\\\\n",
       "\t990 &  997                                                              &  8                                                                & tesla nvidia facebook microsoft mcdonalds walmart jpm csco        & 0.9429093                                                         & 0.9413868                                                         & 0.9384732                                                         & 100.888402                                                        & -1408.797                                                         & -2289.597                                                         & -1371.463                                                         & 0.0006096528                                                      & 0.0006090891                                                      & 0.06051618                                                        & 1.979434e-06                                                     \\\\\n",
       "\t1006 &  998                                                              &  8                                                                & nvidia hp facebook microsoft mcdonalds walmart ibm csco           & 0.9425556                                                         & 0.9410238                                                         & 0.9384160                                                         & 103.315827                                                        & -1406.889                                                         & -2287.781                                                         & -1369.555                                                         & 0.0006134291                                                      & 0.0006128619                                                      & 0.06089103                                                        & 1.991695e-06                                                     \\\\\n",
       "\t974 &  999                                                              &  8                                                                & tesla nvidia hp facebook microsoft walmart jpm ibm                & 0.9414184                                                         & 0.9398562                                                         & 0.9378192                                                         & 111.122077                                                        & -1400.831                                                         & -2282.011                                                         & -1363.498                                                         & 0.0006255731                                                      & 0.0006249947                                                      & 0.06209648                                                        & 2.031124e-06                                                     \\\\\n",
       "\t987 & 1000                                                              &  8                                                                & tesla nvidia hp microsoft walmart jpm ibm csco                    & 0.9413133                                                         & 0.9397483                                                         & 0.9376622                                                         & 111.843841                                                        & -1400.277                                                         & -2281.483                                                         & -1362.944                                                         & 0.0006266960                                                      & 0.0006261165                                                      & 0.06220794                                                        & 2.034770e-06                                                     \\\\\n",
       "\t1000 & 1001                                                              &  8                                                                & tesla hp facebook microsoft walmart jpm ibm csco                  & 0.9409000                                                         & 0.9393240                                                         & 0.9373354                                                         & 114.680310                                                        & -1398.109                                                         & -2279.416                                                         & -1360.776                                                         & 0.0006311086                                                      & 0.0006305250                                                      & 0.06264595                                                        & 2.049097e-06                                                     \\\\\n",
       "\t975 & 1002                                                              &  8                                                                & tesla nvidia hp facebook microsoft walmart jpm csco               & 0.9401643                                                         & 0.9385687                                                         & 0.9364649                                                         & 119.730400                                                        & -1394.286                                                         & -2275.771                                                         & -1356.953                                                         & 0.0006389649                                                      & 0.0006383741                                                      & 0.06342580                                                        & 2.074605e-06                                                     \\\\\n",
       "\t991 & 1003                                                              &  8                                                                & tesla nvidia facebook microsoft mcdonalds walmart ibm csco        & 0.9395360                                                         & 0.9379236                                                         & 0.9353055                                                         & 124.043579                                                        & -1391.058                                                         & -2272.692                                                         & -1353.725                                                         & 0.0006456748                                                      & 0.0006450778                                                      & 0.06409185                                                        & 2.096391e-06                                                     \\\\\n",
       "\t980 & 1004                                                              &  8                                                                & tesla nvidia hp facebook mcdonalds walmart ibm csco               & 0.9381333                                                         & 0.9364835                                                         & 0.9339475                                                         & 133.672095                                                        & -1383.972                                                         & -2265.927                                                         & -1346.638                                                         & 0.0006606537                                                      & 0.0006600429                                                      & 0.06557870                                                        & 2.145025e-06                                                     \\\\\n",
       "\t994 & 1005                                                              &  8                                                                & tesla nvidia facebook mcdonalds walmart jpm ibm csco              & 0.9377149                                                         & 0.9360540                                                         & 0.9330946                                                         & 136.543883                                                        & -1381.889                                                         & -2263.938                                                         & -1344.556                                                         & 0.0006651213                                                      & 0.0006645063                                                      & 0.06602217                                                        & 2.159530e-06                                                     \\\\\n",
       "\t993 & 1006                                                              &  8                                                                & tesla nvidia facebook microsoft walmart jpm ibm csco              & 0.9364967                                                         & 0.9348033                                                         & 0.9325494                                                         & 144.905955                                                        & -1375.904                                                         & -2258.218                                                         & -1338.571                                                         & 0.0006781300                                                      & 0.0006775030                                                      & 0.06731346                                                        & 2.201767e-06                                                     \\\\\n",
       "\t976 & 1007                                                              &  8                                                                & tesla nvidia hp facebook microsoft walmart ibm csco               & 0.9346779                                                         & 0.9329360                                                         & 0.9306608                                                         & 157.390713                                                        & -1367.178                                                         & -2249.871                                                         & -1329.845                                                         & 0.0006975523                                                      & 0.0006969073                                                      & 0.06924138                                                        & 2.264828e-06                                                     \\\\\n",
       "\t1008 & 1008                                                              &  8                                                                & nvidia hp facebook microsoft walmart jpm ibm csco                 & 0.9343385                                                         & 0.9325875                                                         & 0.9301422                                                         & 159.720659                                                        & -1365.577                                                         & -2248.338                                                         & -1328.243                                                         & 0.0007011770                                                      & 0.0007005286                                                      & 0.06960117                                                        & 2.276596e-06                                                     \\\\\n",
       "\t977 & 1009                                                              &  8                                                                & tesla nvidia hp facebook microsoft jpm ibm csco                   & 0.9327109                                                         & 0.9309165                                                         & 0.9285098                                                         & 170.893243                                                        & -1358.011                                                         & -2241.092                                                         & -1320.677                                                         & 0.0007185579                                                      & 0.0007178935                                                      & 0.07132646                                                        & 2.333029e-06                                                     \\\\\n",
       "\t1001 & 1010                                                              &  8                                                                & tesla hp facebook mcdonalds walmart jpm ibm csco                  & 0.9323442                                                         & 0.9305400                                                         & 0.9279999                                                         & 173.410359                                                        & -1356.331                                                         & -2239.483                                                         & -1318.998                                                         & 0.0007224737                                                      & 0.0007218057                                                      & 0.07171516                                                        & 2.345743e-06                                                     \\\\\n",
       "\t982 & 1011                                                              &  8                                                                & tesla nvidia hp facebook walmart jpm ibm csco                     & 0.9312106                                                         & 0.9293763                                                         & 0.9268222                                                         & 181.191395                                                        & -1351.197                                                         & -2234.561                                                         & -1313.864                                                         & 0.0007345785                                                      & 0.0007338993                                                      & 0.07291672                                                        & 2.385045e-06                                                     \\\\\n",
       "\t978 & 1012                                                              &  8                                                                & tesla nvidia hp facebook mcdonalds walmart jpm ibm                & 0.9272882                                                         & 0.9253492                                                         & 0.9228676                                                         & 208.116208                                                        & -1334.061                                                         & -2218.112                                                         & -1296.728                                                         & 0.0007764649                                                      & 0.0007757470                                                      & 0.07707451                                                        & 2.521043e-06                                                     \\\\\n",
       "\t1021 & 1013                                                              &  9                                                                & tesla hp facebook microsoft mcdonalds walmart jpm ibm csco        & 0.9564952                                                         & 0.9551857                                                         & 0.9529139                                                         &   9.630143                                                        & -1490.774                                                         & -2366.986                                                         & -1449.707                                                         & 0.0004676908                                                      & 0.0004671600                                                      & 0.04641479                                                        & 1.518508e-06                                                     \\\\\n",
       "\t1016 & 1014                                                              &  9                                                                & tesla nvidia hp facebook microsoft mcdonalds jpm ibm csco         & 0.9563821                                                         & 0.9550692                                                         & 0.9527757                                                         &  10.406376                                                        & -1489.972                                                         & -2366.237                                                         & -1448.905                                                         & 0.0004689064                                                      & 0.0004683743                                                      & 0.04653543                                                        & 1.522456e-06                                                     \\\\\n",
       "\t1013 & 1015                                                              &  9                                                                & tesla nvidia hp facebook microsoft mcdonalds walmart jpm ibm      & 0.9559808                                                         & 0.9546558                                                         & 0.9525973                                                         &  13.161307                                                        & -1487.142                                                         & -2363.594                                                         & -1446.075                                                         & 0.0004732210                                                      & 0.0004726840                                                      & 0.04696362                                                        & 1.536464e-06                                                     \\\\\n",
       "\t1019 & 1016                                                              &  9                                                                & tesla nvidia hp microsoft mcdonalds walmart jpm ibm csco          & 0.9555670                                                         & 0.9542295                                                         & 0.9524498                                                         &  16.001830                                                        & -1484.251                                                         & -2360.893                                                         & -1443.184                                                         & 0.0004776696                                                      & 0.0004771275                                                      & 0.04740511                                                        & 1.550908e-06                                                     \\\\\n",
       "\t1022 & 1017                                                              &  9                                                                & nvidia hp facebook microsoft mcdonalds walmart jpm ibm csco       & 0.9552300                                                         & 0.9538824                                                         & 0.9513829                                                         &  18.315033                                                        & -1481.916                                                         & -2358.710                                                         & -1440.849                                                         & 0.0004812924                                                      & 0.0004807462                                                      & 0.04776464                                                        & 1.562670e-06                                                     \\\\\n",
       "\t1014 & 1018                                                              &  9                                                                & tesla nvidia hp facebook microsoft mcdonalds walmart jpm csco     & 0.9539994                                                         & 0.9526148                                                         & 0.9501005                                                         &  26.762145                                                        & -1473.537                                                         & -2350.870                                                         & -1432.470                                                         & 0.0004945216                                                      & 0.0004939604                                                      & 0.04907754                                                        & 1.605623e-06                                                     \\\\\n",
       "\t1015 & 1019                                                              &  9                                                                & tesla nvidia hp facebook microsoft mcdonalds walmart ibm csco     & 0.9480672                                                         & 0.9465040                                                         & 0.9440833                                                         &  67.482582                                                        & -1436.057                                                         & -2315.660                                                         & -1394.990                                                         & 0.0005582947                                                      & 0.0005576611                                                      & 0.05540654                                                        & 1.812683e-06                                                     \\\\\n",
       "\t1018 & 1020                                                              &  9                                                                & tesla nvidia hp facebook mcdonalds walmart jpm ibm csco           & 0.9466029                                                         & 0.9449956                                                         & 0.9423079                                                         &  77.534127                                                        & -1427.464                                                         & -2307.557                                                         & -1386.398                                                         & 0.0005740366                                                      & 0.0005733852                                                      & 0.05696881                                                        & 1.863794e-06                                                     \\\\\n",
       "\t1020 & 1021                                                              &  9                                                                & tesla nvidia facebook microsoft mcdonalds walmart jpm ibm csco    & 0.9459940                                                         & 0.9443684                                                         & 0.9415284                                                         &  81.713860                                                        & -1423.961                                                         & -2304.250                                                         & -1382.894                                                         & 0.0005805826                                                      & 0.0005799237                                                      & 0.05761845                                                        & 1.885048e-06                                                     \\\\\n",
       "\t1017 & 1022                                                              &  9                                                                & tesla nvidia hp facebook microsoft walmart jpm ibm csco           & 0.9414185                                                         & 0.9396552                                                         & 0.9373768                                                         & 113.121575                                                        & -1398.832                                                         & -2280.474                                                         & -1357.765                                                         & 0.0006297708                                                      & 0.0006290562                                                      & 0.06250001                                                        & 2.044753e-06                                                     \\\\\n",
       "\t1023 & 1023                                                              & 10                                                                & tesla nvidia hp facebook microsoft mcdonalds walmart jpm ibm csco & 0.9565870                                                         & 0.9551302                                                         & 0.9526733                                                         &  11.000000                                                        & -1489.427                                                         & -2365.521                                                         & -1444.627                                                         & 0.0004698467                                                      & 0.0004692049                                                      & 0.04661795                                                        & 1.525508e-06                                                     \\\\\n",
       "\\end{tabular}\n"
      ],
      "text/markdown": [
       "\n",
       "| <!--/--> | mindex | n | predictors | rsquare | adjr | predrsq | cp | aic | sbic | sbc | msep | fpe | apc | hsp | \n",
       "|---|---|---|---|---|---|---|---|---|---|---|---|---|---|---|---|---|---|---|---|---|---|---|---|---|---|---|---|---|---|---|---|---|---|---|---|---|---|---|---|---|---|---|---|---|---|---|---|---|---|---|---|---|---|---|---|---|---|---|---|---|\n",
       "| 5 |  1                  | 1                   | microsoft           | 0.90339711          | 0.90308244          | 0.9021650           |  358.1120           | -1260.2730          | -2139.883           | -1249.0730          | 0.0009850079        | 0.0009849665        | 0.09786156          | 3.198145e-06        | \n",
       "| 2 |  2                  | 1                   | nvidia              | 0.84819367          | 0.84769918          | 0.8461348           |  737.0455           | -1120.6060          | -2001.314           | -1109.4060          | 0.0015478878        | 0.0015478228        | 0.15378427          | 5.025715e-06        | \n",
       "| 7 |  3                  | 1                   | walmart             | 0.84279328          | 0.84228120          | 0.8409246           |  774.1154           | -1109.8046          | -1990.582           | -1098.6046          | 0.0016029527        | 0.0016028853        | 0.15925502          | 5.204501e-06        | \n",
       "| 4 |  4                  | 1                   | facebook            | 0.80561209          | 0.80497890          | 0.8034244           | 1029.3386           | -1044.2057          | -1925.364           | -1033.0057          | 0.0019820694        | 0.0019819861        | 0.19692065          | 6.435425e-06        | \n",
       "| 6 |  5                  | 1                   | mcdonalds           | 0.78752809          | 0.78683600          | 0.7854616           | 1153.4727           | -1016.7189          | -1898.018           | -1005.5189          | 0.0021664622        | 0.0021663711        | 0.21524027          | 7.034116e-06        | \n",
       "| 8 |  6                  | 1                   | jpm                 | 0.72526801          | 0.72437311          | 0.7216599           | 1580.8451           |  -937.3101          | -1818.957           |  -926.1101          | 0.0028012949        | 0.0028011772        | 0.27831156          | 9.095305e-06        | \n",
       "| 10 |  7                  | 1                   | csco                | 0.63318659          | 0.63199176          | 0.6291628           | 2212.9203           |  -847.9915          | -1729.944           |  -836.7914          | 0.0037401998        | 0.0037400426        | 0.37159273          | 1.214376e-05        | \n",
       "| 3 |  8                  | 1                   | hp                  | 0.40459443          | 0.40265499          | 0.3984413           | 3782.0475           |  -698.3151          | -1580.626           |  -687.1151          | 0.0060710316        | 0.0060707764        | 0.60316330          | 1.971156e-05        | \n",
       "| 1 |  9                  | 1                   | tesla               | 0.39600561          | 0.39403820          | 0.3897807           | 3841.0038           |  -693.8896          | -1576.208           |  -682.6895          | 0.0061586072        | 0.0061583483        | 0.61186403          | 1.999590e-05        | \n",
       "| 9 | 10                  | 1                   | ibm                 | 0.09767149          | 0.09473231          | 0.0863938           | 5888.8612           |  -569.8527          | -1452.363           |  -558.6527          | 0.0092005603        | 0.0092001736        | 0.91408524          | 2.987258e-05        | \n",
       "| 41 | 11                  | 2                   | microsoft mcdonalds | 0.92885138          | 0.92838636          | 0.9276328           |  185.3861           | -1352.7769          | -2232.155           | -1337.8435          | 0.0007302215        | 0.0007301448        | 0.07254369          | 2.370899e-06        | \n",
       "| 14 | 12                  | 2                   | tesla microsoft     | 0.92437047          | 0.92387615          | 0.9230007           |  216.1444           | -1333.9044          | -2213.565           | -1318.9711          | 0.0007762106        | 0.0007761290        | 0.07711247          | 2.520217e-06        | \n",
       "| 43 | 13                  | 2                   | microsoft jpm       | 0.92016784          | 0.91964606          | 0.9185365           |  244.9926           | -1317.1938          | -2197.095           | -1302.2605          | 0.0008193436        | 0.0008192575        | 0.08139750          | 2.660262e-06        | \n",
       "| 49 | 14                  | 2                   | mcdonalds csco      | 0.92012114          | 0.91959905          | 0.9185556           |  245.3132           | -1317.0131          | -2196.917           | -1302.0798          | 0.0008198228        | 0.0008197367        | 0.08144512          | 2.661818e-06        | \n",
       "| 35 | 15                  | 2                   | facebook microsoft  | 0.91263929          | 0.91206830          | 0.9112080           |  296.6709           | -1289.3470          | -2169.629           | -1274.4136          | 0.0008966115        | 0.0008965173        | 0.08907367          | 2.911138e-06        | \n",
       "| 42 | 16                  | 2                   | microsoft walmart   | 0.91200031          | 0.91142515          | 0.9103994           |  301.0570           | -1287.0951          | -2167.407           | -1272.1618          | 0.0009031695        | 0.0009030746        | 0.08972517          | 2.932430e-06        | \n",
       "| 45 | 17                  | 2                   | microsoft csco      | 0.91069875          | 0.91011508          | 0.9091066           |  309.9913           | -1282.5583          | -2162.930           | -1267.6250          | 0.0009165279        | 0.0009164316        | 0.09105226          | 2.975802e-06        | \n",
       "| 44 | 18                  | 2                   | microsoft ibm       | 0.90977139          | 0.90918166          | 0.9080551           |  316.3570           | -1279.3660          | -2159.779           | -1264.4327          | 0.0009260457        | 0.0009259484        | 0.09199780          | 3.006705e-06        | \n",
       "| 29 | 19                  | 2                   | hp microsoft        | 0.90797210          | 0.90737061          | 0.9063926           |  328.7079           | -1273.2648          | -2153.756           | -1258.3314          | 0.0009445123        | 0.0009444131        | 0.09383236          | 3.066663e-06        | \n",
       "| 22 | 20                  | 2                   | nvidia microsoft    | 0.90725256          | 0.90664637          | 0.9054112           |  333.6470           | -1270.8582          | -2151.380           | -1255.9248          | 0.0009518972        | 0.0009517972        | 0.09456602          | 3.090640e-06        | \n",
       "| 24 | 21                  | 2                   | nvidia walmart      | 0.89833320          | 0.89766871          | 0.8961525           |  394.8723           | -1242.4856          | -2123.354           | -1227.5522          | 0.0010434395        | 0.0010433299        | 0.10366027          | 3.387862e-06        | \n",
       "| 47 | 22                  | 2                   | mcdonalds jpm       | 0.88804020          | 0.88730844          | 0.8855980           |  465.5266           | -1212.6859          | -2093.893           | -1197.7525          | 0.0011490799        | 0.0011489592        | 0.11415509          | 3.730857e-06        | \n",
       "| 27 | 23                  | 2                   | nvidia csco         | 0.88274665          | 0.88198029          | 0.8803842           |  501.8631           | -1198.4110          | -2079.771           | -1183.4776          | 0.0012034094        | 0.0012032829        | 0.11955243          | 3.907255e-06        | \n",
       "| 40 | 24                  | 2                   | facebook csco       | 0.87922443          | 0.87843505          | 0.8772584           |  526.0407           | -1189.2655          | -2070.720           | -1174.3322          | 0.0012395590        | 0.0012394288        | 0.12314371          | 4.024627e-06        | \n",
       "| 37 | 25                  | 2                   | facebook walmart    | 0.87139554          | 0.87055498          | 0.8691101           |  579.7807           | -1169.8580          | -2051.507           | -1154.9246          | 0.0013199096        | 0.0013197709        | 0.13112612          | 4.285511e-06        | \n",
       "| 23 | 26                  | 2                   | nvidia mcdonalds    | 0.86931218          | 0.86845801          | 0.8665863           |  594.0815           | -1164.8924          | -2046.589           | -1149.9590          | 0.0013412917        | 0.0013411508        | 0.13325033          | 4.354935e-06        | \n",
       "| 46 | 27                  | 2                   | mcdonalds walmart   | 0.86563227          | 0.86475405          | 0.8634751           |  619.3415           | -1156.3118          | -2038.090           | -1141.3785          | 0.0013790598        | 0.0013789149        | 0.13700239          | 4.477561e-06        | \n",
       "| 16 | 28                  | 2                   | tesla walmart       | 0.86540386          | 0.86452415          | 0.8633997           |  620.9094           | -1155.7870          | -2037.570           | -1140.8536          | 0.0013814041        | 0.0013812589        | 0.13723528          | 4.485172e-06        | \n",
       "| 21 | 29                  | 2                   | nvidia facebook     | 0.86467528          | 0.86379081          | 0.8621520           |  625.9106           | -1154.1189          | -2035.918           | -1139.1855          | 0.0013888817        | 0.0013887358        | 0.13797814          | 4.509451e-06        | \n",
       "| 25 | 30                  | 2                   | nvidia jpm          | 0.86228534          | 0.86138525          | 0.8593647           |  642.3159           | -1148.7093          | -2030.558           | -1133.7760          | 0.0014134104        | 0.0014132619        | 0.14041494          | 4.589091e-06        | \n",
       "| ... | ... | ... | ... | ... | ... | ... | ... | ... | ... | ... | ... | ... | ... | ... | \n",
       "| 1011 |  994                                                              |  8                                                                | nvidia facebook microsoft mcdonalds walmart jpm ibm csco          | 0.9444647                                                         | 0.9429838                                                         | 0.9401264                                                         |  90.211247                                                        | -1417.332                                                         | -2297.718                                                         | -1379.999                                                         | 0.0005930426                                                      | 0.0005924942                                                      | 0.05886739                                                        | 1.925503e-06                                                      | \n",
       "| 989 |  995                                                              |  8                                                                | tesla nvidia facebook microsoft mcdonalds walmart jpm ibm         | 0.9439371                                                         | 0.9424421                                                         | 0.9401008                                                         |  93.833249                                                        | -1414.410                                                         | -2294.939                                                         | -1377.077                                                         | 0.0005986773                                                      | 0.0005981237                                                      | 0.05942671                                                        | 1.943798e-06                                                      | \n",
       "| 995 |  996                                                              |  8                                                                | tesla nvidia microsoft mcdonalds walmart jpm ibm csco             | 0.9438764                                                         | 0.9423798                                                         | 0.9403332                                                         |  94.249828                                                        | -1414.076                                                         | -2294.621                                                         | -1376.743                                                         | 0.0005993253                                                      | 0.0005987711                                                      | 0.05949104                                                        | 1.945902e-06                                                      | \n",
       "| 990 |  997                                                              |  8                                                                | tesla nvidia facebook microsoft mcdonalds walmart jpm csco        | 0.9429093                                                         | 0.9413868                                                         | 0.9384732                                                         | 100.888402                                                        | -1408.797                                                         | -2289.597                                                         | -1371.463                                                         | 0.0006096528                                                      | 0.0006090891                                                      | 0.06051618                                                        | 1.979434e-06                                                      | \n",
       "| 1006 |  998                                                              |  8                                                                | nvidia hp facebook microsoft mcdonalds walmart ibm csco           | 0.9425556                                                         | 0.9410238                                                         | 0.9384160                                                         | 103.315827                                                        | -1406.889                                                         | -2287.781                                                         | -1369.555                                                         | 0.0006134291                                                      | 0.0006128619                                                      | 0.06089103                                                        | 1.991695e-06                                                      | \n",
       "| 974 |  999                                                              |  8                                                                | tesla nvidia hp facebook microsoft walmart jpm ibm                | 0.9414184                                                         | 0.9398562                                                         | 0.9378192                                                         | 111.122077                                                        | -1400.831                                                         | -2282.011                                                         | -1363.498                                                         | 0.0006255731                                                      | 0.0006249947                                                      | 0.06209648                                                        | 2.031124e-06                                                      | \n",
       "| 987 | 1000                                                              |  8                                                                | tesla nvidia hp microsoft walmart jpm ibm csco                    | 0.9413133                                                         | 0.9397483                                                         | 0.9376622                                                         | 111.843841                                                        | -1400.277                                                         | -2281.483                                                         | -1362.944                                                         | 0.0006266960                                                      | 0.0006261165                                                      | 0.06220794                                                        | 2.034770e-06                                                      | \n",
       "| 1000 | 1001                                                              |  8                                                                | tesla hp facebook microsoft walmart jpm ibm csco                  | 0.9409000                                                         | 0.9393240                                                         | 0.9373354                                                         | 114.680310                                                        | -1398.109                                                         | -2279.416                                                         | -1360.776                                                         | 0.0006311086                                                      | 0.0006305250                                                      | 0.06264595                                                        | 2.049097e-06                                                      | \n",
       "| 975 | 1002                                                              |  8                                                                | tesla nvidia hp facebook microsoft walmart jpm csco               | 0.9401643                                                         | 0.9385687                                                         | 0.9364649                                                         | 119.730400                                                        | -1394.286                                                         | -2275.771                                                         | -1356.953                                                         | 0.0006389649                                                      | 0.0006383741                                                      | 0.06342580                                                        | 2.074605e-06                                                      | \n",
       "| 991 | 1003                                                              |  8                                                                | tesla nvidia facebook microsoft mcdonalds walmart ibm csco        | 0.9395360                                                         | 0.9379236                                                         | 0.9353055                                                         | 124.043579                                                        | -1391.058                                                         | -2272.692                                                         | -1353.725                                                         | 0.0006456748                                                      | 0.0006450778                                                      | 0.06409185                                                        | 2.096391e-06                                                      | \n",
       "| 980 | 1004                                                              |  8                                                                | tesla nvidia hp facebook mcdonalds walmart ibm csco               | 0.9381333                                                         | 0.9364835                                                         | 0.9339475                                                         | 133.672095                                                        | -1383.972                                                         | -2265.927                                                         | -1346.638                                                         | 0.0006606537                                                      | 0.0006600429                                                      | 0.06557870                                                        | 2.145025e-06                                                      | \n",
       "| 994 | 1005                                                              |  8                                                                | tesla nvidia facebook mcdonalds walmart jpm ibm csco              | 0.9377149                                                         | 0.9360540                                                         | 0.9330946                                                         | 136.543883                                                        | -1381.889                                                         | -2263.938                                                         | -1344.556                                                         | 0.0006651213                                                      | 0.0006645063                                                      | 0.06602217                                                        | 2.159530e-06                                                      | \n",
       "| 993 | 1006                                                              |  8                                                                | tesla nvidia facebook microsoft walmart jpm ibm csco              | 0.9364967                                                         | 0.9348033                                                         | 0.9325494                                                         | 144.905955                                                        | -1375.904                                                         | -2258.218                                                         | -1338.571                                                         | 0.0006781300                                                      | 0.0006775030                                                      | 0.06731346                                                        | 2.201767e-06                                                      | \n",
       "| 976 | 1007                                                              |  8                                                                | tesla nvidia hp facebook microsoft walmart ibm csco               | 0.9346779                                                         | 0.9329360                                                         | 0.9306608                                                         | 157.390713                                                        | -1367.178                                                         | -2249.871                                                         | -1329.845                                                         | 0.0006975523                                                      | 0.0006969073                                                      | 0.06924138                                                        | 2.264828e-06                                                      | \n",
       "| 1008 | 1008                                                              |  8                                                                | nvidia hp facebook microsoft walmart jpm ibm csco                 | 0.9343385                                                         | 0.9325875                                                         | 0.9301422                                                         | 159.720659                                                        | -1365.577                                                         | -2248.338                                                         | -1328.243                                                         | 0.0007011770                                                      | 0.0007005286                                                      | 0.06960117                                                        | 2.276596e-06                                                      | \n",
       "| 977 | 1009                                                              |  8                                                                | tesla nvidia hp facebook microsoft jpm ibm csco                   | 0.9327109                                                         | 0.9309165                                                         | 0.9285098                                                         | 170.893243                                                        | -1358.011                                                         | -2241.092                                                         | -1320.677                                                         | 0.0007185579                                                      | 0.0007178935                                                      | 0.07132646                                                        | 2.333029e-06                                                      | \n",
       "| 1001 | 1010                                                              |  8                                                                | tesla hp facebook mcdonalds walmart jpm ibm csco                  | 0.9323442                                                         | 0.9305400                                                         | 0.9279999                                                         | 173.410359                                                        | -1356.331                                                         | -2239.483                                                         | -1318.998                                                         | 0.0007224737                                                      | 0.0007218057                                                      | 0.07171516                                                        | 2.345743e-06                                                      | \n",
       "| 982 | 1011                                                              |  8                                                                | tesla nvidia hp facebook walmart jpm ibm csco                     | 0.9312106                                                         | 0.9293763                                                         | 0.9268222                                                         | 181.191395                                                        | -1351.197                                                         | -2234.561                                                         | -1313.864                                                         | 0.0007345785                                                      | 0.0007338993                                                      | 0.07291672                                                        | 2.385045e-06                                                      | \n",
       "| 978 | 1012                                                              |  8                                                                | tesla nvidia hp facebook mcdonalds walmart jpm ibm                | 0.9272882                                                         | 0.9253492                                                         | 0.9228676                                                         | 208.116208                                                        | -1334.061                                                         | -2218.112                                                         | -1296.728                                                         | 0.0007764649                                                      | 0.0007757470                                                      | 0.07707451                                                        | 2.521043e-06                                                      | \n",
       "| 1021 | 1013                                                              |  9                                                                | tesla hp facebook microsoft mcdonalds walmart jpm ibm csco        | 0.9564952                                                         | 0.9551857                                                         | 0.9529139                                                         |   9.630143                                                        | -1490.774                                                         | -2366.986                                                         | -1449.707                                                         | 0.0004676908                                                      | 0.0004671600                                                      | 0.04641479                                                        | 1.518508e-06                                                      | \n",
       "| 1016 | 1014                                                              |  9                                                                | tesla nvidia hp facebook microsoft mcdonalds jpm ibm csco         | 0.9563821                                                         | 0.9550692                                                         | 0.9527757                                                         |  10.406376                                                        | -1489.972                                                         | -2366.237                                                         | -1448.905                                                         | 0.0004689064                                                      | 0.0004683743                                                      | 0.04653543                                                        | 1.522456e-06                                                      | \n",
       "| 1013 | 1015                                                              |  9                                                                | tesla nvidia hp facebook microsoft mcdonalds walmart jpm ibm      | 0.9559808                                                         | 0.9546558                                                         | 0.9525973                                                         |  13.161307                                                        | -1487.142                                                         | -2363.594                                                         | -1446.075                                                         | 0.0004732210                                                      | 0.0004726840                                                      | 0.04696362                                                        | 1.536464e-06                                                      | \n",
       "| 1019 | 1016                                                              |  9                                                                | tesla nvidia hp microsoft mcdonalds walmart jpm ibm csco          | 0.9555670                                                         | 0.9542295                                                         | 0.9524498                                                         |  16.001830                                                        | -1484.251                                                         | -2360.893                                                         | -1443.184                                                         | 0.0004776696                                                      | 0.0004771275                                                      | 0.04740511                                                        | 1.550908e-06                                                      | \n",
       "| 1022 | 1017                                                              |  9                                                                | nvidia hp facebook microsoft mcdonalds walmart jpm ibm csco       | 0.9552300                                                         | 0.9538824                                                         | 0.9513829                                                         |  18.315033                                                        | -1481.916                                                         | -2358.710                                                         | -1440.849                                                         | 0.0004812924                                                      | 0.0004807462                                                      | 0.04776464                                                        | 1.562670e-06                                                      | \n",
       "| 1014 | 1018                                                              |  9                                                                | tesla nvidia hp facebook microsoft mcdonalds walmart jpm csco     | 0.9539994                                                         | 0.9526148                                                         | 0.9501005                                                         |  26.762145                                                        | -1473.537                                                         | -2350.870                                                         | -1432.470                                                         | 0.0004945216                                                      | 0.0004939604                                                      | 0.04907754                                                        | 1.605623e-06                                                      | \n",
       "| 1015 | 1019                                                              |  9                                                                | tesla nvidia hp facebook microsoft mcdonalds walmart ibm csco     | 0.9480672                                                         | 0.9465040                                                         | 0.9440833                                                         |  67.482582                                                        | -1436.057                                                         | -2315.660                                                         | -1394.990                                                         | 0.0005582947                                                      | 0.0005576611                                                      | 0.05540654                                                        | 1.812683e-06                                                      | \n",
       "| 1018 | 1020                                                              |  9                                                                | tesla nvidia hp facebook mcdonalds walmart jpm ibm csco           | 0.9466029                                                         | 0.9449956                                                         | 0.9423079                                                         |  77.534127                                                        | -1427.464                                                         | -2307.557                                                         | -1386.398                                                         | 0.0005740366                                                      | 0.0005733852                                                      | 0.05696881                                                        | 1.863794e-06                                                      | \n",
       "| 1020 | 1021                                                              |  9                                                                | tesla nvidia facebook microsoft mcdonalds walmart jpm ibm csco    | 0.9459940                                                         | 0.9443684                                                         | 0.9415284                                                         |  81.713860                                                        | -1423.961                                                         | -2304.250                                                         | -1382.894                                                         | 0.0005805826                                                      | 0.0005799237                                                      | 0.05761845                                                        | 1.885048e-06                                                      | \n",
       "| 1017 | 1022                                                              |  9                                                                | tesla nvidia hp facebook microsoft walmart jpm ibm csco           | 0.9414185                                                         | 0.9396552                                                         | 0.9373768                                                         | 113.121575                                                        | -1398.832                                                         | -2280.474                                                         | -1357.765                                                         | 0.0006297708                                                      | 0.0006290562                                                      | 0.06250001                                                        | 2.044753e-06                                                      | \n",
       "| 1023 | 1023                                                              | 10                                                                | tesla nvidia hp facebook microsoft mcdonalds walmart jpm ibm csco | 0.9565870                                                         | 0.9551302                                                         | 0.9526733                                                         |  11.000000                                                        | -1489.427                                                         | -2365.521                                                         | -1444.627                                                         | 0.0004698467                                                      | 0.0004692049                                                      | 0.04661795                                                        | 1.525508e-06                                                      | \n",
       "\n",
       "\n"
      ],
      "text/plain": [
       "     mindex n  \n",
       "5     1     1  \n",
       "2     2     1  \n",
       "7     3     1  \n",
       "4     4     1  \n",
       "6     5     1  \n",
       "8     6     1  \n",
       "10    7     1  \n",
       "3     8     1  \n",
       "1     9     1  \n",
       "9    10     1  \n",
       "41   11     2  \n",
       "14   12     2  \n",
       "43   13     2  \n",
       "49   14     2  \n",
       "35   15     2  \n",
       "42   16     2  \n",
       "45   17     2  \n",
       "44   18     2  \n",
       "29   19     2  \n",
       "22   20     2  \n",
       "24   21     2  \n",
       "47   22     2  \n",
       "27   23     2  \n",
       "40   24     2  \n",
       "37   25     2  \n",
       "23   26     2  \n",
       "46   27     2  \n",
       "16   28     2  \n",
       "21   29     2  \n",
       "25   30     2  \n",
       "...  ...    ...\n",
       "1011  994    8 \n",
       "989   995    8 \n",
       "995   996    8 \n",
       "990   997    8 \n",
       "1006  998    8 \n",
       "974   999    8 \n",
       "987  1000    8 \n",
       "1000 1001    8 \n",
       "975  1002    8 \n",
       "991  1003    8 \n",
       "980  1004    8 \n",
       "994  1005    8 \n",
       "993  1006    8 \n",
       "976  1007    8 \n",
       "1008 1008    8 \n",
       "977  1009    8 \n",
       "1001 1010    8 \n",
       "982  1011    8 \n",
       "978  1012    8 \n",
       "1021 1013    9 \n",
       "1016 1014    9 \n",
       "1013 1015    9 \n",
       "1019 1016    9 \n",
       "1022 1017    9 \n",
       "1014 1018    9 \n",
       "1015 1019    9 \n",
       "1018 1020    9 \n",
       "1020 1021    9 \n",
       "1017 1022    9 \n",
       "1023 1023   10 \n",
       "     predictors                                                       \n",
       "5    microsoft                                                        \n",
       "2    nvidia                                                           \n",
       "7    walmart                                                          \n",
       "4    facebook                                                         \n",
       "6    mcdonalds                                                        \n",
       "8    jpm                                                              \n",
       "10   csco                                                             \n",
       "3    hp                                                               \n",
       "1    tesla                                                            \n",
       "9    ibm                                                              \n",
       "41   microsoft mcdonalds                                              \n",
       "14   tesla microsoft                                                  \n",
       "43   microsoft jpm                                                    \n",
       "49   mcdonalds csco                                                   \n",
       "35   facebook microsoft                                               \n",
       "42   microsoft walmart                                                \n",
       "45   microsoft csco                                                   \n",
       "44   microsoft ibm                                                    \n",
       "29   hp microsoft                                                     \n",
       "22   nvidia microsoft                                                 \n",
       "24   nvidia walmart                                                   \n",
       "47   mcdonalds jpm                                                    \n",
       "27   nvidia csco                                                      \n",
       "40   facebook csco                                                    \n",
       "37   facebook walmart                                                 \n",
       "23   nvidia mcdonalds                                                 \n",
       "46   mcdonalds walmart                                                \n",
       "16   tesla walmart                                                    \n",
       "21   nvidia facebook                                                  \n",
       "25   nvidia jpm                                                       \n",
       "...  ...                                                              \n",
       "1011 nvidia facebook microsoft mcdonalds walmart jpm ibm csco         \n",
       "989  tesla nvidia facebook microsoft mcdonalds walmart jpm ibm        \n",
       "995  tesla nvidia microsoft mcdonalds walmart jpm ibm csco            \n",
       "990  tesla nvidia facebook microsoft mcdonalds walmart jpm csco       \n",
       "1006 nvidia hp facebook microsoft mcdonalds walmart ibm csco          \n",
       "974  tesla nvidia hp facebook microsoft walmart jpm ibm               \n",
       "987  tesla nvidia hp microsoft walmart jpm ibm csco                   \n",
       "1000 tesla hp facebook microsoft walmart jpm ibm csco                 \n",
       "975  tesla nvidia hp facebook microsoft walmart jpm csco              \n",
       "991  tesla nvidia facebook microsoft mcdonalds walmart ibm csco       \n",
       "980  tesla nvidia hp facebook mcdonalds walmart ibm csco              \n",
       "994  tesla nvidia facebook mcdonalds walmart jpm ibm csco             \n",
       "993  tesla nvidia facebook microsoft walmart jpm ibm csco             \n",
       "976  tesla nvidia hp facebook microsoft walmart ibm csco              \n",
       "1008 nvidia hp facebook microsoft walmart jpm ibm csco                \n",
       "977  tesla nvidia hp facebook microsoft jpm ibm csco                  \n",
       "1001 tesla hp facebook mcdonalds walmart jpm ibm csco                 \n",
       "982  tesla nvidia hp facebook walmart jpm ibm csco                    \n",
       "978  tesla nvidia hp facebook mcdonalds walmart jpm ibm               \n",
       "1021 tesla hp facebook microsoft mcdonalds walmart jpm ibm csco       \n",
       "1016 tesla nvidia hp facebook microsoft mcdonalds jpm ibm csco        \n",
       "1013 tesla nvidia hp facebook microsoft mcdonalds walmart jpm ibm     \n",
       "1019 tesla nvidia hp microsoft mcdonalds walmart jpm ibm csco         \n",
       "1022 nvidia hp facebook microsoft mcdonalds walmart jpm ibm csco      \n",
       "1014 tesla nvidia hp facebook microsoft mcdonalds walmart jpm csco    \n",
       "1015 tesla nvidia hp facebook microsoft mcdonalds walmart ibm csco    \n",
       "1018 tesla nvidia hp facebook mcdonalds walmart jpm ibm csco          \n",
       "1020 tesla nvidia facebook microsoft mcdonalds walmart jpm ibm csco   \n",
       "1017 tesla nvidia hp facebook microsoft walmart jpm ibm csco          \n",
       "1023 tesla nvidia hp facebook microsoft mcdonalds walmart jpm ibm csco\n",
       "     rsquare    adjr       predrsq   cp         aic        sbic      sbc       \n",
       "5    0.90339711 0.90308244 0.9021650  358.1120  -1260.2730 -2139.883 -1249.0730\n",
       "2    0.84819367 0.84769918 0.8461348  737.0455  -1120.6060 -2001.314 -1109.4060\n",
       "7    0.84279328 0.84228120 0.8409246  774.1154  -1109.8046 -1990.582 -1098.6046\n",
       "4    0.80561209 0.80497890 0.8034244 1029.3386  -1044.2057 -1925.364 -1033.0057\n",
       "6    0.78752809 0.78683600 0.7854616 1153.4727  -1016.7189 -1898.018 -1005.5189\n",
       "8    0.72526801 0.72437311 0.7216599 1580.8451   -937.3101 -1818.957  -926.1101\n",
       "10   0.63318659 0.63199176 0.6291628 2212.9203   -847.9915 -1729.944  -836.7914\n",
       "3    0.40459443 0.40265499 0.3984413 3782.0475   -698.3151 -1580.626  -687.1151\n",
       "1    0.39600561 0.39403820 0.3897807 3841.0038   -693.8896 -1576.208  -682.6895\n",
       "9    0.09767149 0.09473231 0.0863938 5888.8612   -569.8527 -1452.363  -558.6527\n",
       "41   0.92885138 0.92838636 0.9276328  185.3861  -1352.7769 -2232.155 -1337.8435\n",
       "14   0.92437047 0.92387615 0.9230007  216.1444  -1333.9044 -2213.565 -1318.9711\n",
       "43   0.92016784 0.91964606 0.9185365  244.9926  -1317.1938 -2197.095 -1302.2605\n",
       "49   0.92012114 0.91959905 0.9185556  245.3132  -1317.0131 -2196.917 -1302.0798\n",
       "35   0.91263929 0.91206830 0.9112080  296.6709  -1289.3470 -2169.629 -1274.4136\n",
       "42   0.91200031 0.91142515 0.9103994  301.0570  -1287.0951 -2167.407 -1272.1618\n",
       "45   0.91069875 0.91011508 0.9091066  309.9913  -1282.5583 -2162.930 -1267.6250\n",
       "44   0.90977139 0.90918166 0.9080551  316.3570  -1279.3660 -2159.779 -1264.4327\n",
       "29   0.90797210 0.90737061 0.9063926  328.7079  -1273.2648 -2153.756 -1258.3314\n",
       "22   0.90725256 0.90664637 0.9054112  333.6470  -1270.8582 -2151.380 -1255.9248\n",
       "24   0.89833320 0.89766871 0.8961525  394.8723  -1242.4856 -2123.354 -1227.5522\n",
       "47   0.88804020 0.88730844 0.8855980  465.5266  -1212.6859 -2093.893 -1197.7525\n",
       "27   0.88274665 0.88198029 0.8803842  501.8631  -1198.4110 -2079.771 -1183.4776\n",
       "40   0.87922443 0.87843505 0.8772584  526.0407  -1189.2655 -2070.720 -1174.3322\n",
       "37   0.87139554 0.87055498 0.8691101  579.7807  -1169.8580 -2051.507 -1154.9246\n",
       "23   0.86931218 0.86845801 0.8665863  594.0815  -1164.8924 -2046.589 -1149.9590\n",
       "46   0.86563227 0.86475405 0.8634751  619.3415  -1156.3118 -2038.090 -1141.3785\n",
       "16   0.86540386 0.86452415 0.8633997  620.9094  -1155.7870 -2037.570 -1140.8536\n",
       "21   0.86467528 0.86379081 0.8621520  625.9106  -1154.1189 -2035.918 -1139.1855\n",
       "25   0.86228534 0.86138525 0.8593647  642.3159  -1148.7093 -2030.558 -1133.7760\n",
       "...  ...        ...        ...       ...        ...        ...       ...       \n",
       "1011 0.9444647  0.9429838  0.9401264  90.211247 -1417.332  -2297.718 -1379.999 \n",
       "989  0.9439371  0.9424421  0.9401008  93.833249 -1414.410  -2294.939 -1377.077 \n",
       "995  0.9438764  0.9423798  0.9403332  94.249828 -1414.076  -2294.621 -1376.743 \n",
       "990  0.9429093  0.9413868  0.9384732 100.888402 -1408.797  -2289.597 -1371.463 \n",
       "1006 0.9425556  0.9410238  0.9384160 103.315827 -1406.889  -2287.781 -1369.555 \n",
       "974  0.9414184  0.9398562  0.9378192 111.122077 -1400.831  -2282.011 -1363.498 \n",
       "987  0.9413133  0.9397483  0.9376622 111.843841 -1400.277  -2281.483 -1362.944 \n",
       "1000 0.9409000  0.9393240  0.9373354 114.680310 -1398.109  -2279.416 -1360.776 \n",
       "975  0.9401643  0.9385687  0.9364649 119.730400 -1394.286  -2275.771 -1356.953 \n",
       "991  0.9395360  0.9379236  0.9353055 124.043579 -1391.058  -2272.692 -1353.725 \n",
       "980  0.9381333  0.9364835  0.9339475 133.672095 -1383.972  -2265.927 -1346.638 \n",
       "994  0.9377149  0.9360540  0.9330946 136.543883 -1381.889  -2263.938 -1344.556 \n",
       "993  0.9364967  0.9348033  0.9325494 144.905955 -1375.904  -2258.218 -1338.571 \n",
       "976  0.9346779  0.9329360  0.9306608 157.390713 -1367.178  -2249.871 -1329.845 \n",
       "1008 0.9343385  0.9325875  0.9301422 159.720659 -1365.577  -2248.338 -1328.243 \n",
       "977  0.9327109  0.9309165  0.9285098 170.893243 -1358.011  -2241.092 -1320.677 \n",
       "1001 0.9323442  0.9305400  0.9279999 173.410359 -1356.331  -2239.483 -1318.998 \n",
       "982  0.9312106  0.9293763  0.9268222 181.191395 -1351.197  -2234.561 -1313.864 \n",
       "978  0.9272882  0.9253492  0.9228676 208.116208 -1334.061  -2218.112 -1296.728 \n",
       "1021 0.9564952  0.9551857  0.9529139   9.630143 -1490.774  -2366.986 -1449.707 \n",
       "1016 0.9563821  0.9550692  0.9527757  10.406376 -1489.972  -2366.237 -1448.905 \n",
       "1013 0.9559808  0.9546558  0.9525973  13.161307 -1487.142  -2363.594 -1446.075 \n",
       "1019 0.9555670  0.9542295  0.9524498  16.001830 -1484.251  -2360.893 -1443.184 \n",
       "1022 0.9552300  0.9538824  0.9513829  18.315033 -1481.916  -2358.710 -1440.849 \n",
       "1014 0.9539994  0.9526148  0.9501005  26.762145 -1473.537  -2350.870 -1432.470 \n",
       "1015 0.9480672  0.9465040  0.9440833  67.482582 -1436.057  -2315.660 -1394.990 \n",
       "1018 0.9466029  0.9449956  0.9423079  77.534127 -1427.464  -2307.557 -1386.398 \n",
       "1020 0.9459940  0.9443684  0.9415284  81.713860 -1423.961  -2304.250 -1382.894 \n",
       "1017 0.9414185  0.9396552  0.9373768 113.121575 -1398.832  -2280.474 -1357.765 \n",
       "1023 0.9565870  0.9551302  0.9526733  11.000000 -1489.427  -2365.521 -1444.627 \n",
       "     msep         fpe          apc        hsp         \n",
       "5    0.0009850079 0.0009849665 0.09786156 3.198145e-06\n",
       "2    0.0015478878 0.0015478228 0.15378427 5.025715e-06\n",
       "7    0.0016029527 0.0016028853 0.15925502 5.204501e-06\n",
       "4    0.0019820694 0.0019819861 0.19692065 6.435425e-06\n",
       "6    0.0021664622 0.0021663711 0.21524027 7.034116e-06\n",
       "8    0.0028012949 0.0028011772 0.27831156 9.095305e-06\n",
       "10   0.0037401998 0.0037400426 0.37159273 1.214376e-05\n",
       "3    0.0060710316 0.0060707764 0.60316330 1.971156e-05\n",
       "1    0.0061586072 0.0061583483 0.61186403 1.999590e-05\n",
       "9    0.0092005603 0.0092001736 0.91408524 2.987258e-05\n",
       "41   0.0007302215 0.0007301448 0.07254369 2.370899e-06\n",
       "14   0.0007762106 0.0007761290 0.07711247 2.520217e-06\n",
       "43   0.0008193436 0.0008192575 0.08139750 2.660262e-06\n",
       "49   0.0008198228 0.0008197367 0.08144512 2.661818e-06\n",
       "35   0.0008966115 0.0008965173 0.08907367 2.911138e-06\n",
       "42   0.0009031695 0.0009030746 0.08972517 2.932430e-06\n",
       "45   0.0009165279 0.0009164316 0.09105226 2.975802e-06\n",
       "44   0.0009260457 0.0009259484 0.09199780 3.006705e-06\n",
       "29   0.0009445123 0.0009444131 0.09383236 3.066663e-06\n",
       "22   0.0009518972 0.0009517972 0.09456602 3.090640e-06\n",
       "24   0.0010434395 0.0010433299 0.10366027 3.387862e-06\n",
       "47   0.0011490799 0.0011489592 0.11415509 3.730857e-06\n",
       "27   0.0012034094 0.0012032829 0.11955243 3.907255e-06\n",
       "40   0.0012395590 0.0012394288 0.12314371 4.024627e-06\n",
       "37   0.0013199096 0.0013197709 0.13112612 4.285511e-06\n",
       "23   0.0013412917 0.0013411508 0.13325033 4.354935e-06\n",
       "46   0.0013790598 0.0013789149 0.13700239 4.477561e-06\n",
       "16   0.0013814041 0.0013812589 0.13723528 4.485172e-06\n",
       "21   0.0013888817 0.0013887358 0.13797814 4.509451e-06\n",
       "25   0.0014134104 0.0014132619 0.14041494 4.589091e-06\n",
       "...  ...          ...          ...        ...         \n",
       "1011 0.0005930426 0.0005924942 0.05886739 1.925503e-06\n",
       "989  0.0005986773 0.0005981237 0.05942671 1.943798e-06\n",
       "995  0.0005993253 0.0005987711 0.05949104 1.945902e-06\n",
       "990  0.0006096528 0.0006090891 0.06051618 1.979434e-06\n",
       "1006 0.0006134291 0.0006128619 0.06089103 1.991695e-06\n",
       "974  0.0006255731 0.0006249947 0.06209648 2.031124e-06\n",
       "987  0.0006266960 0.0006261165 0.06220794 2.034770e-06\n",
       "1000 0.0006311086 0.0006305250 0.06264595 2.049097e-06\n",
       "975  0.0006389649 0.0006383741 0.06342580 2.074605e-06\n",
       "991  0.0006456748 0.0006450778 0.06409185 2.096391e-06\n",
       "980  0.0006606537 0.0006600429 0.06557870 2.145025e-06\n",
       "994  0.0006651213 0.0006645063 0.06602217 2.159530e-06\n",
       "993  0.0006781300 0.0006775030 0.06731346 2.201767e-06\n",
       "976  0.0006975523 0.0006969073 0.06924138 2.264828e-06\n",
       "1008 0.0007011770 0.0007005286 0.06960117 2.276596e-06\n",
       "977  0.0007185579 0.0007178935 0.07132646 2.333029e-06\n",
       "1001 0.0007224737 0.0007218057 0.07171516 2.345743e-06\n",
       "982  0.0007345785 0.0007338993 0.07291672 2.385045e-06\n",
       "978  0.0007764649 0.0007757470 0.07707451 2.521043e-06\n",
       "1021 0.0004676908 0.0004671600 0.04641479 1.518508e-06\n",
       "1016 0.0004689064 0.0004683743 0.04653543 1.522456e-06\n",
       "1013 0.0004732210 0.0004726840 0.04696362 1.536464e-06\n",
       "1019 0.0004776696 0.0004771275 0.04740511 1.550908e-06\n",
       "1022 0.0004812924 0.0004807462 0.04776464 1.562670e-06\n",
       "1014 0.0004945216 0.0004939604 0.04907754 1.605623e-06\n",
       "1015 0.0005582947 0.0005576611 0.05540654 1.812683e-06\n",
       "1018 0.0005740366 0.0005733852 0.05696881 1.863794e-06\n",
       "1020 0.0005805826 0.0005799237 0.05761845 1.885048e-06\n",
       "1017 0.0006297708 0.0006290562 0.06250001 2.044753e-06\n",
       "1023 0.0004698467 0.0004692049 0.04661795 1.525508e-06"
      ]
     },
     "metadata": {},
     "output_type": "display_data"
    }
   ],
   "source": [
    "# Compute all possible models\n",
    "all_possible_first_order_models = new.env()\n",
    "all_possible_first_order_models.google = olsrr::ols_step_all_possible(lm(google ~ (tesla + nvidia + hp + facebook + microsoft + mcdonalds + walmart + jpm + ibm + csco), data = log_price))\n",
    "\n",
    "all_possible_first_order_models.google"
   ]
  },
  {
   "cell_type": "code",
   "execution_count": 69,
   "metadata": {},
   "outputs": [
    {
     "data": {
      "text/html": [
       "1013"
      ],
      "text/latex": [
       "1013"
      ],
      "text/markdown": [
       "1013"
      ],
      "text/plain": [
       "[1] 1013"
      ]
     },
     "metadata": {},
     "output_type": "display_data"
    },
    {
     "data": {
      "text/html": [
       "968"
      ],
      "text/latex": [
       "968"
      ],
      "text/markdown": [
       "968"
      ],
      "text/plain": [
       "[1] 968"
      ]
     },
     "metadata": {},
     "output_type": "display_data"
    },
    {
     "data": {
      "text/html": [
       "968"
      ],
      "text/latex": [
       "968"
      ],
      "text/markdown": [
       "968"
      ],
      "text/plain": [
       "[1] 968"
      ]
     },
     "metadata": {},
     "output_type": "display_data"
    }
   ],
   "source": [
    "# select model with max adjusted r^2, lowest aic, and lowest bic\n",
    "which.max(all_possible_first_order_models.google$adjr)\n",
    "which.min(all_possible_first_order_models.google$aic)\n",
    "which.min(all_possible_first_order_models.google$sbic)"
   ]
  },
  {
   "cell_type": "code",
   "execution_count": 75,
   "metadata": {},
   "outputs": [
    {
     "data": {
      "text/html": [
       "<table>\n",
       "<thead><tr><th></th><th scope=col>mindex</th><th scope=col>n</th><th scope=col>predictors</th><th scope=col>rsquare</th><th scope=col>adjr</th><th scope=col>predrsq</th><th scope=col>cp</th><th scope=col>aic</th><th scope=col>sbic</th><th scope=col>sbc</th><th scope=col>msep</th><th scope=col>fpe</th><th scope=col>apc</th><th scope=col>hsp</th></tr></thead>\n",
       "<tbody>\n",
       "\t<tr><th scope=row>999</th><td>968                                               </td><td>8                                                 </td><td>tesla hp facebook microsoft mcdonalds jpm ibm csco</td><td>0.9563375                                         </td><td>0.9551732                                         </td><td>0.9530919                                         </td><td>8.712778                                          </td><td>-1491.656                                         </td><td>-2368.004                                         </td><td>-1454.323                                         </td><td>0.0004662571                                      </td><td>0.0004658259                                      </td><td>0.04628224                                        </td><td>1.513853e-06                                      </td></tr>\n",
       "</tbody>\n",
       "</table>\n"
      ],
      "text/latex": [
       "\\begin{tabular}{r|llllllllllllll}\n",
       "  & mindex & n & predictors & rsquare & adjr & predrsq & cp & aic & sbic & sbc & msep & fpe & apc & hsp\\\\\n",
       "\\hline\n",
       "\t999 & 968                                                & 8                                                  & tesla hp facebook microsoft mcdonalds jpm ibm csco & 0.9563375                                          & 0.9551732                                          & 0.9530919                                          & 8.712778                                           & -1491.656                                          & -2368.004                                          & -1454.323                                          & 0.0004662571                                       & 0.0004658259                                       & 0.04628224                                         & 1.513853e-06                                      \\\\\n",
       "\\end{tabular}\n"
      ],
      "text/markdown": [
       "\n",
       "| <!--/--> | mindex | n | predictors | rsquare | adjr | predrsq | cp | aic | sbic | sbc | msep | fpe | apc | hsp | \n",
       "|---|\n",
       "| 999 | 968                                                | 8                                                  | tesla hp facebook microsoft mcdonalds jpm ibm csco | 0.9563375                                          | 0.9551732                                          | 0.9530919                                          | 8.712778                                           | -1491.656                                          | -2368.004                                          | -1454.323                                          | 0.0004662571                                       | 0.0004658259                                       | 0.04628224                                         | 1.513853e-06                                       | \n",
       "\n",
       "\n"
      ],
      "text/plain": [
       "    mindex n predictors                                         rsquare  \n",
       "999 968    8 tesla hp facebook microsoft mcdonalds jpm ibm csco 0.9563375\n",
       "    adjr      predrsq   cp       aic       sbic      sbc       msep        \n",
       "999 0.9551732 0.9530919 8.712778 -1491.656 -2368.004 -1454.323 0.0004662571\n",
       "    fpe          apc        hsp         \n",
       "999 0.0004658259 0.04628224 1.513853e-06"
      ]
     },
     "metadata": {},
     "output_type": "display_data"
    }
   ],
   "source": [
    "all_possible_first_order_models.google[968, ]"
   ]
  },
  {
   "cell_type": "code",
   "execution_count": 76,
   "metadata": {},
   "outputs": [
    {
     "data": {
      "text/plain": [
       "\n",
       "Call:\n",
       "lm(formula = google ~ tesla + hp + facebook + microsoft + mcdonalds + \n",
       "    jpm + ibm + csco, data = log_price)\n",
       "\n",
       "Residuals:\n",
       "      Min        1Q    Median        3Q       Max \n",
       "-0.082966 -0.014459  0.001897  0.015375  0.042206 \n",
       "\n",
       "Coefficients:\n",
       "            Estimate Std. Error t value Pr(>|t|)    \n",
       "(Intercept)  1.54875    0.26827   5.773 1.94e-08 ***\n",
       "tesla        0.05917    0.01890   3.130  0.00192 ** \n",
       "hp           0.13924    0.01622   8.584 5.04e-16 ***\n",
       "facebook    -0.12271    0.04397  -2.791  0.00560 ** \n",
       "microsoft    0.70659    0.05298  13.336  < 2e-16 ***\n",
       "mcdonalds    0.55529    0.04355  12.749  < 2e-16 ***\n",
       "jpm         -0.38365    0.04812  -7.973 3.29e-14 ***\n",
       "ibm          0.16503    0.03589   4.598 6.29e-06 ***\n",
       "csco         0.08430    0.03896   2.163  0.03129 *  \n",
       "---\n",
       "Signif. codes:  0 '***' 0.001 '**' 0.01 '*' 0.05 '.' 0.1 ' ' 1\n",
       "\n",
       "Residual standard error: 0.02128 on 300 degrees of freedom\n",
       "Multiple R-squared:  0.9563,\tAdjusted R-squared:  0.9552 \n",
       "F-statistic: 821.4 on 8 and 300 DF,  p-value: < 2.2e-16\n"
      ]
     },
     "metadata": {},
     "output_type": "display_data"
    }
   ],
   "source": [
    "models = new.env()\n",
    "models.google_optimal = lm(google ~ tesla + hp + facebook + microsoft + mcdonalds + jpm + ibm + csco, data = log_price)\n",
    "summary(models.google_optimal)\n",
    "models.google_optimal.residuals = resid(models.google_optimal)"
   ]
  },
  {
   "cell_type": "code",
   "execution_count": 77,
   "metadata": {},
   "outputs": [
    {
     "data": {
      "text/plain": [
       "\n",
       "\tAugmented Dickey-Fuller Test\n",
       "\n",
       "data:  models.google_optimal.residuals\n",
       "Dickey-Fuller = -3.0908, Lag order = 6, p-value = 0.1165\n",
       "alternative hypothesis: stationary\n"
      ]
     },
     "metadata": {},
     "output_type": "display_data"
    }
   ],
   "source": [
    "tseries::adf.test(models.google_optimal.residuals)"
   ]
  },
  {
   "cell_type": "code",
   "execution_count": 78,
   "metadata": {},
   "outputs": [
    {
     "data": {
      "image/png": "[encoded data removed]",
      "text/plain": [
       "Plot with title \"\""
      ]
     },
     "metadata": {},
     "output_type": "display_data"
    },
    {
     "data": {
      "image/png": "[encoded data removed]",
      "text/plain": [
       "Plot with title \"\""
      ]
     },
     "metadata": {},
     "output_type": "display_data"
    }
   ],
   "source": [
    "plot(models.google_optimal.residuals)\n",
    "plot(diff(models.google_optimal.residuals))"
   ]
  },
  {
   "cell_type": "code",
   "execution_count": 79,
   "metadata": {},
   "outputs": [
    {
     "data": {
      "image/png": "[encoded data removed]",
      "text/plain": [
       "Plot with title \"\""
      ]
     },
     "metadata": {},
     "output_type": "display_data"
    },
    {
     "data": {
      "image/png": "[encoded data removed]",
      "text/plain": [
       "Plot with title \"\""
      ]
     },
     "metadata": {},
     "output_type": "display_data"
    }
   ],
   "source": [
    "layout(matrix(1:2,ncol=2))\n",
    "plot(models.google_optimal, which = 1)\n",
    "plot(models.google_optimal, which = 2)\n",
    "\n",
    "\n",
    "layout(matrix(1:2,ncol=2))\n",
    "plot(models.google_optimal, which = 3)\n",
    "plot(models.google_optimal, which = 4)"
   ]
  },
  {
   "cell_type": "code",
   "execution_count": null,
   "metadata": {
    "collapsed": true
   },
   "outputs": [],
   "source": []
  },
  {
   "cell_type": "code",
   "execution_count": null,
   "metadata": {
    "collapsed": true
   },
   "outputs": [],
   "source": []
  },
  {
   "cell_type": "code",
   "execution_count": null,
   "metadata": {
    "collapsed": true
   },
   "outputs": [],
   "source": []
  },
  {
   "cell_type": "code",
   "execution_count": 17,
   "metadata": {
    "collapsed": true
   },
   "outputs": [],
   "source": [
    "tickers = read.csv(\"WIKI-datasets-codes.csv\", header = FALSE)\n",
    "ticker_ls = c('AXP', 'BA', 'CAT', 'CSCO', 'CVX', 'DD', 'DIS', 'GE', 'GS', 'HD', 'IBM', \n",
    "              'INTC', 'JNJ', 'JPM', 'KO', 'MCD', 'MMM', 'MRK', 'MSFT', 'NKE', 'PFE',\n",
    "              'PG', 'T', 'TRV', 'UNH', 'UTX', 'V', 'VZ', 'WMT', 'XOM'             \n",
    "             )"
   ]
  },
  {
   "cell_type": "code",
   "execution_count": 23,
   "metadata": {},
   "outputs": [
    {
     "name": "stdout",
     "output_type": "stream",
     "text": [
      "[1] \"AXP\"\n",
      "[1] \"BA\"\n",
      "[1] \"CAT\"\n",
      "[1] \"CSCO\"\n",
      "[1] \"CVX\"\n",
      "[1] \"DD\"\n"
     ]
    },
    {
     "ename": "ERROR",
     "evalue": "Error in `[<-.data.frame`(`*tmp*`, ticker, value = structure(c(60.7534784956, : replacement has 420 rows, data has 561\n",
     "output_type": "error",
     "traceback": [
      "Error in `[<-.data.frame`(`*tmp*`, ticker, value = structure(c(60.7534784956, : replacement has 420 rows, data has 561\nTraceback:\n",
      "1. `[<-`(`*tmp*`, ticker, value = structure(c(60.7534784956, 61.919035955243, \n . 61.052092390219, 59.241143609948, 58.923264302773, 57.006355753443, \n . 56.447658789316, 54.704138952991, 55.291734035951, 52.10330825792, \n . 51.26526281173, 50.851056441775, 51.592774825184, 52.729434165993, \n . 51.043710567336, 51.496447762403, 49.569906506795, 50.099705352088, \n . 50.822158322941, 51.342324461955, 54.11654387003, 56.601782089765, \n . 56.929294103218, 56.727007271379, 56.014187006804, 56.910028690662, \n . 56.149044894697, 54.898271834532, 56.624144739256, 57.070156838229, \n . 58.757246082173, 58.146403424883, 58.146403424883, 58.398497219955, \n . 57.041069092644, 57.225291481351, 58.582719608662, 59.639574364925, \n . 59.01903579244, 61.026090237821, 60.26011293741, 60.027410972728, \n . 61.258792202503, 62.74226722735, 61.598149234331, 61.52058191277, \n . 60.269808852605, 61.889026690183, 61.375143184844, 60.919435170675, \n . 61.239400372113, 62.625916245009, 62.887705955276, 62.606524414619, \n . 61.985985842134, 61.811459368623, 62.005377672524, 62.238079637206, \n . 61.704804301477, 62.218687806816, 61.394535015234, 61.966594011744, \n . 61.859938944598, 61.249096287308, 61.569061488746, 60.900043340285, \n . 61.278184032893, 61.297575863283, 62.354430619547, 62.829530464106, \n . 63.197975241519, 63.285238478274, 62.732571312155, 63.682771001273, \n . 62.76165905774, 63.110712004763, 63.96395254193, 63.96395254193, \n . 65.495907142752, 65.418339821192, 64.390572810513, 63.905777050759, \n . 64.060911693881, 62.858618209691, 62.305951043571, 61.733892047062, \n . 62.305951043571, 62.141120485255, 63.013752852812, 62.72287539696, \n . 62.693615775409, 61.357426391273, 62.75213501851, 62.937445954996, \n . 62.410772767088, 62.820407468795, 64.127337231381, 65.346488129316, \n . 66.243783190196, 66.546132612884, 65.307475300582, 65.512292651435, \n . 63.795728187143, 64.761295698307, 66.419340919499, 67.082559007975, \n . 67.053299386425, 67.043546179241, 66.682677513453, 66.224276775829, \n . 65.892667731591, 65.102657949729, 64.224869303216, 64.137090438564, \n . 65.268462471848, 65.668343966371, 65.882914524407, 65.882914524407, \n . 66.390081297948, 67.501946916865, 64.371167410968, 62.49855163174, \n . 61.201375076337, 62.362006731171, 63.20078254895, 62.771641432877, \n . 61.40619242719, 60.323586429824, 60.391858880108, 62.118176551584, \n . 62.654602946675, 64.312648167867, 64.458946275619, 65.209943228747, \n . 65.502539444252, 66.380328090765, 65.824395281306, 66.009706217793, \n . 66.175510739912, 66.741196756554, 67.18009107981, 67.453180880948, \n . 67.414168052214, 67.531206538415, 67.462934088131, 67.638491817434, \n . 67.033792972058, 67.209350701361, 67.15083145826, 67.511700124049, \n . 67.589725781516, 67.102065422342, 67.37515522348, 67.657998231801, \n . 66.353676770019, 67.314755741858, 66.71653311653, 67.29514188529, \n . 68.109116932868, 68.432745566242, 68.599463347071, 69.080002832991, \n . 69.011354335002, 68.883864267309, 68.305255498549, 69.089809761275, \n . 68.883864267309, 68.256220857129, 68.383710924822, 68.736760343048, \n . 68.344483211686, 68.069889219732, 68.334676283402, 67.108810247893, \n . 66.853830112507, 65.794681857827, 65.735840288123, 66.255607487179, \n . 65.951592710372, 66.030048136645, 65.412211654749, 65.706419503271, \n . 65.55931557901, 65.480860152737, 65.235686945635, 65.961399638657, \n . 65.892751140668, 65.088583021374, 65.676998718419, 66.530201479133, \n . 65.588736363862, 66.76556775795, 67.726646729789, 67.03035482162, \n . 67.60896359038, 67.60896359038, 67.452052737835, 66.824409327655, \n . 67.697225944937, 67.334369598426, 68.158151574288, 68.187572359141, \n . 68.118923861152, 68.35429013997, 68.785794984469, 68.275834713697, \n . 67.353983454995, 68.491587135947, 68.109116932868, 67.461859666119, \n . 67.118617176177, 67.040161749904, 67.177458745881, 67.285334957006, \n . 68.167958502572, 67.922785295471, 68.923091980446, 69.952819450273, \n . 68.237274618089, 68.099242275269, 67.675285793753, 67.911912667157, \n . 68.197836805855, 67.872474854923, 69.085187581122, 69.913381638039, \n . 69.331673907586, 70.002116715566, 69.893662731922, 70.199305776736, \n . 72.575433963842, 72.585293416901, 72.102180217033, 71.865553343628, \n . 71.707802094692, 72.782482478071, 73.630395441105, 73.7980061431, \n . 74.034633016505, 73.699411612515, 72.674028494428, 73.837443955334, \n . 73.807865596159, 73.975476298154, 74.2022437185, 74.39943277967, \n . 74.014914110388, 73.876881767568, 73.906460126744, 73.334611849349, \n . 72.772623025013, 72.368385449613, 72.575433963842, 73.12756333512, \n . 72.772623025013, 72.348666543496, 72.683887947486, 72.52613669855, \n . 72.989530992301, 73.068406616769, 72.565574510784, 71.944428968096, \n . 72.417682714906, 71.924710061979, 72.003585686447, 71.757099359984, \n . 74.981140510124, 75.592426599753, 76.893874403479, 76.607950264781, \n . 74.931843244831, 74.438870591904, 75.267064648821, 75.099453946826, \n . 75.355799726348, 75.217767383528, 75.000859416241, 74.892405432597, \n . 75.296643007997, 76.124837064913, 77.100922917708, 77.328797657763, \n . 77.219814086432, 77.071200125527, 76.773972203716, 76.466836684511, \n . 79.062627201659, 78.854567656391, 79.072534799052, 78.497894150218, \n . 77.814269930053, 78.973458825115, 78.993274019903, 78.864475253785, \n . 79.072534799052, 78.656415708517, 79.032904409478, 79.73634382443, \n . 80.11283252539, 80.479413628956, 79.676898240067, 80.737011161192, \n . 79.865142590548, 80.499228823744, 80.746918758586, 79.022996812084, \n . 78.44835616325, 79.815604603579, 78.864475253785, 79.835419798367, \n . 81.083777069972, 81.113499862153, 80.885625122098, 79.587729863524, \n . 78.933828435541, 79.062627201659, 79.726436227036, 79.894865382729, \n . 79.310317136501, 79.260779149532, 78.408725773675, 77.705286358723, \n . 76.724434216747, 77.368428047337, 77.16036850207, 77.051384930739, \n . 77.566579995211, 77.923253501384, 78.63660051373, 81.440450576145, \n . 80.855902329917, 79.38957791565, 79.01308921469, 78.755491682454, \n . 79.20133356517, 78.270019410163, 78.061959864896, 80.390245252413, \n . 79.518376681768, 78.755491682454, 78.44835616325, 78.606877721549, \n . 78.945357184889, 79.104641638225, 78.746251618218, 76.217610921502, \n . 76.695464281511, 77.471975991526, 77.033943744851, 76.994122631517, \n . 78.029471578204, 77.043899023185, 77.501841826527, 77.332602094857, \n . 78.567056608215, 79.68204778157, 80.149945863246, 80.299275038249, \n . 80.69748617159, 80.986189243262, 81.304758149935, 82.529257384959, \n . 81.772656231611, 83.504874661645, 82.449615158291, 81.802522066612, \n . 82.101180416618, 83.186305754972, 82.748273508297, 80.558112274921, \n . 80.976233964929, 80.627799223255, 80.797038954925, 80.329140873249, \n . 80.916502294928, 80.100169471578, 80.349051429916, 81.762700953278, \n . 80.856770624926, 81.225115923267, 81.663148169942, 82.200733199953, \n . 82.200733199953, 84.460581381664, 83.425232434977, 84.370983876662, \n . 84.281386371661, 83.624338001648, 84.968300576674, 84.450626103331, \n . 84.161923031658, 83.972772743321, 85.107674473344, 84.430715546664, \n . 84.59, 83.98, 82.21, 82.66, 82.32, 81.33, 82.01, 81.79, 81.12, \n . 81.33, 80.81, 80.97, 81.15, 81.58, 82.01, 80.86, 81.18, 81.83, \n . 83.01, 82.76, 82.39, 82.66, 82.88, 82.24, 83.19, 83.93), index = structure(c(16804, \n . 16805, 16806, 16807, 16808, 16811, 16812, 16813, 16814, 16815, \n . 16819, 16820, 16821, 16822, 16825, 16826, 16827, 16828, 16829, \n . 16832, 16833, 16834, 16835, 16836, 16839, 16840, 16841, 16842, \n . 16843, 16847, 16848, 16849, 16850, 16853, 16854, 16855, 16856, \n . 16857, 16860, 16861, 16862, 16863, 16864, 16867, 16868, 16869, \n . 16870, 16871, 16874, 16875, 16876, 16877, 16878, 16881, 16882, \n . 16883, 16884, 16888, 16889, 16890, 16891, 16892, 16895, 16896, \n . 16897, 16898, 16899, 16902, 16903, 16904, 16905, 16906, 16909, \n . 16910, 16911, 16912, 16913, 16916, 16917, 16918, 16919, 16920, \n . 16923, 16924, 16925, 16926, 16927, 16930, 16931, 16932, 16933, \n . 16934, 16937, 16938, 16939, 16940, 16941, 16944, 16945, 16946, \n . 16947, 16948, 16952, 16953, 16954, 16955, 16958, 16959, 16960, \n . 16961, 16962, 16965, 16966, 16967, 16968, 16969, 16972, 16973, \n . 16974, 16975, 16976, 16979, 16980, 16981, 16982, 16983, 16987, \n . 16988, 16989, 16990, 16993, 16994, 16995, 16996, 16997, 17000, \n . 17001, 17002, 17003, 17004, 17007, 17008, 17009, 17010, 17011, \n . 17014, 17015, 17016, 17017, 17018, 17021, 17022, 17023, 17024, \n . 17025, 17028, 17029, 17030, 17031, 17032, 17035, 17036, 17037, \n . 17038, 17039, 17042, 17043, 17044, 17045, 17046, 17050, 17051, \n . 17052, 17053, 17056, 17057, 17058, 17059, 17060, 17063, 17064, \n . 17065, 17066, 17067, 17070, 17071, 17072, 17073, 17074, 17077, \n . 17078, 17079, 17080, 17081, 17084, 17085, 17086, 17087, 17088, \n . 17091, 17092, 17093, 17094, 17095, 17098, 17099, 17100, 17101, \n . 17102, 17105, 17106, 17107, 17108, 17109, 17112, 17113, 17114, \n . 17115, 17116, 17119, 17120, 17121, 17122, 17123, 17126, 17127, \n . 17128, 17130, 17133, 17134, 17135, 17136, 17137, 17140, 17141, \n . 17142, 17143, 17144, 17147, 17148, 17149, 17150, 17151, 17154, \n . 17155, 17156, 17157, 17158, 17162, 17163, 17164, 17165, 17169, \n . 17170, 17171, 17172, 17175, 17176, 17177, 17178, 17179, 17183, \n . 17184, 17185, 17186, 17189, 17190, 17191, 17192, 17193, 17196, \n . 17197, 17198, 17199, 17200, 17203, 17204, 17205, 17206, 17207, \n . 17210, 17211, 17212, 17213, 17214, 17218, 17219, 17220, 17221, \n . 17224, 17225, 17226, 17227, 17228, 17231, 17232, 17233, 17234, \n . 17235, 17238, 17239, 17240, 17241, 17242, 17245, 17246, 17247, \n . 17248, 17249, 17252, 17253, 17254, 17255, 17256, 17259, 17260, \n . 17261, 17262, 17263, 17266, 17267, 17268, 17269, 17273, 17274, \n . 17275, 17276, 17277, 17280, 17281, 17282, 17283, 17284, 17287, \n . 17288, 17289, 17290, 17291, 17294, 17295, 17296, 17297, 17298, \n . 17301, 17302, 17303, 17304, 17305, 17308, 17309, 17310, 17311, \n . 17312, 17316, 17317, 17318, 17319, 17322, 17323, 17324, 17325, \n . 17326, 17329, 17330, 17331, 17332, 17333, 17336, 17337, 17338, \n . 17339, 17340, 17343, 17344, 17345, 17346, 17347, 17350, 17352, \n . 17353, 17354, 17357, 17358, 17359, 17360, 17361, 17364, 17365, \n . 17366, 17367, 17368, 17371, 17372, 17373, 17374, 17375, 17378, \n . 17379, 17380, 17381, 17382, 17385, 17386, 17387, 17388, 17389, \n . 17392, 17393, 17394, 17395, 17396, 17399, 17400, 17401, 17402, \n . 17403, 17406, 17407, 17408, 17409), class = \"Date\"), class = \"zoo\"))",
      "2. `[<-.data.frame`(`*tmp*`, ticker, value = structure(c(60.7534784956, \n . 61.919035955243, 61.052092390219, 59.241143609948, 58.923264302773, \n . 57.006355753443, 56.447658789316, 54.704138952991, 55.291734035951, \n . 52.10330825792, 51.26526281173, 50.851056441775, 51.592774825184, \n . 52.729434165993, 51.043710567336, 51.496447762403, 49.569906506795, \n . 50.099705352088, 50.822158322941, 51.342324461955, 54.11654387003, \n . 56.601782089765, 56.929294103218, 56.727007271379, 56.014187006804, \n . 56.910028690662, 56.149044894697, 54.898271834532, 56.624144739256, \n . 57.070156838229, 58.757246082173, 58.146403424883, 58.146403424883, \n . 58.398497219955, 57.041069092644, 57.225291481351, 58.582719608662, \n . 59.639574364925, 59.01903579244, 61.026090237821, 60.26011293741, \n . 60.027410972728, 61.258792202503, 62.74226722735, 61.598149234331, \n . 61.52058191277, 60.269808852605, 61.889026690183, 61.375143184844, \n . 60.919435170675, 61.239400372113, 62.625916245009, 62.887705955276, \n . 62.606524414619, 61.985985842134, 61.811459368623, 62.005377672524, \n . 62.238079637206, 61.704804301477, 62.218687806816, 61.394535015234, \n . 61.966594011744, 61.859938944598, 61.249096287308, 61.569061488746, \n . 60.900043340285, 61.278184032893, 61.297575863283, 62.354430619547, \n . 62.829530464106, 63.197975241519, 63.285238478274, 62.732571312155, \n . 63.682771001273, 62.76165905774, 63.110712004763, 63.96395254193, \n . 63.96395254193, 65.495907142752, 65.418339821192, 64.390572810513, \n . 63.905777050759, 64.060911693881, 62.858618209691, 62.305951043571, \n . 61.733892047062, 62.305951043571, 62.141120485255, 63.013752852812, \n . 62.72287539696, 62.693615775409, 61.357426391273, 62.75213501851, \n . 62.937445954996, 62.410772767088, 62.820407468795, 64.127337231381, \n . 65.346488129316, 66.243783190196, 66.546132612884, 65.307475300582, \n . 65.512292651435, 63.795728187143, 64.761295698307, 66.419340919499, \n . 67.082559007975, 67.053299386425, 67.043546179241, 66.682677513453, \n . 66.224276775829, 65.892667731591, 65.102657949729, 64.224869303216, \n . 64.137090438564, 65.268462471848, 65.668343966371, 65.882914524407, \n . 65.882914524407, 66.390081297948, 67.501946916865, 64.371167410968, \n . 62.49855163174, 61.201375076337, 62.362006731171, 63.20078254895, \n . 62.771641432877, 61.40619242719, 60.323586429824, 60.391858880108, \n . 62.118176551584, 62.654602946675, 64.312648167867, 64.458946275619, \n . 65.209943228747, 65.502539444252, 66.380328090765, 65.824395281306, \n . 66.009706217793, 66.175510739912, 66.741196756554, 67.18009107981, \n . 67.453180880948, 67.414168052214, 67.531206538415, 67.462934088131, \n . 67.638491817434, 67.033792972058, 67.209350701361, 67.15083145826, \n . 67.511700124049, 67.589725781516, 67.102065422342, 67.37515522348, \n . 67.657998231801, 66.353676770019, 67.314755741858, 66.71653311653, \n . 67.29514188529, 68.109116932868, 68.432745566242, 68.599463347071, \n . 69.080002832991, 69.011354335002, 68.883864267309, 68.305255498549, \n . 69.089809761275, 68.883864267309, 68.256220857129, 68.383710924822, \n . 68.736760343048, 68.344483211686, 68.069889219732, 68.334676283402, \n . 67.108810247893, 66.853830112507, 65.794681857827, 65.735840288123, \n . 66.255607487179, 65.951592710372, 66.030048136645, 65.412211654749, \n . 65.706419503271, 65.55931557901, 65.480860152737, 65.235686945635, \n . 65.961399638657, 65.892751140668, 65.088583021374, 65.676998718419, \n . 66.530201479133, 65.588736363862, 66.76556775795, 67.726646729789, \n . 67.03035482162, 67.60896359038, 67.60896359038, 67.452052737835, \n . 66.824409327655, 67.697225944937, 67.334369598426, 68.158151574288, \n . 68.187572359141, 68.118923861152, 68.35429013997, 68.785794984469, \n . 68.275834713697, 67.353983454995, 68.491587135947, 68.109116932868, \n . 67.461859666119, 67.118617176177, 67.040161749904, 67.177458745881, \n . 67.285334957006, 68.167958502572, 67.922785295471, 68.923091980446, \n . 69.952819450273, 68.237274618089, 68.099242275269, 67.675285793753, \n . 67.911912667157, 68.197836805855, 67.872474854923, 69.085187581122, \n . 69.913381638039, 69.331673907586, 70.002116715566, 69.893662731922, \n . 70.199305776736, 72.575433963842, 72.585293416901, 72.102180217033, \n . 71.865553343628, 71.707802094692, 72.782482478071, 73.630395441105, \n . 73.7980061431, 74.034633016505, 73.699411612515, 72.674028494428, \n . 73.837443955334, 73.807865596159, 73.975476298154, 74.2022437185, \n . 74.39943277967, 74.014914110388, 73.876881767568, 73.906460126744, \n . 73.334611849349, 72.772623025013, 72.368385449613, 72.575433963842, \n . 73.12756333512, 72.772623025013, 72.348666543496, 72.683887947486, \n . 72.52613669855, 72.989530992301, 73.068406616769, 72.565574510784, \n . 71.944428968096, 72.417682714906, 71.924710061979, 72.003585686447, \n . 71.757099359984, 74.981140510124, 75.592426599753, 76.893874403479, \n . 76.607950264781, 74.931843244831, 74.438870591904, 75.267064648821, \n . 75.099453946826, 75.355799726348, 75.217767383528, 75.000859416241, \n . 74.892405432597, 75.296643007997, 76.124837064913, 77.100922917708, \n . 77.328797657763, 77.219814086432, 77.071200125527, 76.773972203716, \n . 76.466836684511, 79.062627201659, 78.854567656391, 79.072534799052, \n . 78.497894150218, 77.814269930053, 78.973458825115, 78.993274019903, \n . 78.864475253785, 79.072534799052, 78.656415708517, 79.032904409478, \n . 79.73634382443, 80.11283252539, 80.479413628956, 79.676898240067, \n . 80.737011161192, 79.865142590548, 80.499228823744, 80.746918758586, \n . 79.022996812084, 78.44835616325, 79.815604603579, 78.864475253785, \n . 79.835419798367, 81.083777069972, 81.113499862153, 80.885625122098, \n . 79.587729863524, 78.933828435541, 79.062627201659, 79.726436227036, \n . 79.894865382729, 79.310317136501, 79.260779149532, 78.408725773675, \n . 77.705286358723, 76.724434216747, 77.368428047337, 77.16036850207, \n . 77.051384930739, 77.566579995211, 77.923253501384, 78.63660051373, \n . 81.440450576145, 80.855902329917, 79.38957791565, 79.01308921469, \n . 78.755491682454, 79.20133356517, 78.270019410163, 78.061959864896, \n . 80.390245252413, 79.518376681768, 78.755491682454, 78.44835616325, \n . 78.606877721549, 78.945357184889, 79.104641638225, 78.746251618218, \n . 76.217610921502, 76.695464281511, 77.471975991526, 77.033943744851, \n . 76.994122631517, 78.029471578204, 77.043899023185, 77.501841826527, \n . 77.332602094857, 78.567056608215, 79.68204778157, 80.149945863246, \n . 80.299275038249, 80.69748617159, 80.986189243262, 81.304758149935, \n . 82.529257384959, 81.772656231611, 83.504874661645, 82.449615158291, \n . 81.802522066612, 82.101180416618, 83.186305754972, 82.748273508297, \n . 80.558112274921, 80.976233964929, 80.627799223255, 80.797038954925, \n . 80.329140873249, 80.916502294928, 80.100169471578, 80.349051429916, \n . 81.762700953278, 80.856770624926, 81.225115923267, 81.663148169942, \n . 82.200733199953, 82.200733199953, 84.460581381664, 83.425232434977, \n . 84.370983876662, 84.281386371661, 83.624338001648, 84.968300576674, \n . 84.450626103331, 84.161923031658, 83.972772743321, 85.107674473344, \n . 84.430715546664, 84.59, 83.98, 82.21, 82.66, 82.32, 81.33, 82.01, \n . 81.79, 81.12, 81.33, 80.81, 80.97, 81.15, 81.58, 82.01, 80.86, \n . 81.18, 81.83, 83.01, 82.76, 82.39, 82.66, 82.88, 82.24, 83.19, \n . 83.93), index = structure(c(16804, 16805, 16806, 16807, 16808, \n . 16811, 16812, 16813, 16814, 16815, 16819, 16820, 16821, 16822, \n . 16825, 16826, 16827, 16828, 16829, 16832, 16833, 16834, 16835, \n . 16836, 16839, 16840, 16841, 16842, 16843, 16847, 16848, 16849, \n . 16850, 16853, 16854, 16855, 16856, 16857, 16860, 16861, 16862, \n . 16863, 16864, 16867, 16868, 16869, 16870, 16871, 16874, 16875, \n . 16876, 16877, 16878, 16881, 16882, 16883, 16884, 16888, 16889, \n . 16890, 16891, 16892, 16895, 16896, 16897, 16898, 16899, 16902, \n . 16903, 16904, 16905, 16906, 16909, 16910, 16911, 16912, 16913, \n . 16916, 16917, 16918, 16919, 16920, 16923, 16924, 16925, 16926, \n . 16927, 16930, 16931, 16932, 16933, 16934, 16937, 16938, 16939, \n . 16940, 16941, 16944, 16945, 16946, 16947, 16948, 16952, 16953, \n . 16954, 16955, 16958, 16959, 16960, 16961, 16962, 16965, 16966, \n . 16967, 16968, 16969, 16972, 16973, 16974, 16975, 16976, 16979, \n . 16980, 16981, 16982, 16983, 16987, 16988, 16989, 16990, 16993, \n . 16994, 16995, 16996, 16997, 17000, 17001, 17002, 17003, 17004, \n . 17007, 17008, 17009, 17010, 17011, 17014, 17015, 17016, 17017, \n . 17018, 17021, 17022, 17023, 17024, 17025, 17028, 17029, 17030, \n . 17031, 17032, 17035, 17036, 17037, 17038, 17039, 17042, 17043, \n . 17044, 17045, 17046, 17050, 17051, 17052, 17053, 17056, 17057, \n . 17058, 17059, 17060, 17063, 17064, 17065, 17066, 17067, 17070, \n . 17071, 17072, 17073, 17074, 17077, 17078, 17079, 17080, 17081, \n . 17084, 17085, 17086, 17087, 17088, 17091, 17092, 17093, 17094, \n . 17095, 17098, 17099, 17100, 17101, 17102, 17105, 17106, 17107, \n . 17108, 17109, 17112, 17113, 17114, 17115, 17116, 17119, 17120, \n . 17121, 17122, 17123, 17126, 17127, 17128, 17130, 17133, 17134, \n . 17135, 17136, 17137, 17140, 17141, 17142, 17143, 17144, 17147, \n . 17148, 17149, 17150, 17151, 17154, 17155, 17156, 17157, 17158, \n . 17162, 17163, 17164, 17165, 17169, 17170, 17171, 17172, 17175, \n . 17176, 17177, 17178, 17179, 17183, 17184, 17185, 17186, 17189, \n . 17190, 17191, 17192, 17193, 17196, 17197, 17198, 17199, 17200, \n . 17203, 17204, 17205, 17206, 17207, 17210, 17211, 17212, 17213, \n . 17214, 17218, 17219, 17220, 17221, 17224, 17225, 17226, 17227, \n . 17228, 17231, 17232, 17233, 17234, 17235, 17238, 17239, 17240, \n . 17241, 17242, 17245, 17246, 17247, 17248, 17249, 17252, 17253, \n . 17254, 17255, 17256, 17259, 17260, 17261, 17262, 17263, 17266, \n . 17267, 17268, 17269, 17273, 17274, 17275, 17276, 17277, 17280, \n . 17281, 17282, 17283, 17284, 17287, 17288, 17289, 17290, 17291, \n . 17294, 17295, 17296, 17297, 17298, 17301, 17302, 17303, 17304, \n . 17305, 17308, 17309, 17310, 17311, 17312, 17316, 17317, 17318, \n . 17319, 17322, 17323, 17324, 17325, 17326, 17329, 17330, 17331, \n . 17332, 17333, 17336, 17337, 17338, 17339, 17340, 17343, 17344, \n . 17345, 17346, 17347, 17350, 17352, 17353, 17354, 17357, 17358, \n . 17359, 17360, 17361, 17364, 17365, 17366, 17367, 17368, 17371, \n . 17372, 17373, 17374, 17375, 17378, 17379, 17380, 17381, 17382, \n . 17385, 17386, 17387, 17388, 17389, 17392, 17393, 17394, 17395, \n . 17396, 17399, 17400, 17401, 17402, 17403, 17406, 17407, 17408, \n . 17409), class = \"Date\"), class = \"zoo\"))",
      "3. stop(sprintf(ngettext(N, \"replacement has %d row, data has %d\", \n .     \"replacement has %d rows, data has %d\"), N, nrows), domain = NA)"
     ]
    }
   ],
   "source": [
    "# N = length(tickers$V1)\n",
    "# price = data.frame(matrix(ncol = 1, nrow = 561))\n",
    "\n",
    "# for (i in 1:N) {\n",
    "#     string = toString(ticker_ls[i])\n",
    "#     print(string)\n",
    "# #     ticker = substr(string, 6, nchar(string))\n",
    "#     ticker = string\n",
    "#     price[ticker] = quandl_get(ticker, '2016-01-01')[,4]\n",
    "# }"
   ]
  },
  {
   "cell_type": "code",
   "execution_count": 54,
   "metadata": {},
   "outputs": [
    {
     "data": {
      "text/html": [
       "'ABC'"
      ],
      "text/latex": [
       "'ABC'"
      ],
      "text/markdown": [
       "'ABC'"
      ],
      "text/plain": [
       "[1] \"ABC\""
      ]
     },
     "metadata": {},
     "output_type": "display_data"
    }
   ],
   "source": [
    "substr(\"WIKI/ABC\", 6, nchar(\"WIKI/ABC\"))"
   ]
  },
  {
   "cell_type": "code",
   "execution_count": 64,
   "metadata": {},
   "outputs": [
    {
     "data": {
      "text/html": [
       "<ol class=list-inline>\n",
       "\t<li>'WIKI.GOOGL - Adj. Open'</li>\n",
       "\t<li>'WIKI.GOOGL - Adj. High'</li>\n",
       "\t<li>'WIKI.GOOGL - Adj. Low'</li>\n",
       "\t<li>'WIKI.GOOGL - Adj. Close'</li>\n",
       "\t<li>'WIKI.GOOGL - Adj. Volume'</li>\n",
       "</ol>\n"
      ],
      "text/latex": [
       "\\begin{enumerate*}\n",
       "\\item 'WIKI.GOOGL - Adj. Open'\n",
       "\\item 'WIKI.GOOGL - Adj. High'\n",
       "\\item 'WIKI.GOOGL - Adj. Low'\n",
       "\\item 'WIKI.GOOGL - Adj. Close'\n",
       "\\item 'WIKI.GOOGL - Adj. Volume'\n",
       "\\end{enumerate*}\n"
      ],
      "text/markdown": [
       "1. 'WIKI.GOOGL - Adj. Open'\n",
       "2. 'WIKI.GOOGL - Adj. High'\n",
       "3. 'WIKI.GOOGL - Adj. Low'\n",
       "4. 'WIKI.GOOGL - Adj. Close'\n",
       "5. 'WIKI.GOOGL - Adj. Volume'\n",
       "\n",
       "\n"
      ],
      "text/plain": [
       "[1] \"WIKI.GOOGL - Adj. Open\"   \"WIKI.GOOGL - Adj. High\"  \n",
       "[3] \"WIKI.GOOGL - Adj. Low\"    \"WIKI.GOOGL - Adj. Close\" \n",
       "[5] \"WIKI.GOOGL - Adj. Volume\""
      ]
     },
     "metadata": {},
     "output_type": "display_data"
    }
   ],
   "source": [
    "names(data.google)"
   ]
  },
  {
   "cell_type": "code",
   "execution_count": 80,
   "metadata": {},
   "outputs": [
    {
     "data": {
      "text/html": [
       "'WIKI/AAPL'"
      ],
      "text/latex": [
       "'WIKI/AAPL'"
      ],
      "text/markdown": [
       "'WIKI/AAPL'"
      ],
      "text/plain": [
       "[1] \"WIKI/AAPL\""
      ]
     },
     "metadata": {},
     "output_type": "display_data"
    }
   ],
   "source": [
    "toString(tickers[1, 1])"
   ]
  },
  {
   "cell_type": "code",
   "execution_count": 14,
   "metadata": {},
   "outputs": [
    {
     "data": {
      "text/html": [
       "'AXP'"
      ],
      "text/latex": [
       "'AXP'"
      ],
      "text/markdown": [
       "'AXP'"
      ],
      "text/plain": [
       "[1] \"AXP\""
      ]
     },
     "metadata": {},
     "output_type": "display_data"
    }
   ],
   "source": [
    "ticker_ls[1]"
   ]
  },
  {
   "cell_type": "code",
   "execution_count": null,
   "metadata": {
    "collapsed": true
   },
   "outputs": [],
   "source": []
  },
  {
   "cell_type": "code",
   "execution_count": null,
   "metadata": {
    "collapsed": true
   },
   "outputs": [],
   "source": []
  },
  {
   "cell_type": "code",
   "execution_count": null,
   "metadata": {
    "collapsed": true
   },
   "outputs": [],
   "source": []
  },
  {
   "cell_type": "code",
   "execution_count": null,
   "metadata": {
    "collapsed": true
   },
   "outputs": [],
   "source": []
  },
  {
   "cell_type": "code",
   "execution_count": null,
   "metadata": {
    "collapsed": true
   },
   "outputs": [],
   "source": []
  },
  {
   "cell_type": "code",
   "execution_count": 15,
   "metadata": {},
   "outputs": [
    {
     "data": {
      "text/html": [
       "<table>\n",
       "<thead><tr><th scope=col>ticker</th><th scope=col>date</th><th scope=col>open</th><th scope=col>high</th><th scope=col>low</th><th scope=col>close</th><th scope=col>volume</th><th scope=col>ex-dividend</th><th scope=col>split_ratio</th><th scope=col>adj_open</th><th scope=col>adj_high</th><th scope=col>adj_low</th><th scope=col>adj_close</th><th scope=col>adj_volume</th></tr></thead>\n",
       "<tbody>\n",
       "\t<tr><td>AAPL      </td><td>1999-11-18</td><td>91.06     </td><td>91.12     </td><td>88.44     </td><td>89.62     </td><td>3257000   </td><td>0         </td><td>1         </td><td>2.925620  </td><td>2.927547  </td><td>2.841443  </td><td>2.879355  </td><td>91196000  </td></tr>\n",
       "\t<tr><td>AAPL      </td><td>1999-11-19</td><td>89.50     </td><td>92.87     </td><td>88.06     </td><td>92.44     </td><td>2790300   </td><td>0         </td><td>1         </td><td>2.875499  </td><td>2.983772  </td><td>2.829234  </td><td>2.969957  </td><td>78128400  </td></tr>\n",
       "\t<tr><td>AAPL      </td><td>1999-11-22</td><td>91.75     </td><td>91.75     </td><td>89.25     </td><td>90.62     </td><td>1806800   </td><td>0         </td><td>1         </td><td>2.947788  </td><td>2.947788  </td><td>2.867467  </td><td>2.911483  </td><td>50590400  </td></tr>\n",
       "</tbody>\n",
       "</table>\n"
      ],
      "text/latex": [
       "\\begin{tabular}{r|llllllllllllll}\n",
       " ticker & date & open & high & low & close & volume & ex-dividend & split\\_ratio & adj\\_open & adj\\_high & adj\\_low & adj\\_close & adj\\_volume\\\\\n",
       "\\hline\n",
       "\t AAPL       & 1999-11-18 & 91.06      & 91.12      & 88.44      & 89.62      & 3257000    & 0          & 1          & 2.925620   & 2.927547   & 2.841443   & 2.879355   & 91196000  \\\\\n",
       "\t AAPL       & 1999-11-19 & 89.50      & 92.87      & 88.06      & 92.44      & 2790300    & 0          & 1          & 2.875499   & 2.983772   & 2.829234   & 2.969957   & 78128400  \\\\\n",
       "\t AAPL       & 1999-11-22 & 91.75      & 91.75      & 89.25      & 90.62      & 1806800    & 0          & 1          & 2.947788   & 2.947788   & 2.867467   & 2.911483   & 50590400  \\\\\n",
       "\\end{tabular}\n"
      ],
      "text/markdown": [
       "\n",
       "ticker | date | open | high | low | close | volume | ex-dividend | split_ratio | adj_open | adj_high | adj_low | adj_close | adj_volume | \n",
       "|---|---|---|\n",
       "| AAPL       | 1999-11-18 | 91.06      | 91.12      | 88.44      | 89.62      | 3257000    | 0          | 1          | 2.925620   | 2.927547   | 2.841443   | 2.879355   | 91196000   | \n",
       "| AAPL       | 1999-11-19 | 89.50      | 92.87      | 88.06      | 92.44      | 2790300    | 0          | 1          | 2.875499   | 2.983772   | 2.829234   | 2.969957   | 78128400   | \n",
       "| AAPL       | 1999-11-22 | 91.75      | 91.75      | 89.25      | 90.62      | 1806800    | 0          | 1          | 2.947788   | 2.947788   | 2.867467   | 2.911483   | 50590400   | \n",
       "\n",
       "\n"
      ],
      "text/plain": [
       "  ticker date       open  high  low   close volume  ex-dividend split_ratio\n",
       "1 AAPL   1999-11-18 91.06 91.12 88.44 89.62 3257000 0           1          \n",
       "2 AAPL   1999-11-19 89.50 92.87 88.06 92.44 2790300 0           1          \n",
       "3 AAPL   1999-11-22 91.75 91.75 89.25 90.62 1806800 0           1          \n",
       "  adj_open adj_high adj_low  adj_close adj_volume\n",
       "1 2.925620 2.927547 2.841443 2.879355  91196000  \n",
       "2 2.875499 2.983772 2.829234 2.969957  78128400  \n",
       "3 2.947788 2.947788 2.867467 2.911483  50590400  "
      ]
     },
     "metadata": {},
     "output_type": "display_data"
    }
   ],
   "source": [
    "Quandl.api_key('2ypzeYdSyDLTr3wxjG5H')\n",
    "Quandl.datatable('WIKI/PRICES', date = c('1999-11-18','1999-11-19','1999-11-22'), ticker='AAPL')"
   ]
  }
 ],
 "metadata": {
  "kernelspec": {
   "display_name": "R",
   "language": "R",
   "name": "ir"
  },
  "language_info": {
   "codemirror_mode": "r",
   "file_extension": ".r",
   "mimetype": "text/x-r-source",
   "name": "R",
   "pygments_lexer": "r",
   "version": "3.4.3"
  }
 },
 "nbformat": 4,
 "nbformat_minor": 2
}
