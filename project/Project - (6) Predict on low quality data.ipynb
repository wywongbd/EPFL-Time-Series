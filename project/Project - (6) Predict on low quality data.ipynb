{
 "cells": [
  {
   "cell_type": "code",
   "execution_count": 1,
   "metadata": {
    "collapsed": true
   },
   "outputs": [],
   "source": [
    "data.raw = read.csv(\"final_cleaned_data.csv\")\n",
    "\n",
    "# These values should be treated as constants\n",
    "NROW = nrow(data.raw)\n",
    "NCOL = ncol(data.raw)\n",
    "YEARS = unique(data.raw$Year)\n",
    "\n",
    "# Oscillations to be subtracted\n",
    "seasonal.annual = spectral::filter.fft(data.raw$MaxTemp, x = NULL, fc = 0.002725, BW = 0.00105, n = 1)\n",
    "seasonal.biannual = spectral::filter.fft(data.raw$MaxTemp, x = NULL, fc = 0.00545, BW = 0.0002, n = 1)\n",
    "# seasonal.biannual = 0\n",
    "\n",
    "# This is for recovering original data\n",
    "imaginary_residuals = Im(data.raw$MaxTemp - seasonal.annual - seasonal.biannual)\n",
    "\n",
    "# This is for further processing\n",
    "data.raw.filtered = data.frame(data.raw)\n",
    "data.raw.filtered$MaxTemp = Re(data.raw$MaxTemp - seasonal.annual - seasonal.biannual)\n",
    "\n",
    "data.raw.filtered.normalized = data.frame(data.raw.filtered)\n",
    "\n",
    "# Find average and variance of each day of the year\n",
    "grouped.daily.var = aggregate(MaxTemp ~ Month*Day, data.raw.filtered.normalized, FUN = var)\n",
    "grouped.daily.var = grouped.daily.var[order(grouped.daily.var$Month, grouped.daily.var$Day), ]\n",
    "grouped.daily.avg = aggregate(MaxTemp ~ Month*Day, data.raw.filtered.normalized, FUN = mean)\n",
    "grouped.daily.avg = grouped.daily.avg[order(grouped.daily.avg$Month, grouped.daily.avg$Day), ]\n",
    "\n",
    "normalize = function(x, grouped_daily_var, grouped_daily_avg){\n",
    "    for (row in c(1: nrow(x))){\n",
    "        month = x[row, 2]\n",
    "        day = x[row, 3]\n",
    "        \n",
    "        variance = grouped_daily_var[ which(grouped_daily_var$Month == month & grouped_daily_var$Day == day), ]$MaxTemp\n",
    "        mean = grouped_daily_avg[ which(grouped_daily_avg$Month == month & grouped_daily_avg$Day == day), ]$MaxTemp\n",
    "        \n",
    "        x[row, 4] = (x[row, 4] - mean )/ sqrt(variance)\n",
    "    }\n",
    "    \n",
    "    return(x)\n",
    "}\n",
    "\n",
    "data.raw.filtered.normalized = normalize(data.raw.filtered.normalized, grouped.daily.var, grouped.daily.avg)\n",
    "\n",
    "ts = ts(data.raw.filtered.normalized$MaxTemp, frequency = 1)\n",
    "\n",
    "library(forecast)\n",
    "\n",
    "ar2 <- Arima(ts, order = c(2, 0, 0))\n",
    "ar3 <- Arima(ts, order = c(3, 0, 0))\n",
    "ar4 <- Arima(ts, order = c(4, 0, 0)) \n",
    "ar1ma1 <- Arima(ts, order = c(1, 0, 1))\n",
    "ar2ma1 <- Arima(ts, order = c(2, 0, 1))\n",
    "ar3ma1 <- Arima(ts, order = c(3, 0, 1))"
   ]
  },
  {
   "cell_type": "code",
   "execution_count": 2,
   "metadata": {
    "collapsed": true
   },
   "outputs": [],
   "source": [
    "data.bad.segment1 = read.csv(\"final_bad_data_segment1.csv\")\n",
    "data.bad.segment2 = read.csv(\"final_bad_data_segment2.csv\")"
   ]
  },
  {
   "cell_type": "code",
   "execution_count": 3,
   "metadata": {},
   "outputs": [
    {
     "data": {
      "text/html": [
       "<table>\n",
       "<thead><tr><th></th><th scope=col>Year</th><th scope=col>Month</th><th scope=col>Day</th><th scope=col>MaxTemp</th></tr></thead>\n",
       "<tbody>\n",
       "\t<tr><th scope=row>4746</th><td>1867</td><td>12  </td><td>29  </td><td>23.3</td></tr>\n",
       "\t<tr><th scope=row>4747</th><td>1867</td><td>12  </td><td>30  </td><td>21.1</td></tr>\n",
       "\t<tr><th scope=row>4748</th><td>1867</td><td>12  </td><td>31  </td><td>21.8</td></tr>\n",
       "\t<tr><th scope=row>4749</th><td>1868</td><td> 1  </td><td> 1  </td><td>19.0</td></tr>\n",
       "\t<tr><th scope=row>4750</th><td>1868</td><td> 1  </td><td> 2  </td><td>33.2</td></tr>\n",
       "\t<tr><th scope=row>4751</th><td>1868</td><td> 1  </td><td> 3  </td><td>22.7</td></tr>\n",
       "</tbody>\n",
       "</table>\n"
      ],
      "text/latex": [
       "\\begin{tabular}{r|llll}\n",
       "  & Year & Month & Day & MaxTemp\\\\\n",
       "\\hline\n",
       "\t4746 & 1867 & 12   & 29   & 23.3\\\\\n",
       "\t4747 & 1867 & 12   & 30   & 21.1\\\\\n",
       "\t4748 & 1867 & 12   & 31   & 21.8\\\\\n",
       "\t4749 & 1868 &  1   &  1   & 19.0\\\\\n",
       "\t4750 & 1868 &  1   &  2   & 33.2\\\\\n",
       "\t4751 & 1868 &  1   &  3   & 22.7\\\\\n",
       "\\end{tabular}\n"
      ],
      "text/markdown": [
       "\n",
       "| <!--/--> | Year | Month | Day | MaxTemp | \n",
       "|---|---|---|---|---|---|\n",
       "| 4746 | 1867 | 12   | 29   | 23.3 | \n",
       "| 4747 | 1867 | 12   | 30   | 21.1 | \n",
       "| 4748 | 1867 | 12   | 31   | 21.8 | \n",
       "| 4749 | 1868 |  1   |  1   | 19.0 | \n",
       "| 4750 | 1868 |  1   |  2   | 33.2 | \n",
       "| 4751 | 1868 |  1   |  3   | 22.7 | \n",
       "\n",
       "\n"
      ],
      "text/plain": [
       "     Year Month Day MaxTemp\n",
       "4746 1867 12    29  23.3   \n",
       "4747 1867 12    30  21.1   \n",
       "4748 1867 12    31  21.8   \n",
       "4749 1868  1     1  19.0   \n",
       "4750 1868  1     2  33.2   \n",
       "4751 1868  1     3  22.7   "
      ]
     },
     "metadata": {},
     "output_type": "display_data"
    }
   ],
   "source": [
    "head(data.raw)"
   ]
  },
  {
   "cell_type": "code",
   "execution_count": 4,
   "metadata": {},
   "outputs": [
    {
     "data": {
      "text/html": [
       "<table>\n",
       "<thead><tr><th></th><th scope=col>Year</th><th scope=col>Month</th><th scope=col>Day</th><th scope=col>MaxTemp</th></tr></thead>\n",
       "<tbody>\n",
       "\t<tr><th scope=row>57087</th><td>2011</td><td> 4  </td><td>19  </td><td>23.2</td></tr>\n",
       "\t<tr><th scope=row>57679</th><td>2012</td><td>12  </td><td> 1  </td><td>27.4</td></tr>\n",
       "\t<tr><th scope=row>57680</th><td>2012</td><td>12  </td><td> 2  </td><td>20.7</td></tr>\n",
       "\t<tr><th scope=row>57681</th><td>2012</td><td>12  </td><td> 3  </td><td>21.4</td></tr>\n",
       "\t<tr><th scope=row>57682</th><td>2012</td><td>12  </td><td> 4  </td><td>18.9</td></tr>\n",
       "\t<tr><th scope=row>57683</th><td>2012</td><td>12  </td><td> 5  </td><td>18.2</td></tr>\n",
       "</tbody>\n",
       "</table>\n"
      ],
      "text/latex": [
       "\\begin{tabular}{r|llll}\n",
       "  & Year & Month & Day & MaxTemp\\\\\n",
       "\\hline\n",
       "\t57087 & 2011 &  4   & 19   & 23.2\\\\\n",
       "\t57679 & 2012 & 12   &  1   & 27.4\\\\\n",
       "\t57680 & 2012 & 12   &  2   & 20.7\\\\\n",
       "\t57681 & 2012 & 12   &  3   & 21.4\\\\\n",
       "\t57682 & 2012 & 12   &  4   & 18.9\\\\\n",
       "\t57683 & 2012 & 12   &  5   & 18.2\\\\\n",
       "\\end{tabular}\n"
      ],
      "text/markdown": [
       "\n",
       "| <!--/--> | Year | Month | Day | MaxTemp | \n",
       "|---|---|---|---|---|---|\n",
       "| 57087 | 2011 |  4   | 19   | 23.2 | \n",
       "| 57679 | 2012 | 12   |  1   | 27.4 | \n",
       "| 57680 | 2012 | 12   |  2   | 20.7 | \n",
       "| 57681 | 2012 | 12   |  3   | 21.4 | \n",
       "| 57682 | 2012 | 12   |  4   | 18.9 | \n",
       "| 57683 | 2012 | 12   |  5   | 18.2 | \n",
       "\n",
       "\n"
      ],
      "text/plain": [
       "      Year Month Day MaxTemp\n",
       "57087 2011  4    19  23.2   \n",
       "57679 2012 12     1  27.4   \n",
       "57680 2012 12     2  20.7   \n",
       "57681 2012 12     3  21.4   \n",
       "57682 2012 12     4  18.9   \n",
       "57683 2012 12     5  18.2   "
      ]
     },
     "metadata": {},
     "output_type": "display_data"
    }
   ],
   "source": [
    "head(data.bad.segment1)"
   ]
  },
  {
   "cell_type": "code",
   "execution_count": null,
   "metadata": {
    "collapsed": true
   },
   "outputs": [],
   "source": []
  },
  {
   "cell_type": "code",
   "execution_count": null,
   "metadata": {
    "collapsed": true
   },
   "outputs": [],
   "source": []
  },
  {
   "cell_type": "code",
   "execution_count": null,
   "metadata": {
    "collapsed": true
   },
   "outputs": [],
   "source": []
  }
 ],
 "metadata": {
  "kernelspec": {
   "display_name": "R",
   "language": "R",
   "name": "ir"
  },
  "language_info": {
   "codemirror_mode": "r",
   "file_extension": ".r",
   "mimetype": "text/x-r-source",
   "name": "R",
   "pygments_lexer": "r",
   "version": "3.4.3"
  },
  "varInspector": {
   "cols": {
    "lenName": 16,
    "lenType": 16,
    "lenVar": 40
   },
   "kernels_config": {
    "python": {
     "delete_cmd_postfix": "",
     "delete_cmd_prefix": "del ",
     "library": "var_list.py",
     "varRefreshCmd": "print(var_dic_list())"
    },
    "r": {
     "delete_cmd_postfix": ") ",
     "delete_cmd_prefix": "rm(",
     "library": "var_list.r",
     "varRefreshCmd": "cat(var_dic_list()) "
    }
   },
   "types_to_exclude": [
    "module",
    "function",
    "builtin_function_or_method",
    "instance",
    "_Feature"
   ],
   "window_display": false
  }
 },
 "nbformat": 4,
 "nbformat_minor": 2
}
