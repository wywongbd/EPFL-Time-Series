{
 "cells": [
  {
   "cell_type": "code",
   "execution_count": 11,
   "metadata": {
    "collapsed": true
   },
   "outputs": [],
   "source": [
    "data <- read.csv(\"final_cleaned_data.csv\")"
   ]
  },
  {
   "cell_type": "code",
   "execution_count": 12,
   "metadata": {},
   "outputs": [
    {
     "data": {
      "text/html": [
       "<table>\n",
       "<thead><tr><th></th><th scope=col>Year</th><th scope=col>Month</th><th scope=col>Day</th><th scope=col>MaxTemp</th></tr></thead>\n",
       "<tbody>\n",
       "\t<tr><th scope=row>4746</th><td>1867</td><td>12  </td><td>29  </td><td>23.3</td></tr>\n",
       "\t<tr><th scope=row>4747</th><td>1867</td><td>12  </td><td>30  </td><td>21.1</td></tr>\n",
       "\t<tr><th scope=row>4748</th><td>1867</td><td>12  </td><td>31  </td><td>21.8</td></tr>\n",
       "\t<tr><th scope=row>4749</th><td>1868</td><td> 1  </td><td> 1  </td><td>19.0</td></tr>\n",
       "\t<tr><th scope=row>4750</th><td>1868</td><td> 1  </td><td> 2  </td><td>33.2</td></tr>\n",
       "\t<tr><th scope=row>4751</th><td>1868</td><td> 1  </td><td> 3  </td><td>22.7</td></tr>\n",
       "</tbody>\n",
       "</table>\n"
      ],
      "text/latex": [
       "\\begin{tabular}{r|llll}\n",
       "  & Year & Month & Day & MaxTemp\\\\\n",
       "\\hline\n",
       "\t4746 & 1867 & 12   & 29   & 23.3\\\\\n",
       "\t4747 & 1867 & 12   & 30   & 21.1\\\\\n",
       "\t4748 & 1867 & 12   & 31   & 21.8\\\\\n",
       "\t4749 & 1868 &  1   &  1   & 19.0\\\\\n",
       "\t4750 & 1868 &  1   &  2   & 33.2\\\\\n",
       "\t4751 & 1868 &  1   &  3   & 22.7\\\\\n",
       "\\end{tabular}\n"
      ],
      "text/markdown": [
       "\n",
       "| <!--/--> | Year | Month | Day | MaxTemp | \n",
       "|---|---|---|---|---|---|\n",
       "| 4746 | 1867 | 12   | 29   | 23.3 | \n",
       "| 4747 | 1867 | 12   | 30   | 21.1 | \n",
       "| 4748 | 1867 | 12   | 31   | 21.8 | \n",
       "| 4749 | 1868 |  1   |  1   | 19.0 | \n",
       "| 4750 | 1868 |  1   |  2   | 33.2 | \n",
       "| 4751 | 1868 |  1   |  3   | 22.7 | \n",
       "\n",
       "\n"
      ],
      "text/plain": [
       "     Year Month Day MaxTemp\n",
       "4746 1867 12    29  23.3   \n",
       "4747 1867 12    30  21.1   \n",
       "4748 1867 12    31  21.8   \n",
       "4749 1868  1     1  19.0   \n",
       "4750 1868  1     2  33.2   \n",
       "4751 1868  1     3  22.7   "
      ]
     },
     "metadata": {},
     "output_type": "display_data"
    }
   ],
   "source": [
    "head(data)"
   ]
  },
  {
   "cell_type": "code",
   "execution_count": 13,
   "metadata": {
    "collapsed": true
   },
   "outputs": [],
   "source": [
    "data_grouped_daily = aggregate(MaxTemp ~ Month*Day, data, FUN = var)\n",
    "data_grouped_daily = data_grouped_daily[order(data_grouped_daily$Month, data_grouped_daily$Day), ]"
   ]
  },
  {
   "cell_type": "code",
   "execution_count": 14,
   "metadata": {},
   "outputs": [
    {
     "data": {
      "text/html": [
       "<table>\n",
       "<thead><tr><th></th><th scope=col>Month</th><th scope=col>Day</th><th scope=col>MaxTemp</th></tr></thead>\n",
       "<tbody>\n",
       "\t<tr><th scope=row>1</th><td>1       </td><td> 1      </td><td>31.77225</td></tr>\n",
       "\t<tr><th scope=row>13</th><td>1       </td><td> 2      </td><td>39.55072</td></tr>\n",
       "\t<tr><th scope=row>25</th><td>1       </td><td> 3      </td><td>35.23753</td></tr>\n",
       "\t<tr><th scope=row>37</th><td>1       </td><td> 4      </td><td>30.92369</td></tr>\n",
       "\t<tr><th scope=row>49</th><td>1       </td><td> 5      </td><td>36.58507</td></tr>\n",
       "\t<tr><th scope=row>61</th><td>1       </td><td> 6      </td><td>28.79609</td></tr>\n",
       "\t<tr><th scope=row>73</th><td>1       </td><td> 7      </td><td>35.72076</td></tr>\n",
       "\t<tr><th scope=row>85</th><td>1       </td><td> 8      </td><td>43.03168</td></tr>\n",
       "\t<tr><th scope=row>97</th><td>1       </td><td> 9      </td><td>40.37651</td></tr>\n",
       "\t<tr><th scope=row>109</th><td>1       </td><td>10      </td><td>41.12858</td></tr>\n",
       "\t<tr><th scope=row>121</th><td>1       </td><td>11      </td><td>37.51088</td></tr>\n",
       "\t<tr><th scope=row>133</th><td>1       </td><td>12      </td><td>36.68791</td></tr>\n",
       "\t<tr><th scope=row>145</th><td>1       </td><td>13      </td><td>37.83929</td></tr>\n",
       "\t<tr><th scope=row>157</th><td>1       </td><td>14      </td><td>38.63037</td></tr>\n",
       "\t<tr><th scope=row>169</th><td>1       </td><td>15      </td><td>41.00979</td></tr>\n",
       "\t<tr><th scope=row>181</th><td>1       </td><td>16      </td><td>47.05421</td></tr>\n",
       "\t<tr><th scope=row>193</th><td>1       </td><td>17      </td><td>37.84406</td></tr>\n",
       "\t<tr><th scope=row>205</th><td>1       </td><td>18      </td><td>41.44288</td></tr>\n",
       "\t<tr><th scope=row>217</th><td>1       </td><td>19      </td><td>45.25729</td></tr>\n",
       "\t<tr><th scope=row>229</th><td>1       </td><td>20      </td><td>39.56044</td></tr>\n",
       "\t<tr><th scope=row>241</th><td>1       </td><td>21      </td><td>31.69744</td></tr>\n",
       "\t<tr><th scope=row>253</th><td>1       </td><td>22      </td><td>37.52491</td></tr>\n",
       "\t<tr><th scope=row>265</th><td>1       </td><td>23      </td><td>45.01052</td></tr>\n",
       "\t<tr><th scope=row>277</th><td>1       </td><td>24      </td><td>42.37407</td></tr>\n",
       "\t<tr><th scope=row>289</th><td>1       </td><td>25      </td><td>39.04539</td></tr>\n",
       "\t<tr><th scope=row>301</th><td>1       </td><td>26      </td><td>40.46785</td></tr>\n",
       "\t<tr><th scope=row>313</th><td>1       </td><td>27      </td><td>38.40463</td></tr>\n",
       "\t<tr><th scope=row>325</th><td>1       </td><td>28      </td><td>41.97627</td></tr>\n",
       "\t<tr><th scope=row>337</th><td>1       </td><td>29      </td><td>36.52520</td></tr>\n",
       "\t<tr><th scope=row>349</th><td>1       </td><td>30      </td><td>36.53449</td></tr>\n",
       "\t<tr><th scope=row>...</th><td>...</td><td>...</td><td>...</td></tr>\n",
       "\t<tr><th scope=row>24</th><td>12      </td><td> 2      </td><td>25.16180</td></tr>\n",
       "\t<tr><th scope=row>36</th><td>12      </td><td> 3      </td><td>32.95460</td></tr>\n",
       "\t<tr><th scope=row>48</th><td>12      </td><td> 4      </td><td>34.75436</td></tr>\n",
       "\t<tr><th scope=row>60</th><td>12      </td><td> 5      </td><td>35.72112</td></tr>\n",
       "\t<tr><th scope=row>72</th><td>12      </td><td> 6      </td><td>27.89374</td></tr>\n",
       "\t<tr><th scope=row>84</th><td>12      </td><td> 7      </td><td>29.59336</td></tr>\n",
       "\t<tr><th scope=row>96</th><td>12      </td><td> 8      </td><td>32.62361</td></tr>\n",
       "\t<tr><th scope=row>108</th><td>12      </td><td> 9      </td><td>31.48755</td></tr>\n",
       "\t<tr><th scope=row>120</th><td>12      </td><td>10      </td><td>31.89823</td></tr>\n",
       "\t<tr><th scope=row>132</th><td>12      </td><td>11      </td><td>34.72531</td></tr>\n",
       "\t<tr><th scope=row>144</th><td>12      </td><td>12      </td><td>22.64985</td></tr>\n",
       "\t<tr><th scope=row>156</th><td>12      </td><td>13      </td><td>33.53302</td></tr>\n",
       "\t<tr><th scope=row>168</th><td>12      </td><td>14      </td><td>36.08223</td></tr>\n",
       "\t<tr><th scope=row>180</th><td>12      </td><td>15      </td><td>34.84684</td></tr>\n",
       "\t<tr><th scope=row>192</th><td>12      </td><td>16      </td><td>29.64065</td></tr>\n",
       "\t<tr><th scope=row>204</th><td>12      </td><td>17      </td><td>29.67318</td></tr>\n",
       "\t<tr><th scope=row>216</th><td>12      </td><td>18      </td><td>28.36484</td></tr>\n",
       "\t<tr><th scope=row>228</th><td>12      </td><td>19      </td><td>29.60552</td></tr>\n",
       "\t<tr><th scope=row>240</th><td>12      </td><td>20      </td><td>45.82501</td></tr>\n",
       "\t<tr><th scope=row>252</th><td>12      </td><td>21      </td><td>38.78103</td></tr>\n",
       "\t<tr><th scope=row>264</th><td>12      </td><td>22      </td><td>43.11220</td></tr>\n",
       "\t<tr><th scope=row>276</th><td>12      </td><td>23      </td><td>35.54326</td></tr>\n",
       "\t<tr><th scope=row>288</th><td>12      </td><td>24      </td><td>34.71638</td></tr>\n",
       "\t<tr><th scope=row>300</th><td>12      </td><td>25      </td><td>41.61159</td></tr>\n",
       "\t<tr><th scope=row>312</th><td>12      </td><td>26      </td><td>43.64571</td></tr>\n",
       "\t<tr><th scope=row>324</th><td>12      </td><td>27      </td><td>38.41417</td></tr>\n",
       "\t<tr><th scope=row>336</th><td>12      </td><td>28      </td><td>39.99689</td></tr>\n",
       "\t<tr><th scope=row>348</th><td>12      </td><td>29      </td><td>35.70313</td></tr>\n",
       "\t<tr><th scope=row>359</th><td>12      </td><td>30      </td><td>45.47854</td></tr>\n",
       "\t<tr><th scope=row>366</th><td>12      </td><td>31      </td><td>30.48500</td></tr>\n",
       "</tbody>\n",
       "</table>\n"
      ],
      "text/latex": [
       "\\begin{tabular}{r|lll}\n",
       "  & Month & Day & MaxTemp\\\\\n",
       "\\hline\n",
       "\t1 & 1        &  1       & 31.77225\\\\\n",
       "\t13 & 1        &  2       & 39.55072\\\\\n",
       "\t25 & 1        &  3       & 35.23753\\\\\n",
       "\t37 & 1        &  4       & 30.92369\\\\\n",
       "\t49 & 1        &  5       & 36.58507\\\\\n",
       "\t61 & 1        &  6       & 28.79609\\\\\n",
       "\t73 & 1        &  7       & 35.72076\\\\\n",
       "\t85 & 1        &  8       & 43.03168\\\\\n",
       "\t97 & 1        &  9       & 40.37651\\\\\n",
       "\t109 & 1        & 10       & 41.12858\\\\\n",
       "\t121 & 1        & 11       & 37.51088\\\\\n",
       "\t133 & 1        & 12       & 36.68791\\\\\n",
       "\t145 & 1        & 13       & 37.83929\\\\\n",
       "\t157 & 1        & 14       & 38.63037\\\\\n",
       "\t169 & 1        & 15       & 41.00979\\\\\n",
       "\t181 & 1        & 16       & 47.05421\\\\\n",
       "\t193 & 1        & 17       & 37.84406\\\\\n",
       "\t205 & 1        & 18       & 41.44288\\\\\n",
       "\t217 & 1        & 19       & 45.25729\\\\\n",
       "\t229 & 1        & 20       & 39.56044\\\\\n",
       "\t241 & 1        & 21       & 31.69744\\\\\n",
       "\t253 & 1        & 22       & 37.52491\\\\\n",
       "\t265 & 1        & 23       & 45.01052\\\\\n",
       "\t277 & 1        & 24       & 42.37407\\\\\n",
       "\t289 & 1        & 25       & 39.04539\\\\\n",
       "\t301 & 1        & 26       & 40.46785\\\\\n",
       "\t313 & 1        & 27       & 38.40463\\\\\n",
       "\t325 & 1        & 28       & 41.97627\\\\\n",
       "\t337 & 1        & 29       & 36.52520\\\\\n",
       "\t349 & 1        & 30       & 36.53449\\\\\n",
       "\t... & ... & ... & ...\\\\\n",
       "\t24 & 12       &  2       & 25.16180\\\\\n",
       "\t36 & 12       &  3       & 32.95460\\\\\n",
       "\t48 & 12       &  4       & 34.75436\\\\\n",
       "\t60 & 12       &  5       & 35.72112\\\\\n",
       "\t72 & 12       &  6       & 27.89374\\\\\n",
       "\t84 & 12       &  7       & 29.59336\\\\\n",
       "\t96 & 12       &  8       & 32.62361\\\\\n",
       "\t108 & 12       &  9       & 31.48755\\\\\n",
       "\t120 & 12       & 10       & 31.89823\\\\\n",
       "\t132 & 12       & 11       & 34.72531\\\\\n",
       "\t144 & 12       & 12       & 22.64985\\\\\n",
       "\t156 & 12       & 13       & 33.53302\\\\\n",
       "\t168 & 12       & 14       & 36.08223\\\\\n",
       "\t180 & 12       & 15       & 34.84684\\\\\n",
       "\t192 & 12       & 16       & 29.64065\\\\\n",
       "\t204 & 12       & 17       & 29.67318\\\\\n",
       "\t216 & 12       & 18       & 28.36484\\\\\n",
       "\t228 & 12       & 19       & 29.60552\\\\\n",
       "\t240 & 12       & 20       & 45.82501\\\\\n",
       "\t252 & 12       & 21       & 38.78103\\\\\n",
       "\t264 & 12       & 22       & 43.11220\\\\\n",
       "\t276 & 12       & 23       & 35.54326\\\\\n",
       "\t288 & 12       & 24       & 34.71638\\\\\n",
       "\t300 & 12       & 25       & 41.61159\\\\\n",
       "\t312 & 12       & 26       & 43.64571\\\\\n",
       "\t324 & 12       & 27       & 38.41417\\\\\n",
       "\t336 & 12       & 28       & 39.99689\\\\\n",
       "\t348 & 12       & 29       & 35.70313\\\\\n",
       "\t359 & 12       & 30       & 45.47854\\\\\n",
       "\t366 & 12       & 31       & 30.48500\\\\\n",
       "\\end{tabular}\n"
      ],
      "text/markdown": [
       "\n",
       "| <!--/--> | Month | Day | MaxTemp | \n",
       "|---|---|---|---|---|---|---|---|---|---|---|---|---|---|---|---|---|---|---|---|---|---|---|---|---|---|---|---|---|---|---|---|---|---|---|---|---|---|---|---|---|---|---|---|---|---|---|---|---|---|---|---|---|---|---|---|---|---|---|---|---|\n",
       "| 1 | 1        |  1       | 31.77225 | \n",
       "| 13 | 1        |  2       | 39.55072 | \n",
       "| 25 | 1        |  3       | 35.23753 | \n",
       "| 37 | 1        |  4       | 30.92369 | \n",
       "| 49 | 1        |  5       | 36.58507 | \n",
       "| 61 | 1        |  6       | 28.79609 | \n",
       "| 73 | 1        |  7       | 35.72076 | \n",
       "| 85 | 1        |  8       | 43.03168 | \n",
       "| 97 | 1        |  9       | 40.37651 | \n",
       "| 109 | 1        | 10       | 41.12858 | \n",
       "| 121 | 1        | 11       | 37.51088 | \n",
       "| 133 | 1        | 12       | 36.68791 | \n",
       "| 145 | 1        | 13       | 37.83929 | \n",
       "| 157 | 1        | 14       | 38.63037 | \n",
       "| 169 | 1        | 15       | 41.00979 | \n",
       "| 181 | 1        | 16       | 47.05421 | \n",
       "| 193 | 1        | 17       | 37.84406 | \n",
       "| 205 | 1        | 18       | 41.44288 | \n",
       "| 217 | 1        | 19       | 45.25729 | \n",
       "| 229 | 1        | 20       | 39.56044 | \n",
       "| 241 | 1        | 21       | 31.69744 | \n",
       "| 253 | 1        | 22       | 37.52491 | \n",
       "| 265 | 1        | 23       | 45.01052 | \n",
       "| 277 | 1        | 24       | 42.37407 | \n",
       "| 289 | 1        | 25       | 39.04539 | \n",
       "| 301 | 1        | 26       | 40.46785 | \n",
       "| 313 | 1        | 27       | 38.40463 | \n",
       "| 325 | 1        | 28       | 41.97627 | \n",
       "| 337 | 1        | 29       | 36.52520 | \n",
       "| 349 | 1        | 30       | 36.53449 | \n",
       "| ... | ... | ... | ... | \n",
       "| 24 | 12       |  2       | 25.16180 | \n",
       "| 36 | 12       |  3       | 32.95460 | \n",
       "| 48 | 12       |  4       | 34.75436 | \n",
       "| 60 | 12       |  5       | 35.72112 | \n",
       "| 72 | 12       |  6       | 27.89374 | \n",
       "| 84 | 12       |  7       | 29.59336 | \n",
       "| 96 | 12       |  8       | 32.62361 | \n",
       "| 108 | 12       |  9       | 31.48755 | \n",
       "| 120 | 12       | 10       | 31.89823 | \n",
       "| 132 | 12       | 11       | 34.72531 | \n",
       "| 144 | 12       | 12       | 22.64985 | \n",
       "| 156 | 12       | 13       | 33.53302 | \n",
       "| 168 | 12       | 14       | 36.08223 | \n",
       "| 180 | 12       | 15       | 34.84684 | \n",
       "| 192 | 12       | 16       | 29.64065 | \n",
       "| 204 | 12       | 17       | 29.67318 | \n",
       "| 216 | 12       | 18       | 28.36484 | \n",
       "| 228 | 12       | 19       | 29.60552 | \n",
       "| 240 | 12       | 20       | 45.82501 | \n",
       "| 252 | 12       | 21       | 38.78103 | \n",
       "| 264 | 12       | 22       | 43.11220 | \n",
       "| 276 | 12       | 23       | 35.54326 | \n",
       "| 288 | 12       | 24       | 34.71638 | \n",
       "| 300 | 12       | 25       | 41.61159 | \n",
       "| 312 | 12       | 26       | 43.64571 | \n",
       "| 324 | 12       | 27       | 38.41417 | \n",
       "| 336 | 12       | 28       | 39.99689 | \n",
       "| 348 | 12       | 29       | 35.70313 | \n",
       "| 359 | 12       | 30       | 45.47854 | \n",
       "| 366 | 12       | 31       | 30.48500 | \n",
       "\n",
       "\n"
      ],
      "text/plain": [
       "    Month Day MaxTemp \n",
       "1   1      1  31.77225\n",
       "13  1      2  39.55072\n",
       "25  1      3  35.23753\n",
       "37  1      4  30.92369\n",
       "49  1      5  36.58507\n",
       "61  1      6  28.79609\n",
       "73  1      7  35.72076\n",
       "85  1      8  43.03168\n",
       "97  1      9  40.37651\n",
       "109 1     10  41.12858\n",
       "121 1     11  37.51088\n",
       "133 1     12  36.68791\n",
       "145 1     13  37.83929\n",
       "157 1     14  38.63037\n",
       "169 1     15  41.00979\n",
       "181 1     16  47.05421\n",
       "193 1     17  37.84406\n",
       "205 1     18  41.44288\n",
       "217 1     19  45.25729\n",
       "229 1     20  39.56044\n",
       "241 1     21  31.69744\n",
       "253 1     22  37.52491\n",
       "265 1     23  45.01052\n",
       "277 1     24  42.37407\n",
       "289 1     25  39.04539\n",
       "301 1     26  40.46785\n",
       "313 1     27  38.40463\n",
       "325 1     28  41.97627\n",
       "337 1     29  36.52520\n",
       "349 1     30  36.53449\n",
       "... ...   ... ...     \n",
       "24  12     2  25.16180\n",
       "36  12     3  32.95460\n",
       "48  12     4  34.75436\n",
       "60  12     5  35.72112\n",
       "72  12     6  27.89374\n",
       "84  12     7  29.59336\n",
       "96  12     8  32.62361\n",
       "108 12     9  31.48755\n",
       "120 12    10  31.89823\n",
       "132 12    11  34.72531\n",
       "144 12    12  22.64985\n",
       "156 12    13  33.53302\n",
       "168 12    14  36.08223\n",
       "180 12    15  34.84684\n",
       "192 12    16  29.64065\n",
       "204 12    17  29.67318\n",
       "216 12    18  28.36484\n",
       "228 12    19  29.60552\n",
       "240 12    20  45.82501\n",
       "252 12    21  38.78103\n",
       "264 12    22  43.11220\n",
       "276 12    23  35.54326\n",
       "288 12    24  34.71638\n",
       "300 12    25  41.61159\n",
       "312 12    26  43.64571\n",
       "324 12    27  38.41417\n",
       "336 12    28  39.99689\n",
       "348 12    29  35.70313\n",
       "359 12    30  45.47854\n",
       "366 12    31  30.48500"
      ]
     },
     "metadata": {},
     "output_type": "display_data"
    }
   ],
   "source": [
    "data_grouped_daily\n"
   ]
  },
  {
   "cell_type": "code",
   "execution_count": 15,
   "metadata": {
    "collapsed": true
   },
   "outputs": [],
   "source": [
    "daily_variance = data_grouped_daily$MaxTemp"
   ]
  },
  {
   "cell_type": "code",
   "execution_count": 16,
   "metadata": {},
   "outputs": [
    {
     "data": {
      "image/png": "[encoded data removed]",
      "text/plain": [
       "plot without title"
      ]
     },
     "metadata": {},
     "output_type": "display_data"
    }
   ],
   "source": [
    "plot(data$MaxTemp[1:5000], type = 'l')"
   ]
  },
  {
   "cell_type": "markdown",
   "metadata": {},
   "source": [
    "### STL"
   ]
  },
  {
   "cell_type": "code",
   "execution_count": 17,
   "metadata": {
    "collapsed": true
   },
   "outputs": [],
   "source": [
    "ts <- ts(data$MaxTemp, frequency = 365)"
   ]
  },
  {
   "cell_type": "code",
   "execution_count": 18,
   "metadata": {
    "collapsed": true
   },
   "outputs": [],
   "source": [
    "stl_result <- stl(ts, s.window = 365, t.degree = 1, l.degree = 1)"
   ]
  },
  {
   "cell_type": "code",
   "execution_count": 19,
   "metadata": {},
   "outputs": [
    {
     "name": "stdout",
     "output_type": "stream",
     "text": [
      "List of 8\n",
      " $ time.series: Time-Series [1:42340, 1:3] from 1 to 117: 3.63 4.57 4.29 3.89 4.23 ...\n",
      "  ..- attr(*, \"dimnames\")=List of 2\n",
      "  .. ..$ : NULL\n",
      "  .. ..$ : chr [1:3] \"seasonal\" \"trend\" \"remainder\"\n",
      " $ weights    : num [1:42340] 1 1 1 1 1 1 1 1 1 1 ...\n",
      " $ call       : language stl(x = ts, s.window = 365, t.degree = 1, l.degree = 1)\n",
      " $ win        : Named num [1:3] 365 551 365\n",
      "  ..- attr(*, \"names\")= chr [1:3] \"s\" \"t\" \"l\"\n",
      " $ deg        : Named int [1:3] 0 1 1\n",
      "  ..- attr(*, \"names\")= chr [1:3] \"s\" \"t\" \"l\"\n",
      " $ jump       : Named num [1:3] 37 56 37\n",
      "  ..- attr(*, \"names\")= chr [1:3] \"s\" \"t\" \"l\"\n",
      " $ inner      : int 2\n",
      " $ outer      : int 0\n",
      " - attr(*, \"class\")= chr \"stl\"\n"
     ]
    }
   ],
   "source": [
    "str(stl_result)"
   ]
  },
  {
   "cell_type": "code",
   "execution_count": 20,
   "metadata": {},
   "outputs": [
    {
     "data": {
      "text/html": [
       "<ol class=list-inline>\n",
       "\t<li>'seasonal'</li>\n",
       "\t<li>'trend'</li>\n",
       "\t<li>'remainder'</li>\n",
       "</ol>\n"
      ],
      "text/latex": [
       "\\begin{enumerate*}\n",
       "\\item 'seasonal'\n",
       "\\item 'trend'\n",
       "\\item 'remainder'\n",
       "\\end{enumerate*}\n"
      ],
      "text/markdown": [
       "1. 'seasonal'\n",
       "2. 'trend'\n",
       "3. 'remainder'\n",
       "\n",
       "\n"
      ],
      "text/plain": [
       "[1] \"seasonal\"  \"trend\"     \"remainder\""
      ]
     },
     "metadata": {},
     "output_type": "display_data"
    }
   ],
   "source": [
    "colnames(stl_result$time.series)"
   ]
  },
  {
   "cell_type": "code",
   "execution_count": 21,
   "metadata": {},
   "outputs": [
    {
     "data": {
      "text/html": [
       "<table>\n",
       "<thead><tr><th scope=col>seasonal</th><th scope=col>trend</th><th scope=col>remainder</th></tr></thead>\n",
       "<tbody>\n",
       "\t<tr><td>3.627693  </td><td>18.84050  </td><td> 0.8318054</td></tr>\n",
       "\t<tr><td>4.570167  </td><td>18.84716  </td><td>-2.3173217</td></tr>\n",
       "\t<tr><td>4.290013  </td><td>18.85381  </td><td>-1.3438225</td></tr>\n",
       "\t<tr><td>3.889861  </td><td>18.86046  </td><td>-3.7503240</td></tr>\n",
       "\t<tr><td>4.226125  </td><td>18.86712  </td><td>10.1067579</td></tr>\n",
       "\t<tr><td>5.158359  </td><td>18.87377  </td><td>-1.3321301</td></tr>\n",
       "</tbody>\n",
       "</table>\n"
      ],
      "text/latex": [
       "\\begin{tabular}{lll}\n",
       " seasonal & trend & remainder\\\\\n",
       "\\hline\n",
       "\t 3.627693   & 18.84050   &  0.8318054\\\\\n",
       "\t 4.570167   & 18.84716   & -2.3173217\\\\\n",
       "\t 4.290013   & 18.85381   & -1.3438225\\\\\n",
       "\t 3.889861   & 18.86046   & -3.7503240\\\\\n",
       "\t 4.226125   & 18.86712   & 10.1067579\\\\\n",
       "\t 5.158359   & 18.87377   & -1.3321301\\\\\n",
       "\\end{tabular}\n"
      ],
      "text/markdown": [
       "\n",
       "seasonal | trend | remainder | \n",
       "|---|---|---|---|---|---|\n",
       "| 3.627693   | 18.84050   |  0.8318054 | \n",
       "| 4.570167   | 18.84716   | -2.3173217 | \n",
       "| 4.290013   | 18.85381   | -1.3438225 | \n",
       "| 3.889861   | 18.86046   | -3.7503240 | \n",
       "| 4.226125   | 18.86712   | 10.1067579 | \n",
       "| 5.158359   | 18.87377   | -1.3321301 | \n",
       "\n",
       "\n"
      ],
      "text/plain": [
       "     seasonal trend    remainder \n",
       "[1,] 3.627693 18.84050  0.8318054\n",
       "[2,] 4.570167 18.84716 -2.3173217\n",
       "[3,] 4.290013 18.85381 -1.3438225\n",
       "[4,] 3.889861 18.86046 -3.7503240\n",
       "[5,] 4.226125 18.86712 10.1067579\n",
       "[6,] 5.158359 18.87377 -1.3321301"
      ]
     },
     "metadata": {},
     "output_type": "display_data"
    }
   ],
   "source": [
    "head(stl_result$time.series)"
   ]
  },
  {
   "cell_type": "code",
   "execution_count": 22,
   "metadata": {
    "collapsed": true
   },
   "outputs": [],
   "source": [
    "stl_seasonal <- (stl_result$time.series)[, 1]\n",
    "stl_trend <- (stl_result$time.series)[, 2]\n",
    "stl_remainder <- (stl_result$time.series)[, 3]"
   ]
  },
  {
   "cell_type": "code",
   "execution_count": 23,
   "metadata": {},
   "outputs": [
    {
     "data": {
      "image/png": "[encoded data removed]",
      "text/plain": [
       "plot without title"
      ]
     },
     "metadata": {},
     "output_type": "display_data"
    }
   ],
   "source": [
    "plot(stl_seasonal[1:2000], type = 'l')"
   ]
  },
  {
   "cell_type": "code",
   "execution_count": 24,
   "metadata": {},
   "outputs": [
    {
     "data": {
      "image/png": "[encoded data removed]",
      "text/plain": [
       "plot without title"
      ]
     },
     "metadata": {},
     "output_type": "display_data"
    }
   ],
   "source": [
    "plot(stl_trend[1:10000], type = 'l')"
   ]
  },
  {
   "cell_type": "code",
   "execution_count": 25,
   "metadata": {},
   "outputs": [
    {
     "data": {
      "image/png": "[encoded data removed]",
      "text/plain": [
       "plot without title"
      ]
     },
     "metadata": {},
     "output_type": "display_data"
    }
   ],
   "source": [
    "plot(stl_remainder[1:3000], type = 'l')"
   ]
  },
  {
   "cell_type": "code",
   "execution_count": 26,
   "metadata": {},
   "outputs": [
    {
     "data": {
      "image/png": "[encoded data removed]",
      "text/plain": [
       "Plot with title \"Series  stl_remainder\""
      ]
     },
     "metadata": {},
     "output_type": "display_data"
    }
   ],
   "source": [
    "acf(stl_remainder)"
   ]
  },
  {
   "cell_type": "markdown",
   "metadata": {},
   "source": [
    "### Removing Trend in Frequency domain using (Periodogram and IFFT)"
   ]
  },
  {
   "cell_type": "code",
   "execution_count": 2,
   "metadata": {},
   "outputs": [
    {
     "name": "stderr",
     "output_type": "stream",
     "text": [
      "Installing package into 'C:/Users/emara/Documents/R/win-library/3.4'\n",
      "(as 'lib' is unspecified)\n"
     ]
    },
    {
     "name": "stdout",
     "output_type": "stream",
     "text": [
      "package 'ggfortify' successfully unpacked and MD5 sums checked\n",
      "\n",
      "The downloaded binary packages are in\n",
      "\tC:\\Users\\emara\\AppData\\Local\\Temp\\Rtmp6F2Efb\\downloaded_packages\n"
     ]
    }
   ],
   "source": [
    "# install.packages(\"TSA\", repos = \"http://cran.us.r-project.org\") \n",
    "# install.packages(\"seewave\", repos = \"http://cran.us.r-project.org\")\n",
    "# install.packages(\"signal\", repos = \"http://cran.us.r-project.org\")\n",
    "# install.packages(\"spectral\", repos = \"http://cran.us.r-project.org\")\n",
    "# install.packages(\"fftw\", repos = \"http://cran.us.r-project.org\")\n",
    "# install.packages(\"ggplot2\", repos = \"http://cran.us.r-project.org\")\n",
    "install.packages(\"ggfortify\", repos = \"http://cran.us.r-project.org\")"
   ]
  },
  {
   "cell_type": "code",
   "execution_count": 28,
   "metadata": {},
   "outputs": [
    {
     "data": {
      "image/png": "[encoded data removed]",
      "text/plain": [
       "plot without title"
      ]
     },
     "metadata": {},
     "output_type": "display_data"
    }
   ],
   "source": [
    "periodogram_result <- TSA::periodogram(data$MaxTemp, log = 'yes')"
   ]
  },
  {
   "cell_type": "code",
   "execution_count": 29,
   "metadata": {},
   "outputs": [
    {
     "name": "stdout",
     "output_type": "stream",
     "text": [
      "List of 16\n",
      " $ freq     : num [1:21600] 2.31e-05 4.63e-05 6.94e-05 9.26e-05 1.16e-04 ...\n",
      " $ spec     : num [1:21600] 1001.8 215.4 36.5 341.2 354.8 ...\n",
      " $ coh      : NULL\n",
      " $ phase    : NULL\n",
      " $ kernel   : NULL\n",
      " $ df       : num 1.96\n",
      " $ bandwidth: num 6.68e-06\n",
      " $ n.used   : int 43200\n",
      " $ orig.n   : int 42340\n",
      " $ series   : chr \"x\"\n",
      " $ snames   : NULL\n",
      " $ method   : chr \"Raw Periodogram\"\n",
      " $ taper    : num 0\n",
      " $ pad      : num 0\n",
      " $ detrend  : logi FALSE\n",
      " $ demean   : logi TRUE\n",
      " - attr(*, \"class\")= chr \"spec\"\n"
     ]
    }
   ],
   "source": [
    "str(periodogram_result)"
   ]
  },
  {
   "cell_type": "code",
   "execution_count": 30,
   "metadata": {},
   "outputs": [
    {
     "data": {
      "text/html": [
       "21600"
      ],
      "text/latex": [
       "21600"
      ],
      "text/markdown": [
       "21600"
      ],
      "text/plain": [
       "[1] 21600"
      ]
     },
     "metadata": {},
     "output_type": "display_data"
    },
    {
     "data": {
      "text/html": [
       "21600"
      ],
      "text/latex": [
       "21600"
      ],
      "text/markdown": [
       "21600"
      ],
      "text/plain": [
       "[1] 21600"
      ]
     },
     "metadata": {},
     "output_type": "display_data"
    }
   ],
   "source": [
    "length(periodogram_result$spec)\n",
    "length(periodogram_result$freq)"
   ]
  },
  {
   "cell_type": "code",
   "execution_count": 31,
   "metadata": {},
   "outputs": [
    {
     "data": {
      "text/html": [
       "118"
      ],
      "text/latex": [
       "118"
      ],
      "text/markdown": [
       "118"
      ],
      "text/plain": [
       "[1] 118"
      ]
     },
     "metadata": {},
     "output_type": "display_data"
    }
   ],
   "source": [
    "which.max(periodogram_result$spec)"
   ]
  },
  {
   "cell_type": "code",
   "execution_count": 32,
   "metadata": {},
   "outputs": [
    {
     "data": {
      "text/html": [
       "0.00273148148148148"
      ],
      "text/latex": [
       "0.00273148148148148"
      ],
      "text/markdown": [
       "0.00273148148148148"
      ],
      "text/plain": [
       "[1] 0.002731481"
      ]
     },
     "metadata": {},
     "output_type": "display_data"
    }
   ],
   "source": [
    "periodogram_result$freq[118]"
   ]
  },
  {
   "cell_type": "code",
   "execution_count": 33,
   "metadata": {},
   "outputs": [
    {
     "data": {
      "text/html": [
       "366.101694915254"
      ],
      "text/latex": [
       "366.101694915254"
      ],
      "text/markdown": [
       "366.101694915254"
      ],
      "text/plain": [
       "[1] 366.1017"
      ]
     },
     "metadata": {},
     "output_type": "display_data"
    }
   ],
   "source": [
    "1/0.00273148148148148"
   ]
  },
  {
   "cell_type": "markdown",
   "metadata": {},
   "source": [
    "This means there is a strong annual cycle in the data, which made sense!"
   ]
  },
  {
   "cell_type": "code",
   "execution_count": 34,
   "metadata": {},
   "outputs": [
    {
     "data": {
      "image/png": "[encoded data removed]",
      "text/plain": [
       "plot without title"
      ]
     },
     "metadata": {},
     "output_type": "display_data"
    }
   ],
   "source": [
    "plot(periodogram_result$freq[1:270], log((periodogram_result$spec)[1:270]), type = 'l')\n",
    "abline(v = 0.00260, col = 'red')\n",
    "abline(v = 0.00295, col = 'red')\n",
    "abline(v = 0.00535, col = 'red')\n",
    "abline(v = 0.00560, col = 'red')"
   ]
  },
  {
   "cell_type": "code",
   "execution_count": 35,
   "metadata": {},
   "outputs": [
    {
     "data": {
      "text/html": [
       "181.818181818182"
      ],
      "text/latex": [
       "181.818181818182"
      ],
      "text/markdown": [
       "181.818181818182"
      ],
      "text/plain": [
       "[1] 181.8182"
      ]
     },
     "metadata": {},
     "output_type": "display_data"
    }
   ],
   "source": [
    "1/0.0055"
   ]
  },
  {
   "cell_type": "markdown",
   "metadata": {},
   "source": [
    "Strong cycles that appear twice a year."
   ]
  },
  {
   "cell_type": "code",
   "execution_count": 36,
   "metadata": {},
   "outputs": [
    {
     "data": {
      "text/html": [
       "<ol class=list-inline>\n",
       "\t<li>0.301600307292167</li>\n",
       "\t<li>0.892827743732469</li>\n",
       "\t<li>1.21454907405775</li>\n",
       "\t<li>1.2802213861827</li>\n",
       "\t<li>1.46752635891819</li>\n",
       "\t<li>2.68570221865195</li>\n",
       "\t<li>3.05819570848683</li>\n",
       "\t<li>4.65573710928139</li>\n",
       "\t<li>5.36234813215844</li>\n",
       "\t<li>5.54554042712591</li>\n",
       "\t<li>5.55452095334592</li>\n",
       "\t<li>6.1101728559806</li>\n",
       "\t<li>6.22965964134404</li>\n",
       "\t<li>7.63274180723877</li>\n",
       "\t<li>7.83910449477198</li>\n",
       "\t<li>8.06095033093691</li>\n",
       "\t<li>9.49615084037908</li>\n",
       "\t<li>9.75849989371295</li>\n",
       "\t<li>10.3978660742193</li>\n",
       "\t<li>10.9238105733527</li>\n",
       "\t<li>10.9287969174669</li>\n",
       "\t<li>11.0957163386039</li>\n",
       "\t<li>11.5138231106645</li>\n",
       "\t<li>11.6353937160448</li>\n",
       "\t<li>16.9568646816515</li>\n",
       "\t<li>17.2043576989673</li>\n",
       "\t<li>17.9809091634011</li>\n",
       "\t<li>19.886958446082</li>\n",
       "\t<li>20.6763529070689</li>\n",
       "\t<li>20.9442856775746</li>\n",
       "\t<li>21.3404284874127</li>\n",
       "\t<li>21.7498012392512</li>\n",
       "\t<li>22.1368971877985</li>\n",
       "\t<li>22.7334629185227</li>\n",
       "\t<li>25.2449453649885</li>\n",
       "\t<li>26.7984796730848</li>\n",
       "\t<li>26.9205532920792</li>\n",
       "\t<li>27.2062472088721</li>\n",
       "\t<li>27.2166826653264</li>\n",
       "\t<li>28.4594265209051</li>\n",
       "\t<li>29.5204178109334</li>\n",
       "\t<li>30.0663813238317</li>\n",
       "\t<li>30.0957374990777</li>\n",
       "\t<li>30.5420306255222</li>\n",
       "\t<li>30.9191901296123</li>\n",
       "\t<li>32.2303007187655</li>\n",
       "\t<li>32.3470624922023</li>\n",
       "\t<li>33.3728192326884</li>\n",
       "\t<li>33.89537703904</li>\n",
       "\t<li>34.5845149120311</li>\n",
       "\t<li>35.4623671287183</li>\n",
       "\t<li>35.8991042995399</li>\n",
       "\t<li>36.4028783643827</li>\n",
       "\t<li>36.5303017745569</li>\n",
       "\t<li>37.6774573372478</li>\n",
       "\t<li>39.0797387677624</li>\n",
       "\t<li>41.0137946837774</li>\n",
       "\t<li>42.2685152074416</li>\n",
       "\t<li>43.9307013206168</li>\n",
       "\t<li>44.6015827511781</li>\n",
       "\t<li>45.7675591996892</li>\n",
       "\t<li>47.6843426056068</li>\n",
       "\t<li>47.9570278013863</li>\n",
       "\t<li>49.2686508041796</li>\n",
       "\t<li>50.1913720522185</li>\n",
       "\t<li>50.9386930820216</li>\n",
       "\t<li>54.5231718022908</li>\n",
       "\t<li>55.3170192262223</li>\n",
       "\t<li>55.5924246955134</li>\n",
       "\t<li>56.2708543577574</li>\n",
       "\t<li>56.549499427273</li>\n",
       "\t<li>57.2159456001589</li>\n",
       "\t<li>59.0160853291001</li>\n",
       "\t<li>59.2982896812885</li>\n",
       "\t<li>60.3454575533358</li>\n",
       "\t<li>62.5557718953859</li>\n",
       "\t<li>66.053287187988</li>\n",
       "\t<li>66.1349219519538</li>\n",
       "\t<li>68.6018602904031</li>\n",
       "\t<li>68.7017589582961</li>\n",
       "\t<li>69.2632499963808</li>\n",
       "\t<li>69.6852029335739</li>\n",
       "\t<li>69.9848187065494</li>\n",
       "\t<li>70.4156878879022</li>\n",
       "\t<li>71.0935454121454</li>\n",
       "\t<li>71.9907203329294</li>\n",
       "\t<li>74.3985707024037</li>\n",
       "\t<li>77.0825652130239</li>\n",
       "\t<li>77.6637708638525</li>\n",
       "\t<li>80.3217102891012</li>\n",
       "\t<li>80.5665408983115</li>\n",
       "\t<li>81.1814538635359</li>\n",
       "\t<li>81.8619916957526</li>\n",
       "\t<li>84.1102484442573</li>\n",
       "\t<li>84.9419971172215</li>\n",
       "\t<li>91.3331604171307</li>\n",
       "\t<li>91.4886601657527</li>\n",
       "\t<li>91.7825893452773</li>\n",
       "\t<li>91.900042360596</li>\n",
       "\t<li>92.9311779578557</li>\n",
       "\t<li>93.2469530987129</li>\n",
       "\t<li>94.2632436333647</li>\n",
       "\t<li>95.7550209447472</li>\n",
       "\t<li>99.0697528890447</li>\n",
       "\t<li>101.834897951866</li>\n",
       "\t<li>102.264153326596</li>\n",
       "\t<li>102.477311690518</li>\n",
       "\t<li>102.714861179568</li>\n",
       "\t<li>103.199250153919</li>\n",
       "\t<li>103.470868880779</li>\n",
       "\t<li>103.88495172915</li>\n",
       "\t<li>104.648207429721</li>\n",
       "\t<li>106.547975582573</li>\n",
       "\t<li>106.845921609563</li>\n",
       "\t<li>110.259612315336</li>\n",
       "\t<li>111.429647570607</li>\n",
       "\t<li>111.451035364743</li>\n",
       "\t<li>112.108092422281</li>\n",
       "\t<li>115.386327163245</li>\n",
       "\t<li>115.653838916345</li>\n",
       "\t<li>119.329844994786</li>\n",
       "\t<li>119.9313474806</li>\n",
       "\t<li>122.531518134751</li>\n",
       "\t<li>123.529945631745</li>\n",
       "\t<li>124.173603941116</li>\n",
       "\t<li>125.399496633347</li>\n",
       "\t<li>130.033115782885</li>\n",
       "\t<li>130.913027831825</li>\n",
       "\t<li>131.521254881782</li>\n",
       "\t<li>133.216330397454</li>\n",
       "\t<li>133.747655234757</li>\n",
       "\t<li>134.014461964448</li>\n",
       "\t<li>138.396069623919</li>\n",
       "\t<li>140.689449080649</li>\n",
       "\t<li>141.456208744264</li>\n",
       "\t<li>146.142586913499</li>\n",
       "\t<li>148.252478537959</li>\n",
       "\t<li>150.6054276384</li>\n",
       "\t<li>151.565478718031</li>\n",
       "\t<li>151.990451163644</li>\n",
       "\t<li>152.877010841925</li>\n",
       "\t<li>153.309374367112</li>\n",
       "\t<li>153.391195891804</li>\n",
       "\t<li>154.56705642297</li>\n",
       "\t<li>155.461735362896</li>\n",
       "\t<li>155.536118409075</li>\n",
       "\t<li>156.775247912502</li>\n",
       "\t<li>157.04177876741</li>\n",
       "\t<li>157.393717503955</li>\n",
       "\t<li>160.08638430296</li>\n",
       "\t<li>163.53343730051</li>\n",
       "\t<li>164.475618066183</li>\n",
       "\t<li>164.982681949431</li>\n",
       "\t<li>173.372293336251</li>\n",
       "\t<li>180.882994644687</li>\n",
       "\t<li>187.907451827328</li>\n",
       "\t<li>190.886889314155</li>\n",
       "\t<li>198.047391418887</li>\n",
       "\t<li>198.541114369027</li>\n",
       "\t<li>200.351367960689</li>\n",
       "\t<li>202.129957150192</li>\n",
       "\t<li>203.187388665254</li>\n",
       "\t<li>209.144318019487</li>\n",
       "\t<li>213.458837289345</li>\n",
       "\t<li>213.824582671792</li>\n",
       "\t<li>214.751918823795</li>\n",
       "\t<li>215.43679504688</li>\n",
       "\t<li>221.032884215344</li>\n",
       "\t<li>221.400566652622</li>\n",
       "\t<li>221.733369312778</li>\n",
       "\t<li>222.455212138664</li>\n",
       "\t<li>223.715962863977</li>\n",
       "\t<li>230.801957041536</li>\n",
       "\t<li>230.873677732847</li>\n",
       "\t<li>231.417073997125</li>\n",
       "\t<li>232.55392903805</li>\n",
       "\t<li>232.562290018634</li>\n",
       "\t<li>233.594545783349</li>\n",
       "\t<li>236.888795659404</li>\n",
       "\t<li>242.344044218259</li>\n",
       "\t<li>242.717375580295</li>\n",
       "\t<li>244.067599650624</li>\n",
       "\t<li>249.608086557239</li>\n",
       "\t<li>251.360938940747</li>\n",
       "\t<li>251.502691688514</li>\n",
       "\t<li>255.809239410642</li>\n",
       "\t<li>270.866706147931</li>\n",
       "\t<li>281.47576879698</li>\n",
       "\t<li>282.840414621203</li>\n",
       "\t<li>283.245740468414</li>\n",
       "\t<li>284.246449099896</li>\n",
       "\t<li>285.258927545576</li>\n",
       "\t<li>289.733185706021</li>\n",
       "\t<li>306.620843542438</li>\n",
       "\t<li>309.179351493335</li>\n",
       "\t<li>311.899912592899</li>\n",
       "\t<li>315.948133790913</li>\n",
       "\t<li>336.813619008474</li>\n",
       "\t<li>341.190780832263</li>\n",
       "\t<li>350.357780043847</li>\n",
       "\t<li>350.402195616505</li>\n",
       "\t<li>353.377060918893</li>\n",
       "\t<li>354.505538445552</li>\n",
       "\t<li>354.799333186943</li>\n",
       "\t<li>362.699054328124</li>\n",
       "\t<li>378.220967552733</li>\n",
       "\t<li>388.353665924768</li>\n",
       "\t<li>388.546516317661</li>\n",
       "\t<li>394.914449076077</li>\n",
       "\t<li>397.932782255124</li>\n",
       "\t<li>401.881913489222</li>\n",
       "\t<li>417.004051864182</li>\n",
       "\t<li>435.80967134467</li>\n",
       "\t<li>443.330201019964</li>\n",
       "\t<li>447.020023325814</li>\n",
       "\t<li>478.776875909928</li>\n",
       "\t<li>490.922846594082</li>\n",
       "\t<li>496.564685728685</li>\n",
       "\t<li>496.617078698295</li>\n",
       "\t<li>503.61361461408</li>\n",
       "\t<li>528.8263318593</li>\n",
       "\t<li>531.763540699912</li>\n",
       "\t<li>554.266366044903</li>\n",
       "\t<li>613.985089202474</li>\n",
       "\t<li>697.661205007271</li>\n",
       "\t<li>700.239537894352</li>\n",
       "\t<li>746.186228268644</li>\n",
       "\t<li>783.11918192359</li>\n",
       "\t<li>850.305236081041</li>\n",
       "\t<li>889.302603727101</li>\n",
       "\t<li>906.083802622863</li>\n",
       "\t<li>1001.80700538105</li>\n",
       "\t<li>1057.75853567029</li>\n",
       "\t<li>1143.5010604444</li>\n",
       "\t<li>1158.79634539261</li>\n",
       "\t<li>1314.45490616307</li>\n",
       "\t<li>1714.04043973179</li>\n",
       "\t<li>2621.68257966765</li>\n",
       "\t<li>2837.27421755069</li>\n",
       "\t<li>2972.4422108572</li>\n",
       "\t<li>3187.27146164547</li>\n",
       "\t<li>3247.05331512237</li>\n",
       "\t<li>4695.97458181613</li>\n",
       "\t<li>5438.17635899931</li>\n",
       "\t<li>6969.60288058924</li>\n",
       "\t<li>7636.78013791269</li>\n",
       "\t<li>21857.0345219264</li>\n",
       "\t<li>25348.5642736393</li>\n",
       "\t<li>102474.064331205</li>\n",
       "\t<li>639929.530998293</li>\n",
       "</ol>\n"
      ],
      "text/latex": [
       "\\begin{enumerate*}\n",
       "\\item 0.301600307292167\n",
       "\\item 0.892827743732469\n",
       "\\item 1.21454907405775\n",
       "\\item 1.2802213861827\n",
       "\\item 1.46752635891819\n",
       "\\item 2.68570221865195\n",
       "\\item 3.05819570848683\n",
       "\\item 4.65573710928139\n",
       "\\item 5.36234813215844\n",
       "\\item 5.54554042712591\n",
       "\\item 5.55452095334592\n",
       "\\item 6.1101728559806\n",
       "\\item 6.22965964134404\n",
       "\\item 7.63274180723877\n",
       "\\item 7.83910449477198\n",
       "\\item 8.06095033093691\n",
       "\\item 9.49615084037908\n",
       "\\item 9.75849989371295\n",
       "\\item 10.3978660742193\n",
       "\\item 10.9238105733527\n",
       "\\item 10.9287969174669\n",
       "\\item 11.0957163386039\n",
       "\\item 11.5138231106645\n",
       "\\item 11.6353937160448\n",
       "\\item 16.9568646816515\n",
       "\\item 17.2043576989673\n",
       "\\item 17.9809091634011\n",
       "\\item 19.886958446082\n",
       "\\item 20.6763529070689\n",
       "\\item 20.9442856775746\n",
       "\\item 21.3404284874127\n",
       "\\item 21.7498012392512\n",
       "\\item 22.1368971877985\n",
       "\\item 22.7334629185227\n",
       "\\item 25.2449453649885\n",
       "\\item 26.7984796730848\n",
       "\\item 26.9205532920792\n",
       "\\item 27.2062472088721\n",
       "\\item 27.2166826653264\n",
       "\\item 28.4594265209051\n",
       "\\item 29.5204178109334\n",
       "\\item 30.0663813238317\n",
       "\\item 30.0957374990777\n",
       "\\item 30.5420306255222\n",
       "\\item 30.9191901296123\n",
       "\\item 32.2303007187655\n",
       "\\item 32.3470624922023\n",
       "\\item 33.3728192326884\n",
       "\\item 33.89537703904\n",
       "\\item 34.5845149120311\n",
       "\\item 35.4623671287183\n",
       "\\item 35.8991042995399\n",
       "\\item 36.4028783643827\n",
       "\\item 36.5303017745569\n",
       "\\item 37.6774573372478\n",
       "\\item 39.0797387677624\n",
       "\\item 41.0137946837774\n",
       "\\item 42.2685152074416\n",
       "\\item 43.9307013206168\n",
       "\\item 44.6015827511781\n",
       "\\item 45.7675591996892\n",
       "\\item 47.6843426056068\n",
       "\\item 47.9570278013863\n",
       "\\item 49.2686508041796\n",
       "\\item 50.1913720522185\n",
       "\\item 50.9386930820216\n",
       "\\item 54.5231718022908\n",
       "\\item 55.3170192262223\n",
       "\\item 55.5924246955134\n",
       "\\item 56.2708543577574\n",
       "\\item 56.549499427273\n",
       "\\item 57.2159456001589\n",
       "\\item 59.0160853291001\n",
       "\\item 59.2982896812885\n",
       "\\item 60.3454575533358\n",
       "\\item 62.5557718953859\n",
       "\\item 66.053287187988\n",
       "\\item 66.1349219519538\n",
       "\\item 68.6018602904031\n",
       "\\item 68.7017589582961\n",
       "\\item 69.2632499963808\n",
       "\\item 69.6852029335739\n",
       "\\item 69.9848187065494\n",
       "\\item 70.4156878879022\n",
       "\\item 71.0935454121454\n",
       "\\item 71.9907203329294\n",
       "\\item 74.3985707024037\n",
       "\\item 77.0825652130239\n",
       "\\item 77.6637708638525\n",
       "\\item 80.3217102891012\n",
       "\\item 80.5665408983115\n",
       "\\item 81.1814538635359\n",
       "\\item 81.8619916957526\n",
       "\\item 84.1102484442573\n",
       "\\item 84.9419971172215\n",
       "\\item 91.3331604171307\n",
       "\\item 91.4886601657527\n",
       "\\item 91.7825893452773\n",
       "\\item 91.900042360596\n",
       "\\item 92.9311779578557\n",
       "\\item 93.2469530987129\n",
       "\\item 94.2632436333647\n",
       "\\item 95.7550209447472\n",
       "\\item 99.0697528890447\n",
       "\\item 101.834897951866\n",
       "\\item 102.264153326596\n",
       "\\item 102.477311690518\n",
       "\\item 102.714861179568\n",
       "\\item 103.199250153919\n",
       "\\item 103.470868880779\n",
       "\\item 103.88495172915\n",
       "\\item 104.648207429721\n",
       "\\item 106.547975582573\n",
       "\\item 106.845921609563\n",
       "\\item 110.259612315336\n",
       "\\item 111.429647570607\n",
       "\\item 111.451035364743\n",
       "\\item 112.108092422281\n",
       "\\item 115.386327163245\n",
       "\\item 115.653838916345\n",
       "\\item 119.329844994786\n",
       "\\item 119.9313474806\n",
       "\\item 122.531518134751\n",
       "\\item 123.529945631745\n",
       "\\item 124.173603941116\n",
       "\\item 125.399496633347\n",
       "\\item 130.033115782885\n",
       "\\item 130.913027831825\n",
       "\\item 131.521254881782\n",
       "\\item 133.216330397454\n",
       "\\item 133.747655234757\n",
       "\\item 134.014461964448\n",
       "\\item 138.396069623919\n",
       "\\item 140.689449080649\n",
       "\\item 141.456208744264\n",
       "\\item 146.142586913499\n",
       "\\item 148.252478537959\n",
       "\\item 150.6054276384\n",
       "\\item 151.565478718031\n",
       "\\item 151.990451163644\n",
       "\\item 152.877010841925\n",
       "\\item 153.309374367112\n",
       "\\item 153.391195891804\n",
       "\\item 154.56705642297\n",
       "\\item 155.461735362896\n",
       "\\item 155.536118409075\n",
       "\\item 156.775247912502\n",
       "\\item 157.04177876741\n",
       "\\item 157.393717503955\n",
       "\\item 160.08638430296\n",
       "\\item 163.53343730051\n",
       "\\item 164.475618066183\n",
       "\\item 164.982681949431\n",
       "\\item 173.372293336251\n",
       "\\item 180.882994644687\n",
       "\\item 187.907451827328\n",
       "\\item 190.886889314155\n",
       "\\item 198.047391418887\n",
       "\\item 198.541114369027\n",
       "\\item 200.351367960689\n",
       "\\item 202.129957150192\n",
       "\\item 203.187388665254\n",
       "\\item 209.144318019487\n",
       "\\item 213.458837289345\n",
       "\\item 213.824582671792\n",
       "\\item 214.751918823795\n",
       "\\item 215.43679504688\n",
       "\\item 221.032884215344\n",
       "\\item 221.400566652622\n",
       "\\item 221.733369312778\n",
       "\\item 222.455212138664\n",
       "\\item 223.715962863977\n",
       "\\item 230.801957041536\n",
       "\\item 230.873677732847\n",
       "\\item 231.417073997125\n",
       "\\item 232.55392903805\n",
       "\\item 232.562290018634\n",
       "\\item 233.594545783349\n",
       "\\item 236.888795659404\n",
       "\\item 242.344044218259\n",
       "\\item 242.717375580295\n",
       "\\item 244.067599650624\n",
       "\\item 249.608086557239\n",
       "\\item 251.360938940747\n",
       "\\item 251.502691688514\n",
       "\\item 255.809239410642\n",
       "\\item 270.866706147931\n",
       "\\item 281.47576879698\n",
       "\\item 282.840414621203\n",
       "\\item 283.245740468414\n",
       "\\item 284.246449099896\n",
       "\\item 285.258927545576\n",
       "\\item 289.733185706021\n",
       "\\item 306.620843542438\n",
       "\\item 309.179351493335\n",
       "\\item 311.899912592899\n",
       "\\item 315.948133790913\n",
       "\\item 336.813619008474\n",
       "\\item 341.190780832263\n",
       "\\item 350.357780043847\n",
       "\\item 350.402195616505\n",
       "\\item 353.377060918893\n",
       "\\item 354.505538445552\n",
       "\\item 354.799333186943\n",
       "\\item 362.699054328124\n",
       "\\item 378.220967552733\n",
       "\\item 388.353665924768\n",
       "\\item 388.546516317661\n",
       "\\item 394.914449076077\n",
       "\\item 397.932782255124\n",
       "\\item 401.881913489222\n",
       "\\item 417.004051864182\n",
       "\\item 435.80967134467\n",
       "\\item 443.330201019964\n",
       "\\item 447.020023325814\n",
       "\\item 478.776875909928\n",
       "\\item 490.922846594082\n",
       "\\item 496.564685728685\n",
       "\\item 496.617078698295\n",
       "\\item 503.61361461408\n",
       "\\item 528.8263318593\n",
       "\\item 531.763540699912\n",
       "\\item 554.266366044903\n",
       "\\item 613.985089202474\n",
       "\\item 697.661205007271\n",
       "\\item 700.239537894352\n",
       "\\item 746.186228268644\n",
       "\\item 783.11918192359\n",
       "\\item 850.305236081041\n",
       "\\item 889.302603727101\n",
       "\\item 906.083802622863\n",
       "\\item 1001.80700538105\n",
       "\\item 1057.75853567029\n",
       "\\item 1143.5010604444\n",
       "\\item 1158.79634539261\n",
       "\\item 1314.45490616307\n",
       "\\item 1714.04043973179\n",
       "\\item 2621.68257966765\n",
       "\\item 2837.27421755069\n",
       "\\item 2972.4422108572\n",
       "\\item 3187.27146164547\n",
       "\\item 3247.05331512237\n",
       "\\item 4695.97458181613\n",
       "\\item 5438.17635899931\n",
       "\\item 6969.60288058924\n",
       "\\item 7636.78013791269\n",
       "\\item 21857.0345219264\n",
       "\\item 25348.5642736393\n",
       "\\item 102474.064331205\n",
       "\\item 639929.530998293\n",
       "\\end{enumerate*}\n"
      ],
      "text/markdown": [
       "1. 0.301600307292167\n",
       "2. 0.892827743732469\n",
       "3. 1.21454907405775\n",
       "4. 1.2802213861827\n",
       "5. 1.46752635891819\n",
       "6. 2.68570221865195\n",
       "7. 3.05819570848683\n",
       "8. 4.65573710928139\n",
       "9. 5.36234813215844\n",
       "10. 5.54554042712591\n",
       "11. 5.55452095334592\n",
       "12. 6.1101728559806\n",
       "13. 6.22965964134404\n",
       "14. 7.63274180723877\n",
       "15. 7.83910449477198\n",
       "16. 8.06095033093691\n",
       "17. 9.49615084037908\n",
       "18. 9.75849989371295\n",
       "19. 10.3978660742193\n",
       "20. 10.9238105733527\n",
       "21. 10.9287969174669\n",
       "22. 11.0957163386039\n",
       "23. 11.5138231106645\n",
       "24. 11.6353937160448\n",
       "25. 16.9568646816515\n",
       "26. 17.2043576989673\n",
       "27. 17.9809091634011\n",
       "28. 19.886958446082\n",
       "29. 20.6763529070689\n",
       "30. 20.9442856775746\n",
       "31. 21.3404284874127\n",
       "32. 21.7498012392512\n",
       "33. 22.1368971877985\n",
       "34. 22.7334629185227\n",
       "35. 25.2449453649885\n",
       "36. 26.7984796730848\n",
       "37. 26.9205532920792\n",
       "38. 27.2062472088721\n",
       "39. 27.2166826653264\n",
       "40. 28.4594265209051\n",
       "41. 29.5204178109334\n",
       "42. 30.0663813238317\n",
       "43. 30.0957374990777\n",
       "44. 30.5420306255222\n",
       "45. 30.9191901296123\n",
       "46. 32.2303007187655\n",
       "47. 32.3470624922023\n",
       "48. 33.3728192326884\n",
       "49. 33.89537703904\n",
       "50. 34.5845149120311\n",
       "51. 35.4623671287183\n",
       "52. 35.8991042995399\n",
       "53. 36.4028783643827\n",
       "54. 36.5303017745569\n",
       "55. 37.6774573372478\n",
       "56. 39.0797387677624\n",
       "57. 41.0137946837774\n",
       "58. 42.2685152074416\n",
       "59. 43.9307013206168\n",
       "60. 44.6015827511781\n",
       "61. 45.7675591996892\n",
       "62. 47.6843426056068\n",
       "63. 47.9570278013863\n",
       "64. 49.2686508041796\n",
       "65. 50.1913720522185\n",
       "66. 50.9386930820216\n",
       "67. 54.5231718022908\n",
       "68. 55.3170192262223\n",
       "69. 55.5924246955134\n",
       "70. 56.2708543577574\n",
       "71. 56.549499427273\n",
       "72. 57.2159456001589\n",
       "73. 59.0160853291001\n",
       "74. 59.2982896812885\n",
       "75. 60.3454575533358\n",
       "76. 62.5557718953859\n",
       "77. 66.053287187988\n",
       "78. 66.1349219519538\n",
       "79. 68.6018602904031\n",
       "80. 68.7017589582961\n",
       "81. 69.2632499963808\n",
       "82. 69.6852029335739\n",
       "83. 69.9848187065494\n",
       "84. 70.4156878879022\n",
       "85. 71.0935454121454\n",
       "86. 71.9907203329294\n",
       "87. 74.3985707024037\n",
       "88. 77.0825652130239\n",
       "89. 77.6637708638525\n",
       "90. 80.3217102891012\n",
       "91. 80.5665408983115\n",
       "92. 81.1814538635359\n",
       "93. 81.8619916957526\n",
       "94. 84.1102484442573\n",
       "95. 84.9419971172215\n",
       "96. 91.3331604171307\n",
       "97. 91.4886601657527\n",
       "98. 91.7825893452773\n",
       "99. 91.900042360596\n",
       "100. 92.9311779578557\n",
       "101. 93.2469530987129\n",
       "102. 94.2632436333647\n",
       "103. 95.7550209447472\n",
       "104. 99.0697528890447\n",
       "105. 101.834897951866\n",
       "106. 102.264153326596\n",
       "107. 102.477311690518\n",
       "108. 102.714861179568\n",
       "109. 103.199250153919\n",
       "110. 103.470868880779\n",
       "111. 103.88495172915\n",
       "112. 104.648207429721\n",
       "113. 106.547975582573\n",
       "114. 106.845921609563\n",
       "115. 110.259612315336\n",
       "116. 111.429647570607\n",
       "117. 111.451035364743\n",
       "118. 112.108092422281\n",
       "119. 115.386327163245\n",
       "120. 115.653838916345\n",
       "121. 119.329844994786\n",
       "122. 119.9313474806\n",
       "123. 122.531518134751\n",
       "124. 123.529945631745\n",
       "125. 124.173603941116\n",
       "126. 125.399496633347\n",
       "127. 130.033115782885\n",
       "128. 130.913027831825\n",
       "129. 131.521254881782\n",
       "130. 133.216330397454\n",
       "131. 133.747655234757\n",
       "132. 134.014461964448\n",
       "133. 138.396069623919\n",
       "134. 140.689449080649\n",
       "135. 141.456208744264\n",
       "136. 146.142586913499\n",
       "137. 148.252478537959\n",
       "138. 150.6054276384\n",
       "139. 151.565478718031\n",
       "140. 151.990451163644\n",
       "141. 152.877010841925\n",
       "142. 153.309374367112\n",
       "143. 153.391195891804\n",
       "144. 154.56705642297\n",
       "145. 155.461735362896\n",
       "146. 155.536118409075\n",
       "147. 156.775247912502\n",
       "148. 157.04177876741\n",
       "149. 157.393717503955\n",
       "150. 160.08638430296\n",
       "151. 163.53343730051\n",
       "152. 164.475618066183\n",
       "153. 164.982681949431\n",
       "154. 173.372293336251\n",
       "155. 180.882994644687\n",
       "156. 187.907451827328\n",
       "157. 190.886889314155\n",
       "158. 198.047391418887\n",
       "159. 198.541114369027\n",
       "160. 200.351367960689\n",
       "161. 202.129957150192\n",
       "162. 203.187388665254\n",
       "163. 209.144318019487\n",
       "164. 213.458837289345\n",
       "165. 213.824582671792\n",
       "166. 214.751918823795\n",
       "167. 215.43679504688\n",
       "168. 221.032884215344\n",
       "169. 221.400566652622\n",
       "170. 221.733369312778\n",
       "171. 222.455212138664\n",
       "172. 223.715962863977\n",
       "173. 230.801957041536\n",
       "174. 230.873677732847\n",
       "175. 231.417073997125\n",
       "176. 232.55392903805\n",
       "177. 232.562290018634\n",
       "178. 233.594545783349\n",
       "179. 236.888795659404\n",
       "180. 242.344044218259\n",
       "181. 242.717375580295\n",
       "182. 244.067599650624\n",
       "183. 249.608086557239\n",
       "184. 251.360938940747\n",
       "185. 251.502691688514\n",
       "186. 255.809239410642\n",
       "187. 270.866706147931\n",
       "188. 281.47576879698\n",
       "189. 282.840414621203\n",
       "190. 283.245740468414\n",
       "191. 284.246449099896\n",
       "192. 285.258927545576\n",
       "193. 289.733185706021\n",
       "194. 306.620843542438\n",
       "195. 309.179351493335\n",
       "196. 311.899912592899\n",
       "197. 315.948133790913\n",
       "198. 336.813619008474\n",
       "199. 341.190780832263\n",
       "200. 350.357780043847\n",
       "201. 350.402195616505\n",
       "202. 353.377060918893\n",
       "203. 354.505538445552\n",
       "204. 354.799333186943\n",
       "205. 362.699054328124\n",
       "206. 378.220967552733\n",
       "207. 388.353665924768\n",
       "208. 388.546516317661\n",
       "209. 394.914449076077\n",
       "210. 397.932782255124\n",
       "211. 401.881913489222\n",
       "212. 417.004051864182\n",
       "213. 435.80967134467\n",
       "214. 443.330201019964\n",
       "215. 447.020023325814\n",
       "216. 478.776875909928\n",
       "217. 490.922846594082\n",
       "218. 496.564685728685\n",
       "219. 496.617078698295\n",
       "220. 503.61361461408\n",
       "221. 528.8263318593\n",
       "222. 531.763540699912\n",
       "223. 554.266366044903\n",
       "224. 613.985089202474\n",
       "225. 697.661205007271\n",
       "226. 700.239537894352\n",
       "227. 746.186228268644\n",
       "228. 783.11918192359\n",
       "229. 850.305236081041\n",
       "230. 889.302603727101\n",
       "231. 906.083802622863\n",
       "232. 1001.80700538105\n",
       "233. 1057.75853567029\n",
       "234. 1143.5010604444\n",
       "235. 1158.79634539261\n",
       "236. 1314.45490616307\n",
       "237. 1714.04043973179\n",
       "238. 2621.68257966765\n",
       "239. 2837.27421755069\n",
       "240. 2972.4422108572\n",
       "241. 3187.27146164547\n",
       "242. 3247.05331512237\n",
       "243. 4695.97458181613\n",
       "244. 5438.17635899931\n",
       "245. 6969.60288058924\n",
       "246. 7636.78013791269\n",
       "247. 21857.0345219264\n",
       "248. 25348.5642736393\n",
       "249. 102474.064331205\n",
       "250. 639929.530998293\n",
       "\n",
       "\n"
      ],
      "text/plain": [
       "  [1] 3.016003e-01 8.928277e-01 1.214549e+00 1.280221e+00 1.467526e+00\n",
       "  [6] 2.685702e+00 3.058196e+00 4.655737e+00 5.362348e+00 5.545540e+00\n",
       " [11] 5.554521e+00 6.110173e+00 6.229660e+00 7.632742e+00 7.839104e+00\n",
       " [16] 8.060950e+00 9.496151e+00 9.758500e+00 1.039787e+01 1.092381e+01\n",
       " [21] 1.092880e+01 1.109572e+01 1.151382e+01 1.163539e+01 1.695686e+01\n",
       " [26] 1.720436e+01 1.798091e+01 1.988696e+01 2.067635e+01 2.094429e+01\n",
       " [31] 2.134043e+01 2.174980e+01 2.213690e+01 2.273346e+01 2.524495e+01\n",
       " [36] 2.679848e+01 2.692055e+01 2.720625e+01 2.721668e+01 2.845943e+01\n",
       " [41] 2.952042e+01 3.006638e+01 3.009574e+01 3.054203e+01 3.091919e+01\n",
       " [46] 3.223030e+01 3.234706e+01 3.337282e+01 3.389538e+01 3.458451e+01\n",
       " [51] 3.546237e+01 3.589910e+01 3.640288e+01 3.653030e+01 3.767746e+01\n",
       " [56] 3.907974e+01 4.101379e+01 4.226852e+01 4.393070e+01 4.460158e+01\n",
       " [61] 4.576756e+01 4.768434e+01 4.795703e+01 4.926865e+01 5.019137e+01\n",
       " [66] 5.093869e+01 5.452317e+01 5.531702e+01 5.559242e+01 5.627085e+01\n",
       " [71] 5.654950e+01 5.721595e+01 5.901609e+01 5.929829e+01 6.034546e+01\n",
       " [76] 6.255577e+01 6.605329e+01 6.613492e+01 6.860186e+01 6.870176e+01\n",
       " [81] 6.926325e+01 6.968520e+01 6.998482e+01 7.041569e+01 7.109355e+01\n",
       " [86] 7.199072e+01 7.439857e+01 7.708257e+01 7.766377e+01 8.032171e+01\n",
       " [91] 8.056654e+01 8.118145e+01 8.186199e+01 8.411025e+01 8.494200e+01\n",
       " [96] 9.133316e+01 9.148866e+01 9.178259e+01 9.190004e+01 9.293118e+01\n",
       "[101] 9.324695e+01 9.426324e+01 9.575502e+01 9.906975e+01 1.018349e+02\n",
       "[106] 1.022642e+02 1.024773e+02 1.027149e+02 1.031993e+02 1.034709e+02\n",
       "[111] 1.038850e+02 1.046482e+02 1.065480e+02 1.068459e+02 1.102596e+02\n",
       "[116] 1.114296e+02 1.114510e+02 1.121081e+02 1.153863e+02 1.156538e+02\n",
       "[121] 1.193298e+02 1.199313e+02 1.225315e+02 1.235299e+02 1.241736e+02\n",
       "[126] 1.253995e+02 1.300331e+02 1.309130e+02 1.315213e+02 1.332163e+02\n",
       "[131] 1.337477e+02 1.340145e+02 1.383961e+02 1.406894e+02 1.414562e+02\n",
       "[136] 1.461426e+02 1.482525e+02 1.506054e+02 1.515655e+02 1.519905e+02\n",
       "[141] 1.528770e+02 1.533094e+02 1.533912e+02 1.545671e+02 1.554617e+02\n",
       "[146] 1.555361e+02 1.567752e+02 1.570418e+02 1.573937e+02 1.600864e+02\n",
       "[151] 1.635334e+02 1.644756e+02 1.649827e+02 1.733723e+02 1.808830e+02\n",
       "[156] 1.879075e+02 1.908869e+02 1.980474e+02 1.985411e+02 2.003514e+02\n",
       "[161] 2.021300e+02 2.031874e+02 2.091443e+02 2.134588e+02 2.138246e+02\n",
       "[166] 2.147519e+02 2.154368e+02 2.210329e+02 2.214006e+02 2.217334e+02\n",
       "[171] 2.224552e+02 2.237160e+02 2.308020e+02 2.308737e+02 2.314171e+02\n",
       "[176] 2.325539e+02 2.325623e+02 2.335945e+02 2.368888e+02 2.423440e+02\n",
       "[181] 2.427174e+02 2.440676e+02 2.496081e+02 2.513609e+02 2.515027e+02\n",
       "[186] 2.558092e+02 2.708667e+02 2.814758e+02 2.828404e+02 2.832457e+02\n",
       "[191] 2.842464e+02 2.852589e+02 2.897332e+02 3.066208e+02 3.091794e+02\n",
       "[196] 3.118999e+02 3.159481e+02 3.368136e+02 3.411908e+02 3.503578e+02\n",
       "[201] 3.504022e+02 3.533771e+02 3.545055e+02 3.547993e+02 3.626991e+02\n",
       "[206] 3.782210e+02 3.883537e+02 3.885465e+02 3.949144e+02 3.979328e+02\n",
       "[211] 4.018819e+02 4.170041e+02 4.358097e+02 4.433302e+02 4.470200e+02\n",
       "[216] 4.787769e+02 4.909228e+02 4.965647e+02 4.966171e+02 5.036136e+02\n",
       "[221] 5.288263e+02 5.317635e+02 5.542664e+02 6.139851e+02 6.976612e+02\n",
       "[226] 7.002395e+02 7.461862e+02 7.831192e+02 8.503052e+02 8.893026e+02\n",
       "[231] 9.060838e+02 1.001807e+03 1.057759e+03 1.143501e+03 1.158796e+03\n",
       "[236] 1.314455e+03 1.714040e+03 2.621683e+03 2.837274e+03 2.972442e+03\n",
       "[241] 3.187271e+03 3.247053e+03 4.695975e+03 5.438176e+03 6.969603e+03\n",
       "[246] 7.636780e+03 2.185703e+04 2.534856e+04 1.024741e+05 6.399295e+05"
      ]
     },
     "metadata": {},
     "output_type": "display_data"
    }
   ],
   "source": [
    "sort(((periodogram_result$spec)[1:250]))"
   ]
  },
  {
   "cell_type": "code",
   "execution_count": 37,
   "metadata": {},
   "outputs": [
    {
     "data": {
      "text/html": [
       "108"
      ],
      "text/latex": [
       "108"
      ],
      "text/markdown": [
       "108"
      ],
      "text/plain": [
       "[1] 108"
      ]
     },
     "metadata": {},
     "output_type": "display_data"
    }
   ],
   "source": [
    "which.max(periodogram_result$spec[130:270])"
   ]
  },
  {
   "cell_type": "code",
   "execution_count": 38,
   "metadata": {},
   "outputs": [
    {
     "data": {
      "text/html": [
       "237"
      ],
      "text/latex": [
       "237"
      ],
      "text/markdown": [
       "237"
      ],
      "text/plain": [
       "[1] 237"
      ]
     },
     "metadata": {},
     "output_type": "display_data"
    }
   ],
   "source": [
    "130+108-1\n",
    "# position of second peak"
   ]
  },
  {
   "cell_type": "markdown",
   "metadata": {},
   "source": [
    "Now we need to remove amplitudes contributed by 2 'peaks':\n",
    "1. yearly frequency\n",
    "2. biyearly "
   ]
  },
  {
   "cell_type": "code",
   "execution_count": 39,
   "metadata": {},
   "outputs": [
    {
     "data": {
      "text/html": [
       "<ol class=list-inline>\n",
       "\t<li>113</li>\n",
       "\t<li>114</li>\n",
       "\t<li>115</li>\n",
       "\t<li>116</li>\n",
       "\t<li>117</li>\n",
       "\t<li>118</li>\n",
       "\t<li>119</li>\n",
       "\t<li>120</li>\n",
       "\t<li>121</li>\n",
       "\t<li>122</li>\n",
       "\t<li>123</li>\n",
       "\t<li>124</li>\n",
       "\t<li>125</li>\n",
       "\t<li>126</li>\n",
       "\t<li>127</li>\n",
       "</ol>\n"
      ],
      "text/latex": [
       "\\begin{enumerate*}\n",
       "\\item 113\n",
       "\\item 114\n",
       "\\item 115\n",
       "\\item 116\n",
       "\\item 117\n",
       "\\item 118\n",
       "\\item 119\n",
       "\\item 120\n",
       "\\item 121\n",
       "\\item 122\n",
       "\\item 123\n",
       "\\item 124\n",
       "\\item 125\n",
       "\\item 126\n",
       "\\item 127\n",
       "\\end{enumerate*}\n"
      ],
      "text/markdown": [
       "1. 113\n",
       "2. 114\n",
       "3. 115\n",
       "4. 116\n",
       "5. 117\n",
       "6. 118\n",
       "7. 119\n",
       "8. 120\n",
       "9. 121\n",
       "10. 122\n",
       "11. 123\n",
       "12. 124\n",
       "13. 125\n",
       "14. 126\n",
       "15. 127\n",
       "\n",
       "\n"
      ],
      "text/plain": [
       " [1] 113 114 115 116 117 118 119 120 121 122 123 124 125 126 127"
      ]
     },
     "metadata": {},
     "output_type": "display_data"
    }
   ],
   "source": [
    "first_peak_indices <- which(periodogram_result$freq >= 0.00260 & periodogram_result$freq <= 0.00295)\n",
    "first_peak_indices"
   ]
  },
  {
   "cell_type": "code",
   "execution_count": 40,
   "metadata": {},
   "outputs": [
    {
     "data": {
      "text/html": [
       "<ol class=list-inline>\n",
       "\t<li>232</li>\n",
       "\t<li>233</li>\n",
       "\t<li>234</li>\n",
       "\t<li>235</li>\n",
       "\t<li>236</li>\n",
       "\t<li>237</li>\n",
       "\t<li>238</li>\n",
       "\t<li>239</li>\n",
       "\t<li>240</li>\n",
       "\t<li>241</li>\n",
       "</ol>\n"
      ],
      "text/latex": [
       "\\begin{enumerate*}\n",
       "\\item 232\n",
       "\\item 233\n",
       "\\item 234\n",
       "\\item 235\n",
       "\\item 236\n",
       "\\item 237\n",
       "\\item 238\n",
       "\\item 239\n",
       "\\item 240\n",
       "\\item 241\n",
       "\\end{enumerate*}\n"
      ],
      "text/markdown": [
       "1. 232\n",
       "2. 233\n",
       "3. 234\n",
       "4. 235\n",
       "5. 236\n",
       "6. 237\n",
       "7. 238\n",
       "8. 239\n",
       "9. 240\n",
       "10. 241\n",
       "\n",
       "\n"
      ],
      "text/plain": [
       " [1] 232 233 234 235 236 237 238 239 240 241"
      ]
     },
     "metadata": {},
     "output_type": "display_data"
    }
   ],
   "source": [
    "second_peak_indices <- which(periodogram_result$freq >= 0.00535 & periodogram_result$freq <= 0.00560)\n",
    "second_peak_indices"
   ]
  },
  {
   "cell_type": "code",
   "execution_count": 41,
   "metadata": {
    "collapsed": true
   },
   "outputs": [],
   "source": [
    "periodogram_result$spec[first_peak_indices] = 0\n",
    "periodogram_result$spec[second_peak_indices] = 0"
   ]
  },
  {
   "cell_type": "code",
   "execution_count": 42,
   "metadata": {},
   "outputs": [
    {
     "data": {
      "image/png": "[encoded data removed]",
      "text/plain": [
       "plot without title"
      ]
     },
     "metadata": {},
     "output_type": "display_data"
    }
   ],
   "source": [
    "plot(periodogram_result$freq[1:270], log((periodogram_result$spec)[1:270]), type = 'l')\n",
    "abline(v = 0.00265, col = 'red')\n",
    "abline(v = 0.00290, col = 'red')\n",
    "abline(v = 0.00540, col = 'red')\n",
    "abline(v = 0.00555, col = 'red')"
   ]
  },
  {
   "cell_type": "code",
   "execution_count": 43,
   "metadata": {
    "collapsed": true
   },
   "outputs": [],
   "source": [
    "raw_temp <- data$MaxTemp"
   ]
  },
  {
   "cell_type": "code",
   "execution_count": 44,
   "metadata": {},
   "outputs": [
    {
     "data": {
      "image/png": "[encoded data removed]",
      "text/plain": [
       "Plot with title \"Series: x\n",
       "Raw Periodogram\""
      ]
     },
     "metadata": {},
     "output_type": "display_data"
    }
   ],
   "source": [
    "spectral_density <- spectrum(raw_temp)"
   ]
  },
  {
   "cell_type": "code",
   "execution_count": 47,
   "metadata": {},
   "outputs": [
    {
     "ename": "ERROR",
     "evalue": "Error in library(spectral): there is no package called 'spectral'\n",
     "output_type": "error",
     "traceback": [
      "Error in library(spectral): there is no package called 'spectral'\nTraceback:\n",
      "1. library(spectral)",
      "2. stop(txt, domain = NA)"
     ]
    }
   ],
   "source": [
    "annual_osc = spectral::filter.fft(raw_temp, x = NULL, fc = 0.002725, BW = 0.00105, n = 2)\n",
    "biannual_osc = spectral::filter.fft(raw_temp, x = NULL, fc = 0.00545, BW = 0.0002, n = 2)"
   ]
  },
  {
   "cell_type": "code",
   "execution_count": null,
   "metadata": {
    "collapsed": true
   },
   "outputs": [],
   "source": [
    "plot(Re(raw_temp - annual_osc - biannual_osc)[1:3000], type = 'l')"
   ]
  },
  {
   "cell_type": "code",
   "execution_count": null,
   "metadata": {
    "collapsed": true
   },
   "outputs": [],
   "source": [
    "plot(Re(annual_osc + biannual_osc)[1:3000], type = 'l')"
   ]
  },
  {
   "cell_type": "code",
   "execution_count": null,
   "metadata": {
    "collapsed": true
   },
   "outputs": [],
   "source": [
    "spectrum(Re(raw_temp - annual_osc - biannual_osc))"
   ]
  },
  {
   "cell_type": "code",
   "execution_count": null,
   "metadata": {
    "collapsed": true
   },
   "outputs": [],
   "source": [
    "filtered = Re(raw_temp - annual_osc - biannual_osc)"
   ]
  },
  {
   "cell_type": "code",
   "execution_count": null,
   "metadata": {
    "collapsed": true
   },
   "outputs": [],
   "source": [
    "acf(filtered)"
   ]
  },
  {
   "cell_type": "code",
   "execution_count": null,
   "metadata": {
    "collapsed": true
   },
   "outputs": [],
   "source": [
    "pacf(filtered)"
   ]
  },
  {
   "cell_type": "code",
   "execution_count": null,
   "metadata": {
    "collapsed": true
   },
   "outputs": [],
   "source": [
    "result = fft(filtered)"
   ]
  },
  {
   "cell_type": "code",
   "execution_count": null,
   "metadata": {
    "collapsed": true
   },
   "outputs": [],
   "source": [
    "str(result)"
   ]
  },
  {
   "cell_type": "code",
   "execution_count": null,
   "metadata": {
    "collapsed": true
   },
   "outputs": [],
   "source": [
    "spectrum(filtered)"
   ]
  },
  {
   "cell_type": "code",
   "execution_count": null,
   "metadata": {
    "collapsed": true
   },
   "outputs": [],
   "source": [
    "plot(filtered[1:2000], type = 'l')"
   ]
  },
  {
   "cell_type": "code",
   "execution_count": null,
   "metadata": {
    "collapsed": true
   },
   "outputs": [],
   "source": [
    "head(data)"
   ]
  },
  {
   "cell_type": "code",
   "execution_count": null,
   "metadata": {
    "collapsed": true
   },
   "outputs": [],
   "source": [
    "for (row in c(1: nrow(data))){\n",
    "    month = data[row, 2]\n",
    "    day = data[row, 3]\n",
    "    variance = data_grouped_daily[ which(data_grouped_daily$Month == month & data_grouped_daily$Day == day), ]$MaxTemp\n",
    "    data[row, 4] = data[row, 4] / variance\n",
    "}"
   ]
  },
  {
   "cell_type": "code",
   "execution_count": null,
   "metadata": {
    "collapsed": true
   },
   "outputs": [],
   "source": [
    "plot(filtered$MaxTemp[1:1000], type = 'l')"
   ]
  },
  {
   "cell_type": "markdown",
   "metadata": {},
   "source": [
    "### Removing Trend in the Time Domain"
   ]
  },
  {
   "cell_type": "code",
   "execution_count": 84,
   "metadata": {},
   "outputs": [
    {
     "ename": "ERROR",
     "evalue": "Error in data$MaxTemp: object of type 'closure' is not subsettable\n",
     "output_type": "error",
     "traceback": [
      "Error in data$MaxTemp: object of type 'closure' is not subsettable\nTraceback:\n"
     ]
    }
   ],
   "source": [
    "raw_temp <- data$MaxTemp"
   ]
  },
  {
   "cell_type": "code",
   "execution_count": 85,
   "metadata": {},
   "outputs": [
    {
     "ename": "ERROR",
     "evalue": "Error in data.frame(t, raw_temp): object 'raw_temp' not found\n",
     "output_type": "error",
     "traceback": [
      "Error in data.frame(t, raw_temp): object 'raw_temp' not found\nTraceback:\n",
      "1. nls(raw_temp ~ A * sin(omega * t + phi) + C, data = data.frame(t, \n .     raw_temp), start = list(A = 1, phi = 1, C = 1))",
      "2. data.frame(t, raw_temp)"
     ]
    }
   ],
   "source": [
    "t <- c(1:42340)\n",
    "omega <- 2*pi*0.00273148148148148\n",
    "res <- nls(raw_temp ~ A*sin(omega*t+phi)+C, data = data.frame(t, raw_temp), start=list(A=1,phi=1, C=1))"
   ]
  },
  {
   "cell_type": "code",
   "execution_count": 86,
   "metadata": {},
   "outputs": [
    {
     "ename": "ERROR",
     "evalue": "Error in summary(res): object 'res' not found\n",
     "output_type": "error",
     "traceback": [
      "Error in summary(res): object 'res' not found\nTraceback:\n",
      "1. summary(res)"
     ]
    }
   ],
   "source": [
    "summary(res)"
   ]
  },
  {
   "cell_type": "code",
   "execution_count": null,
   "metadata": {
    "collapsed": true
   },
   "outputs": [],
   "source": [
    "trend <- ((-5.500347*sin(omega*t-1.8)+19.684548))\n",
    "plot(trend[1:1000], col = 'black', ylim=c(-10, 35))\n",
    "lines(t[1:1000], raw_temp[1:1000], col = 'red')\n",
    "lines(t[1:1000], (trend - raw_temp)[1:1000])"
   ]
  },
  {
   "cell_type": "code",
   "execution_count": null,
   "metadata": {
    "collapsed": true
   },
   "outputs": [],
   "source": [
    "mean(raw_temp)"
   ]
  },
  {
   "cell_type": "code",
   "execution_count": null,
   "metadata": {
    "collapsed": true
   },
   "outputs": [],
   "source": [
    "pacf(trend - raw_temp)"
   ]
  },
  {
   "cell_type": "markdown",
   "metadata": {
    "collapsed": true
   },
   "source": [
    "# With grouping by month"
   ]
  },
  {
   "cell_type": "code",
   "execution_count": 1,
   "metadata": {
    "collapsed": true
   },
   "outputs": [],
   "source": [
    "raw_data = read.csv(\"final_cleaned_data.csv\")"
   ]
  },
  {
   "cell_type": "code",
   "execution_count": 2,
   "metadata": {
    "collapsed": true
   },
   "outputs": [],
   "source": [
    "copied_data = data.frame(raw_data)"
   ]
  },
  {
   "cell_type": "code",
   "execution_count": 3,
   "metadata": {
    "collapsed": true
   },
   "outputs": [],
   "source": [
    "annual_osc = spectral::filter.fft(copied_data$MaxTemp, x = NULL, fc = 0.002725, BW = 0.00105, n = 2)\n",
    "biannual_osc = spectral::filter.fft(copied_data$MaxTemp, x = NULL, fc = 0.00545, BW = 0.0002, n = 2)\n",
    "copied_data$MaxTemp = Re(copied_data$MaxTemp - annual_osc - biannual_osc)"
   ]
  },
  {
   "cell_type": "code",
   "execution_count": 4,
   "metadata": {},
   "outputs": [
    {
     "data": {
      "image/png": "[encoded data removed]",
      "text/plain": [
       "plot without title"
      ]
     },
     "metadata": {},
     "output_type": "display_data"
    }
   ],
   "source": [
    "plot(copied_data$MaxTemp[1:2000], type = 'l')"
   ]
  },
  {
   "cell_type": "code",
   "execution_count": 6,
   "metadata": {
    "collapsed": true
   },
   "outputs": [],
   "source": [
    "grouped_daily_var = aggregate(MaxTemp ~ Month*Day, copied_data, FUN = var)\n",
    "grouped_daily_var = grouped_daily_var[order(grouped_daily_var$Month, grouped_daily_var$Day), ]\n",
    "grouped_daily_avg = aggregate(MaxTemp ~ Month*Day, copied_data, FUN = mean)\n",
    "grouped_daily_avg = grouped_daily_avg[order(grouped_daily_avg$Month, grouped_daily_avg$Day), ]"
   ]
  },
  {
   "cell_type": "code",
   "execution_count": 7,
   "metadata": {},
   "outputs": [
    {
     "data": {
      "image/png": "[encoded data removed]",
      "text/plain": [
       "plot without title"
      ]
     },
     "metadata": {},
     "output_type": "display_data"
    },
    {
     "data": {
      "image/png": "[encoded data removed]",
      "text/plain": [
       "plot without title"
      ]
     },
     "metadata": {},
     "output_type": "display_data"
    }
   ],
   "source": [
    "plot(grouped_daily_var$MaxTemp)\n",
    "plot(grouped_daily_avg$MaxTemp)"
   ]
  },
  {
   "cell_type": "code",
   "execution_count": 8,
   "metadata": {
    "collapsed": true
   },
   "outputs": [],
   "source": [
    "for (row in c(1: nrow(copied_data))){\n",
    "    month = copied_data[row, 2]\n",
    "    day = copied_data[row, 3]\n",
    "    variance = grouped_daily_var[ which(grouped_daily_var$Month == month & grouped_daily_var$Day == day), ]$MaxTemp\n",
    "    mean = grouped_daily_avg[ which(grouped_daily_avg$Month == month & grouped_daily_avg$Day == day), ]$MaxTemp\n",
    "    copied_data[row, 4] = (copied_data[row, 4] - mean )/ variance\n",
    "}"
   ]
  },
  {
   "cell_type": "code",
   "execution_count": 9,
   "metadata": {},
   "outputs": [
    {
     "data": {
      "image/png": "[encoded data removed]",
      "text/plain": [
       "plot without title"
      ]
     },
     "metadata": {},
     "output_type": "display_data"
    }
   ],
   "source": [
    "plot(copied_data$MaxTemp[1:2000], type = 'l')"
   ]
  },
  {
   "cell_type": "code",
   "execution_count": 18,
   "metadata": {},
   "outputs": [
    {
     "data": {
      "image/png": "[encoded data removed]",
      "text/plain": [
       "Plot with title \"Series: x\n",
       "Raw Periodogram\""
      ]
     },
     "metadata": {},
     "output_type": "display_data"
    }
   ],
   "source": [
    "spectrum(copied_data$MaxTemp)"
   ]
  },
  {
   "cell_type": "code",
   "execution_count": 21,
   "metadata": {},
   "outputs": [
    {
     "data": {
      "image/png": "[encoded data removed]",
      "text/plain": [
       "Plot with title \"Series  copied_data$MaxTemp\""
      ]
     },
     "metadata": {},
     "output_type": "display_data"
    }
   ],
   "source": [
    "acf(copied_data$MaxTemp)"
   ]
  },
  {
   "cell_type": "code",
   "execution_count": null,
   "metadata": {
    "collapsed": true
   },
   "outputs": [],
   "source": []
  }
 ],
 "metadata": {
  "kernelspec": {
   "display_name": "R",
   "language": "R",
   "name": "ir"
  },
  "language_info": {
   "codemirror_mode": "r",
   "file_extension": ".r",
   "mimetype": "text/x-r-source",
   "name": "R",
   "pygments_lexer": "r",
   "version": "3.5.0"
  },
  "varInspector": {
   "cols": {
    "lenName": 16,
    "lenType": 16,
    "lenVar": 40
   },
   "kernels_config": {
    "python": {
     "delete_cmd_postfix": "",
     "delete_cmd_prefix": "del ",
     "library": "var_list.py",
     "varRefreshCmd": "print(var_dic_list())"
    },
    "r": {
     "delete_cmd_postfix": ") ",
     "delete_cmd_prefix": "rm(",
     "library": "var_list.r",
     "varRefreshCmd": "cat(var_dic_list()) "
    }
   },
   "types_to_exclude": [
    "module",
    "function",
    "builtin_function_or_method",
    "instance",
    "_Feature"
   ],
   "window_display": false
  }
 },
 "nbformat": 4,
 "nbformat_minor": 2
}
