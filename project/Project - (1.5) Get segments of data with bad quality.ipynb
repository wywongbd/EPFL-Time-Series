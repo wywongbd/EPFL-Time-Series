{
 "cells": [
  {
   "cell_type": "markdown",
   "metadata": {},
   "source": [
    "### Load raw uncleaned data"
   ]
  },
  {
   "cell_type": "code",
   "execution_count": 1,
   "metadata": {
    "collapsed": true
   },
   "outputs": [],
   "source": [
    "data.uncleaned <- read.csv(file=\"raw.csv\", header=TRUE, sep=\",\")"
   ]
  },
  {
   "cell_type": "code",
   "execution_count": 2,
   "metadata": {
    "collapsed": true
   },
   "outputs": [],
   "source": [
    "names(data.uncleaned) <- c(\"Product_Code\", \"Station_Number\", \"Year\", \"Month\", \"Day\", \"MaxTemp\", \n",
    "                          \"Days_of_accumulation_of_Max_Temperature\", \"Quality\")"
   ]
  },
  {
   "cell_type": "code",
   "execution_count": 3,
   "metadata": {},
   "outputs": [
    {
     "data": {
      "text/html": [
       "<table>\n",
       "<thead><tr><th scope=col>Product_Code</th><th scope=col>Station_Number</th><th scope=col>Year</th><th scope=col>Month</th><th scope=col>Day</th><th scope=col>MaxTemp</th><th scope=col>Days_of_accumulation_of_Max_Temperature</th><th scope=col>Quality</th></tr></thead>\n",
       "<tbody>\n",
       "\t<tr><td>IDCJAC0010</td><td>86071     </td><td>1855      </td><td>1         </td><td>1         </td><td>NA        </td><td>NA        </td><td>          </td></tr>\n",
       "\t<tr><td>IDCJAC0010</td><td>86071     </td><td>1855      </td><td>1         </td><td>2         </td><td>NA        </td><td>NA        </td><td>          </td></tr>\n",
       "\t<tr><td>IDCJAC0010</td><td>86071     </td><td>1855      </td><td>1         </td><td>3         </td><td>NA        </td><td>NA        </td><td>          </td></tr>\n",
       "\t<tr><td>IDCJAC0010</td><td>86071     </td><td>1855      </td><td>1         </td><td>4         </td><td>NA        </td><td>NA        </td><td>          </td></tr>\n",
       "\t<tr><td>IDCJAC0010</td><td>86071     </td><td>1855      </td><td>1         </td><td>5         </td><td>NA        </td><td>NA        </td><td>          </td></tr>\n",
       "\t<tr><td>IDCJAC0010</td><td>86071     </td><td>1855      </td><td>1         </td><td>6         </td><td>NA        </td><td>NA        </td><td>          </td></tr>\n",
       "</tbody>\n",
       "</table>\n"
      ],
      "text/latex": [
       "\\begin{tabular}{r|llllllll}\n",
       " Product\\_Code & Station\\_Number & Year & Month & Day & MaxTemp & Days\\_of\\_accumulation\\_of\\_Max\\_Temperature & Quality\\\\\n",
       "\\hline\n",
       "\t IDCJAC0010 & 86071      & 1855       & 1          & 1          & NA         & NA         &           \\\\\n",
       "\t IDCJAC0010 & 86071      & 1855       & 1          & 2          & NA         & NA         &           \\\\\n",
       "\t IDCJAC0010 & 86071      & 1855       & 1          & 3          & NA         & NA         &           \\\\\n",
       "\t IDCJAC0010 & 86071      & 1855       & 1          & 4          & NA         & NA         &           \\\\\n",
       "\t IDCJAC0010 & 86071      & 1855       & 1          & 5          & NA         & NA         &           \\\\\n",
       "\t IDCJAC0010 & 86071      & 1855       & 1          & 6          & NA         & NA         &           \\\\\n",
       "\\end{tabular}\n"
      ],
      "text/markdown": [
       "\n",
       "Product_Code | Station_Number | Year | Month | Day | MaxTemp | Days_of_accumulation_of_Max_Temperature | Quality | \n",
       "|---|---|---|---|---|---|\n",
       "| IDCJAC0010 | 86071      | 1855       | 1          | 1          | NA         | NA         |            | \n",
       "| IDCJAC0010 | 86071      | 1855       | 1          | 2          | NA         | NA         |            | \n",
       "| IDCJAC0010 | 86071      | 1855       | 1          | 3          | NA         | NA         |            | \n",
       "| IDCJAC0010 | 86071      | 1855       | 1          | 4          | NA         | NA         |            | \n",
       "| IDCJAC0010 | 86071      | 1855       | 1          | 5          | NA         | NA         |            | \n",
       "| IDCJAC0010 | 86071      | 1855       | 1          | 6          | NA         | NA         |            | \n",
       "\n",
       "\n"
      ],
      "text/plain": [
       "  Product_Code Station_Number Year Month Day MaxTemp\n",
       "1 IDCJAC0010   86071          1855 1     1   NA     \n",
       "2 IDCJAC0010   86071          1855 1     2   NA     \n",
       "3 IDCJAC0010   86071          1855 1     3   NA     \n",
       "4 IDCJAC0010   86071          1855 1     4   NA     \n",
       "5 IDCJAC0010   86071          1855 1     5   NA     \n",
       "6 IDCJAC0010   86071          1855 1     6   NA     \n",
       "  Days_of_accumulation_of_Max_Temperature Quality\n",
       "1 NA                                             \n",
       "2 NA                                             \n",
       "3 NA                                             \n",
       "4 NA                                             \n",
       "5 NA                                             \n",
       "6 NA                                             "
      ]
     },
     "metadata": {},
     "output_type": "display_data"
    }
   ],
   "source": [
    "head(data.uncleaned)"
   ]
  },
  {
   "cell_type": "code",
   "execution_count": 4,
   "metadata": {
    "collapsed": true
   },
   "outputs": [],
   "source": [
    "data.uncleaned.na = data.uncleaned[is.na(data.uncleaned$MaxTemp), ]\n",
    "data.uncleaned.na = data.uncleaned.na[with(data.uncleaned.na, order(Year, Month, Day)), ]"
   ]
  },
  {
   "cell_type": "code",
   "execution_count": 5,
   "metadata": {},
   "outputs": [
    {
     "data": {
      "text/html": [
       "<table>\n",
       "<thead><tr><th scope=col>Product_Code</th><th scope=col>Station_Number</th><th scope=col>Year</th><th scope=col>Month</th><th scope=col>Day</th><th scope=col>MaxTemp</th><th scope=col>Days_of_accumulation_of_Max_Temperature</th><th scope=col>Quality</th></tr></thead>\n",
       "<tbody>\n",
       "\t<tr><td>IDCJAC0010</td><td>86071     </td><td>1855      </td><td>1         </td><td>1         </td><td>NA        </td><td>NA        </td><td>          </td></tr>\n",
       "\t<tr><td>IDCJAC0010</td><td>86071     </td><td>1855      </td><td>1         </td><td>2         </td><td>NA        </td><td>NA        </td><td>          </td></tr>\n",
       "\t<tr><td>IDCJAC0010</td><td>86071     </td><td>1855      </td><td>1         </td><td>3         </td><td>NA        </td><td>NA        </td><td>          </td></tr>\n",
       "\t<tr><td>IDCJAC0010</td><td>86071     </td><td>1855      </td><td>1         </td><td>4         </td><td>NA        </td><td>NA        </td><td>          </td></tr>\n",
       "\t<tr><td>IDCJAC0010</td><td>86071     </td><td>1855      </td><td>1         </td><td>5         </td><td>NA        </td><td>NA        </td><td>          </td></tr>\n",
       "\t<tr><td>IDCJAC0010</td><td>86071     </td><td>1855      </td><td>1         </td><td>6         </td><td>NA        </td><td>NA        </td><td>          </td></tr>\n",
       "</tbody>\n",
       "</table>\n"
      ],
      "text/latex": [
       "\\begin{tabular}{r|llllllll}\n",
       " Product\\_Code & Station\\_Number & Year & Month & Day & MaxTemp & Days\\_of\\_accumulation\\_of\\_Max\\_Temperature & Quality\\\\\n",
       "\\hline\n",
       "\t IDCJAC0010 & 86071      & 1855       & 1          & 1          & NA         & NA         &           \\\\\n",
       "\t IDCJAC0010 & 86071      & 1855       & 1          & 2          & NA         & NA         &           \\\\\n",
       "\t IDCJAC0010 & 86071      & 1855       & 1          & 3          & NA         & NA         &           \\\\\n",
       "\t IDCJAC0010 & 86071      & 1855       & 1          & 4          & NA         & NA         &           \\\\\n",
       "\t IDCJAC0010 & 86071      & 1855       & 1          & 5          & NA         & NA         &           \\\\\n",
       "\t IDCJAC0010 & 86071      & 1855       & 1          & 6          & NA         & NA         &           \\\\\n",
       "\\end{tabular}\n"
      ],
      "text/markdown": [
       "\n",
       "Product_Code | Station_Number | Year | Month | Day | MaxTemp | Days_of_accumulation_of_Max_Temperature | Quality | \n",
       "|---|---|---|---|---|---|\n",
       "| IDCJAC0010 | 86071      | 1855       | 1          | 1          | NA         | NA         |            | \n",
       "| IDCJAC0010 | 86071      | 1855       | 1          | 2          | NA         | NA         |            | \n",
       "| IDCJAC0010 | 86071      | 1855       | 1          | 3          | NA         | NA         |            | \n",
       "| IDCJAC0010 | 86071      | 1855       | 1          | 4          | NA         | NA         |            | \n",
       "| IDCJAC0010 | 86071      | 1855       | 1          | 5          | NA         | NA         |            | \n",
       "| IDCJAC0010 | 86071      | 1855       | 1          | 6          | NA         | NA         |            | \n",
       "\n",
       "\n"
      ],
      "text/plain": [
       "  Product_Code Station_Number Year Month Day MaxTemp\n",
       "1 IDCJAC0010   86071          1855 1     1   NA     \n",
       "2 IDCJAC0010   86071          1855 1     2   NA     \n",
       "3 IDCJAC0010   86071          1855 1     3   NA     \n",
       "4 IDCJAC0010   86071          1855 1     4   NA     \n",
       "5 IDCJAC0010   86071          1855 1     5   NA     \n",
       "6 IDCJAC0010   86071          1855 1     6   NA     \n",
       "  Days_of_accumulation_of_Max_Temperature Quality\n",
       "1 NA                                             \n",
       "2 NA                                             \n",
       "3 NA                                             \n",
       "4 NA                                             \n",
       "5 NA                                             \n",
       "6 NA                                             "
      ]
     },
     "metadata": {},
     "output_type": "display_data"
    }
   ],
   "source": [
    "head(data.uncleaned.na)"
   ]
  },
  {
   "cell_type": "code",
   "execution_count": 6,
   "metadata": {},
   "outputs": [
    {
     "data": {
      "text/html": [
       "\n",
       "<details>\n",
       "\t<summary style=display:list-item;cursor:pointer>\n",
       "\t\t<strong>Levels</strong>:\n",
       "\t</summary>\n",
       "\t<ol class=list-inline>\n",
       "\t\t<li>''</li>\n",
       "\t\t<li>'N'</li>\n",
       "\t\t<li>'Y'</li>\n",
       "\t</ol>\n",
       "</details>"
      ],
      "text/latex": [
       "\n",
       "\\emph{Levels}: \\begin{enumerate*}\n",
       "\\item ''\n",
       "\\item 'N'\n",
       "\\item 'Y'\n",
       "\\end{enumerate*}\n"
      ],
      "text/markdown": [
       "\n",
       "**Levels**: 1. ''\n",
       "2. 'N'\n",
       "3. 'Y'\n",
       "\n",
       "\n"
      ],
      "text/plain": [
       "[1] \n",
       "Levels:  N Y"
      ]
     },
     "metadata": {},
     "output_type": "display_data"
    }
   ],
   "source": [
    "unique(data.uncleaned.na$Quality)"
   ]
  },
  {
   "cell_type": "code",
   "execution_count": 12,
   "metadata": {
    "collapsed": true
   },
   "outputs": [],
   "source": [
    "data.uncleaned.bad = data.uncleaned[which(data.uncleaned$Quality == 'N'), ]\n",
    "data.uncleaned.bad = data.uncleaned.bad[with(data.uncleaned.bad, order(Year, Month, Day)), ]"
   ]
  },
  {
   "cell_type": "code",
   "execution_count": 8,
   "metadata": {},
   "outputs": [
    {
     "data": {
      "text/html": [
       "<table>\n",
       "<thead><tr><th></th><th scope=col>Product_Code</th><th scope=col>Station_Number</th><th scope=col>Year</th><th scope=col>Month</th><th scope=col>Day</th><th scope=col>MaxTemp</th><th scope=col>Days_of_accumulation_of_Max_Temperature</th><th scope=col>Quality</th></tr></thead>\n",
       "<tbody>\n",
       "\t<tr><th scope=row>121</th><td>IDCJAC0010</td><td>86071     </td><td>1855      </td><td> 5        </td><td> 1        </td><td>16.7      </td><td>1         </td><td>N         </td></tr>\n",
       "\t<tr><th scope=row>4745</th><td>IDCJAC0010</td><td>86071     </td><td>1867      </td><td>12        </td><td>28        </td><td>21.5      </td><td>1         </td><td>N         </td></tr>\n",
       "\t<tr><th scope=row>57087</th><td>IDCJAC0010</td><td>86071     </td><td>2011      </td><td> 4        </td><td>19        </td><td>23.2      </td><td>1         </td><td>N         </td></tr>\n",
       "\t<tr><th scope=row>57679</th><td>IDCJAC0010</td><td>86071     </td><td>2012      </td><td>12        </td><td> 1        </td><td>27.4      </td><td>1         </td><td>N         </td></tr>\n",
       "\t<tr><th scope=row>57680</th><td>IDCJAC0010</td><td>86071     </td><td>2012      </td><td>12        </td><td> 2        </td><td>20.7      </td><td>1         </td><td>N         </td></tr>\n",
       "\t<tr><th scope=row>57681</th><td>IDCJAC0010</td><td>86071     </td><td>2012      </td><td>12        </td><td> 3        </td><td>21.4      </td><td>1         </td><td>N         </td></tr>\n",
       "</tbody>\n",
       "</table>\n"
      ],
      "text/latex": [
       "\\begin{tabular}{r|llllllll}\n",
       "  & Product\\_Code & Station\\_Number & Year & Month & Day & MaxTemp & Days\\_of\\_accumulation\\_of\\_Max\\_Temperature & Quality\\\\\n",
       "\\hline\n",
       "\t121 & IDCJAC0010 & 86071      & 1855       &  5         &  1         & 16.7       & 1          & N         \\\\\n",
       "\t4745 & IDCJAC0010 & 86071      & 1867       & 12         & 28         & 21.5       & 1          & N         \\\\\n",
       "\t57087 & IDCJAC0010 & 86071      & 2011       &  4         & 19         & 23.2       & 1          & N         \\\\\n",
       "\t57679 & IDCJAC0010 & 86071      & 2012       & 12         &  1         & 27.4       & 1          & N         \\\\\n",
       "\t57680 & IDCJAC0010 & 86071      & 2012       & 12         &  2         & 20.7       & 1          & N         \\\\\n",
       "\t57681 & IDCJAC0010 & 86071      & 2012       & 12         &  3         & 21.4       & 1          & N         \\\\\n",
       "\\end{tabular}\n"
      ],
      "text/markdown": [
       "\n",
       "| <!--/--> | Product_Code | Station_Number | Year | Month | Day | MaxTemp | Days_of_accumulation_of_Max_Temperature | Quality | \n",
       "|---|---|---|---|---|---|\n",
       "| 121 | IDCJAC0010 | 86071      | 1855       |  5         |  1         | 16.7       | 1          | N          | \n",
       "| 4745 | IDCJAC0010 | 86071      | 1867       | 12         | 28         | 21.5       | 1          | N          | \n",
       "| 57087 | IDCJAC0010 | 86071      | 2011       |  4         | 19         | 23.2       | 1          | N          | \n",
       "| 57679 | IDCJAC0010 | 86071      | 2012       | 12         |  1         | 27.4       | 1          | N          | \n",
       "| 57680 | IDCJAC0010 | 86071      | 2012       | 12         |  2         | 20.7       | 1          | N          | \n",
       "| 57681 | IDCJAC0010 | 86071      | 2012       | 12         |  3         | 21.4       | 1          | N          | \n",
       "\n",
       "\n"
      ],
      "text/plain": [
       "      Product_Code Station_Number Year Month Day MaxTemp\n",
       "121   IDCJAC0010   86071          1855  5     1  16.7   \n",
       "4745  IDCJAC0010   86071          1867 12    28  21.5   \n",
       "57087 IDCJAC0010   86071          2011  4    19  23.2   \n",
       "57679 IDCJAC0010   86071          2012 12     1  27.4   \n",
       "57680 IDCJAC0010   86071          2012 12     2  20.7   \n",
       "57681 IDCJAC0010   86071          2012 12     3  21.4   \n",
       "      Days_of_accumulation_of_Max_Temperature Quality\n",
       "121   1                                       N      \n",
       "4745  1                                       N      \n",
       "57087 1                                       N      \n",
       "57679 1                                       N      \n",
       "57680 1                                       N      \n",
       "57681 1                                       N      "
      ]
     },
     "metadata": {},
     "output_type": "display_data"
    }
   ],
   "source": [
    "head(data.uncleaned.bad)"
   ]
  },
  {
   "cell_type": "code",
   "execution_count": 20,
   "metadata": {},
   "outputs": [
    {
     "data": {
      "image/png": "[encoded data removed]",
      "text/plain": [
       "plot without title"
      ]
     },
     "metadata": {},
     "output_type": "display_data"
    }
   ],
   "source": [
    "data.uncleaned.unknownQuality = data.uncleaned[which((data.uncleaned$Year == 1983 & data.uncleaned$Month == 12)|\n",
    "                                                    (data.uncleaned$Year >= 1984)\n",
    "                                                    ), ]\n",
    "plot(y = as.numeric(data.uncleaned.unknownQuality$Quality), x = c(1: nrow(data.uncleaned.unknownQuality)))"
   ]
  },
  {
   "cell_type": "code",
   "execution_count": 70,
   "metadata": {},
   "outputs": [
    {
     "data": {
      "text/html": [
       "<table>\n",
       "<thead><tr><th></th><th scope=col>Product_Code</th><th scope=col>Station_Number</th><th scope=col>Year</th><th scope=col>Month</th><th scope=col>Day</th><th scope=col>MaxTemp</th><th scope=col>Days_of_accumulation_of_Max_Temperature</th><th scope=col>Quality</th></tr></thead>\n",
       "<tbody>\n",
       "\t<tr><th scope=row>57087</th><td>IDCJAC0010</td><td>86071     </td><td>2011      </td><td> 4        </td><td>19        </td><td>23.2      </td><td>1         </td><td>N         </td></tr>\n",
       "\t<tr><th scope=row>57679</th><td>IDCJAC0010</td><td>86071     </td><td>2012      </td><td>12        </td><td> 1        </td><td>27.4      </td><td>1         </td><td>N         </td></tr>\n",
       "\t<tr><th scope=row>57680</th><td>IDCJAC0010</td><td>86071     </td><td>2012      </td><td>12        </td><td> 2        </td><td>20.7      </td><td>1         </td><td>N         </td></tr>\n",
       "\t<tr><th scope=row>57681</th><td>IDCJAC0010</td><td>86071     </td><td>2012      </td><td>12        </td><td> 3        </td><td>21.4      </td><td>1         </td><td>N         </td></tr>\n",
       "\t<tr><th scope=row>57682</th><td>IDCJAC0010</td><td>86071     </td><td>2012      </td><td>12        </td><td> 4        </td><td>18.9      </td><td>1         </td><td>N         </td></tr>\n",
       "\t<tr><th scope=row>57683</th><td>IDCJAC0010</td><td>86071     </td><td>2012      </td><td>12        </td><td> 5        </td><td>18.2      </td><td>1         </td><td>N         </td></tr>\n",
       "\t<tr><th scope=row>57684</th><td>IDCJAC0010</td><td>86071     </td><td>2012      </td><td>12        </td><td> 6        </td><td>21.2      </td><td>1         </td><td>N         </td></tr>\n",
       "\t<tr><th scope=row>57685</th><td>IDCJAC0010</td><td>86071     </td><td>2012      </td><td>12        </td><td> 7        </td><td>30.6      </td><td>1         </td><td>N         </td></tr>\n",
       "\t<tr><th scope=row>57686</th><td>IDCJAC0010</td><td>86071     </td><td>2012      </td><td>12        </td><td> 8        </td><td>37.0      </td><td>1         </td><td>N         </td></tr>\n",
       "\t<tr><th scope=row>57687</th><td>IDCJAC0010</td><td>86071     </td><td>2012      </td><td>12        </td><td> 9        </td><td>21.1      </td><td>1         </td><td>N         </td></tr>\n",
       "\t<tr><th scope=row>57688</th><td>IDCJAC0010</td><td>86071     </td><td>2012      </td><td>12        </td><td>10        </td><td>21.4      </td><td>1         </td><td>N         </td></tr>\n",
       "\t<tr><th scope=row>57689</th><td>IDCJAC0010</td><td>86071     </td><td>2012      </td><td>12        </td><td>11        </td><td>29.1      </td><td>1         </td><td>N         </td></tr>\n",
       "\t<tr><th scope=row>57690</th><td>IDCJAC0010</td><td>86071     </td><td>2012      </td><td>12        </td><td>12        </td><td>34.3      </td><td>1         </td><td>N         </td></tr>\n",
       "\t<tr><th scope=row>57691</th><td>IDCJAC0010</td><td>86071     </td><td>2012      </td><td>12        </td><td>13        </td><td>35.1      </td><td>1         </td><td>N         </td></tr>\n",
       "\t<tr><th scope=row>57692</th><td>IDCJAC0010</td><td>86071     </td><td>2012      </td><td>12        </td><td>14        </td><td>22.9      </td><td>1         </td><td>N         </td></tr>\n",
       "\t<tr><th scope=row>57693</th><td>IDCJAC0010</td><td>86071     </td><td>2012      </td><td>12        </td><td>15        </td><td>24.8      </td><td>1         </td><td>N         </td></tr>\n",
       "\t<tr><th scope=row>57694</th><td>IDCJAC0010</td><td>86071     </td><td>2012      </td><td>12        </td><td>16        </td><td>23.1      </td><td>1         </td><td>N         </td></tr>\n",
       "\t<tr><th scope=row>57695</th><td>IDCJAC0010</td><td>86071     </td><td>2012      </td><td>12        </td><td>17        </td><td>22.0      </td><td>1         </td><td>N         </td></tr>\n",
       "\t<tr><th scope=row>57696</th><td>IDCJAC0010</td><td>86071     </td><td>2012      </td><td>12        </td><td>18        </td><td>27.8      </td><td>1         </td><td>N         </td></tr>\n",
       "\t<tr><th scope=row>57697</th><td>IDCJAC0010</td><td>86071     </td><td>2012      </td><td>12        </td><td>19        </td><td>32.6      </td><td>1         </td><td>N         </td></tr>\n",
       "\t<tr><th scope=row>57698</th><td>IDCJAC0010</td><td>86071     </td><td>2012      </td><td>12        </td><td>20        </td><td>23.5      </td><td>1         </td><td>N         </td></tr>\n",
       "\t<tr><th scope=row>57699</th><td>IDCJAC0010</td><td>86071     </td><td>2012      </td><td>12        </td><td>21        </td><td>22.4      </td><td>1         </td><td>N         </td></tr>\n",
       "\t<tr><th scope=row>57700</th><td>IDCJAC0010</td><td>86071     </td><td>2012      </td><td>12        </td><td>22        </td><td>28.3      </td><td>1         </td><td>N         </td></tr>\n",
       "\t<tr><th scope=row>57701</th><td>IDCJAC0010</td><td>86071     </td><td>2012      </td><td>12        </td><td>23        </td><td>38.3      </td><td>1         </td><td>N         </td></tr>\n",
       "\t<tr><th scope=row>57702</th><td>IDCJAC0010</td><td>86071     </td><td>2012      </td><td>12        </td><td>24        </td><td>27.6      </td><td>1         </td><td>N         </td></tr>\n",
       "\t<tr><th scope=row>57703</th><td>IDCJAC0010</td><td>86071     </td><td>2012      </td><td>12        </td><td>25        </td><td>21.9      </td><td>1         </td><td>N         </td></tr>\n",
       "\t<tr><th scope=row>57704</th><td>IDCJAC0010</td><td>86071     </td><td>2012      </td><td>12        </td><td>26        </td><td>22.4      </td><td>1         </td><td>N         </td></tr>\n",
       "\t<tr><th scope=row>57705</th><td>IDCJAC0010</td><td>86071     </td><td>2012      </td><td>12        </td><td>27        </td><td>31.2      </td><td>1         </td><td>N         </td></tr>\n",
       "\t<tr><th scope=row>57706</th><td>IDCJAC0010</td><td>86071     </td><td>2012      </td><td>12        </td><td>28        </td><td>21.7      </td><td>1         </td><td>N         </td></tr>\n",
       "\t<tr><th scope=row>57707</th><td>IDCJAC0010</td><td>86071     </td><td>2012      </td><td>12        </td><td>29        </td><td>23.3      </td><td>1         </td><td>N         </td></tr>\n",
       "\t<tr><th scope=row>...</th><td>...</td><td>...</td><td>...</td><td>...</td><td>...</td><td>...</td><td>...</td><td>...</td></tr>\n",
       "\t<tr><th scope=row>57800</th><td>IDCJAC0010</td><td>86071     </td><td>2013      </td><td>4         </td><td> 1        </td><td>20.1      </td><td>1         </td><td>N         </td></tr>\n",
       "\t<tr><th scope=row>57801</th><td>IDCJAC0010</td><td>86071     </td><td>2013      </td><td>4         </td><td> 2        </td><td>19.9      </td><td>1         </td><td>N         </td></tr>\n",
       "\t<tr><th scope=row>57802</th><td>IDCJAC0010</td><td>86071     </td><td>2013      </td><td>4         </td><td> 3        </td><td>17.8      </td><td>1         </td><td>N         </td></tr>\n",
       "\t<tr><th scope=row>57803</th><td>IDCJAC0010</td><td>86071     </td><td>2013      </td><td>4         </td><td> 4        </td><td>21.0      </td><td>1         </td><td>N         </td></tr>\n",
       "\t<tr><th scope=row>57804</th><td>IDCJAC0010</td><td>86071     </td><td>2013      </td><td>4         </td><td> 5        </td><td>25.2      </td><td>1         </td><td>N         </td></tr>\n",
       "\t<tr><th scope=row>57805</th><td>IDCJAC0010</td><td>86071     </td><td>2013      </td><td>4         </td><td> 6        </td><td>28.2      </td><td>1         </td><td>N         </td></tr>\n",
       "\t<tr><th scope=row>57806</th><td>IDCJAC0010</td><td>86071     </td><td>2013      </td><td>4         </td><td> 7        </td><td>27.4      </td><td>1         </td><td>N         </td></tr>\n",
       "\t<tr><th scope=row>57807</th><td>IDCJAC0010</td><td>86071     </td><td>2013      </td><td>4         </td><td> 8        </td><td>23.3      </td><td>1         </td><td>N         </td></tr>\n",
       "\t<tr><th scope=row>57808</th><td>IDCJAC0010</td><td>86071     </td><td>2013      </td><td>4         </td><td> 9        </td><td>23.5      </td><td>1         </td><td>N         </td></tr>\n",
       "\t<tr><th scope=row>57809</th><td>IDCJAC0010</td><td>86071     </td><td>2013      </td><td>4         </td><td>10        </td><td>24.8      </td><td>1         </td><td>N         </td></tr>\n",
       "\t<tr><th scope=row>57810</th><td>IDCJAC0010</td><td>86071     </td><td>2013      </td><td>4         </td><td>11        </td><td>18.4      </td><td>1         </td><td>N         </td></tr>\n",
       "\t<tr><th scope=row>57811</th><td>IDCJAC0010</td><td>86071     </td><td>2013      </td><td>4         </td><td>12        </td><td>25.1      </td><td>1         </td><td>N         </td></tr>\n",
       "\t<tr><th scope=row>57812</th><td>IDCJAC0010</td><td>86071     </td><td>2013      </td><td>4         </td><td>13        </td><td>24.3      </td><td>1         </td><td>N         </td></tr>\n",
       "\t<tr><th scope=row>57813</th><td>IDCJAC0010</td><td>86071     </td><td>2013      </td><td>4         </td><td>14        </td><td>22.5      </td><td>1         </td><td>N         </td></tr>\n",
       "\t<tr><th scope=row>57814</th><td>IDCJAC0010</td><td>86071     </td><td>2013      </td><td>4         </td><td>15        </td><td>16.0      </td><td>1         </td><td>N         </td></tr>\n",
       "\t<tr><th scope=row>57815</th><td>IDCJAC0010</td><td>86071     </td><td>2013      </td><td>4         </td><td>16        </td><td>20.2      </td><td>1         </td><td>N         </td></tr>\n",
       "\t<tr><th scope=row>57816</th><td>IDCJAC0010</td><td>86071     </td><td>2013      </td><td>4         </td><td>17        </td><td>19.3      </td><td>1         </td><td>N         </td></tr>\n",
       "\t<tr><th scope=row>57817</th><td>IDCJAC0010</td><td>86071     </td><td>2013      </td><td>4         </td><td>18        </td><td>18.5      </td><td>1         </td><td>N         </td></tr>\n",
       "\t<tr><th scope=row>57818</th><td>IDCJAC0010</td><td>86071     </td><td>2013      </td><td>4         </td><td>19        </td><td>18.4      </td><td>1         </td><td>N         </td></tr>\n",
       "\t<tr><th scope=row>57819</th><td>IDCJAC0010</td><td>86071     </td><td>2013      </td><td>4         </td><td>20        </td><td>19.0      </td><td>1         </td><td>N         </td></tr>\n",
       "\t<tr><th scope=row>57820</th><td>IDCJAC0010</td><td>86071     </td><td>2013      </td><td>4         </td><td>21        </td><td>20.7      </td><td>1         </td><td>N         </td></tr>\n",
       "\t<tr><th scope=row>57821</th><td>IDCJAC0010</td><td>86071     </td><td>2013      </td><td>4         </td><td>22        </td><td>17.2      </td><td>1         </td><td>N         </td></tr>\n",
       "\t<tr><th scope=row>57822</th><td>IDCJAC0010</td><td>86071     </td><td>2013      </td><td>4         </td><td>23        </td><td>19.7      </td><td>1         </td><td>N         </td></tr>\n",
       "\t<tr><th scope=row>57823</th><td>IDCJAC0010</td><td>86071     </td><td>2013      </td><td>4         </td><td>24        </td><td>20.9      </td><td>1         </td><td>N         </td></tr>\n",
       "\t<tr><th scope=row>57824</th><td>IDCJAC0010</td><td>86071     </td><td>2013      </td><td>4         </td><td>25        </td><td>21.2      </td><td>1         </td><td>N         </td></tr>\n",
       "\t<tr><th scope=row>57825</th><td>IDCJAC0010</td><td>86071     </td><td>2013      </td><td>4         </td><td>26        </td><td>23.6      </td><td>1         </td><td>N         </td></tr>\n",
       "\t<tr><th scope=row>57826</th><td>IDCJAC0010</td><td>86071     </td><td>2013      </td><td>4         </td><td>27        </td><td>24.5      </td><td>1         </td><td>N         </td></tr>\n",
       "\t<tr><th scope=row>57827</th><td>IDCJAC0010</td><td>86071     </td><td>2013      </td><td>4         </td><td>28        </td><td>19.5      </td><td>1         </td><td>N         </td></tr>\n",
       "\t<tr><th scope=row>57828</th><td>IDCJAC0010</td><td>86071     </td><td>2013      </td><td>4         </td><td>29        </td><td>18.4      </td><td>1         </td><td>N         </td></tr>\n",
       "\t<tr><th scope=row>57829</th><td>IDCJAC0010</td><td>86071     </td><td>2013      </td><td>4         </td><td>30        </td><td>19.3      </td><td>1         </td><td>N         </td></tr>\n",
       "</tbody>\n",
       "</table>\n"
      ],
      "text/latex": [
       "\\begin{tabular}{r|llllllll}\n",
       "  & Product\\_Code & Station\\_Number & Year & Month & Day & MaxTemp & Days\\_of\\_accumulation\\_of\\_Max\\_Temperature & Quality\\\\\n",
       "\\hline\n",
       "\t57087 & IDCJAC0010 & 86071      & 2011       &  4         & 19         & 23.2       & 1          & N         \\\\\n",
       "\t57679 & IDCJAC0010 & 86071      & 2012       & 12         &  1         & 27.4       & 1          & N         \\\\\n",
       "\t57680 & IDCJAC0010 & 86071      & 2012       & 12         &  2         & 20.7       & 1          & N         \\\\\n",
       "\t57681 & IDCJAC0010 & 86071      & 2012       & 12         &  3         & 21.4       & 1          & N         \\\\\n",
       "\t57682 & IDCJAC0010 & 86071      & 2012       & 12         &  4         & 18.9       & 1          & N         \\\\\n",
       "\t57683 & IDCJAC0010 & 86071      & 2012       & 12         &  5         & 18.2       & 1          & N         \\\\\n",
       "\t57684 & IDCJAC0010 & 86071      & 2012       & 12         &  6         & 21.2       & 1          & N         \\\\\n",
       "\t57685 & IDCJAC0010 & 86071      & 2012       & 12         &  7         & 30.6       & 1          & N         \\\\\n",
       "\t57686 & IDCJAC0010 & 86071      & 2012       & 12         &  8         & 37.0       & 1          & N         \\\\\n",
       "\t57687 & IDCJAC0010 & 86071      & 2012       & 12         &  9         & 21.1       & 1          & N         \\\\\n",
       "\t57688 & IDCJAC0010 & 86071      & 2012       & 12         & 10         & 21.4       & 1          & N         \\\\\n",
       "\t57689 & IDCJAC0010 & 86071      & 2012       & 12         & 11         & 29.1       & 1          & N         \\\\\n",
       "\t57690 & IDCJAC0010 & 86071      & 2012       & 12         & 12         & 34.3       & 1          & N         \\\\\n",
       "\t57691 & IDCJAC0010 & 86071      & 2012       & 12         & 13         & 35.1       & 1          & N         \\\\\n",
       "\t57692 & IDCJAC0010 & 86071      & 2012       & 12         & 14         & 22.9       & 1          & N         \\\\\n",
       "\t57693 & IDCJAC0010 & 86071      & 2012       & 12         & 15         & 24.8       & 1          & N         \\\\\n",
       "\t57694 & IDCJAC0010 & 86071      & 2012       & 12         & 16         & 23.1       & 1          & N         \\\\\n",
       "\t57695 & IDCJAC0010 & 86071      & 2012       & 12         & 17         & 22.0       & 1          & N         \\\\\n",
       "\t57696 & IDCJAC0010 & 86071      & 2012       & 12         & 18         & 27.8       & 1          & N         \\\\\n",
       "\t57697 & IDCJAC0010 & 86071      & 2012       & 12         & 19         & 32.6       & 1          & N         \\\\\n",
       "\t57698 & IDCJAC0010 & 86071      & 2012       & 12         & 20         & 23.5       & 1          & N         \\\\\n",
       "\t57699 & IDCJAC0010 & 86071      & 2012       & 12         & 21         & 22.4       & 1          & N         \\\\\n",
       "\t57700 & IDCJAC0010 & 86071      & 2012       & 12         & 22         & 28.3       & 1          & N         \\\\\n",
       "\t57701 & IDCJAC0010 & 86071      & 2012       & 12         & 23         & 38.3       & 1          & N         \\\\\n",
       "\t57702 & IDCJAC0010 & 86071      & 2012       & 12         & 24         & 27.6       & 1          & N         \\\\\n",
       "\t57703 & IDCJAC0010 & 86071      & 2012       & 12         & 25         & 21.9       & 1          & N         \\\\\n",
       "\t57704 & IDCJAC0010 & 86071      & 2012       & 12         & 26         & 22.4       & 1          & N         \\\\\n",
       "\t57705 & IDCJAC0010 & 86071      & 2012       & 12         & 27         & 31.2       & 1          & N         \\\\\n",
       "\t57706 & IDCJAC0010 & 86071      & 2012       & 12         & 28         & 21.7       & 1          & N         \\\\\n",
       "\t57707 & IDCJAC0010 & 86071      & 2012       & 12         & 29         & 23.3       & 1          & N         \\\\\n",
       "\t... & ... & ... & ... & ... & ... & ... & ... & ...\\\\\n",
       "\t57800 & IDCJAC0010 & 86071      & 2013       & 4          &  1         & 20.1       & 1          & N         \\\\\n",
       "\t57801 & IDCJAC0010 & 86071      & 2013       & 4          &  2         & 19.9       & 1          & N         \\\\\n",
       "\t57802 & IDCJAC0010 & 86071      & 2013       & 4          &  3         & 17.8       & 1          & N         \\\\\n",
       "\t57803 & IDCJAC0010 & 86071      & 2013       & 4          &  4         & 21.0       & 1          & N         \\\\\n",
       "\t57804 & IDCJAC0010 & 86071      & 2013       & 4          &  5         & 25.2       & 1          & N         \\\\\n",
       "\t57805 & IDCJAC0010 & 86071      & 2013       & 4          &  6         & 28.2       & 1          & N         \\\\\n",
       "\t57806 & IDCJAC0010 & 86071      & 2013       & 4          &  7         & 27.4       & 1          & N         \\\\\n",
       "\t57807 & IDCJAC0010 & 86071      & 2013       & 4          &  8         & 23.3       & 1          & N         \\\\\n",
       "\t57808 & IDCJAC0010 & 86071      & 2013       & 4          &  9         & 23.5       & 1          & N         \\\\\n",
       "\t57809 & IDCJAC0010 & 86071      & 2013       & 4          & 10         & 24.8       & 1          & N         \\\\\n",
       "\t57810 & IDCJAC0010 & 86071      & 2013       & 4          & 11         & 18.4       & 1          & N         \\\\\n",
       "\t57811 & IDCJAC0010 & 86071      & 2013       & 4          & 12         & 25.1       & 1          & N         \\\\\n",
       "\t57812 & IDCJAC0010 & 86071      & 2013       & 4          & 13         & 24.3       & 1          & N         \\\\\n",
       "\t57813 & IDCJAC0010 & 86071      & 2013       & 4          & 14         & 22.5       & 1          & N         \\\\\n",
       "\t57814 & IDCJAC0010 & 86071      & 2013       & 4          & 15         & 16.0       & 1          & N         \\\\\n",
       "\t57815 & IDCJAC0010 & 86071      & 2013       & 4          & 16         & 20.2       & 1          & N         \\\\\n",
       "\t57816 & IDCJAC0010 & 86071      & 2013       & 4          & 17         & 19.3       & 1          & N         \\\\\n",
       "\t57817 & IDCJAC0010 & 86071      & 2013       & 4          & 18         & 18.5       & 1          & N         \\\\\n",
       "\t57818 & IDCJAC0010 & 86071      & 2013       & 4          & 19         & 18.4       & 1          & N         \\\\\n",
       "\t57819 & IDCJAC0010 & 86071      & 2013       & 4          & 20         & 19.0       & 1          & N         \\\\\n",
       "\t57820 & IDCJAC0010 & 86071      & 2013       & 4          & 21         & 20.7       & 1          & N         \\\\\n",
       "\t57821 & IDCJAC0010 & 86071      & 2013       & 4          & 22         & 17.2       & 1          & N         \\\\\n",
       "\t57822 & IDCJAC0010 & 86071      & 2013       & 4          & 23         & 19.7       & 1          & N         \\\\\n",
       "\t57823 & IDCJAC0010 & 86071      & 2013       & 4          & 24         & 20.9       & 1          & N         \\\\\n",
       "\t57824 & IDCJAC0010 & 86071      & 2013       & 4          & 25         & 21.2       & 1          & N         \\\\\n",
       "\t57825 & IDCJAC0010 & 86071      & 2013       & 4          & 26         & 23.6       & 1          & N         \\\\\n",
       "\t57826 & IDCJAC0010 & 86071      & 2013       & 4          & 27         & 24.5       & 1          & N         \\\\\n",
       "\t57827 & IDCJAC0010 & 86071      & 2013       & 4          & 28         & 19.5       & 1          & N         \\\\\n",
       "\t57828 & IDCJAC0010 & 86071      & 2013       & 4          & 29         & 18.4       & 1          & N         \\\\\n",
       "\t57829 & IDCJAC0010 & 86071      & 2013       & 4          & 30         & 19.3       & 1          & N         \\\\\n",
       "\\end{tabular}\n"
      ],
      "text/markdown": [
       "\n",
       "| <!--/--> | Product_Code | Station_Number | Year | Month | Day | MaxTemp | Days_of_accumulation_of_Max_Temperature | Quality | \n",
       "|---|---|---|---|---|---|---|---|---|---|---|---|---|---|---|---|---|---|---|---|---|---|---|---|---|---|---|---|---|---|---|---|---|---|---|---|---|---|---|---|---|---|---|---|---|---|---|---|---|---|---|---|---|---|---|---|---|---|---|---|---|\n",
       "| 57087 | IDCJAC0010 | 86071      | 2011       |  4         | 19         | 23.2       | 1          | N          | \n",
       "| 57679 | IDCJAC0010 | 86071      | 2012       | 12         |  1         | 27.4       | 1          | N          | \n",
       "| 57680 | IDCJAC0010 | 86071      | 2012       | 12         |  2         | 20.7       | 1          | N          | \n",
       "| 57681 | IDCJAC0010 | 86071      | 2012       | 12         |  3         | 21.4       | 1          | N          | \n",
       "| 57682 | IDCJAC0010 | 86071      | 2012       | 12         |  4         | 18.9       | 1          | N          | \n",
       "| 57683 | IDCJAC0010 | 86071      | 2012       | 12         |  5         | 18.2       | 1          | N          | \n",
       "| 57684 | IDCJAC0010 | 86071      | 2012       | 12         |  6         | 21.2       | 1          | N          | \n",
       "| 57685 | IDCJAC0010 | 86071      | 2012       | 12         |  7         | 30.6       | 1          | N          | \n",
       "| 57686 | IDCJAC0010 | 86071      | 2012       | 12         |  8         | 37.0       | 1          | N          | \n",
       "| 57687 | IDCJAC0010 | 86071      | 2012       | 12         |  9         | 21.1       | 1          | N          | \n",
       "| 57688 | IDCJAC0010 | 86071      | 2012       | 12         | 10         | 21.4       | 1          | N          | \n",
       "| 57689 | IDCJAC0010 | 86071      | 2012       | 12         | 11         | 29.1       | 1          | N          | \n",
       "| 57690 | IDCJAC0010 | 86071      | 2012       | 12         | 12         | 34.3       | 1          | N          | \n",
       "| 57691 | IDCJAC0010 | 86071      | 2012       | 12         | 13         | 35.1       | 1          | N          | \n",
       "| 57692 | IDCJAC0010 | 86071      | 2012       | 12         | 14         | 22.9       | 1          | N          | \n",
       "| 57693 | IDCJAC0010 | 86071      | 2012       | 12         | 15         | 24.8       | 1          | N          | \n",
       "| 57694 | IDCJAC0010 | 86071      | 2012       | 12         | 16         | 23.1       | 1          | N          | \n",
       "| 57695 | IDCJAC0010 | 86071      | 2012       | 12         | 17         | 22.0       | 1          | N          | \n",
       "| 57696 | IDCJAC0010 | 86071      | 2012       | 12         | 18         | 27.8       | 1          | N          | \n",
       "| 57697 | IDCJAC0010 | 86071      | 2012       | 12         | 19         | 32.6       | 1          | N          | \n",
       "| 57698 | IDCJAC0010 | 86071      | 2012       | 12         | 20         | 23.5       | 1          | N          | \n",
       "| 57699 | IDCJAC0010 | 86071      | 2012       | 12         | 21         | 22.4       | 1          | N          | \n",
       "| 57700 | IDCJAC0010 | 86071      | 2012       | 12         | 22         | 28.3       | 1          | N          | \n",
       "| 57701 | IDCJAC0010 | 86071      | 2012       | 12         | 23         | 38.3       | 1          | N          | \n",
       "| 57702 | IDCJAC0010 | 86071      | 2012       | 12         | 24         | 27.6       | 1          | N          | \n",
       "| 57703 | IDCJAC0010 | 86071      | 2012       | 12         | 25         | 21.9       | 1          | N          | \n",
       "| 57704 | IDCJAC0010 | 86071      | 2012       | 12         | 26         | 22.4       | 1          | N          | \n",
       "| 57705 | IDCJAC0010 | 86071      | 2012       | 12         | 27         | 31.2       | 1          | N          | \n",
       "| 57706 | IDCJAC0010 | 86071      | 2012       | 12         | 28         | 21.7       | 1          | N          | \n",
       "| 57707 | IDCJAC0010 | 86071      | 2012       | 12         | 29         | 23.3       | 1          | N          | \n",
       "| ... | ... | ... | ... | ... | ... | ... | ... | ... | \n",
       "| 57800 | IDCJAC0010 | 86071      | 2013       | 4          |  1         | 20.1       | 1          | N          | \n",
       "| 57801 | IDCJAC0010 | 86071      | 2013       | 4          |  2         | 19.9       | 1          | N          | \n",
       "| 57802 | IDCJAC0010 | 86071      | 2013       | 4          |  3         | 17.8       | 1          | N          | \n",
       "| 57803 | IDCJAC0010 | 86071      | 2013       | 4          |  4         | 21.0       | 1          | N          | \n",
       "| 57804 | IDCJAC0010 | 86071      | 2013       | 4          |  5         | 25.2       | 1          | N          | \n",
       "| 57805 | IDCJAC0010 | 86071      | 2013       | 4          |  6         | 28.2       | 1          | N          | \n",
       "| 57806 | IDCJAC0010 | 86071      | 2013       | 4          |  7         | 27.4       | 1          | N          | \n",
       "| 57807 | IDCJAC0010 | 86071      | 2013       | 4          |  8         | 23.3       | 1          | N          | \n",
       "| 57808 | IDCJAC0010 | 86071      | 2013       | 4          |  9         | 23.5       | 1          | N          | \n",
       "| 57809 | IDCJAC0010 | 86071      | 2013       | 4          | 10         | 24.8       | 1          | N          | \n",
       "| 57810 | IDCJAC0010 | 86071      | 2013       | 4          | 11         | 18.4       | 1          | N          | \n",
       "| 57811 | IDCJAC0010 | 86071      | 2013       | 4          | 12         | 25.1       | 1          | N          | \n",
       "| 57812 | IDCJAC0010 | 86071      | 2013       | 4          | 13         | 24.3       | 1          | N          | \n",
       "| 57813 | IDCJAC0010 | 86071      | 2013       | 4          | 14         | 22.5       | 1          | N          | \n",
       "| 57814 | IDCJAC0010 | 86071      | 2013       | 4          | 15         | 16.0       | 1          | N          | \n",
       "| 57815 | IDCJAC0010 | 86071      | 2013       | 4          | 16         | 20.2       | 1          | N          | \n",
       "| 57816 | IDCJAC0010 | 86071      | 2013       | 4          | 17         | 19.3       | 1          | N          | \n",
       "| 57817 | IDCJAC0010 | 86071      | 2013       | 4          | 18         | 18.5       | 1          | N          | \n",
       "| 57818 | IDCJAC0010 | 86071      | 2013       | 4          | 19         | 18.4       | 1          | N          | \n",
       "| 57819 | IDCJAC0010 | 86071      | 2013       | 4          | 20         | 19.0       | 1          | N          | \n",
       "| 57820 | IDCJAC0010 | 86071      | 2013       | 4          | 21         | 20.7       | 1          | N          | \n",
       "| 57821 | IDCJAC0010 | 86071      | 2013       | 4          | 22         | 17.2       | 1          | N          | \n",
       "| 57822 | IDCJAC0010 | 86071      | 2013       | 4          | 23         | 19.7       | 1          | N          | \n",
       "| 57823 | IDCJAC0010 | 86071      | 2013       | 4          | 24         | 20.9       | 1          | N          | \n",
       "| 57824 | IDCJAC0010 | 86071      | 2013       | 4          | 25         | 21.2       | 1          | N          | \n",
       "| 57825 | IDCJAC0010 | 86071      | 2013       | 4          | 26         | 23.6       | 1          | N          | \n",
       "| 57826 | IDCJAC0010 | 86071      | 2013       | 4          | 27         | 24.5       | 1          | N          | \n",
       "| 57827 | IDCJAC0010 | 86071      | 2013       | 4          | 28         | 19.5       | 1          | N          | \n",
       "| 57828 | IDCJAC0010 | 86071      | 2013       | 4          | 29         | 18.4       | 1          | N          | \n",
       "| 57829 | IDCJAC0010 | 86071      | 2013       | 4          | 30         | 19.3       | 1          | N          | \n",
       "\n",
       "\n"
      ],
      "text/plain": [
       "      Product_Code Station_Number Year Month Day MaxTemp\n",
       "57087 IDCJAC0010   86071          2011  4    19  23.2   \n",
       "57679 IDCJAC0010   86071          2012 12     1  27.4   \n",
       "57680 IDCJAC0010   86071          2012 12     2  20.7   \n",
       "57681 IDCJAC0010   86071          2012 12     3  21.4   \n",
       "57682 IDCJAC0010   86071          2012 12     4  18.9   \n",
       "57683 IDCJAC0010   86071          2012 12     5  18.2   \n",
       "57684 IDCJAC0010   86071          2012 12     6  21.2   \n",
       "57685 IDCJAC0010   86071          2012 12     7  30.6   \n",
       "57686 IDCJAC0010   86071          2012 12     8  37.0   \n",
       "57687 IDCJAC0010   86071          2012 12     9  21.1   \n",
       "57688 IDCJAC0010   86071          2012 12    10  21.4   \n",
       "57689 IDCJAC0010   86071          2012 12    11  29.1   \n",
       "57690 IDCJAC0010   86071          2012 12    12  34.3   \n",
       "57691 IDCJAC0010   86071          2012 12    13  35.1   \n",
       "57692 IDCJAC0010   86071          2012 12    14  22.9   \n",
       "57693 IDCJAC0010   86071          2012 12    15  24.8   \n",
       "57694 IDCJAC0010   86071          2012 12    16  23.1   \n",
       "57695 IDCJAC0010   86071          2012 12    17  22.0   \n",
       "57696 IDCJAC0010   86071          2012 12    18  27.8   \n",
       "57697 IDCJAC0010   86071          2012 12    19  32.6   \n",
       "57698 IDCJAC0010   86071          2012 12    20  23.5   \n",
       "57699 IDCJAC0010   86071          2012 12    21  22.4   \n",
       "57700 IDCJAC0010   86071          2012 12    22  28.3   \n",
       "57701 IDCJAC0010   86071          2012 12    23  38.3   \n",
       "57702 IDCJAC0010   86071          2012 12    24  27.6   \n",
       "57703 IDCJAC0010   86071          2012 12    25  21.9   \n",
       "57704 IDCJAC0010   86071          2012 12    26  22.4   \n",
       "57705 IDCJAC0010   86071          2012 12    27  31.2   \n",
       "57706 IDCJAC0010   86071          2012 12    28  21.7   \n",
       "57707 IDCJAC0010   86071          2012 12    29  23.3   \n",
       "...   ...          ...            ...  ...   ... ...    \n",
       "57800 IDCJAC0010   86071          2013 4      1  20.1   \n",
       "57801 IDCJAC0010   86071          2013 4      2  19.9   \n",
       "57802 IDCJAC0010   86071          2013 4      3  17.8   \n",
       "57803 IDCJAC0010   86071          2013 4      4  21.0   \n",
       "57804 IDCJAC0010   86071          2013 4      5  25.2   \n",
       "57805 IDCJAC0010   86071          2013 4      6  28.2   \n",
       "57806 IDCJAC0010   86071          2013 4      7  27.4   \n",
       "57807 IDCJAC0010   86071          2013 4      8  23.3   \n",
       "57808 IDCJAC0010   86071          2013 4      9  23.5   \n",
       "57809 IDCJAC0010   86071          2013 4     10  24.8   \n",
       "57810 IDCJAC0010   86071          2013 4     11  18.4   \n",
       "57811 IDCJAC0010   86071          2013 4     12  25.1   \n",
       "57812 IDCJAC0010   86071          2013 4     13  24.3   \n",
       "57813 IDCJAC0010   86071          2013 4     14  22.5   \n",
       "57814 IDCJAC0010   86071          2013 4     15  16.0   \n",
       "57815 IDCJAC0010   86071          2013 4     16  20.2   \n",
       "57816 IDCJAC0010   86071          2013 4     17  19.3   \n",
       "57817 IDCJAC0010   86071          2013 4     18  18.5   \n",
       "57818 IDCJAC0010   86071          2013 4     19  18.4   \n",
       "57819 IDCJAC0010   86071          2013 4     20  19.0   \n",
       "57820 IDCJAC0010   86071          2013 4     21  20.7   \n",
       "57821 IDCJAC0010   86071          2013 4     22  17.2   \n",
       "57822 IDCJAC0010   86071          2013 4     23  19.7   \n",
       "57823 IDCJAC0010   86071          2013 4     24  20.9   \n",
       "57824 IDCJAC0010   86071          2013 4     25  21.2   \n",
       "57825 IDCJAC0010   86071          2013 4     26  23.6   \n",
       "57826 IDCJAC0010   86071          2013 4     27  24.5   \n",
       "57827 IDCJAC0010   86071          2013 4     28  19.5   \n",
       "57828 IDCJAC0010   86071          2013 4     29  18.4   \n",
       "57829 IDCJAC0010   86071          2013 4     30  19.3   \n",
       "      Days_of_accumulation_of_Max_Temperature Quality\n",
       "57087 1                                       N      \n",
       "57679 1                                       N      \n",
       "57680 1                                       N      \n",
       "57681 1                                       N      \n",
       "57682 1                                       N      \n",
       "57683 1                                       N      \n",
       "57684 1                                       N      \n",
       "57685 1                                       N      \n",
       "57686 1                                       N      \n",
       "57687 1                                       N      \n",
       "57688 1                                       N      \n",
       "57689 1                                       N      \n",
       "57690 1                                       N      \n",
       "57691 1                                       N      \n",
       "57692 1                                       N      \n",
       "57693 1                                       N      \n",
       "57694 1                                       N      \n",
       "57695 1                                       N      \n",
       "57696 1                                       N      \n",
       "57697 1                                       N      \n",
       "57698 1                                       N      \n",
       "57699 1                                       N      \n",
       "57700 1                                       N      \n",
       "57701 1                                       N      \n",
       "57702 1                                       N      \n",
       "57703 1                                       N      \n",
       "57704 1                                       N      \n",
       "57705 1                                       N      \n",
       "57706 1                                       N      \n",
       "57707 1                                       N      \n",
       "...   ...                                     ...    \n",
       "57800 1                                       N      \n",
       "57801 1                                       N      \n",
       "57802 1                                       N      \n",
       "57803 1                                       N      \n",
       "57804 1                                       N      \n",
       "57805 1                                       N      \n",
       "57806 1                                       N      \n",
       "57807 1                                       N      \n",
       "57808 1                                       N      \n",
       "57809 1                                       N      \n",
       "57810 1                                       N      \n",
       "57811 1                                       N      \n",
       "57812 1                                       N      \n",
       "57813 1                                       N      \n",
       "57814 1                                       N      \n",
       "57815 1                                       N      \n",
       "57816 1                                       N      \n",
       "57817 1                                       N      \n",
       "57818 1                                       N      \n",
       "57819 1                                       N      \n",
       "57820 1                                       N      \n",
       "57821 1                                       N      \n",
       "57822 1                                       N      \n",
       "57823 1                                       N      \n",
       "57824 1                                       N      \n",
       "57825 1                                       N      \n",
       "57826 1                                       N      \n",
       "57827 1                                       N      \n",
       "57828 1                                       N      \n",
       "57829 1                                       N      "
      ]
     },
     "metadata": {},
     "output_type": "display_data"
    }
   ],
   "source": [
    "data.uncleaned.bad.segment1 = data.uncleaned.bad[3:64,]\n",
    "data.uncleaned.bad.segment1"
   ]
  },
  {
   "cell_type": "code",
   "execution_count": 71,
   "metadata": {},
   "outputs": [
    {
     "data": {
      "text/html": [
       "<table>\n",
       "<thead><tr><th></th><th scope=col>Product_Code</th><th scope=col>Station_Number</th><th scope=col>Year</th><th scope=col>Month</th><th scope=col>Day</th><th scope=col>MaxTemp</th><th scope=col>Days_of_accumulation_of_Max_Temperature</th><th scope=col>Quality</th></tr></thead>\n",
       "<tbody>\n",
       "\t<tr><th scope=row>57953</th><td>IDCJAC0010</td><td>86071     </td><td>2013      </td><td>9         </td><td> 1        </td><td>23.8      </td><td>1         </td><td>N         </td></tr>\n",
       "\t<tr><th scope=row>57954</th><td>IDCJAC0010</td><td>86071     </td><td>2013      </td><td>9         </td><td> 2        </td><td>21.2      </td><td>1         </td><td>N         </td></tr>\n",
       "\t<tr><th scope=row>57955</th><td>IDCJAC0010</td><td>86071     </td><td>2013      </td><td>9         </td><td> 3        </td><td>24.6      </td><td>1         </td><td>N         </td></tr>\n",
       "\t<tr><th scope=row>57956</th><td>IDCJAC0010</td><td>86071     </td><td>2013      </td><td>9         </td><td> 4        </td><td>23.9      </td><td>1         </td><td>N         </td></tr>\n",
       "\t<tr><th scope=row>57957</th><td>IDCJAC0010</td><td>86071     </td><td>2013      </td><td>9         </td><td> 5        </td><td>19.8      </td><td>1         </td><td>N         </td></tr>\n",
       "\t<tr><th scope=row>57958</th><td>IDCJAC0010</td><td>86071     </td><td>2013      </td><td>9         </td><td> 6        </td><td>15.3      </td><td>1         </td><td>N         </td></tr>\n",
       "\t<tr><th scope=row>57959</th><td>IDCJAC0010</td><td>86071     </td><td>2013      </td><td>9         </td><td> 7        </td><td>20.1      </td><td>1         </td><td>N         </td></tr>\n",
       "\t<tr><th scope=row>57960</th><td>IDCJAC0010</td><td>86071     </td><td>2013      </td><td>9         </td><td> 8        </td><td>18.3      </td><td>1         </td><td>N         </td></tr>\n",
       "\t<tr><th scope=row>57961</th><td>IDCJAC0010</td><td>86071     </td><td>2013      </td><td>9         </td><td> 9        </td><td>22.9      </td><td>1         </td><td>N         </td></tr>\n",
       "\t<tr><th scope=row>57962</th><td>IDCJAC0010</td><td>86071     </td><td>2013      </td><td>9         </td><td>10        </td><td>17.2      </td><td>1         </td><td>N         </td></tr>\n",
       "\t<tr><th scope=row>57963</th><td>IDCJAC0010</td><td>86071     </td><td>2013      </td><td>9         </td><td>11        </td><td>17.9      </td><td>1         </td><td>N         </td></tr>\n",
       "\t<tr><th scope=row>57964</th><td>IDCJAC0010</td><td>86071     </td><td>2013      </td><td>9         </td><td>12        </td><td>16.0      </td><td>1         </td><td>N         </td></tr>\n",
       "\t<tr><th scope=row>57965</th><td>IDCJAC0010</td><td>86071     </td><td>2013      </td><td>9         </td><td>13        </td><td>16.0      </td><td>1         </td><td>N         </td></tr>\n",
       "\t<tr><th scope=row>57966</th><td>IDCJAC0010</td><td>86071     </td><td>2013      </td><td>9         </td><td>14        </td><td>19.2      </td><td>1         </td><td>N         </td></tr>\n",
       "\t<tr><th scope=row>57967</th><td>IDCJAC0010</td><td>86071     </td><td>2013      </td><td>9         </td><td>15        </td><td>21.8      </td><td>1         </td><td>N         </td></tr>\n",
       "\t<tr><th scope=row>57968</th><td>IDCJAC0010</td><td>86071     </td><td>2013      </td><td>9         </td><td>16        </td><td>16.7      </td><td>1         </td><td>N         </td></tr>\n",
       "\t<tr><th scope=row>57969</th><td>IDCJAC0010</td><td>86071     </td><td>2013      </td><td>9         </td><td>17        </td><td>19.6      </td><td>1         </td><td>N         </td></tr>\n",
       "\t<tr><th scope=row>57970</th><td>IDCJAC0010</td><td>86071     </td><td>2013      </td><td>9         </td><td>18        </td><td>20.1      </td><td>1         </td><td>N         </td></tr>\n",
       "\t<tr><th scope=row>57971</th><td>IDCJAC0010</td><td>86071     </td><td>2013      </td><td>9         </td><td>19        </td><td>17.3      </td><td>1         </td><td>N         </td></tr>\n",
       "\t<tr><th scope=row>57972</th><td>IDCJAC0010</td><td>86071     </td><td>2013      </td><td>9         </td><td>20        </td><td>18.4      </td><td>1         </td><td>N         </td></tr>\n",
       "\t<tr><th scope=row>57973</th><td>IDCJAC0010</td><td>86071     </td><td>2013      </td><td>9         </td><td>21        </td><td>19.3      </td><td>1         </td><td>N         </td></tr>\n",
       "\t<tr><th scope=row>57974</th><td>IDCJAC0010</td><td>86071     </td><td>2013      </td><td>9         </td><td>22        </td><td>21.2      </td><td>1         </td><td>N         </td></tr>\n",
       "\t<tr><th scope=row>57975</th><td>IDCJAC0010</td><td>86071     </td><td>2013      </td><td>9         </td><td>23        </td><td>24.0      </td><td>1         </td><td>N         </td></tr>\n",
       "\t<tr><th scope=row>57976</th><td>IDCJAC0010</td><td>86071     </td><td>2013      </td><td>9         </td><td>24        </td><td>24.6      </td><td>1         </td><td>N         </td></tr>\n",
       "\t<tr><th scope=row>57977</th><td>IDCJAC0010</td><td>86071     </td><td>2013      </td><td>9         </td><td>25        </td><td>24.8      </td><td>1         </td><td>N         </td></tr>\n",
       "\t<tr><th scope=row>57978</th><td>IDCJAC0010</td><td>86071     </td><td>2013      </td><td>9         </td><td>26        </td><td>16.2      </td><td>1         </td><td>N         </td></tr>\n",
       "\t<tr><th scope=row>57979</th><td>IDCJAC0010</td><td>86071     </td><td>2013      </td><td>9         </td><td>27        </td><td>20.2      </td><td>1         </td><td>N         </td></tr>\n",
       "\t<tr><th scope=row>57980</th><td>IDCJAC0010</td><td>86071     </td><td>2013      </td><td>9         </td><td>28        </td><td>16.4      </td><td>1         </td><td>N         </td></tr>\n",
       "\t<tr><th scope=row>57981</th><td>IDCJAC0010</td><td>86071     </td><td>2013      </td><td>9         </td><td>29        </td><td>21.4      </td><td>1         </td><td>N         </td></tr>\n",
       "\t<tr><th scope=row>57982</th><td>IDCJAC0010</td><td>86071     </td><td>2013      </td><td>9         </td><td>30        </td><td>23.7      </td><td>1         </td><td>N         </td></tr>\n",
       "</tbody>\n",
       "</table>\n"
      ],
      "text/latex": [
       "\\begin{tabular}{r|llllllll}\n",
       "  & Product\\_Code & Station\\_Number & Year & Month & Day & MaxTemp & Days\\_of\\_accumulation\\_of\\_Max\\_Temperature & Quality\\\\\n",
       "\\hline\n",
       "\t57953 & IDCJAC0010 & 86071      & 2013       & 9          &  1         & 23.8       & 1          & N         \\\\\n",
       "\t57954 & IDCJAC0010 & 86071      & 2013       & 9          &  2         & 21.2       & 1          & N         \\\\\n",
       "\t57955 & IDCJAC0010 & 86071      & 2013       & 9          &  3         & 24.6       & 1          & N         \\\\\n",
       "\t57956 & IDCJAC0010 & 86071      & 2013       & 9          &  4         & 23.9       & 1          & N         \\\\\n",
       "\t57957 & IDCJAC0010 & 86071      & 2013       & 9          &  5         & 19.8       & 1          & N         \\\\\n",
       "\t57958 & IDCJAC0010 & 86071      & 2013       & 9          &  6         & 15.3       & 1          & N         \\\\\n",
       "\t57959 & IDCJAC0010 & 86071      & 2013       & 9          &  7         & 20.1       & 1          & N         \\\\\n",
       "\t57960 & IDCJAC0010 & 86071      & 2013       & 9          &  8         & 18.3       & 1          & N         \\\\\n",
       "\t57961 & IDCJAC0010 & 86071      & 2013       & 9          &  9         & 22.9       & 1          & N         \\\\\n",
       "\t57962 & IDCJAC0010 & 86071      & 2013       & 9          & 10         & 17.2       & 1          & N         \\\\\n",
       "\t57963 & IDCJAC0010 & 86071      & 2013       & 9          & 11         & 17.9       & 1          & N         \\\\\n",
       "\t57964 & IDCJAC0010 & 86071      & 2013       & 9          & 12         & 16.0       & 1          & N         \\\\\n",
       "\t57965 & IDCJAC0010 & 86071      & 2013       & 9          & 13         & 16.0       & 1          & N         \\\\\n",
       "\t57966 & IDCJAC0010 & 86071      & 2013       & 9          & 14         & 19.2       & 1          & N         \\\\\n",
       "\t57967 & IDCJAC0010 & 86071      & 2013       & 9          & 15         & 21.8       & 1          & N         \\\\\n",
       "\t57968 & IDCJAC0010 & 86071      & 2013       & 9          & 16         & 16.7       & 1          & N         \\\\\n",
       "\t57969 & IDCJAC0010 & 86071      & 2013       & 9          & 17         & 19.6       & 1          & N         \\\\\n",
       "\t57970 & IDCJAC0010 & 86071      & 2013       & 9          & 18         & 20.1       & 1          & N         \\\\\n",
       "\t57971 & IDCJAC0010 & 86071      & 2013       & 9          & 19         & 17.3       & 1          & N         \\\\\n",
       "\t57972 & IDCJAC0010 & 86071      & 2013       & 9          & 20         & 18.4       & 1          & N         \\\\\n",
       "\t57973 & IDCJAC0010 & 86071      & 2013       & 9          & 21         & 19.3       & 1          & N         \\\\\n",
       "\t57974 & IDCJAC0010 & 86071      & 2013       & 9          & 22         & 21.2       & 1          & N         \\\\\n",
       "\t57975 & IDCJAC0010 & 86071      & 2013       & 9          & 23         & 24.0       & 1          & N         \\\\\n",
       "\t57976 & IDCJAC0010 & 86071      & 2013       & 9          & 24         & 24.6       & 1          & N         \\\\\n",
       "\t57977 & IDCJAC0010 & 86071      & 2013       & 9          & 25         & 24.8       & 1          & N         \\\\\n",
       "\t57978 & IDCJAC0010 & 86071      & 2013       & 9          & 26         & 16.2       & 1          & N         \\\\\n",
       "\t57979 & IDCJAC0010 & 86071      & 2013       & 9          & 27         & 20.2       & 1          & N         \\\\\n",
       "\t57980 & IDCJAC0010 & 86071      & 2013       & 9          & 28         & 16.4       & 1          & N         \\\\\n",
       "\t57981 & IDCJAC0010 & 86071      & 2013       & 9          & 29         & 21.4       & 1          & N         \\\\\n",
       "\t57982 & IDCJAC0010 & 86071      & 2013       & 9          & 30         & 23.7       & 1          & N         \\\\\n",
       "\\end{tabular}\n"
      ],
      "text/markdown": [
       "\n",
       "| <!--/--> | Product_Code | Station_Number | Year | Month | Day | MaxTemp | Days_of_accumulation_of_Max_Temperature | Quality | \n",
       "|---|---|---|---|---|---|---|---|---|---|---|---|---|---|---|---|---|---|---|---|---|---|---|---|---|---|---|---|---|---|\n",
       "| 57953 | IDCJAC0010 | 86071      | 2013       | 9          |  1         | 23.8       | 1          | N          | \n",
       "| 57954 | IDCJAC0010 | 86071      | 2013       | 9          |  2         | 21.2       | 1          | N          | \n",
       "| 57955 | IDCJAC0010 | 86071      | 2013       | 9          |  3         | 24.6       | 1          | N          | \n",
       "| 57956 | IDCJAC0010 | 86071      | 2013       | 9          |  4         | 23.9       | 1          | N          | \n",
       "| 57957 | IDCJAC0010 | 86071      | 2013       | 9          |  5         | 19.8       | 1          | N          | \n",
       "| 57958 | IDCJAC0010 | 86071      | 2013       | 9          |  6         | 15.3       | 1          | N          | \n",
       "| 57959 | IDCJAC0010 | 86071      | 2013       | 9          |  7         | 20.1       | 1          | N          | \n",
       "| 57960 | IDCJAC0010 | 86071      | 2013       | 9          |  8         | 18.3       | 1          | N          | \n",
       "| 57961 | IDCJAC0010 | 86071      | 2013       | 9          |  9         | 22.9       | 1          | N          | \n",
       "| 57962 | IDCJAC0010 | 86071      | 2013       | 9          | 10         | 17.2       | 1          | N          | \n",
       "| 57963 | IDCJAC0010 | 86071      | 2013       | 9          | 11         | 17.9       | 1          | N          | \n",
       "| 57964 | IDCJAC0010 | 86071      | 2013       | 9          | 12         | 16.0       | 1          | N          | \n",
       "| 57965 | IDCJAC0010 | 86071      | 2013       | 9          | 13         | 16.0       | 1          | N          | \n",
       "| 57966 | IDCJAC0010 | 86071      | 2013       | 9          | 14         | 19.2       | 1          | N          | \n",
       "| 57967 | IDCJAC0010 | 86071      | 2013       | 9          | 15         | 21.8       | 1          | N          | \n",
       "| 57968 | IDCJAC0010 | 86071      | 2013       | 9          | 16         | 16.7       | 1          | N          | \n",
       "| 57969 | IDCJAC0010 | 86071      | 2013       | 9          | 17         | 19.6       | 1          | N          | \n",
       "| 57970 | IDCJAC0010 | 86071      | 2013       | 9          | 18         | 20.1       | 1          | N          | \n",
       "| 57971 | IDCJAC0010 | 86071      | 2013       | 9          | 19         | 17.3       | 1          | N          | \n",
       "| 57972 | IDCJAC0010 | 86071      | 2013       | 9          | 20         | 18.4       | 1          | N          | \n",
       "| 57973 | IDCJAC0010 | 86071      | 2013       | 9          | 21         | 19.3       | 1          | N          | \n",
       "| 57974 | IDCJAC0010 | 86071      | 2013       | 9          | 22         | 21.2       | 1          | N          | \n",
       "| 57975 | IDCJAC0010 | 86071      | 2013       | 9          | 23         | 24.0       | 1          | N          | \n",
       "| 57976 | IDCJAC0010 | 86071      | 2013       | 9          | 24         | 24.6       | 1          | N          | \n",
       "| 57977 | IDCJAC0010 | 86071      | 2013       | 9          | 25         | 24.8       | 1          | N          | \n",
       "| 57978 | IDCJAC0010 | 86071      | 2013       | 9          | 26         | 16.2       | 1          | N          | \n",
       "| 57979 | IDCJAC0010 | 86071      | 2013       | 9          | 27         | 20.2       | 1          | N          | \n",
       "| 57980 | IDCJAC0010 | 86071      | 2013       | 9          | 28         | 16.4       | 1          | N          | \n",
       "| 57981 | IDCJAC0010 | 86071      | 2013       | 9          | 29         | 21.4       | 1          | N          | \n",
       "| 57982 | IDCJAC0010 | 86071      | 2013       | 9          | 30         | 23.7       | 1          | N          | \n",
       "\n",
       "\n"
      ],
      "text/plain": [
       "      Product_Code Station_Number Year Month Day MaxTemp\n",
       "57953 IDCJAC0010   86071          2013 9      1  23.8   \n",
       "57954 IDCJAC0010   86071          2013 9      2  21.2   \n",
       "57955 IDCJAC0010   86071          2013 9      3  24.6   \n",
       "57956 IDCJAC0010   86071          2013 9      4  23.9   \n",
       "57957 IDCJAC0010   86071          2013 9      5  19.8   \n",
       "57958 IDCJAC0010   86071          2013 9      6  15.3   \n",
       "57959 IDCJAC0010   86071          2013 9      7  20.1   \n",
       "57960 IDCJAC0010   86071          2013 9      8  18.3   \n",
       "57961 IDCJAC0010   86071          2013 9      9  22.9   \n",
       "57962 IDCJAC0010   86071          2013 9     10  17.2   \n",
       "57963 IDCJAC0010   86071          2013 9     11  17.9   \n",
       "57964 IDCJAC0010   86071          2013 9     12  16.0   \n",
       "57965 IDCJAC0010   86071          2013 9     13  16.0   \n",
       "57966 IDCJAC0010   86071          2013 9     14  19.2   \n",
       "57967 IDCJAC0010   86071          2013 9     15  21.8   \n",
       "57968 IDCJAC0010   86071          2013 9     16  16.7   \n",
       "57969 IDCJAC0010   86071          2013 9     17  19.6   \n",
       "57970 IDCJAC0010   86071          2013 9     18  20.1   \n",
       "57971 IDCJAC0010   86071          2013 9     19  17.3   \n",
       "57972 IDCJAC0010   86071          2013 9     20  18.4   \n",
       "57973 IDCJAC0010   86071          2013 9     21  19.3   \n",
       "57974 IDCJAC0010   86071          2013 9     22  21.2   \n",
       "57975 IDCJAC0010   86071          2013 9     23  24.0   \n",
       "57976 IDCJAC0010   86071          2013 9     24  24.6   \n",
       "57977 IDCJAC0010   86071          2013 9     25  24.8   \n",
       "57978 IDCJAC0010   86071          2013 9     26  16.2   \n",
       "57979 IDCJAC0010   86071          2013 9     27  20.2   \n",
       "57980 IDCJAC0010   86071          2013 9     28  16.4   \n",
       "57981 IDCJAC0010   86071          2013 9     29  21.4   \n",
       "57982 IDCJAC0010   86071          2013 9     30  23.7   \n",
       "      Days_of_accumulation_of_Max_Temperature Quality\n",
       "57953 1                                       N      \n",
       "57954 1                                       N      \n",
       "57955 1                                       N      \n",
       "57956 1                                       N      \n",
       "57957 1                                       N      \n",
       "57958 1                                       N      \n",
       "57959 1                                       N      \n",
       "57960 1                                       N      \n",
       "57961 1                                       N      \n",
       "57962 1                                       N      \n",
       "57963 1                                       N      \n",
       "57964 1                                       N      \n",
       "57965 1                                       N      \n",
       "57966 1                                       N      \n",
       "57967 1                                       N      \n",
       "57968 1                                       N      \n",
       "57969 1                                       N      \n",
       "57970 1                                       N      \n",
       "57971 1                                       N      \n",
       "57972 1                                       N      \n",
       "57973 1                                       N      \n",
       "57974 1                                       N      \n",
       "57975 1                                       N      \n",
       "57976 1                                       N      \n",
       "57977 1                                       N      \n",
       "57978 1                                       N      \n",
       "57979 1                                       N      \n",
       "57980 1                                       N      \n",
       "57981 1                                       N      \n",
       "57982 1                                       N      "
      ]
     },
     "metadata": {},
     "output_type": "display_data"
    }
   ],
   "source": [
    "data.uncleaned.bad.segment2 = data.uncleaned.bad[65:94,]\n",
    "data.uncleaned.bad.segment2"
   ]
  },
  {
   "cell_type": "code",
   "execution_count": 22,
   "metadata": {},
   "outputs": [
    {
     "ename": "ERROR",
     "evalue": "Error in is.data.frame(x): object 'data.uncleaned.bad.segment1' not found\n",
     "output_type": "error",
     "traceback": [
      "Error in is.data.frame(x): object 'data.uncleaned.bad.segment1' not found\nTraceback:\n",
      "1. write.table(data.uncleaned.bad.segment1[requiredCols], file = \"final_bad_data_segment1.csv\", \n .     quote = FALSE, sep = \",\")",
      "2. is.data.frame(x)"
     ]
    }
   ],
   "source": [
    "requiredCols = c(\"Year\", \"Month\", \"Day\", \"MaxTemp\")\n",
    "write.table(data.uncleaned.bad.segment1[requiredCols], file = \"final_bad_data_segment1.csv\", quote = FALSE, sep = \",\")\n",
    "write.table(data.uncleaned.bad.segment2[requiredCols], file = \"final_bad_data_segment2.csv\", quote = FALSE, sep = \",\")"
   ]
  },
  {
   "cell_type": "code",
   "execution_count": 23,
   "metadata": {},
   "outputs": [],
   "source": [
    "write.table(data.uncleaned.unknownQuality[requiredCols], file = \"final_data_unknown_quality.csv\", quote = FALSE, sep = \",\")"
   ]
  },
  {
   "cell_type": "code",
   "execution_count": null,
   "metadata": {
    "collapsed": true
   },
   "outputs": [],
   "source": []
  },
  {
   "cell_type": "code",
   "execution_count": null,
   "metadata": {
    "collapsed": true
   },
   "outputs": [],
   "source": []
  },
  {
   "cell_type": "code",
   "execution_count": null,
   "metadata": {
    "collapsed": true
   },
   "outputs": [],
   "source": []
  },
  {
   "cell_type": "code",
   "execution_count": null,
   "metadata": {
    "collapsed": true
   },
   "outputs": [],
   "source": []
  },
  {
   "cell_type": "code",
   "execution_count": null,
   "metadata": {
    "collapsed": true
   },
   "outputs": [],
   "source": []
  },
  {
   "cell_type": "code",
   "execution_count": null,
   "metadata": {
    "collapsed": true
   },
   "outputs": [],
   "source": []
  },
  {
   "cell_type": "code",
   "execution_count": null,
   "metadata": {
    "collapsed": true
   },
   "outputs": [],
   "source": []
  }
 ],
 "metadata": {
  "kernelspec": {
   "display_name": "R",
   "language": "R",
   "name": "ir"
  },
  "language_info": {
   "codemirror_mode": "r",
   "file_extension": ".r",
   "mimetype": "text/x-r-source",
   "name": "R",
   "pygments_lexer": "r",
   "version": "3.5.0"
  },
  "varInspector": {
   "cols": {
    "lenName": 16,
    "lenType": 16,
    "lenVar": 40
   },
   "kernels_config": {
    "python": {
     "delete_cmd_postfix": "",
     "delete_cmd_prefix": "del ",
     "library": "var_list.py",
     "varRefreshCmd": "print(var_dic_list())"
    },
    "r": {
     "delete_cmd_postfix": ") ",
     "delete_cmd_prefix": "rm(",
     "library": "var_list.r",
     "varRefreshCmd": "cat(var_dic_list()) "
    }
   },
   "types_to_exclude": [
    "module",
    "function",
    "builtin_function_or_method",
    "instance",
    "_Feature"
   ],
   "window_display": false
  }
 },
 "nbformat": 4,
 "nbformat_minor": 2
}
