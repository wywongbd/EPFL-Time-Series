{
 "cells": [
  {
   "cell_type": "markdown",
   "metadata": {},
   "source": [
    "### Load Dataset"
   ]
  },
  {
   "cell_type": "code",
   "execution_count": 1,
   "metadata": {
    "collapsed": true
   },
   "outputs": [],
   "source": [
    "data.raw = read.csv(\"final_cleaned_data.csv\")"
   ]
  },
  {
   "cell_type": "code",
   "execution_count": 2,
   "metadata": {
    "collapsed": true
   },
   "outputs": [],
   "source": [
    "# These values should be treated as constants\n",
    "NROW = nrow(data.raw)\n",
    "NCOL = ncol(data.raw)"
   ]
  },
  {
   "cell_type": "code",
   "execution_count": 3,
   "metadata": {},
   "outputs": [
    {
     "data": {
      "text/html": [
       "42340"
      ],
      "text/latex": [
       "42340"
      ],
      "text/markdown": [
       "42340"
      ],
      "text/plain": [
       "[1] 42340"
      ]
     },
     "metadata": {},
     "output_type": "display_data"
    }
   ],
   "source": [
    "NROW"
   ]
  },
  {
   "cell_type": "code",
   "execution_count": 5,
   "metadata": {
    "collapsed": true
   },
   "outputs": [],
   "source": [
    "YEARS = unique(data.raw$Year)"
   ]
  },
  {
   "cell_type": "markdown",
   "metadata": {},
   "source": [
    "### Visualizing raw time series (cleaned)"
   ]
  },
  {
   "cell_type": "code",
   "execution_count": 6,
   "metadata": {},
   "outputs": [
    {
     "data": {
      "text/html": [
       "<strong>png:</strong> 2"
      ],
      "text/latex": [
       "\\textbf{png:} 2"
      ],
      "text/markdown": [
       "**png:** 2"
      ],
      "text/plain": [
       "png \n",
       "  2 "
      ]
     },
     "metadata": {},
     "output_type": "display_data"
    },
    {
     "data": {
      "text/html": [
       "<strong>png:</strong> 2"
      ],
      "text/latex": [
       "\\textbf{png:} 2"
      ],
      "text/markdown": [
       "**png:** 2"
      ],
      "text/plain": [
       "png \n",
       "  2 "
      ]
     },
     "metadata": {},
     "output_type": "display_data"
    }
   ],
   "source": [
    "jpeg(filename=\"plots/raw-ts/first5percent.jpg\")\n",
    "plot(data.raw$MaxTemp[1:as.integer(NROW*0.05)], type = 'c', main = 'Temperatures of first 2117 days (5 percent)', ylab = 'Temp', xlab = 'day')\n",
    "dev.off()\n",
    "\n",
    "jpeg(filename=\"plots/raw-ts/first10percent.jpg\")\n",
    "plot(data.raw$MaxTemp[1:as.integer(NROW*0.1)], type = 'c', main = 'Temperatures of first 4234 days (10 percent)', ylab = 'Temp', xlab = 'day')\n",
    "dev.off()"
   ]
  },
  {
   "cell_type": "code",
   "execution_count": 36,
   "metadata": {
    "code_folding": [],
    "collapsed": true
   },
   "outputs": [],
   "source": [
    "# Visualize yearly\n",
    "library(stringr)\n",
    "\n",
    "\n",
    "# Plotting parameters\n",
    "frequency = 5\n",
    "i = 2\n",
    "\n",
    "# Plot and save\n",
    "while (i + frequency - 1 <= length(YEARS)){\n",
    "    \n",
    "    string = str_c('/Years-', toString(YEARS[i]), '-to-', toString(YEARS[i + frequency - 1]))\n",
    "    jpeg(filename= str_c('plots/raw-ts/yearly/freq', toString(frequency), string, '.jpg'))\n",
    "    \n",
    "    par(mfrow=c(frequency, 1), oma = c(2, 2, 0, 0), mar = c(0.6, 0.6, 0.6, 0.6), mgp = c(2, 1, 0)) \n",
    "    \n",
    "    for (j in c(0 : (frequency - 1))){\n",
    "        df = data.raw[c(which(data.raw$Year == YEARS[i+j])), ]\n",
    "        plot(df$MaxTemp, type = 'l', ylim = c(min(df$MaxTemp) - 5, max(df$MaxTemp) + 5))\n",
    "    }\n",
    "    \n",
    "    title(ylab = 'Temperature', xlab = 'Day', outer = TRUE, line = 1)\n",
    "    \n",
    "    dev.off()\n",
    "    i = i + frequency\n",
    "}"
   ]
  },
  {
   "cell_type": "markdown",
   "metadata": {},
   "source": [
    "### Filtering out seasonal component (using band filter)"
   ]
  },
  {
   "cell_type": "code",
   "execution_count": 37,
   "metadata": {
    "collapsed": true
   },
   "outputs": [],
   "source": [
    "# Oscillations to be subtracted\n",
    "seasonal.annual = spectral::filter.fft(data.raw$MaxTemp, x = NULL, fc = 0.002725, BW = 0.00105, n = 2)\n",
    "seasonal.biannual = spectral::filter.fft(data.raw$MaxTemp, x = NULL, fc = 0.00545, BW = 0.0002, n = 2)\n",
    "\n",
    "# This is for recovering original data\n",
    "imaginary_residuals = Im(data.raw$MaxTemp - seasonal.annual - seasonal.biannual)\n",
    "\n",
    "# This is for further processing\n",
    "data.raw.filtered = data.frame(data.raw)\n",
    "data.raw.filtered$MaxTemp = Re(data.raw$MaxTemp - seasonal.annual - seasonal.biannual)"
   ]
  },
  {
   "cell_type": "code",
   "execution_count": 46,
   "metadata": {
    "code_folding": [
     3
    ]
   },
   "outputs": [
    {
     "data": {
      "text/html": [
       "<strong>png:</strong> 2"
      ],
      "text/latex": [
       "\\textbf{png:} 2"
      ],
      "text/markdown": [
       "**png:** 2"
      ],
      "text/plain": [
       "png \n",
       "  2 "
      ]
     },
     "metadata": {},
     "output_type": "display_data"
    }
   ],
   "source": [
    "# Visualize periodogram (before vs after)\n",
    "save_plot = TRUE\n",
    "\n",
    "if (save_plot){\n",
    "    jpeg(filename=\"plots/filtering/Periodogram-before-and-after.jpg\")\n",
    "    par(mfrow=c(2,1)) \n",
    "    spectrum(data.raw$MaxTemp, main = 'Periodogram (before filtering)')\n",
    "    spectrum(data.raw.filtered$MaxTemp, main = 'Periodogram (after filtering)')\n",
    "    dev.off()\n",
    "} else {\n",
    "    par(mfrow=c(2,1)) \n",
    "    spectrum(data.raw$MaxTemp, main = 'Periodogram (before filtering)')\n",
    "    spectrum(data.raw.filtered$MaxTemp, main = 'Periodogram (after filtering)')    \n",
    "}"
   ]
  },
  {
   "cell_type": "code",
   "execution_count": 76,
   "metadata": {
    "code_folding": [
     4
    ]
   },
   "outputs": [
    {
     "data": {
      "text/html": [
       "<strong>png:</strong> 2"
      ],
      "text/latex": [
       "\\textbf{png:} 2"
      ],
      "text/markdown": [
       "**png:** 2"
      ],
      "text/plain": [
       "png \n",
       "  2 "
      ]
     },
     "metadata": {},
     "output_type": "display_data"
    }
   ],
   "source": [
    "# Visualize time series(before vs after) and filtered components\n",
    "\n",
    "save_plot = TRUE\n",
    "\n",
    "if(save_plot){\n",
    "    jpeg(filename=\"plots/filtering/TS-before-and-after.jpg\")\n",
    "    par(mfrow=c(2,1), oma = c(1, 1, 0, 0), mar = c(2, 2, 2, 2)) \n",
    "    plot(data.raw$MaxTemp[1:as.integer(NROW*0.1)], type = 'l', main = 'Before filtering', lwd = 0.01)\n",
    "    plot(data.raw.filtered$MaxTemp[1:as.integer(NROW*0.1)], type = 'l', main = 'After filtering', lwd = 0.01)\n",
    "    title(ylab = 'Temperature', xlab = 'Day (first 4234)', outer = TRUE, line = 0)\n",
    "    dev.off()\n",
    "    \n",
    "    jpeg(filename=\"plots/filtering/Seasonality components (subtracted).jpg\")\n",
    "    par(mfrow=c(2,1), oma = c(1, 1, 0, 0), mar = c(2, 2, 2, 2)) \n",
    "    plot(Re(seasonal.annual[1:as.integer(NROW*0.6)]), type = 'l', main = 'Annual seasonality (subtracted)')\n",
    "    plot(Re(seasonal.biannual[1:as.integer(NROW*0.6)]), type = 'l', main = 'Biannual seasonality (subtracted)')\n",
    "    title(ylab = 'Temperature', xlab = 'Day (first 70 years)', outer = TRUE, line = 0)\n",
    "    dev.off()\n",
    "    \n",
    "} else {\n",
    "    par(mfrow=c(3,1)) \n",
    "    plot(data.raw$MaxTemp[1:as.integer(NROW*0.1)], type = 'l', ylab = 'Temp', xlab = 'Day', main = 'Before filtering')\n",
    "    plot(data.raw.filtered$MaxTemp[1:as.integer(NROW*0.1)], type = 'l', ylab = 'Temp', xlab = 'Day', main = 'After filtering')\n",
    "    plot(Re(seasonal.annual[1:as.integer(NROW*0.1)]), type = 'l', ylab = 'Temp', main = 'Annual seasonality (subtracted)')\n",
    "    plot(Re(seasonal.biannual[1:as.integer(NROW*0.1)]), type = 'l', ylab = 'Temp', main = 'Biannual seasonality (subtracted)')   \n",
    "}\n",
    "\n"
   ]
  },
  {
   "cell_type": "code",
   "execution_count": 6,
   "metadata": {
    "collapsed": true
   },
   "outputs": [
    {
     "data": {
      "image/png": "[encoded data removed]",
      "text/plain": [
       "Plot with title \"Error of recovered data compared to raw\""
      ]
     },
     "metadata": {},
     "output_type": "display_data"
    }
   ],
   "source": [
    "# Simulate procedure of recovering raw data from subtracted components\n",
    "recovered = complex(imaginary = imaginary_residuals, real = data.raw.filtered$MaxTemp) + seasonal.annual + seasonal.biannual\n",
    "plot((Re(recovered) - data.raw$MaxTemp)[1:as.integer(NROW*0.1)], ylab = 'Error Value', main = 'Error of recovered data compared to raw')"
   ]
  },
  {
   "cell_type": "markdown",
   "metadata": {},
   "source": [
    "### Normalize data to obtain data with constant variance (over time)"
   ]
  },
  {
   "cell_type": "code",
   "execution_count": 77,
   "metadata": {
    "collapsed": true
   },
   "outputs": [],
   "source": [
    "data.raw.filtered.normalized = data.frame(data.raw.filtered)\n",
    "\n",
    "# Find average and variance of each day of the year\n",
    "grouped.daily.var = aggregate(MaxTemp ~ Month*Day, data.raw.filtered.normalized, FUN = var)\n",
    "grouped.daily.var = grouped.daily.var[order(grouped.daily.var$Month, grouped.daily.var$Day), ]\n",
    "grouped.daily.avg = aggregate(MaxTemp ~ Month*Day, data.raw.filtered.normalized, FUN = mean)\n",
    "grouped.daily.avg = grouped.daily.avg[order(grouped.daily.avg$Month, grouped.daily.avg$Day), ]"
   ]
  },
  {
   "cell_type": "code",
   "execution_count": 79,
   "metadata": {
    "code_folding": [
     0
    ]
   },
   "outputs": [
    {
     "data": {
      "text/html": [
       "<strong>png:</strong> 2"
      ],
      "text/latex": [
       "\\textbf{png:} 2"
      ],
      "text/markdown": [
       "**png:** 2"
      ],
      "text/plain": [
       "png \n",
       "  2 "
      ]
     },
     "metadata": {},
     "output_type": "display_data"
    }
   ],
   "source": [
    "# Visualize grouped variance and average\n",
    "save_plot = TRUE\n",
    "\n",
    "if(save_plot){\n",
    "    jpeg(filename=\"plots/normalization/Variance-and-Mean-by-Day-of-Year.jpg\")\n",
    "    par(mfrow=c(2,1)) \n",
    "    plot(grouped.daily.var$MaxTemp, ylab = 'Variance', xlab = 'Day of year', main = 'Variance')\n",
    "    plot(grouped.daily.avg$MaxTemp, ylab = 'Mean', xlab = 'Day of year', main = 'Mean')\n",
    "    dev.off()\n",
    "    \n",
    "} else {\n",
    "    par(mfrow=c(2,1)) \n",
    "    plot(grouped.daily.var$MaxTemp, ylab = 'Variance', xlab = 'Day of year', main = 'Variance')\n",
    "    plot(grouped.daily.avg$MaxTemp, ylab = 'Mean', xlab = 'Day of year', main = 'Mean')\n",
    "}"
   ]
  },
  {
   "cell_type": "code",
   "execution_count": 80,
   "metadata": {
    "code_folding": [],
    "collapsed": true
   },
   "outputs": [],
   "source": [
    "normalize = function(x, grouped_daily_var, grouped_daily_avg){\n",
    "    for (row in c(1: nrow(x))){\n",
    "        month = x[row, 2]\n",
    "        day = x[row, 3]\n",
    "        \n",
    "        variance = grouped_daily_var[ which(grouped_daily_var$Month == month & grouped_daily_var$Day == day), ]$MaxTemp\n",
    "        mean = grouped_daily_avg[ which(grouped_daily_avg$Month == month & grouped_daily_avg$Day == day), ]$MaxTemp\n",
    "        \n",
    "        x[row, 4] = (x[row, 4] - mean )/ sqrt(variance)\n",
    "    }\n",
    "    \n",
    "    return(x)\n",
    "}"
   ]
  },
  {
   "cell_type": "code",
   "execution_count": 81,
   "metadata": {
    "collapsed": true
   },
   "outputs": [],
   "source": [
    "data.raw.filtered.normalized = normalize(data.raw.filtered.normalized, grouped.daily.var, grouped.daily.avg)"
   ]
  },
  {
   "cell_type": "code",
   "execution_count": 91,
   "metadata": {
    "code_folding": []
   },
   "outputs": [
    {
     "data": {
      "text/html": [
       "<strong>png:</strong> 2"
      ],
      "text/latex": [
       "\\textbf{png:} 2"
      ],
      "text/markdown": [
       "**png:** 2"
      ],
      "text/plain": [
       "png \n",
       "  2 "
      ]
     },
     "metadata": {},
     "output_type": "display_data"
    }
   ],
   "source": [
    "# Visualize normalized time series (before and after)\n",
    "save_plot = TRUE\n",
    "\n",
    "if(save_plot){\n",
    "    jpeg(filename=\"plots/normalization/Normalization-before-and-after.jpg\")\n",
    "    par(mfrow=c(2,1)) \n",
    "    plot(data.raw.filtered$MaxTemp[1:as.integer(NROW*0.05)], ylab = 'Temperature', xlab = 'day', type = 'l')\n",
    "    plot(data.raw.filtered.normalized$MaxTemp[1:as.integer(NROW*0.05)], ylab = 'Temperature (normalized)', xlab ='day', type = 'l')\n",
    "    dev.off()\n",
    "}else{\n",
    "    par(mfrow=c(2,1)) \n",
    "    plot(data.raw.filtered$MaxTemp[1:as.integer(NROW*0.1)], ylab = 'Temp', xlab = 'day', type = 'l')\n",
    "    plot(data.raw.filtered.normalized$MaxTemp[1:as.integer(NROW*0.1)], ylab = 'Temp (normalized)', xlab ='day', type = 'l')\n",
    "}\n"
   ]
  },
  {
   "cell_type": "code",
   "execution_count": 93,
   "metadata": {},
   "outputs": [
    {
     "data": {
      "text/html": [
       "<strong>png:</strong> 2"
      ],
      "text/latex": [
       "\\textbf{png:} 2"
      ],
      "text/markdown": [
       "**png:** 2"
      ],
      "text/plain": [
       "png \n",
       "  2 "
      ]
     },
     "metadata": {},
     "output_type": "display_data"
    }
   ],
   "source": [
    "# Visualize acf and pacf of normalized time series\n",
    "save_plot = TRUE\n",
    "\n",
    "if(save_plot){\n",
    "    jpeg(filename=\"plots/normalization/ACF-PACF-after-normalization.jpg\")\n",
    "    par(mfrow=c(2,1))\n",
    "    acf(data.raw.filtered.normalized$MaxTemp, main = 'Autocorrelation')\n",
    "    pacf(data.raw.filtered.normalized$MaxTemp, main = 'Partial Autocorrelation')\n",
    "    dev.off()\n",
    "}else{\n",
    "    par(mfrow=c(2,1))\n",
    "    acf(data.raw.filtered.normalized$MaxTemp, main = 'Autocorrelation')\n",
    "    pacf(data.raw.filtered.normalized$MaxTemp, main = 'Partial Autocorrelation')\n",
    "}\n",
    "\n"
   ]
  },
  {
   "cell_type": "code",
   "execution_count": 94,
   "metadata": {},
   "outputs": [
    {
     "data": {
      "text/html": [
       "<strong>png:</strong> 2"
      ],
      "text/latex": [
       "\\textbf{png:} 2"
      ],
      "text/markdown": [
       "**png:** 2"
      ],
      "text/plain": [
       "png \n",
       "  2 "
      ]
     },
     "metadata": {},
     "output_type": "display_data"
    }
   ],
   "source": [
    "# Visualize acf and pacf of normalized time series\n",
    "save_plot = TRUE\n",
    "\n",
    "if(save_plot){\n",
    "    jpeg(filename=\"plots/normalization/ACF-PACF-after-normalization-temperature-squared.jpg\")\n",
    "    par(mfrow=c(2,1))\n",
    "    acf((data.raw.filtered.normalized$MaxTemp)^2, main = 'Autocorrelation (temperature squared)')\n",
    "    pacf((data.raw.filtered.normalized$MaxTemp)^2, main = 'Partial Autocorrelation (temperature squared)')\n",
    "    dev.off()\n",
    "}else{\n",
    "    par(mfrow=c(2,1))\n",
    "    acf((data.raw.filtered.normalized$MaxTemp)^2, main = 'Autocorrelation (temperature squared)')\n",
    "    pacf((data.raw.filtered.normalized$MaxTemp)^2, main = 'Partial Autocorrelation (temperature squared)')\n",
    "}"
   ]
  },
  {
   "cell_type": "markdown",
   "metadata": {},
   "source": [
    "### Stationarity Tests"
   ]
  },
  {
   "cell_type": "code",
   "execution_count": 96,
   "metadata": {},
   "outputs": [
    {
     "data": {
      "text/html": [
       "<strong>png:</strong> 2"
      ],
      "text/latex": [
       "\\textbf{png:} 2"
      ],
      "text/markdown": [
       "**png:** 2"
      ],
      "text/plain": [
       "png \n",
       "  2 "
      ]
     },
     "metadata": {},
     "output_type": "display_data"
    }
   ],
   "source": [
    "library(LSTS)\n",
    "# Use ljung box test to test for stationarity of normalized time series\n",
    "save_plot = TRUE\n",
    "\n",
    "if(save_plot){\n",
    "    jpeg(filename=\"plots/stationarity-test/LjungBox.jpg\")\n",
    "    par(mfrow=c(2,2))\n",
    "    Box.Ljung.Test(data.raw.filtered.normalized$MaxTemp, lag = 10)\n",
    "    Box.Ljung.Test(data.raw.filtered.normalized$MaxTemp, lag = 20)\n",
    "    Box.Ljung.Test(data.raw.filtered.normalized$MaxTemp, lag = 30)\n",
    "    Box.Ljung.Test(data.raw.filtered.normalized$MaxTemp, lag = 40)\n",
    "    dev.off()\n",
    "}else{\n",
    "    par(mfrow=c(2,2))\n",
    "    Box.Ljung.Test(data.raw.filtered.normalized$MaxTemp, lag = 10)\n",
    "    Box.Ljung.Test(data.raw.filtered.normalized$MaxTemp, lag = 20)\n",
    "    Box.Ljung.Test(data.raw.filtered.normalized$MaxTemp, lag = 30)\n",
    "    Box.Ljung.Test(data.raw.filtered.normalized$MaxTemp, lag = 40)\n",
    "}"
   ]
  },
  {
   "cell_type": "code",
   "execution_count": 14,
   "metadata": {
    "collapsed": true
   },
   "outputs": [
    {
     "name": "stderr",
     "output_type": "stream",
     "text": [
      "\n",
      "Attaching package: 'aTSA'\n",
      "\n",
      "The following object is masked from 'package:LSTS':\n",
      "\n",
      "    ts.diag\n",
      "\n",
      "The following object is masked from 'package:graphics':\n",
      "\n",
      "    identify\n",
      "\n"
     ]
    },
    {
     "name": "stdout",
     "output_type": "stream",
     "text": [
      "Augmented Dickey-Fuller Test \n",
      "alternative: stationary \n",
      " \n",
      "Type 1: no drift no trend \n",
      "      lag    ADF p.value\n",
      " [1,]   0 -124.4    0.01\n",
      " [2,]   1 -115.1    0.01\n",
      " [3,]   2  -99.1    0.01\n",
      " [4,]   3  -89.3    0.01\n",
      " [5,]   4  -81.5    0.01\n",
      " [6,]   5  -75.7    0.01\n",
      " [7,]   6  -70.3    0.01\n",
      " [8,]   7  -66.3    0.01\n",
      " [9,]   8  -63.1    0.01\n",
      "[10,]   9  -60.2    0.01\n",
      "[11,]  10  -57.2    0.01\n",
      "[12,]  11  -55.0    0.01\n",
      "[13,]  12  -52.7    0.01\n",
      "[14,]  13  -50.9    0.01\n",
      "[15,]  14  -48.9    0.01\n",
      "[16,]  15  -47.6    0.01\n",
      "Type 2: with drift no trend \n",
      "      lag    ADF p.value\n",
      " [1,]   0 -124.4    0.01\n",
      " [2,]   1 -115.1    0.01\n",
      " [3,]   2  -99.1    0.01\n",
      " [4,]   3  -89.3    0.01\n",
      " [5,]   4  -81.5    0.01\n",
      " [6,]   5  -75.7    0.01\n",
      " [7,]   6  -70.3    0.01\n",
      " [8,]   7  -66.3    0.01\n",
      " [9,]   8  -63.1    0.01\n",
      "[10,]   9  -60.2    0.01\n",
      "[11,]  10  -57.2    0.01\n",
      "[12,]  11  -55.0    0.01\n",
      "[13,]  12  -52.7    0.01\n",
      "[14,]  13  -50.9    0.01\n",
      "[15,]  14  -48.9    0.01\n",
      "[16,]  15  -47.6    0.01\n",
      "Type 3: with drift and trend \n",
      "      lag    ADF p.value\n",
      " [1,]   0 -124.5    0.01\n",
      " [2,]   1 -115.2    0.01\n",
      " [3,]   2  -99.2    0.01\n",
      " [4,]   3  -89.4    0.01\n",
      " [5,]   4  -81.6    0.01\n",
      " [6,]   5  -75.8    0.01\n",
      " [7,]   6  -70.5    0.01\n",
      " [8,]   7  -66.4    0.01\n",
      " [9,]   8  -63.2    0.01\n",
      "[10,]   9  -60.3    0.01\n",
      "[11,]  10  -57.3    0.01\n",
      "[12,]  11  -55.1    0.01\n",
      "[13,]  12  -52.8    0.01\n",
      "[14,]  13  -51.1    0.01\n",
      "[15,]  14  -49.1    0.01\n",
      "[16,]  15  -47.7    0.01\n",
      "---- \n",
      "Note: in fact, p.value = 0.01 means p.value <= 0.01 \n"
     ]
    }
   ],
   "source": [
    "# Augmented dickey fuller test to test for stationarity\n",
    "library(aTSA)\n",
    "adf.test(data.raw.filtered.normalized$MaxTemp, output = TRUE)"
   ]
  },
  {
   "cell_type": "markdown",
   "metadata": {},
   "source": [
    "### ARMA"
   ]
  },
  {
   "cell_type": "code",
   "execution_count": 97,
   "metadata": {
    "collapsed": true
   },
   "outputs": [],
   "source": [
    "ts = ts(data.raw.filtered.normalized$MaxTemp, frequency = 1)"
   ]
  },
  {
   "cell_type": "code",
   "execution_count": 98,
   "metadata": {},
   "outputs": [],
   "source": [
    "library(forecast)\n",
    "\n",
    "ar2 <- Arima(ts, order = c(2, 0, 0))\n",
    "ar3 <- Arima(ts, order = c(3, 0, 0)) \n",
    "ar1ma1 <- Arima(ts, order = c(1, 0, 1))\n",
    "ar2ma1 <- Arima(ts, order = c(2, 0, 1))\n",
    "ar3ma1 <- Arima(ts, order = c(3, 0, 1))"
   ]
  },
  {
   "cell_type": "markdown",
   "metadata": {},
   "source": [
    "### Check residuals"
   ]
  },
  {
   "cell_type": "code",
   "execution_count": 101,
   "metadata": {
    "collapsed": true
   },
   "outputs": [
    {
     "data": {
      "image/png": "[encoded data removed]",
      "text/plain": [
       "Plot with title \"AR(3) residuals\""
      ]
     },
     "metadata": {},
     "output_type": "display_data"
    }
   ],
   "source": [
    "par(mfrow=c(2,1))\n",
    "plot(ar2$residuals[1:2000], type = 'l', main = 'AR(2) residuals', ylab = 'Residual')\n",
    "plot(ar3$residuals[1:2000], type = 'l', main = 'AR(3) residuals', ylab = 'Residual')"
   ]
  },
  {
   "cell_type": "code",
   "execution_count": 116,
   "metadata": {
    "collapsed": true
   },
   "outputs": [
    {
     "data": {
      "image/png": "[encoded data removed]",
      "text/plain": [
       "Plot with title \"Series  ts(ar3$residuals)\""
      ]
     },
     "metadata": {},
     "output_type": "display_data"
    }
   ],
   "source": [
    "par(mfrow=c(2,1))\n",
    "acf(ts(ar2$residuals), xlim=c(1,50), ylim = c(-0.05, 0.05))\n",
    "pacf(ts(ar3$residuals), xlim=c(1,50), ylim = c(-0.05, 0.05))"
   ]
  },
  {
   "cell_type": "code",
   "execution_count": 133,
   "metadata": {},
   "outputs": [
    {
     "data": {
      "image/png": "[encoded data removed]",
      "text/plain": [
       "Plot with title \"Series  ts((ar3$residuals)^2)\""
      ]
     },
     "metadata": {},
     "output_type": "display_data"
    }
   ],
   "source": [
    "par(mfrow=c(2,1))\n",
    "acf(ts((ar2$residuals)^2), xlim=c(1,50), ylim = c(-0.05, 0.05))\n",
    "pacf(ts((ar3$residuals)^2), xlim=c(1,50), ylim = c(-0.05, 0.05))"
   ]
  },
  {
   "cell_type": "code",
   "execution_count": 132,
   "metadata": {
    "collapsed": true
   },
   "outputs": [
    {
     "data": {
      "image/png": "[encoded data removed]",
      "text/plain": [
       "Plot with title \"Series:  ar2$residuals\""
      ]
     },
     "metadata": {},
     "output_type": "display_data"
    },
    {
     "data": {
      "image/png": "[encoded data removed]",
      "text/plain": [
       "Plot with title \"Series:  ar3$residuals\""
      ]
     },
     "metadata": {},
     "output_type": "display_data"
    }
   ],
   "source": [
    "cpgram(ar2$residuals)\n",
    "cpgram(ar3$residuals)"
   ]
  },
  {
   "cell_type": "code",
   "execution_count": 128,
   "metadata": {
    "collapsed": true
   },
   "outputs": [
    {
     "name": "stdout",
     "output_type": "stream",
     "text": [
      "Series: ts \n",
      "ARIMA(2,0,0) with non-zero mean \n",
      "\n",
      "Coefficients:\n",
      "         ar1      ar2    mean\n",
      "      0.5002  -0.0773  0.0000\n",
      "s.e.  0.0048   0.0048  0.0074\n",
      "\n",
      "sigma^2 estimated as 0.773:  log likelihood=-54626.27\n",
      "AIC=109260.5   AICc=109260.5   BIC=109295.2\n",
      "\n",
      "Training set error measures:\n",
      "                        ME      RMSE       MAE      MPE     MAPE      MASE\n",
      "Training set -1.028133e-05 0.8791846 0.7056986 99.18318 234.0203 0.9049466\n",
      "                    ACF1\n",
      "Training set 0.000999539\n",
      "Series: ts \n",
      "ARIMA(3,0,0) with non-zero mean \n",
      "\n",
      "Coefficients:\n",
      "         ar1      ar2     ar3    mean\n",
      "      0.5012  -0.0837  0.0128  0.0000\n",
      "s.e.  0.0049   0.0054  0.0049  0.0075\n",
      "\n",
      "sigma^2 estimated as 0.7729:  log likelihood=-54622.81\n",
      "AIC=109255.6   AICc=109255.6   BIC=109298.9\n",
      "\n",
      "Training set error measures:\n",
      "                        ME      RMSE       MAE     MPE     MAPE    MASE\n",
      "Training set -1.020934e-05 0.8791127 0.7058104 99.7468 234.3031 0.90509\n",
      "                     ACF1\n",
      "Training set 3.147659e-06\n"
     ]
    }
   ],
   "source": [
    "summary(ar2)\n",
    "summary(ar3)"
   ]
  },
  {
   "cell_type": "code",
   "execution_count": 124,
   "metadata": {
    "collapsed": true
   },
   "outputs": [
    {
     "data": {
      "image/png": "[encoded data removed]",
      "text/plain": [
       "Plot with title \"Forecasts from ARIMA(3,0,0) with non-zero mean\""
      ]
     },
     "metadata": {},
     "output_type": "display_data"
    }
   ],
   "source": [
    "par(mfrow=c(2,1))\n",
    "ar2_forecast <- forecast(ar2, h=10)\n",
    "plot(ar2_forecast, include = 50)\n",
    "\n",
    "ar3_forecast <- forecast(ar3, h=10)\n",
    "plot(ar3_forecast, include = 50)"
   ]
  },
  {
   "cell_type": "markdown",
   "metadata": {},
   "source": [
    "### ARMA-GARCH"
   ]
  },
  {
   "cell_type": "code",
   "execution_count": 23,
   "metadata": {
    "collapsed": true
   },
   "outputs": [],
   "source": [
    "# install.packages(\"rugarch\", repos = \"http://cran.us.r-project.org\") \n",
    "library(rugarch)\n",
    "require(rugarch)"
   ]
  },
  {
   "cell_type": "code",
   "execution_count": 46,
   "metadata": {
    "collapsed": true
   },
   "outputs": [
    {
     "data": {
      "text/plain": [
       "\n",
       "*---------------------------------*\n",
       "*       GARCH Model Spec          *\n",
       "*---------------------------------*\n",
       "\n",
       "Conditional Variance Dynamics \t\n",
       "------------------------------------\n",
       "GARCH Model\t\t: sGARCH(1,1)\n",
       "Variance Targeting\t: FALSE \n",
       "\n",
       "Conditional Mean Dynamics\n",
       "------------------------------------\n",
       "Mean Model\t\t: ARFIMA(2,0,0)\n",
       "Include Mean\t\t: TRUE \n",
       "GARCH-in-Mean\t\t: FALSE \n",
       "\n",
       "Conditional Distribution\n",
       "------------------------------------\n",
       "Distribution\t:  norm \n",
       "Includes Skew\t:  FALSE \n",
       "Includes Shape\t:  FALSE \n",
       "Includes Lambda\t:  FALSE \n"
      ]
     },
     "metadata": {},
     "output_type": "display_data"
    },
    {
     "data": {
      "text/plain": [
       "\n",
       "*---------------------------------*\n",
       "*       GARCH Model Spec          *\n",
       "*---------------------------------*\n",
       "\n",
       "Conditional Variance Dynamics \t\n",
       "------------------------------------\n",
       "GARCH Model\t\t: sGARCH(1,0)\n",
       "Variance Targeting\t: FALSE \n",
       "\n",
       "Conditional Mean Dynamics\n",
       "------------------------------------\n",
       "Mean Model\t\t: ARFIMA(2,0,0)\n",
       "Include Mean\t\t: TRUE \n",
       "GARCH-in-Mean\t\t: FALSE \n",
       "\n",
       "Conditional Distribution\n",
       "------------------------------------\n",
       "Distribution\t:  norm \n",
       "Includes Skew\t:  FALSE \n",
       "Includes Shape\t:  FALSE \n",
       "Includes Lambda\t:  FALSE \n"
      ]
     },
     "metadata": {},
     "output_type": "display_data"
    },
    {
     "data": {
      "text/plain": [
       "\n",
       "*---------------------------------*\n",
       "*       GARCH Model Spec          *\n",
       "*---------------------------------*\n",
       "\n",
       "Conditional Variance Dynamics \t\n",
       "------------------------------------\n",
       "GARCH Model\t\t: sGARCH(1,0)\n",
       "Variance Targeting\t: FALSE \n",
       "\n",
       "Conditional Mean Dynamics\n",
       "------------------------------------\n",
       "Mean Model\t\t: ARFIMA(3,0,0)\n",
       "Include Mean\t\t: TRUE \n",
       "GARCH-in-Mean\t\t: FALSE \n",
       "\n",
       "Conditional Distribution\n",
       "------------------------------------\n",
       "Distribution\t:  norm \n",
       "Includes Skew\t:  FALSE \n",
       "Includes Shape\t:  FALSE \n",
       "Includes Lambda\t:  FALSE \n"
      ]
     },
     "metadata": {},
     "output_type": "display_data"
    },
    {
     "data": {
      "text/plain": [
       "\n",
       "*---------------------------------*\n",
       "*       GARCH Model Spec          *\n",
       "*---------------------------------*\n",
       "\n",
       "Conditional Variance Dynamics \t\n",
       "------------------------------------\n",
       "GARCH Model\t\t: sGARCH(0,1)\n",
       "Variance Targeting\t: FALSE \n",
       "\n",
       "Conditional Mean Dynamics\n",
       "------------------------------------\n",
       "Mean Model\t\t: ARFIMA(2,0,0)\n",
       "Include Mean\t\t: TRUE \n",
       "GARCH-in-Mean\t\t: FALSE \n",
       "\n",
       "Conditional Distribution\n",
       "------------------------------------\n",
       "Distribution\t:  norm \n",
       "Includes Skew\t:  FALSE \n",
       "Includes Shape\t:  FALSE \n",
       "Includes Lambda\t:  FALSE \n"
      ]
     },
     "metadata": {},
     "output_type": "display_data"
    },
    {
     "data": {
      "text/plain": [
       "\n",
       "*---------------------------------*\n",
       "*       GARCH Model Spec          *\n",
       "*---------------------------------*\n",
       "\n",
       "Conditional Variance Dynamics \t\n",
       "------------------------------------\n",
       "GARCH Model\t\t: sGARCH(2,0)\n",
       "Variance Targeting\t: FALSE \n",
       "\n",
       "Conditional Mean Dynamics\n",
       "------------------------------------\n",
       "Mean Model\t\t: ARFIMA(3,0,0)\n",
       "Include Mean\t\t: TRUE \n",
       "GARCH-in-Mean\t\t: FALSE \n",
       "\n",
       "Conditional Distribution\n",
       "------------------------------------\n",
       "Distribution\t:  norm \n",
       "Includes Skew\t:  FALSE \n",
       "Includes Shape\t:  FALSE \n",
       "Includes Lambda\t:  FALSE \n"
      ]
     },
     "metadata": {},
     "output_type": "display_data"
    },
    {
     "data": {
      "text/plain": [
       "\n",
       "*---------------------------------*\n",
       "*       GARCH Model Spec          *\n",
       "*---------------------------------*\n",
       "\n",
       "Conditional Variance Dynamics \t\n",
       "------------------------------------\n",
       "GARCH Model\t\t: sGARCH(3,0)\n",
       "Variance Targeting\t: FALSE \n",
       "\n",
       "Conditional Mean Dynamics\n",
       "------------------------------------\n",
       "Mean Model\t\t: ARFIMA(3,0,0)\n",
       "Include Mean\t\t: TRUE \n",
       "GARCH-in-Mean\t\t: FALSE \n",
       "\n",
       "Conditional Distribution\n",
       "------------------------------------\n",
       "Distribution\t:  norm \n",
       "Includes Skew\t:  FALSE \n",
       "Includes Shape\t:  FALSE \n",
       "Includes Lambda\t:  FALSE \n"
      ]
     },
     "metadata": {},
     "output_type": "display_data"
    },
    {
     "data": {
      "text/plain": [
       "\n",
       "*---------------------------------*\n",
       "*       GARCH Model Spec          *\n",
       "*---------------------------------*\n",
       "\n",
       "Conditional Variance Dynamics \t\n",
       "------------------------------------\n",
       "GARCH Model\t\t: sGARCH(2,1)\n",
       "Variance Targeting\t: FALSE \n",
       "\n",
       "Conditional Mean Dynamics\n",
       "------------------------------------\n",
       "Mean Model\t\t: ARFIMA(3,0,0)\n",
       "Include Mean\t\t: TRUE \n",
       "GARCH-in-Mean\t\t: FALSE \n",
       "\n",
       "Conditional Distribution\n",
       "------------------------------------\n",
       "Distribution\t:  norm \n",
       "Includes Skew\t:  FALSE \n",
       "Includes Shape\t:  FALSE \n",
       "Includes Lambda\t:  FALSE \n"
      ]
     },
     "metadata": {},
     "output_type": "display_data"
    },
    {
     "data": {
      "text/plain": [
       "\n",
       "*---------------------------------*\n",
       "*       GARCH Model Spec          *\n",
       "*---------------------------------*\n",
       "\n",
       "Conditional Variance Dynamics \t\n",
       "------------------------------------\n",
       "GARCH Model\t\t: sGARCH(2,2)\n",
       "Variance Targeting\t: FALSE \n",
       "\n",
       "Conditional Mean Dynamics\n",
       "------------------------------------\n",
       "Mean Model\t\t: ARFIMA(3,0,0)\n",
       "Include Mean\t\t: TRUE \n",
       "GARCH-in-Mean\t\t: FALSE \n",
       "\n",
       "Conditional Distribution\n",
       "------------------------------------\n",
       "Distribution\t:  norm \n",
       "Includes Skew\t:  FALSE \n",
       "Includes Shape\t:  FALSE \n",
       "Includes Lambda\t:  FALSE \n"
      ]
     },
     "metadata": {},
     "output_type": "display_data"
    }
   ],
   "source": [
    "model = ugarchspec(variance.model = list(model = \"sGARCH\", garchOrder = c(1, \n",
    "    1)), mean.model = list(armaOrder = c(2, 0), include.mean = TRUE), distribution.model = \"norm\")\n",
    "model\n",
    "\n",
    "model1 = ugarchspec(variance.model = list(model = \"sGARCH\", garchOrder = c(1, \n",
    "    0)), mean.model = list(armaOrder = c(2, 0), include.mean = TRUE), distribution.model = \"norm\")\n",
    "model1\n",
    "\n",
    "model2 = ugarchspec(variance.model = list(model = \"sGARCH\", garchOrder = c(1, \n",
    "    0)), mean.model = list(armaOrder = c(3, 0), include.mean = TRUE), distribution.model = \"norm\")\n",
    "model2\n",
    "\n",
    "model3 = ugarchspec(variance.model = list(model = \"sGARCH\", garchOrder = c(0, \n",
    "    1)), mean.model = list(armaOrder = c(2, 0), include.mean = TRUE), distribution.model = \"norm\")\n",
    "model3\n",
    "\n",
    "model4 = ugarchspec(variance.model = list(model = \"sGARCH\", garchOrder = c(2, \n",
    "    0)), mean.model = list(armaOrder = c(3, 0), include.mean = TRUE), distribution.model = \"norm\")\n",
    "model4\n",
    "\n",
    "model5 = ugarchspec(variance.model = list(model = \"sGARCH\", garchOrder = c(3, \n",
    "    0)), mean.model = list(armaOrder = c(3, 0), include.mean = TRUE), distribution.model = \"norm\")\n",
    "model5\n",
    "\n",
    "model6 = ugarchspec(variance.model = list(model = \"sGARCH\", garchOrder = c(2, \n",
    "    1)), mean.model = list(armaOrder = c(3, 0), include.mean = TRUE), distribution.model = \"norm\")\n",
    "model6\n",
    "\n",
    "model7 = ugarchspec(variance.model = list(model = \"sGARCH\", garchOrder = c(2, \n",
    "    2)), mean.model = list(armaOrder = c(3, 0), include.mean = TRUE), distribution.model = \"norm\")\n",
    "model7\n",
    "\n",
    "model8 = ugarchspec(variance.model = list(model = \"sGARCH\", garchOrder = c(3, \n",
    "    2)), mean.model = list(armaOrder = c(3, 0), include.mean = TRUE), distribution.model = \"norm\")\n",
    "model8"
   ]
  },
  {
   "cell_type": "code",
   "execution_count": 47,
   "metadata": {},
   "outputs": [
    {
     "data": {
      "text/html": [
       "0"
      ],
      "text/latex": [
       "0"
      ],
      "text/markdown": [
       "0"
      ],
      "text/plain": [
       "[1] 0"
      ]
     },
     "metadata": {},
     "output_type": "display_data"
    },
    {
     "data": {
      "text/html": [
       "0"
      ],
      "text/latex": [
       "0"
      ],
      "text/markdown": [
       "0"
      ],
      "text/plain": [
       "[1] 0"
      ]
     },
     "metadata": {},
     "output_type": "display_data"
    },
    {
     "data": {
      "text/html": [
       "0"
      ],
      "text/latex": [
       "0"
      ],
      "text/markdown": [
       "0"
      ],
      "text/plain": [
       "[1] 0"
      ]
     },
     "metadata": {},
     "output_type": "display_data"
    },
    {
     "data": {
      "text/html": [
       "0"
      ],
      "text/latex": [
       "0"
      ],
      "text/markdown": [
       "0"
      ],
      "text/plain": [
       "[1] 0"
      ]
     },
     "metadata": {},
     "output_type": "display_data"
    },
    {
     "data": {
      "text/html": [
       "0"
      ],
      "text/latex": [
       "0"
      ],
      "text/markdown": [
       "0"
      ],
      "text/plain": [
       "[1] 0"
      ]
     },
     "metadata": {},
     "output_type": "display_data"
    },
    {
     "data": {
      "text/html": [
       "0"
      ],
      "text/latex": [
       "0"
      ],
      "text/markdown": [
       "0"
      ],
      "text/plain": [
       "[1] 0"
      ]
     },
     "metadata": {},
     "output_type": "display_data"
    },
    {
     "data": {
      "text/html": [
       "0"
      ],
      "text/latex": [
       "0"
      ],
      "text/markdown": [
       "0"
      ],
      "text/plain": [
       "[1] 0"
      ]
     },
     "metadata": {},
     "output_type": "display_data"
    },
    {
     "data": {
      "text/html": [
       "0"
      ],
      "text/latex": [
       "0"
      ],
      "text/markdown": [
       "0"
      ],
      "text/plain": [
       "[1] 0"
      ]
     },
     "metadata": {},
     "output_type": "display_data"
    }
   ],
   "source": [
    "model_fit <- ugarchfit(spec = model, data = ts, solver = \"hybrid\")\n",
    "convergence(model_fit)\n",
    "model_fit_1 = ugarchfit(spec = model1, data = ts, solver = \"hybrid\")\n",
    "convergence(model_fit_1)\n",
    "model_fit_2 = ugarchfit(spec = model2, data = ts, solver = \"hybrid\")\n",
    "convergence(model_fit_2)\n",
    "model_fit_3 = ugarchfit(spec = model3, data = ts, solver = \"hybrid\")\n",
    "convergence(model_fit_3)\n",
    "model_fit_4 = ugarchfit(spec = model4, data = ts, solver = \"hybrid\")\n",
    "convergence(model_fit_4)\n",
    "model_fit_5 = ugarchfit(spec = model5, data = ts, solver = \"hybrid\")\n",
    "convergence(model_fit_5)\n",
    "model_fit_6 = ugarchfit(spec = model6, data = ts, solver = \"hybrid\")\n",
    "convergence(model_fit_6)\n",
    "model_fit_7 = ugarchfit(spec = model7, data = ts, solver = \"hybrid\")\n",
    "convergence(model_fit_7)"
   ]
  },
  {
   "cell_type": "code",
   "execution_count": 30,
   "metadata": {
    "collapsed": true
   },
   "outputs": [
    {
     "data": {
      "image/png": "[encoded data removed]",
      "text/plain": [
       "Plot with title \"ACF of Squared Standardized Residuals\""
      ]
     },
     "metadata": {},
     "output_type": "display_data"
    }
   ],
   "source": [
    "par(mfrow=c(2,2))\n",
    "plot(model_fit, which = 10)\n",
    "plot(model_fit, which = 11)\n",
    "plot(model_fit_1, which = 10)\n",
    "plot(model_fit_1, which = 11)"
   ]
  },
  {
   "cell_type": "code",
   "execution_count": 33,
   "metadata": {
    "collapsed": true
   },
   "outputs": [
    {
     "data": {
      "image/png": "[encoded data removed]",
      "text/plain": [
       "Plot with title \"ACF of Squared Standardized Residuals\""
      ]
     },
     "metadata": {},
     "output_type": "display_data"
    }
   ],
   "source": [
    "par(mfrow=c(2,2))\n",
    "plot(model_fit_2, which = 10)\n",
    "plot(model_fit_2, which = 11)\n",
    "plot(model_fit_3, which = 10)\n",
    "plot(model_fit_3, which = 11)"
   ]
  },
  {
   "cell_type": "code",
   "execution_count": 40,
   "metadata": {
    "collapsed": true
   },
   "outputs": [
    {
     "data": {
      "image/png": "[encoded data removed]",
      "text/plain": [
       "Plot with title \"ACF of Squared Standardized Residuals\""
      ]
     },
     "metadata": {},
     "output_type": "display_data"
    }
   ],
   "source": [
    "par(mfrow=c(2,2))\n",
    "plot(model_fit_4, which = 10)\n",
    "plot(model_fit_4, which = 11)\n",
    "plot(model_fit_5, which = 10)\n",
    "plot(model_fit_5, which = 11)"
   ]
  },
  {
   "cell_type": "code",
   "execution_count": 48,
   "metadata": {},
   "outputs": [
    {
     "data": {
      "image/png": "[encoded data removed]",
      "text/plain": [
       "Plot with title \"ACF of Squared Standardized Residuals\""
      ]
     },
     "metadata": {},
     "output_type": "display_data"
    }
   ],
   "source": [
    "par(mfrow=c(2,2))\n",
    "plot(model_fit_6, which = 10)\n",
    "plot(model_fit_6, which = 11)\n",
    "plot(model_fit_7, which = 10)\n",
    "plot(model_fit_7, which = 11)"
   ]
  },
  {
   "cell_type": "code",
   "execution_count": 45,
   "metadata": {
    "collapsed": true
   },
   "outputs": [
    {
     "data": {
      "image/png": "[encoded data removed]",
      "text/plain": [
       "Plot with title \"norm - QQ Plot\""
      ]
     },
     "metadata": {},
     "output_type": "display_data"
    }
   ],
   "source": [
    "par(mfrow=c(2,2))\n",
    "plot(model_fit_3, which = 9)\n",
    "plot(model_fit_4, which = 9)\n",
    "plot(model_fit_5, which = 9)\n",
    "plot(model_fit_6, which = 9)"
   ]
  },
  {
   "cell_type": "code",
   "execution_count": null,
   "metadata": {
    "collapsed": true
   },
   "outputs": [],
   "source": []
  },
  {
   "cell_type": "code",
   "execution_count": null,
   "metadata": {
    "collapsed": true
   },
   "outputs": [],
   "source": []
  },
  {
   "cell_type": "code",
   "execution_count": null,
   "metadata": {
    "collapsed": true
   },
   "outputs": [],
   "source": []
  }
 ],
 "metadata": {
  "kernelspec": {
   "display_name": "R",
   "language": "R",
   "name": "ir"
  },
  "language_info": {
   "codemirror_mode": "r",
   "file_extension": ".r",
   "mimetype": "text/x-r-source",
   "name": "R",
   "pygments_lexer": "r",
   "version": "3.4.3"
  },
  "varInspector": {
   "cols": {
    "lenName": 16,
    "lenType": 16,
    "lenVar": 40
   },
   "kernels_config": {
    "python": {
     "delete_cmd_postfix": "",
     "delete_cmd_prefix": "del ",
     "library": "var_list.py",
     "varRefreshCmd": "print(var_dic_list())"
    },
    "r": {
     "delete_cmd_postfix": ") ",
     "delete_cmd_prefix": "rm(",
     "library": "var_list.r",
     "varRefreshCmd": "cat(var_dic_list()) "
    }
   },
   "types_to_exclude": [
    "module",
    "function",
    "builtin_function_or_method",
    "instance",
    "_Feature"
   ],
   "window_display": false
  }
 },
 "nbformat": 4,
 "nbformat_minor": 2
}
